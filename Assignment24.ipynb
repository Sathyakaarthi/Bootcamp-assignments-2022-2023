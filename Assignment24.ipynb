{
  "nbformat": 4,
  "nbformat_minor": 0,
  "metadata": {
    "colab": {
      "provenance": [],
      "authorship_tag": "ABX9TyOPzyUMw/PdCWyWrMoP0fNE",
      "include_colab_link": true
    },
    "kernelspec": {
      "name": "python3",
      "display_name": "Python 3"
    },
    "language_info": {
      "name": "python"
    }
  },
  "cells": [
    {
      "cell_type": "markdown",
      "metadata": {
        "id": "view-in-github",
        "colab_type": "text"
      },
      "source": [
        "<a href=\"https://colab.research.google.com/github/Sathyakaarthi/Bootcamp-assignments-2022-2023/blob/main/Assignment24.ipynb\" target=\"_parent\"><img src=\"https://colab.research.google.com/assets/colab-badge.svg\" alt=\"Open In Colab\"/></a>"
      ]
    },
    {
      "cell_type": "markdown",
      "source": [
        "**1. What is the relationship between def statements and lambda expressions ?**\n",
        "\n",
        "Ans:\n",
        "\n",
        "The **def** keyword defines regular functions, whereas the **lambda** keyword defines anonymous functions.\n",
        "\n",
        "The body of a lambda can consist of only a single expression, the result of which is returned from the function created.\n",
        "\n",
        "A lambda expression is an expression which evaluates to a function object, while a def statement has no value, and creates a function object and binds it to a name."
      ],
      "metadata": {
        "id": "T3PlGsoTQQRA"
      }
    },
    {
      "cell_type": "markdown",
      "source": [
        "**2. What is the benefit of lambda?**\n",
        "\n",
        "Ans:\n",
        "\n",
        "We use lambda functions once we require a nameless function for a brief period of your time.\n",
        "\n",
        "\n",
        "We generally use Lambda Functions as an argument to a higher-order function (a function that takes in other functions as arguments)."
      ],
      "metadata": {
        "id": "nUw5ogWPROsP"
      }
    },
    {
      "cell_type": "markdown",
      "source": [
        "**3. Compare and contrast map, filter, and reduce.**\n",
        "\n",
        "Ans:\n",
        "\n",
        "**map()** function iterates through all items in the given iterable and executes the function we passed as an argument on each of them.\n",
        "\n",
        "**filter()** forms a new list that contains only elements that satisfy a certain condition, i.e. the function we passed returns True.\n",
        "\n",
        "**reduce()** isn't a built-in function anymore, and it can be found in the functools module. reduce() works by calling the function we passed for the first two items in the sequence. The result returned by the function is used in another call to function alongside with the next element."
      ],
      "metadata": {
        "id": "SSFArNwISRry"
      }
    },
    {
      "cell_type": "markdown",
      "source": [
        "**4. What are function annotations, and how are they used?**\n",
        "\n",
        "Ans:Function annotations provide a way of associating various parts of a function with arbitrary pythoncexpressions at compile time.\n",
        "Annotations of simple parameters \n",
        "\n",
        "def func(x: expression, y: expression = 20):\n",
        "\n",
        "Whereas the annotations for excess parameters are as − def func (**args: expression, **kwargs: expression):"
      ],
      "metadata": {
        "id": "VLOPMljnTtS8"
      }
    },
    {
      "cell_type": "markdown",
      "source": [
        "**5. What are recursive functions, and how are they used?**\n",
        "\n",
        "Ans:\n",
        "\n",
        "A recursive function is a function in code that refers to itself for execution. Recursive functions can be simple or elaborate. They allow for more efficient code writing, for instance, in the listing or compiling of sets of numbers, strings or other variables through a single reiterated process."
      ],
      "metadata": {
        "id": "8V8qVvHrV1pz"
      }
    },
    {
      "cell_type": "markdown",
      "source": [
        "**6. What are some general design guidelines for coding functions?**\n",
        "\n",
        "Ans:\n",
        "\n",
        "Use 4-space indentation and no tabs.\n",
        "\n",
        "Use docstrings.\n",
        "\n",
        "Wrap lines so that they don’t exceed 79 characters.\n",
        "\n",
        "Use of regular and updated comments are valuable to both the coders and users."
      ],
      "metadata": {
        "id": "MZFD5sysWnjD"
      }
    },
    {
      "cell_type": "markdown",
      "source": [
        "**7. Name three or more ways that functions can communicate results to a caller.**\n",
        "\n",
        "Ans:\n",
        "\n",
        "To call a function, we specify the function name with the round brackets.\n",
        "\n",
        "Use of return keyword inside function which returns the results to the caller.\n",
        "\n",
        "Use of print statement inside function which prints the results to the caller."
      ],
      "metadata": {
        "id": "GyQMEq0nW7Jy"
      }
    }
  ]
}