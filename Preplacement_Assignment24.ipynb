{
  "nbformat": 4,
  "nbformat_minor": 0,
  "metadata": {
    "colab": {
      "provenance": [],
      "authorship_tag": "ABX9TyPrA60igQJ4+LakQc5+IKzC",
      "include_colab_link": true
    },
    "kernelspec": {
      "name": "python3",
      "display_name": "Python 3"
    },
    "language_info": {
      "name": "python"
    }
  },
  "cells": [
    {
      "cell_type": "markdown",
      "metadata": {
        "id": "view-in-github",
        "colab_type": "text"
      },
      "source": [
        "<a href=\"https://colab.research.google.com/github/Sathyakaarthi/Bootcamp-assignments-2022-2023/blob/main/Preplacement_Assignment24.ipynb\" target=\"_parent\"><img src=\"https://colab.research.google.com/assets/colab-badge.svg\" alt=\"Open In Colab\"/></a>"
      ]
    },
    {
      "cell_type": "markdown",
      "source": [
        "**Question 1**"
      ],
      "metadata": {
        "id": "tM5ax131OR2N"
      }
    },
    {
      "cell_type": "code",
      "source": [
        "def value(r):\n",
        "    if (r == 'I'):\n",
        "        return 1\n",
        "    if (r == 'V'):\n",
        "        return 5\n",
        "    if (r == 'X'):\n",
        "        return 10\n",
        "    if (r == 'L'):\n",
        "        return 50\n",
        "    if (r == 'C'):\n",
        "        return 100\n",
        "    if (r == 'D'):\n",
        "        return 500\n",
        "    if (r == 'M'):\n",
        "        return 1000\n",
        "    return -1\n",
        "\n",
        "\n",
        "def romanToDecimal(str):\n",
        "    res = 0\n",
        "    i = 0\n",
        "\n",
        "    while (i < len(str)):\n",
        "        s1 = value(str[i])\n",
        "\n",
        "        if (i + 1 < len(str)):\n",
        "            s2 = value(str[i + 1])\n",
        "            if (s1 >= s2):\n",
        "                res = res + s1\n",
        "                i = i + 1\n",
        "            else:\n",
        "                res = res + s2 - s1\n",
        "                i = i + 2\n",
        "        else:\n",
        "            res = res + s1\n",
        "            i = i + 1\n",
        "\n",
        "    return res\n",
        "print(\"Integer form of Roman Numeral is\"),\n",
        "print(romanToDecimal(\"LVIII\"))"
      ],
      "metadata": {
        "colab": {
          "base_uri": "https://localhost:8080/"
        },
        "id": "TVda8VZfOUh4",
        "outputId": "b6c6cec3-618b-4bee-f921-596e6d80dc7d"
      },
      "execution_count": 30,
      "outputs": [
        {
          "output_type": "stream",
          "name": "stdout",
          "text": [
            "Integer form of Roman Numeral is\n",
            "58\n"
          ]
        }
      ]
    },
    {
      "cell_type": "markdown",
      "source": [
        "**Question 2**"
      ],
      "metadata": {
        "id": "0Fydt0dOG8q3"
      }
    },
    {
      "cell_type": "code",
      "execution_count": 2,
      "metadata": {
        "colab": {
          "base_uri": "https://localhost:8080/"
        },
        "id": "UYLD49o7GrJ0",
        "outputId": "1baf4369-8319-41b0-c2fa-2deaa1cd67a2"
      },
      "outputs": [
        {
          "output_type": "stream",
          "name": "stdout",
          "text": [
            "3\n",
            "1\n"
          ]
        }
      ],
      "source": [
        "def length_of_longest_substring(s):\n",
        "    n = len(s)\n",
        "    if n == 0:\n",
        "        return 0\n",
        "    char_set = set()\n",
        "    max_length = 0\n",
        "    left = 0\n",
        "    right = 0\n",
        "\n",
        "    while right < n:\n",
        "        if s[right] not in char_set:\n",
        "            char_set.add(s[right])\n",
        "            max_length = max(max_length, right - left + 1)\n",
        "            right += 1\n",
        "        else:\n",
        "            char_set.remove(s[left])\n",
        "            left += 1\n",
        "\n",
        "    return max_length\n",
        "string1 = \"abcabcbb\"\n",
        "print(length_of_longest_substring(string1))\n",
        "string2 = \"bbbbb\"\n",
        "print(length_of_longest_substring(string2))\n",
        "\n",
        "\n"
      ]
    },
    {
      "cell_type": "markdown",
      "source": [
        "**Question 3**"
      ],
      "metadata": {
        "id": "HDDzegEPHAzx"
      }
    },
    {
      "cell_type": "code",
      "source": [
        "\n",
        "\n",
        "def Majority(arr, n):\n",
        "\n",
        "    maxCount = 0\n",
        "    index = -1\n",
        "    for i in range(n):\n",
        "\n",
        "        count = 1\n",
        "        for j in range(i+1, n):\n",
        "\n",
        "            if(arr[i] == arr[j]):\n",
        "                count += 1\n",
        "        if(count > maxCount):\n",
        "\n",
        "            maxCount = count\n",
        "            index = i\n",
        "    if (maxCount > n//2):\n",
        "        print(arr[index])\n",
        "\n",
        "    else:\n",
        "        print(\"No Majority Element\")\n",
        "\n",
        "\n",
        "arr = [3,2,3]\n",
        "n = len(arr)\n",
        "Majority(arr, n)\n",
        "arr = [2,2,1,1,1,2,2]\n",
        "n = len(arr)\n",
        "Majority(arr, n)"
      ],
      "metadata": {
        "colab": {
          "base_uri": "https://localhost:8080/"
        },
        "id": "JlIwzUBeHADv",
        "outputId": "a393afa8-e8cd-4923-8cc8-9fe9a4cad6f1"
      },
      "execution_count": 7,
      "outputs": [
        {
          "output_type": "stream",
          "name": "stdout",
          "text": [
            "3\n",
            "2\n"
          ]
        }
      ]
    },
    {
      "cell_type": "markdown",
      "source": [
        "**Question 4**"
      ],
      "metadata": {
        "id": "uiI5WvijHrhi"
      }
    },
    {
      "cell_type": "code",
      "source": [
        "from collections import defaultdict\n",
        "\n",
        "def groupAnagrams(strs):\n",
        "    anagram_map = defaultdict(list)\n",
        "    for s in strs:\n",
        "        sorted_str = ''.join(sorted(s))\n",
        "        anagram_map[sorted_str].append(s)\n",
        "    return list(anagram_map.values())\n",
        "strs = [\"eat\", \"tea\", \"tan\", \"ate\", \"nat\", \"bat\"]\n",
        "result = groupAnagrams(strs)\n",
        "print(result)\n",
        "strs = [\"\"]\n",
        "result = groupAnagrams(strs)\n",
        "print(result)"
      ],
      "metadata": {
        "colab": {
          "base_uri": "https://localhost:8080/"
        },
        "id": "bFFaVNaoIqiv",
        "outputId": "be0a374e-d590-4fa4-a322-e59176e32228"
      },
      "execution_count": 10,
      "outputs": [
        {
          "output_type": "stream",
          "name": "stdout",
          "text": [
            "[['eat', 'tea', 'ate'], ['tan', 'nat'], ['bat']]\n",
            "[['']]\n"
          ]
        }
      ]
    },
    {
      "cell_type": "markdown",
      "source": [
        "**Question 5**"
      ],
      "metadata": {
        "id": "nnnlqgLdI7vC"
      }
    },
    {
      "cell_type": "code",
      "source": [
        "def nthUglyNumber(n):\n",
        "    ugly = [1]\n",
        "    p2, p3, p5 = 0, 0, 0\n",
        "    for _ in range(1, n):\n",
        "        next_ugly = min(ugly[p2] * 2, ugly[p3] * 3, ugly[p5] * 5)\n",
        "        ugly.append(next_ugly)\n",
        "        if next_ugly == ugly[p2] * 2:\n",
        "            p2 += 1\n",
        "        if next_ugly == ugly[p3] * 3:\n",
        "            p3 += 1\n",
        "        if next_ugly == ugly[p5] * 5:\n",
        "            p5 += 1\n",
        "\n",
        "    return ugly[-1]\n",
        "n = 10\n",
        "print(nthUglyNumber(n))\n",
        "n = 1\n",
        "print(nthUglyNumber(n))"
      ],
      "metadata": {
        "colab": {
          "base_uri": "https://localhost:8080/"
        },
        "id": "ggiL3XgAKZG-",
        "outputId": "90e88aa0-fa4f-4118-f25d-87c8e4b2b7fc"
      },
      "execution_count": 14,
      "outputs": [
        {
          "output_type": "stream",
          "name": "stdout",
          "text": [
            "12\n",
            "1\n"
          ]
        }
      ]
    },
    {
      "cell_type": "markdown",
      "source": [
        "**Question 6**"
      ],
      "metadata": {
        "id": "MJJSL0j_K35_"
      }
    },
    {
      "cell_type": "code",
      "source": [
        "import heapq\n",
        "from collections import defaultdict\n",
        "\n",
        "def topKFrequent(words, k):\n",
        "    freq_dict = defaultdict(int)\n",
        "    for word in words:\n",
        "        freq_dict[word] += 1\n",
        "\n",
        "    freq_heap = []\n",
        "    for word, freq in freq_dict.items():\n",
        "        heapq.heappush(freq_heap, (-freq, word))\n",
        "\n",
        "    result = []\n",
        "    for _ in range(k):\n",
        "        freq, word = heapq.heappop(freq_heap)\n",
        "        result.append(word)\n",
        "\n",
        "    return result\n",
        "words = words = [\"i\",\"love\",\"leetcode\",\"i\",\"love\",\"coding\"]\n",
        "k = 2\n",
        "print(topKFrequent(words, k))\n",
        "words = [\"the\",\"day\",\"is\",\"sunny\",\"the\",\"the\",\"the\",\"sunny\",\"is\",\"is\"]\n",
        "k = 4\n",
        "print(topKFrequent(words, k))\n"
      ],
      "metadata": {
        "colab": {
          "base_uri": "https://localhost:8080/"
        },
        "id": "1SQVpWucK64Z",
        "outputId": "0f07454f-c3d4-4077-ec12-f1514a66168d"
      },
      "execution_count": 17,
      "outputs": [
        {
          "output_type": "stream",
          "name": "stdout",
          "text": [
            "['i', 'love']\n",
            "['the', 'is', 'sunny', 'day']\n"
          ]
        }
      ]
    },
    {
      "cell_type": "markdown",
      "source": [
        "**Question 7**"
      ],
      "metadata": {
        "id": "sZt9JjcyL9yI"
      }
    },
    {
      "cell_type": "code",
      "source": [
        "def printMax(arr, N, K):\n",
        "    max = 0\n",
        "\n",
        "    for i in range(N - K + 1):\n",
        "        max = arr[i]\n",
        "        for j in range(1, K):\n",
        "            if arr[i + j] > max:\n",
        "                max = arr[i + j]\n",
        "        print(str(max) + \" \", end=\"\")\n",
        "\n",
        "arr = [1,3,-1,-3,5,3,6,7]\n",
        "N = len(arr)\n",
        "K = 3\n",
        "printMax(arr, N, K)\n",
        "print(\"\\n\")\n",
        "arr = [1]\n",
        "N = len(arr)\n",
        "K = 1\n",
        "printMax(arr, N, K)"
      ],
      "metadata": {
        "colab": {
          "base_uri": "https://localhost:8080/"
        },
        "id": "18DmvBkZL_2Y",
        "outputId": "8a00a18f-a0b0-49d6-e703-751a42669839"
      },
      "execution_count": 24,
      "outputs": [
        {
          "output_type": "stream",
          "name": "stdout",
          "text": [
            "3 3 5 5 6 7 \n",
            "\n",
            "1 "
          ]
        }
      ]
    },
    {
      "cell_type": "markdown",
      "source": [
        "**Question 8**"
      ],
      "metadata": {
        "id": "MoeWaGBQM4kd"
      }
    },
    {
      "cell_type": "code",
      "source": [
        "def findClosestElements(arr, k, x):\n",
        "    left = 0\n",
        "    right = len(arr) - 1\n",
        "\n",
        "    while right - left >= k:\n",
        "        if abs(arr[left] - x) <= abs(arr[right] - x):\n",
        "            right -= 1\n",
        "        else:\n",
        "            left += 1\n",
        "\n",
        "    return arr[left:right+1]\n",
        "arr = [1, 2, 3, 4, 5]\n",
        "k = 4\n",
        "x = 3\n",
        "print(findClosestElements(arr, k, x))\n",
        "arr = [1, 2, 3, 4, 5]\n",
        "k = 4\n",
        "x = -1\n",
        "print(findClosestElements(arr, k, x))"
      ],
      "metadata": {
        "colab": {
          "base_uri": "https://localhost:8080/"
        },
        "id": "ytM_FxB7OFFO",
        "outputId": "d8ddfb94-0b66-4bad-f608-065c2f9e6059"
      },
      "execution_count": 29,
      "outputs": [
        {
          "output_type": "stream",
          "name": "stdout",
          "text": [
            "[1, 2, 3, 4]\n",
            "[1, 2, 3, 4]\n"
          ]
        }
      ]
    }
  ]
}