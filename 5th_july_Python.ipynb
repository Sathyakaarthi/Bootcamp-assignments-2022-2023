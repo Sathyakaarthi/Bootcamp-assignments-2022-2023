{
  "nbformat": 4,
  "nbformat_minor": 0,
  "metadata": {
    "colab": {
      "provenance": [],
      "authorship_tag": "ABX9TyMM9BchDMX/Bx3LRtZFQnfr",
      "include_colab_link": true
    },
    "kernelspec": {
      "name": "python3",
      "display_name": "Python 3"
    },
    "language_info": {
      "name": "python"
    }
  },
  "cells": [
    {
      "cell_type": "markdown",
      "metadata": {
        "id": "view-in-github",
        "colab_type": "text"
      },
      "source": [
        "<a href=\"https://colab.research.google.com/github/Sathyakaarthi/Bootcamp-assignments-2022-2023/blob/main/5th_july_Python.ipynb\" target=\"_parent\"><img src=\"https://colab.research.google.com/assets/colab-badge.svg\" alt=\"Open In Colab\"/></a>"
      ]
    },
    {
      "cell_type": "markdown",
      "source": [
        "**1. Write a Python program to check if a given string is an anagram.**"
      ],
      "metadata": {
        "id": "K7JITSpnOanQ"
      }
    },
    {
      "cell_type": "code",
      "execution_count": null,
      "metadata": {
        "colab": {
          "base_uri": "https://localhost:8080/"
        },
        "id": "ihUNpeWdOTm8",
        "outputId": "14249bbb-0d33-49d0-85b5-ceabc7f3957e"
      },
      "outputs": [
        {
          "output_type": "stream",
          "name": "stdout",
          "text": [
            "Enter a string: listen\n",
            "Enter a string: silent\n",
            "The strings are anagrams.\n"
          ]
        }
      ],
      "source": [
        "\n",
        "# Function to check whether the given strings are\n",
        "# anagram or not\n",
        "def check_anagram(s1, s2):\n",
        "\n",
        "    # code to check for anagram\n",
        "    if(sorted(s1)== sorted(s2)):\n",
        "        print(\"The strings are anagrams.\")\n",
        "    else:\n",
        "        print(\"The strings aren't anagrams.\")\n",
        "\n",
        "# driver code\n",
        "s1 = input (\"Enter a string: \")# 1st string\n",
        "s2 = input (\"Enter a string: \")# 2nd string\n",
        "check_anagram(s1, s2) # checking using function check_anagram"
      ]
    },
    {
      "cell_type": "markdown",
      "source": [
        "**2. Write a Python program to find the maximum and minimum values in a\n",
        "dictionary.**"
      ],
      "metadata": {
        "id": "B6O4rfdqPv8C"
      }
    },
    {
      "cell_type": "code",
      "source": [
        "marks = {\"m1\":83 , \"m2\":96 , \"m3\":66 , \"m4\":43 , \"m5\":71}\n",
        "\n",
        "v = marks.values()\n",
        "maxi = max(v) # max() is used to find the maximum value in the dictionary.\n",
        "mini = min(v) # min() is used to find the minimum value in the dictionary.\n",
        "# maxi and mini are variables used to store maximum and minimum values from the dictionary\n",
        "print(\"Maximum value :\",maxi) # printing maximum value\n",
        "print(\"Minimum value:\",mini) # printing minimum value"
      ],
      "metadata": {
        "colab": {
          "base_uri": "https://localhost:8080/"
        },
        "id": "os_BcvLtQuW0",
        "outputId": "6a8db2f0-4300-41cf-c3f7-e0c30acefc37"
      },
      "execution_count": null,
      "outputs": [
        {
          "output_type": "stream",
          "name": "stdout",
          "text": [
            "Maximum value : 96\n",
            "Minimum value: 43\n"
          ]
        }
      ]
    },
    {
      "cell_type": "markdown",
      "source": [
        "**3. Write a Python program to find the average of a list of numbers.**"
      ],
      "metadata": {
        "id": "A-JfNf9PStTT"
      }
    },
    {
      "cell_type": "code",
      "source": [
        "lst = []\n",
        "\n",
        "# number of elements as input\n",
        "n = int(input(\"Enter number of elements : \"))\n",
        "\n",
        "# iterating till the range\n",
        "for i in range(0, n):\n",
        "    ele = int(input())\n",
        "    # adding the element\n",
        "    lst.append(ele)\n",
        "\n",
        "print(lst)\n",
        "def Average(lst):\n",
        "    return sum(lst) / len(lst)\n",
        "\n",
        "# Driver Code\n",
        "average = Average(lst)\n",
        "\n",
        "# Printing average of the list\n",
        "print(\"Average of the list =\", round(average, 2))"
      ],
      "metadata": {
        "colab": {
          "base_uri": "https://localhost:8080/"
        },
        "id": "AXH-iW86TwUc",
        "outputId": "b8e076f9-c9d1-4faa-c664-ed618e2f9e3b"
      },
      "execution_count": null,
      "outputs": [
        {
          "output_type": "stream",
          "name": "stdout",
          "text": [
            "Enter number of elements : 5\n",
            "12\n",
            "3\n",
            "54\n",
            "323\n",
            "13\n",
            "[12, 3, 54, 323, 13]\n",
            "Average of the list = 81.0\n"
          ]
        }
      ]
    },
    {
      "cell_type": "markdown",
      "source": [
        "**4. Write a Python program to remove all vowels from a string.**"
      ],
      "metadata": {
        "id": "MAhIXhaPTsWF"
      }
    },
    {
      "cell_type": "code",
      "source": [
        "# Python program to remove vowels from a string\n",
        "# Function to remove vowels\n",
        "def rem_vowel(string):\n",
        "    vowels = ['a','e','i','o','u']\n",
        "    result = [letter for letter in string if letter.lower() not in vowels]\n",
        "    result = ''.join(result)\n",
        "    print(result)\n",
        "\n",
        "# Driver program\n",
        "# Getting user input of a string\n",
        "string = input(\"Enter the string : \")\n",
        "rem_vowel(string)\n",
        "# Getting user input of a string\n",
        "string = input(\"Enter the string : \")\n",
        "rem_vowel(string)"
      ],
      "metadata": {
        "colab": {
          "base_uri": "https://localhost:8080/"
        },
        "id": "ozALqz-7VC_x",
        "outputId": "6bcfaa34-3c7f-4a32-a6c8-a4483e71399c"
      },
      "execution_count": null,
      "outputs": [
        {
          "output_type": "stream",
          "name": "stdout",
          "text": [
            "Enter the string : I like python coding\n",
            " lk pythn cdng\n",
            "Enter the string : computer science\n",
            "cmptr scnc\n"
          ]
        }
      ]
    },
    {
      "cell_type": "markdown",
      "source": [
        "**5. Write a Python function to calculate the factorial of a number using recursion.**"
      ],
      "metadata": {
        "id": "fGCKcRnib2B5"
      }
    },
    {
      "cell_type": "code",
      "source": [
        "#Function to calculate the factorial of a number using recursion.\n",
        "def recursion_factorial(n):\n",
        "   if n == 1:\n",
        "       return n\n",
        "   else:\n",
        "       return n*recursion_factorial(n-1)\n",
        "# take input from the user\n",
        "num = int(input(\"Enter a number: \"))\n",
        "# check is the number is negative\n",
        "if num < 0:\n",
        "   print(\"Sorry, factorial does not exist for negative numbers\")\n",
        "elif num == 0:\n",
        "   print(\"The factorial of 0 is 1\")\n",
        "else:\n",
        "   print(\"The factorial of\",num,\"is\",recursion_factorial(num))"
      ],
      "metadata": {
        "colab": {
          "base_uri": "https://localhost:8080/"
        },
        "id": "cy7UBNpgdv00",
        "outputId": "6c345d96-c6aa-4d9f-b754-cb9e5b0886b2"
      },
      "execution_count": null,
      "outputs": [
        {
          "output_type": "stream",
          "name": "stdout",
          "text": [
            "Enter a number: 5\n",
            "The factorial of 5 is 120\n"
          ]
        }
      ]
    },
    {
      "cell_type": "markdown",
      "source": [
        "**6. Write a Python program to merge two unsorted lists into a single sorted list using the merge sort algorithm.**"
      ],
      "metadata": {
        "id": "kr8q9-m_eW-W"
      }
    },
    {
      "cell_type": "markdown",
      "source": [
        "Step 1: first we create two user input list.\n",
        "\n",
        "Step 2: Final merge list size is (size of the first list + the size of the second list).\n",
        "\n",
        "Step 3: then sort two list using sort() method.\n",
        "\n",
        "Step 4: Merge two sorted list and store it into a third list.\n",
        "\n",
        "Step 5: Merging remaining elements of a[] (if any).Merging remaining elements of b[] (if any).\n",
        "\n",
        "Step 6: display merged sorted list."
      ],
      "metadata": {
        "id": "mzKFB2g_u25g"
      }
    },
    {
      "cell_type": "code",
      "source": [
        "# Python program to merge two unsorted lists\n",
        "# in sorted order\n",
        "# Function to merge array in sorted order\n",
        "def unsortedarray (a, b, res, n, m):\n",
        "   # Sorting a[] and b[]\n",
        "   a.sort()\n",
        "   b.sort()\n",
        "   # Merge two sorted arrays into res[]\n",
        "   i, j, k = 0, 0, 0\n",
        "   while (i < n and j < m):\n",
        "      if (a[i] <= b[j]):\n",
        "         res[k] = a[i]\n",
        "         i += 1\n",
        "         k += 1\n",
        "      else:\n",
        "         res[k] = b[j]\n",
        "         j += 1\n",
        "         k += 1\n",
        "   while (i < n):  # Merging remaining\n",
        "      # elements of a[] (if any)\n",
        "      res[k] = a[i]\n",
        "      i += 1\n",
        "      k += 1\n",
        "   while (j < m):  # Merging remaining\n",
        "      # elements of b[] (if any)\n",
        "      res[k] = b[j]\n",
        "      j += 1\n",
        "      k += 1\n",
        "# Driver code\n",
        "A=list()\n",
        "n=int(input(\"Enter the size of the First List :\"))\n",
        "print(\"Enter the Element of First List :\")\n",
        "for i in range(int(n)):\n",
        "   k=int(input(\"\"))\n",
        "   A.append(k)\n",
        "B=list()\n",
        "m=int(input(\"Enter the size of the Second List :\"))\n",
        "print(\"Enter the Element of Second List :\")\n",
        "for i in range(int(n)):\n",
        "   k=int(input(\"\"))\n",
        "   B.append(k)\n",
        "# Final merge list\n",
        "result = [0 for i in range(n + m)]\n",
        "unsortedarray(A, B, result, n, m)\n",
        "print (\"Sorted merged list :\")\n",
        "for i in range(n + m):\n",
        "   print (result[i],)"
      ],
      "metadata": {
        "colab": {
          "base_uri": "https://localhost:8080/"
        },
        "id": "0N38Lo4ief3b",
        "outputId": "0335b21c-7cc4-4e2a-c5be-906eeffa7531"
      },
      "execution_count": null,
      "outputs": [
        {
          "output_type": "stream",
          "name": "stdout",
          "text": [
            "Enter the size of the First List :4\n",
            "Enter the Element of First List :\n",
            "32\n",
            "54\n",
            "12\n",
            "67\n",
            "Enter the size of the Second List :4\n",
            "Enter the Element of Second List :\n",
            "78\n",
            "90\n",
            "45\n",
            "23\n",
            "Sorted merged list :\n",
            "12\n",
            "23\n",
            "32\n",
            "45\n",
            "54\n",
            "67\n",
            "78\n",
            "90\n"
          ]
        }
      ]
    },
    {
      "cell_type": "markdown",
      "source": [
        "**7. Write a Python program to find the GCD (Greatest Common Divisor) of two\n",
        "numbers.**"
      ],
      "metadata": {
        "id": "RKQ1bsxewYop"
      }
    },
    {
      "cell_type": "code",
      "source": [
        "#getting user inputs of 2 numbers n1 and n2\n",
        "n1 = int(input(\"Enter the 1st number: \"))\n",
        "n2 = int(input(\"Enter the 2nd number: \"))\n",
        "#initialising value of i to 1\n",
        "i = 1\n",
        "#checking condition to find GCD\n",
        "while(i <= n1 and i <= n2):\n",
        "  if(n1 % i == 0 and n2 % i == 0):\n",
        "    gcd = i\n",
        "  i = i + 1\n",
        "#Printing the output\n",
        "print(\"GCD of {} and {} is : \".format(n1,n2) ,gcd)"
      ],
      "metadata": {
        "colab": {
          "base_uri": "https://localhost:8080/"
        },
        "id": "6VLMr4H4g1SY",
        "outputId": "145f0f01-16de-4797-c340-3175599cb69d"
      },
      "execution_count": 15,
      "outputs": [
        {
          "output_type": "stream",
          "name": "stdout",
          "text": [
            "Enter the 1st number: 76\n",
            "Enter the 2nd number: 88\n",
            "GCD of 76 and 88 is :  4\n"
          ]
        }
      ]
    },
    {
      "cell_type": "markdown",
      "source": [
        "**8. Write a Python program to find the second-largest element in a list.**"
      ],
      "metadata": {
        "id": "UhEOULpzjVcW"
      }
    },
    {
      "cell_type": "code",
      "source": [
        "li = [] #declaration of list\n",
        "#Getting user input for getting number of elements in the list\n",
        "n = int(input(\"Enter the number of elements: \"))\n",
        "#Getting elements in the list using for loop\n",
        "for i in range(1, n+1):\n",
        "    elem = int(input(\"Enter the elements: \"))\n",
        "    li.append(elem)\n",
        "#sorting elemetns in the list\n",
        "li.sort()\n",
        "# Printing the sorted list\n",
        "print(\"The sorted List: \",li)\n",
        "# Printing the second largest element in the list\n",
        "print(\"The second largest value of sorted list: \",li[n-2])"
      ],
      "metadata": {
        "colab": {
          "base_uri": "https://localhost:8080/"
        },
        "id": "-R7SB5pJj6kl",
        "outputId": "429d7166-306b-442d-94ac-3b52561527c6"
      },
      "execution_count": 17,
      "outputs": [
        {
          "output_type": "stream",
          "name": "stdout",
          "text": [
            "Enter the number of elements: 5\n",
            "Enter the elements: 65\n",
            "Enter the elements: 34\n",
            "Enter the elements: 98\n",
            "Enter the elements: 27\n",
            "Enter the elements: 74\n",
            "The sorted List:  [27, 34, 65, 74, 98]\n",
            "The second largest value of sorted list:  74\n"
          ]
        }
      ]
    },
    {
      "cell_type": "markdown",
      "source": [
        "**9. Write a Python program to find the longest common subsequence between two\n",
        "strings using dynamic programming.**"
      ],
      "metadata": {
        "id": "f2hVUH8llUGL"
      }
    },
    {
      "cell_type": "code",
      "source": [
        "# Returns length of LCS for X[0..m-1], Y[0..n-1]\n",
        "\n",
        "\n",
        "def lcs(X, Y, m, n):\n",
        "    L = [[0 for i in range(n+1)] for j in range(m+1)]\n",
        "\n",
        "    # Following steps build L[m+1][n+1] in bottom up fashion. Note\n",
        "    # that L[i][j] contains length of LCS of X[0..i-1] and Y[0..j-1]\n",
        "    for i in range(m+1):\n",
        "        for j in range(n+1):\n",
        "            if i == 0 or j == 0:\n",
        "                L[i][j] = 0\n",
        "            elif X[i-1] == Y[j-1]:\n",
        "                L[i][j] = L[i-1][j-1] + 1\n",
        "            else:\n",
        "                L[i][j] = max(L[i-1][j], L[i][j-1])\n",
        "\n",
        "        # Create a string variable to store the lcs string\n",
        "    lcs = \"\"\n",
        "\n",
        "    # Start from the right-most-bottom-most corner and\n",
        "    # one by one store characters in lcs[]\n",
        "    i = m\n",
        "    j = n\n",
        "    while i > 0 and j > 0:\n",
        "\n",
        "        # If current character in X[] and Y are same, then\n",
        "        # current character is part of LCS\n",
        "        if X[i-1] == Y[j-1]:\n",
        "            lcs += X[i-1]\n",
        "            i -= 1\n",
        "            j -= 1\n",
        "\n",
        "        # If not same, then find the larger of two and\n",
        "        # go in the direction of larger value\n",
        "        elif L[i-1][j] > L[i][j-1]:\n",
        "            i -= 1\n",
        "\n",
        "        else:\n",
        "            j -= 1\n",
        "\n",
        "    # We traversed the table in reverse order\n",
        "    # LCS is the reverse of what we got\n",
        "    lcs = lcs[::-1]\n",
        "    print(\"LCS of \" + X + \" and \" + Y + \" is \" + lcs)\n",
        "\n",
        "\n",
        "# Driver program\n",
        "X = \"AGGTAB\"\n",
        "Y = \"GXTXAYB\"\n",
        "m = len(X)\n",
        "n = len(Y)\n",
        "\n",
        "# Driver program\n",
        "X = \"SDFDSSG\"\n",
        "Y = \"FDSSGGFF\"\n",
        "m = len(X)\n",
        "n = len(Y)\n",
        "lcs(X, Y, m, n)"
      ],
      "metadata": {
        "colab": {
          "base_uri": "https://localhost:8080/"
        },
        "id": "jnfdfaI9mRYZ",
        "outputId": "3e3453ff-e515-4ae3-c15e-0300c907fc15"
      },
      "execution_count": 21,
      "outputs": [
        {
          "output_type": "stream",
          "name": "stdout",
          "text": [
            "LCS of SDFDSSG and FDSSGGFF is FDSSG\n"
          ]
        }
      ]
    }
  ]
}