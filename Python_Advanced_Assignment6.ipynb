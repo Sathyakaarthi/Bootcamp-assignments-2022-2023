{
  "nbformat": 4,
  "nbformat_minor": 0,
  "metadata": {
    "colab": {
      "provenance": [],
      "authorship_tag": "ABX9TyPFAf+k4z4hV/iZbeQOl+0Y",
      "include_colab_link": true
    },
    "kernelspec": {
      "name": "python3",
      "display_name": "Python 3"
    },
    "language_info": {
      "name": "python"
    }
  },
  "cells": [
    {
      "cell_type": "markdown",
      "metadata": {
        "id": "view-in-github",
        "colab_type": "text"
      },
      "source": [
        "<a href=\"https://colab.research.google.com/github/Sathyakaarthi/Bootcamp-assignments-2022-2023/blob/main/Python_Advanced_Assignment6.ipynb\" target=\"_parent\"><img src=\"https://colab.research.google.com/assets/colab-badge.svg\" alt=\"Open In Colab\"/></a>"
      ]
    },
    {
      "cell_type": "markdown",
      "source": [
        "**1. Describe three applications for exception processing.**\n",
        "\n",
        "*Ans:*\n",
        "\n",
        " Exception Processing is important to find exceptions that causes the runtime error. As runtime errors Halt the program execution when exception occurs.\n",
        "\n",
        "Exception Processing is used in Various Applications:\n",
        "\n",
        "* Checking Appropriate use of input in an application\n",
        "* Checking for Arithmetic exceptions in mathematical executions\n",
        "* Checking File I/O exceptions during File handling"
      ],
      "metadata": {
        "id": "z4ILlvUCOBH4"
      }
    },
    {
      "cell_type": "markdown",
      "source": [
        "**2. What happens if you don't do something extra to treat an exception?**\n",
        "\n",
        "*Ans:*\n",
        "\n",
        "We need to know how to properly handle exceptions, especially in production environments, because if they are not handled our program won't know what to do and will crash."
      ],
      "metadata": {
        "id": "xm7TrPO0PENs"
      }
    },
    {
      "cell_type": "markdown",
      "source": [
        "**3. What are your options for recovering from an exception in your script?**\n",
        "\n",
        "*Ans:*\n",
        "\n",
        "Python provides try and except statements for recovering from an exception in your script."
      ],
      "metadata": {
        "id": "l5tm1YHLPaVh"
      }
    },
    {
      "cell_type": "markdown",
      "source": [
        "**4. Describe two methods for triggering exceptions in your script.**\n",
        "\n",
        "*Ans:*\n",
        "\n",
        "* **raise** and **assert** are two methods that can be used to trigger manual exceptions in your script.\n",
        "\n",
        "* **raise** method triggers an exception if condition provided to it turns out to be True.\n",
        "* **assert** will let the program to continue execution if condition provided to it turns out to be True else exception will be raised"
      ],
      "metadata": {
        "id": "-BnzbSnjPr4X"
      }
    },
    {
      "cell_type": "markdown",
      "source": [
        "**5. Identify two methods for specifying actions to be executed at termination time, regardless of whether or not an exception exists.**\n",
        "\n",
        "*Ans:*\n",
        "\n",
        "Python Provides else and finally blocks for specifying actions to be executed at termination time, regardless of whether an exceptions exists or not."
      ],
      "metadata": {
        "id": "MijCAag1QHyC"
      }
    },
    {
      "cell_type": "code",
      "execution_count": null,
      "metadata": {
        "id": "-T4DYO1MN_YE"
      },
      "outputs": [],
      "source": []
    }
  ]
}