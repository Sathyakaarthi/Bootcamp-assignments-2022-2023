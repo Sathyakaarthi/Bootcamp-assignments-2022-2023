{
  "nbformat": 4,
  "nbformat_minor": 0,
  "metadata": {
    "colab": {
      "provenance": [],
      "authorship_tag": "ABX9TyN6/He42IbAuZvSBXuKQVet",
      "include_colab_link": true
    },
    "kernelspec": {
      "name": "python3",
      "display_name": "Python 3"
    },
    "language_info": {
      "name": "python"
    }
  },
  "cells": [
    {
      "cell_type": "markdown",
      "metadata": {
        "id": "view-in-github",
        "colab_type": "text"
      },
      "source": [
        "<a href=\"https://colab.research.google.com/github/Sathyakaarthi/Bootcamp-assignments-2022-2023/blob/main/Array_assignment2.ipynb\" target=\"_parent\"><img src=\"https://colab.research.google.com/assets/colab-badge.svg\" alt=\"Open In Colab\"/></a>"
      ]
    },
    {
      "cell_type": "markdown",
      "source": [
        "**Question 1:**"
      ],
      "metadata": {
        "id": "GLqbFAJJ0Q2c"
      }
    },
    {
      "cell_type": "code",
      "source": [
        "def maxi_sum(nums):\n",
        "    nums.sort()\n",
        "\n",
        "    total_sum = 0\n",
        "\n",
        "    for i in range(0, len(nums), 2):\n",
        "        total_sum += nums[i]\n",
        "\n",
        "    return total_sum\n",
        "nums = [1,4,3,2]\n",
        "max_sum = maxi_sum(nums)\n",
        "print(max_sum) \n"
      ],
      "metadata": {
        "colab": {
          "base_uri": "https://localhost:8080/"
        },
        "id": "LrDZ_GPTkcIG",
        "outputId": "22ef8262-1ee8-440b-8cfe-030bed156393"
      },
      "execution_count": 3,
      "outputs": [
        {
          "output_type": "stream",
          "name": "stdout",
          "text": [
            "4\n"
          ]
        }
      ]
    },
    {
      "cell_type": "markdown",
      "source": [
        "**Question 2:**"
      ],
      "metadata": {
        "id": "hIJXqEjR0eyy"
      }
    },
    {
      "cell_type": "code",
      "source": [
        "def distributeCandies(candyType):\n",
        "    max_candies = len(candyType) // 2\n",
        "\n",
        "    unique_candies = set()\n",
        "\n",
        "    for candy in candyType:\n",
        "        unique_candies.add(candy)\n",
        "\n",
        "        if len(unique_candies) == max_candies:\n",
        "            break\n",
        "\n",
        "    return len(unique_candies)\n",
        "candyType = [1, 1, 2, 2, 3, 3]\n",
        "result = distributeCandies(candyType)\n",
        "print(result) "
      ],
      "metadata": {
        "colab": {
          "base_uri": "https://localhost:8080/"
        },
        "id": "Gdl9auhUmfI4",
        "outputId": "2e87d35c-b142-45fe-fb06-df28a9b28a02"
      },
      "execution_count": 4,
      "outputs": [
        {
          "output_type": "stream",
          "name": "stdout",
          "text": [
            "3\n"
          ]
        }
      ]
    },
    {
      "cell_type": "markdown",
      "source": [
        "**question 3:**"
      ],
      "metadata": {
        "id": "eUyNtX0P1D33"
      }
    },
    {
      "cell_type": "code",
      "source": [
        "def findLHS(nums):\n",
        "    count = {}\n",
        "    for num in nums:\n",
        "        count[num] = count.get(num, 0) + 1\n",
        "\n",
        "    longest_length = 0\n",
        "    for num in count:\n",
        "        if num + 1 in count:\n",
        "            longest_length = max(longest_length, count[num] + count[num + 1])\n",
        "\n",
        "    return longest_length\n",
        "nums = [1, 3, 2, 2, 5, 2, 3, 7]\n",
        "result = findLHS(nums)\n",
        "print(result) # Output: 5"
      ],
      "metadata": {
        "colab": {
          "base_uri": "https://localhost:8080/"
        },
        "id": "zx9X2movzXpE",
        "outputId": "24808432-f557-411f-ea9d-a90b0fa63222"
      },
      "execution_count": 1,
      "outputs": [
        {
          "output_type": "stream",
          "name": "stdout",
          "text": [
            "5\n"
          ]
        }
      ]
    },
    {
      "cell_type": "markdown",
      "source": [
        "**Question 4:**"
      ],
      "metadata": {
        "id": "xalvK3YS1PKM"
      }
    },
    {
      "cell_type": "code",
      "source": [
        "def canPlaceFlowers(flowerbed, n):\n",
        "    count = 0\n",
        "    length = len(flowerbed)\n",
        "    i = 0\n",
        "    \n",
        "    while i < length:\n",
        "        if flowerbed[i] == 0 and (i == 0 or flowerbed[i-1] == 0) and (i == length-1 or flowerbed[i+1] == 0):\n",
        "            flowerbed[i] = 1\n",
        "            count += 1\n",
        "            i += 1 \n",
        "        i += 1\n",
        "\n",
        "    return count >= n\n",
        "flowerbed = [1, 0, 0, 0, 1]\n",
        "n = 1\n",
        "result = canPlaceFlowers(flowerbed, n)\n",
        "print(result) \n",
        "\n"
      ],
      "metadata": {
        "colab": {
          "base_uri": "https://localhost:8080/"
        },
        "id": "R9CH2Cj_qQDP",
        "outputId": "5c3e4195-6213-47e5-a79a-145cd155b6e8"
      },
      "execution_count": 5,
      "outputs": [
        {
          "output_type": "stream",
          "name": "stdout",
          "text": [
            "True\n"
          ]
        }
      ]
    },
    {
      "cell_type": "markdown",
      "source": [
        "**Question 5:**"
      ],
      "metadata": {
        "id": "xOmYYurQ1oWU"
      }
    },
    {
      "cell_type": "code",
      "source": [
        "def find_max_product(numbers):\n",
        "    if len(numbers) < 3:\n",
        "        return None\n",
        "    \n",
        "    numbers.sort(reverse=True)\n",
        "    \n",
        "    if numbers[0] * numbers[1] * numbers[2] > numbers[-1] * numbers[-2] * numbers[-3]:\n",
        "        return numbers[0] * numbers[1] * numbers[2]\n",
        "    else:\n",
        "        return numbers[-1] * numbers[-2] * numbers[-3]\n",
        "numbers = [1, 2, 3]\n",
        "max_product = find_max_product(numbers)\n",
        "print(max_product)  "
      ],
      "metadata": {
        "colab": {
          "base_uri": "https://localhost:8080/"
        },
        "id": "jmRevJSRjQP-",
        "outputId": "e5271ef4-f8a3-4bcd-a56d-a7b8f163e74a"
      },
      "execution_count": 6,
      "outputs": [
        {
          "output_type": "stream",
          "name": "stdout",
          "text": [
            "6\n"
          ]
        }
      ]
    },
    {
      "cell_type": "markdown",
      "source": [
        "**Question 6:**"
      ],
      "metadata": {
        "id": "S-fmoBeS1r1j"
      }
    },
    {
      "cell_type": "code",
      "source": [
        "def search(nums, target):\n",
        "    left = 0\n",
        "    right = len(nums) - 1\n",
        "\n",
        "    while left <= right:\n",
        "        mid = (left + right) // 2\n",
        "\n",
        "        if nums[mid] == target:\n",
        "            return mid\n",
        "        elif nums[mid] < target:\n",
        "            left = mid + 1\n",
        "        else:\n",
        "            right = mid - 1\n",
        "\n",
        "    return -1\n",
        "nums = [-1,0,3,5,9,12]\n",
        "target = 9\n",
        "result = search(nums, target)\n",
        "print(result) "
      ],
      "metadata": {
        "colab": {
          "base_uri": "https://localhost:8080/"
        },
        "id": "SoLyHmlSrbPJ",
        "outputId": "f2a63bfb-1d6b-423f-beab-cd3b6771fcc5"
      },
      "execution_count": 7,
      "outputs": [
        {
          "output_type": "stream",
          "name": "stdout",
          "text": [
            "4\n"
          ]
        }
      ]
    },
    {
      "cell_type": "markdown",
      "source": [
        "**Question 7:**"
      ],
      "metadata": {
        "id": "YBiyjl1p16c6"
      }
    },
    {
      "cell_type": "code",
      "source": [
        "def isMonotonic(nums):\n",
        "    is_increasing = True\n",
        "    is_decreasing = True\n",
        "\n",
        "    for i in range(1, len(nums)):\n",
        "        if nums[i] < nums[i-1]:\n",
        "            is_increasing = False\n",
        "        if nums[i] > nums[i-1]:\n",
        "            is_decreasing = False\n",
        "\n",
        "    return is_increasing or is_decreasing\n",
        "\n",
        "nums = [1, 2, 3, 4, 5]\n",
        "print(isMonotonic(nums)) # Output: True\n",
        "\n",
        "nums = [5, 4, 3, 2, 1]\n",
        "print(isMonotonic(nums)) # Output: True\n",
        "\n",
        "nums = [1, 3, 2, 4, 5]\n",
        "print(isMonotonic(nums)) # Output: False\n",
        "\n"
      ],
      "metadata": {
        "colab": {
          "base_uri": "https://localhost:8080/"
        },
        "id": "z-xxNcTgtYhu",
        "outputId": "8f980c63-e1df-4bf3-8847-ca52019d079e"
      },
      "execution_count": null,
      "outputs": [
        {
          "output_type": "stream",
          "name": "stdout",
          "text": [
            "True\n",
            "True\n",
            "False\n"
          ]
        }
      ]
    },
    {
      "cell_type": "markdown",
      "source": [
        "**Question 8:**"
      ],
      "metadata": {
        "id": "dga5L8iI6cjE"
      }
    },
    {
      "cell_type": "code",
      "source": [
        "def min_score(nums, k):\n",
        "    n = len(nums)\n",
        "    min_score = float('inf')\n",
        "\n",
        "    for x in range(-k, k + 1):\n",
        "        scores = []\n",
        "        for i in range(n):\n",
        "            new_nums = nums.copy()\n",
        "            new_nums[i] += x\n",
        "            scores.append(sum(new_nums))\n",
        "        min_score = min(min_score, min(scores))\n",
        "\n",
        "    return min_score\n",
        "nums = [1]\n",
        "k = 0\n",
        "\n",
        "result = min_score(nums, k)\n",
        "print(result)"
      ],
      "metadata": {
        "colab": {
          "base_uri": "https://localhost:8080/"
        },
        "id": "0dXkxanJ4T-y",
        "outputId": "e84df900-e415-427d-a07b-70cca778523f"
      },
      "execution_count": 13,
      "outputs": [
        {
          "output_type": "stream",
          "name": "stdout",
          "text": [
            "1\n"
          ]
        }
      ]
    }
  ]
}