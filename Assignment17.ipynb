{
  "nbformat": 4,
  "nbformat_minor": 0,
  "metadata": {
    "colab": {
      "provenance": [],
      "authorship_tag": "ABX9TyO2PK1iKTNrm8Vk5gt6xZoy",
      "include_colab_link": true
    },
    "kernelspec": {
      "name": "python3",
      "display_name": "Python 3"
    },
    "language_info": {
      "name": "python"
    }
  },
  "cells": [
    {
      "cell_type": "markdown",
      "metadata": {
        "id": "view-in-github",
        "colab_type": "text"
      },
      "source": [
        "<a href=\"https://colab.research.google.com/github/Sathyakaarthi/Bootcamp-assignments-2022-2023/blob/main/Assignment17.ipynb\" target=\"_parent\"><img src=\"https://colab.research.google.com/assets/colab-badge.svg\" alt=\"Open In Colab\"/></a>"
      ]
    },
    {
      "cell_type": "markdown",
      "source": [
        "**1. Assign the value 7 to the variable guess_me. Then, write the conditional tests (if, else, and elif) to print the string 'too low' if guess_me is less than 7, 'too high' if greater than 7, and 'just right' if equal to 7.**\n"
      ],
      "metadata": {
        "id": "O-GCIvWgY4I4"
      }
    },
    {
      "cell_type": "code",
      "source": [
        "guess_me = int(input(\"enter value : \"))\n",
        "if guess_me == 7 :\n",
        "    print('Just Right')\n",
        "elif guess_me > 7 :\n",
        "    print(\"Too High\")\n",
        "else:\n",
        "    print('Too Low')"
      ],
      "metadata": {
        "colab": {
          "base_uri": "https://localhost:8080/"
        },
        "id": "j5wsHUedY7Et",
        "outputId": "5e90422a-4cfe-40eb-c618-fb84a93e57a3"
      },
      "execution_count": 2,
      "outputs": [
        {
          "output_type": "stream",
          "name": "stdout",
          "text": [
            "enter value : 7\n",
            "Just Right\n"
          ]
        }
      ]
    },
    {
      "cell_type": "markdown",
      "source": [
        "**2. Assign the value 7 to the variable guess_me and the value 1 to the variable start. Write a while loop that compares start with guess_me. Print too low if start is less than guess me. If start equals guess_me, print 'found it!' and exit the loop. If start is greater than guess_me, print 'oops' and exit the loop. Increment start at the end of the loop**"
      ],
      "metadata": {
        "id": "qEFeYW16ZRVG"
      }
    },
    {
      "cell_type": "code",
      "source": [
        "guess_me = 7\n",
        "start = 1\n",
        "while True:\n",
        "    if start < guess_me:\n",
        "        print('too low')\n",
        "    elif start == guess_me:\n",
        "        print('found it')\n",
        "        break\n",
        "    else:\n",
        "        print('oops')\n",
        "        break\n",
        "    start += 1"
      ],
      "metadata": {
        "colab": {
          "base_uri": "https://localhost:8080/"
        },
        "id": "lWrL0eqYZYbM",
        "outputId": "f4a3bf52-0569-4cdb-dfe4-e094e57b607c"
      },
      "execution_count": 3,
      "outputs": [
        {
          "output_type": "stream",
          "name": "stdout",
          "text": [
            "too low\n",
            "too low\n",
            "too low\n",
            "too low\n",
            "too low\n",
            "too low\n",
            "found it\n"
          ]
        }
      ]
    },
    {
      "cell_type": "markdown",
      "source": [
        "**3. Print the following values of the list [3, 2, 1, 0] using a for loop.**"
      ],
      "metadata": {
        "id": "XrlBWQLtZbt5"
      }
    },
    {
      "cell_type": "code",
      "source": [
        "items_list = [3,2,1,0]\n",
        "for i in items_list:\n",
        "    print(i)"
      ],
      "metadata": {
        "colab": {
          "base_uri": "https://localhost:8080/"
        },
        "id": "9LAdA3SbZgeU",
        "outputId": "84aa0e0c-5e68-4c22-c12f-da83cd52784f"
      },
      "execution_count": 5,
      "outputs": [
        {
          "output_type": "stream",
          "name": "stdout",
          "text": [
            "3\n",
            "2\n",
            "1\n",
            "0\n"
          ]
        }
      ]
    },
    {
      "cell_type": "markdown",
      "source": [
        "**4. Use a list comprehension to make a list of the even numbers in range(10)**"
      ],
      "metadata": {
        "id": "AdramiAEZwyf"
      }
    },
    {
      "cell_type": "code",
      "source": [
        "print([x for x in range(10+1) if x%2==0 ])\n"
      ],
      "metadata": {
        "colab": {
          "base_uri": "https://localhost:8080/"
        },
        "id": "6ILHGqUnZ2hA",
        "outputId": "de4f16b2-5bfd-45b1-933d-dd53dd37f55e"
      },
      "execution_count": 6,
      "outputs": [
        {
          "output_type": "stream",
          "name": "stdout",
          "text": [
            "[0, 2, 4, 6, 8, 10]\n"
          ]
        }
      ]
    },
    {
      "cell_type": "markdown",
      "source": [
        "**5. Use a dictionary comprehension to create the dictionary squares. Use range(10) to return the keys, and use the square of each key as its value.**"
      ],
      "metadata": {
        "id": "2HPddh9haEte"
      }
    },
    {
      "cell_type": "code",
      "source": [
        "\n",
        "squares = {n: n * n for n in range(10)}\n",
        "squares\n",
        "     "
      ],
      "metadata": {
        "colab": {
          "base_uri": "https://localhost:8080/"
        },
        "id": "eE9zHumsaKwl",
        "outputId": "b94af0a5-812d-4ef3-c952-47bc0e783096"
      },
      "execution_count": 8,
      "outputs": [
        {
          "output_type": "execute_result",
          "data": {
            "text/plain": [
              "{0: 0, 1: 1, 2: 4, 3: 9, 4: 16, 5: 25, 6: 36, 7: 49, 8: 64, 9: 81}"
            ]
          },
          "metadata": {},
          "execution_count": 8
        }
      ]
    },
    {
      "cell_type": "markdown",
      "source": [
        "**6. Construct the set odd from the odd numbers in the range using a set comprehension (10).**"
      ],
      "metadata": {
        "id": "mK8_4UZOaiIO"
      }
    },
    {
      "cell_type": "code",
      "source": [
        "print({x for x in range(10) if x%2 !=0})\n"
      ],
      "metadata": {
        "colab": {
          "base_uri": "https://localhost:8080/"
        },
        "id": "SoAG_IqJar1i",
        "outputId": "d06f7b08-7827-40af-b6d2-7600f68c5475"
      },
      "execution_count": 9,
      "outputs": [
        {
          "output_type": "stream",
          "name": "stdout",
          "text": [
            "{1, 3, 5, 7, 9}\n"
          ]
        }
      ]
    },
    {
      "cell_type": "markdown",
      "source": [
        "**7. Use a generator comprehension to return the string 'Got ' and a number for the numbers in range(10). Iterate through this by using a for loop**"
      ],
      "metadata": {
        "id": "w-T0dGIuaw9R"
      }
    },
    {
      "cell_type": "code",
      "source": [
        "\n",
        "string_generator = ('Got ' + str(num) for num in range(10))\n",
        "for item in string_generator:\n",
        "    print(item)"
      ],
      "metadata": {
        "colab": {
          "base_uri": "https://localhost:8080/"
        },
        "id": "Ed7etTvWa1rk",
        "outputId": "632815f5-bfd7-47b8-9eff-2e47405da450"
      },
      "execution_count": 10,
      "outputs": [
        {
          "output_type": "stream",
          "name": "stdout",
          "text": [
            "Got 0\n",
            "Got 1\n",
            "Got 2\n",
            "Got 3\n",
            "Got 4\n",
            "Got 5\n",
            "Got 6\n",
            "Got 7\n",
            "Got 8\n",
            "Got 9\n"
          ]
        }
      ]
    },
    {
      "cell_type": "markdown",
      "source": [
        "**8. Define a function called good that returns the list ['Harry', 'Ron', 'Hermione'].**"
      ],
      "metadata": {
        "id": "tYnlRpfobSTP"
      }
    },
    {
      "cell_type": "code",
      "source": [
        "def good():\n",
        "    x =  ['Harry', 'Ron', 'Hermione']\n",
        "    return x\n",
        "print(good())"
      ],
      "metadata": {
        "colab": {
          "base_uri": "https://localhost:8080/"
        },
        "id": "PIrBXDdNbWtw",
        "outputId": "36cde66e-e4ba-4c7a-bc47-dae671770085"
      },
      "execution_count": 11,
      "outputs": [
        {
          "output_type": "stream",
          "name": "stdout",
          "text": [
            "['Harry', 'Ron', 'Hermione']\n"
          ]
        }
      ]
    },
    {
      "cell_type": "markdown",
      "source": [
        "**9. Define a generator function called get_odds that returns the odd numbers from range(10). Use a for loop to find and print the third value returned.**"
      ],
      "metadata": {
        "id": "wxql04A0bmaP"
      }
    },
    {
      "cell_type": "code",
      "source": [
        "def get_odds():\n",
        "    output = []\n",
        "    for ele in range(10):\n",
        "        if ele%2 != 0:\n",
        "            output.append(ele)\n",
        "    yield output\n",
        "\n",
        "next(get_odds())[2]"
      ],
      "metadata": {
        "colab": {
          "base_uri": "https://localhost:8080/"
        },
        "id": "SzqW1V2vbpqb",
        "outputId": "714adce4-86a0-40eb-aee3-e014af73fb82"
      },
      "execution_count": 12,
      "outputs": [
        {
          "output_type": "execute_result",
          "data": {
            "text/plain": [
              "5"
            ]
          },
          "metadata": {},
          "execution_count": 12
        }
      ]
    },
    {
      "cell_type": "markdown",
      "source": [
        "**10. Define an exception called OopsException. Raise this exception to see what happens. Then write the code to catch this exception and print 'Caught an oops'.**"
      ],
      "metadata": {
        "id": "35CWqI13b2A-"
      }
    },
    {
      "cell_type": "code",
      "source": [
        "\n",
        "class OopsException(Exception):\n",
        "    pass\n",
        "\n",
        "def raiseException(num):\n",
        "    if num < 0:\n",
        "        raise OopsException(num)\n",
        "\n",
        "try:\n",
        "    raiseException(-1)\n",
        "except OopsException as err:\n",
        "    print('Caught an oops')"
      ],
      "metadata": {
        "colab": {
          "base_uri": "https://localhost:8080/"
        },
        "id": "NqEVH7qxcC9h",
        "outputId": "820a5dbc-1c77-43f2-e99e-7abe02f31c69"
      },
      "execution_count": 13,
      "outputs": [
        {
          "output_type": "stream",
          "name": "stdout",
          "text": [
            "Caught an oops\n"
          ]
        }
      ]
    },
    {
      "cell_type": "markdown",
      "source": [
        "**11. Use zip() to make a dictionary called movies that pairs these lists: titles = ['Creature of Habit', 'Crewel Fate'] and plots = ['A nun turns into a monster', 'A haunted yarn shop'].**"
      ],
      "metadata": {
        "id": "6lQJ7mHCcOWk"
      }
    },
    {
      "cell_type": "code",
      "source": [
        "titles = ['Creature of Habit', 'Crewel Fate']\n",
        "plots = ['A nun turns into a monster', 'A haunted yarn shop']\n",
        "output = dict(zip(titles,plots))\n",
        "print(output)"
      ],
      "metadata": {
        "colab": {
          "base_uri": "https://localhost:8080/"
        },
        "id": "xNgU115ccTIC",
        "outputId": "4c779c6c-abc9-4d03-9d48-27d994c76d53"
      },
      "execution_count": 14,
      "outputs": [
        {
          "output_type": "stream",
          "name": "stdout",
          "text": [
            "{'Creature of Habit': 'A nun turns into a monster', 'Crewel Fate': 'A haunted yarn shop'}\n"
          ]
        }
      ]
    }
  ]
}