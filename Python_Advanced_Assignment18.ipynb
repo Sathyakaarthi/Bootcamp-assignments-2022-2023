{
  "nbformat": 4,
  "nbformat_minor": 0,
  "metadata": {
    "colab": {
      "provenance": [],
      "authorship_tag": "ABX9TyOStsO5F7kb6M0I5KAccLby",
      "include_colab_link": true
    },
    "kernelspec": {
      "name": "python3",
      "display_name": "Python 3"
    },
    "language_info": {
      "name": "python"
    }
  },
  "cells": [
    {
      "cell_type": "markdown",
      "metadata": {
        "id": "view-in-github",
        "colab_type": "text"
      },
      "source": [
        "<a href=\"https://colab.research.google.com/github/Sathyakaarthi/Bootcamp-assignments-2022-2023/blob/main/Python_Advanced_Assignment18.ipynb\" target=\"_parent\"><img src=\"https://colab.research.google.com/assets/colab-badge.svg\" alt=\"Open In Colab\"/></a>"
      ]
    },
    {
      "cell_type": "markdown",
      "source": [
        "**1. Describe the differences between text and binary files in a single paragraph.**\n",
        "\n",
        "*Ans:*\n",
        "\n",
        "**Text files** are special subset of binary files that are used to store human readable characters as a rich text document or plain text document. Text files also store data in sequential bytes but bits in text file represents characters.\n",
        "\n",
        "**Binary files** are those typical files that store data in the form of sequence of bytes grouped into eight bits or sometimes sixteen bits. These bits represent custom data and such files can store multiple types of data (images, audio, text, etc) under a single file."
      ],
      "metadata": {
        "id": "Lcse1FjrjY_n"
      }
    },
    {
      "cell_type": "markdown",
      "source": [
        "**2. What are some scenarios where using text files will be the better option? When would you like to use binary files instead of text files?**\n",
        "\n",
        "*Ans:*\n",
        "\n",
        "Text files are less prone to get corrupted as any undesired change may just show up once the file is opened and then can easily be removed. Whereas Use binary files instead of text files for image data."
      ],
      "metadata": {
        "id": "Wdzktf0xjsSH"
      }
    },
    {
      "cell_type": "markdown",
      "source": [
        "**3. What are some scenarios where using text files will be the better option? When would you like to\n",
        "use binary files instead of text files?**\n",
        "\n",
        "*Ans:*\n",
        "\n",
        "When we read or write a python integer using binary operations\n",
        "\n",
        "1. Binary operations deal with raw data\n",
        "2. One needs to identify how many bytes one would read or write."
      ],
      "metadata": {
        "id": "yewrvXkkj3sM"
      }
    },
    {
      "cell_type": "markdown",
      "source": [
        "**4. Describe a benefit of using the with keyword instead of explicitly opening a file ?**\n",
        "\n",
        "*Ans:*\n",
        "\n",
        "When a file is opened using the with keyword, if some exceptions occur after opening a file, or at the end of the file it automatically does the closing of the file. There by not leaving an file in open mode and there would no need to explicitly close a file."
      ],
      "metadata": {
        "id": "qy3CahTxkExc"
      }
    },
    {
      "cell_type": "markdown",
      "source": [
        "**5. Does Python have the trailing newline while reading a line of text? Does Python append a newline when you write a line of text?**\n",
        "\n",
        "*Ans:*\n",
        "\n",
        "Yes, Python have the trailing newline while reading a line of text. When we write a newline has to be provided in python excpicitly."
      ],
      "metadata": {
        "id": "JXbUlNjFkOPM"
      }
    },
    {
      "cell_type": "markdown",
      "source": [
        "**6. What file operations enable for random-access operation?**\n",
        "\n",
        "*Ans:*\n",
        "\n",
        "The file operations enable for random-access operation are **seek()** and **tell()**"
      ],
      "metadata": {
        "id": "Cv6igGCzkXXj"
      }
    },
    {
      "cell_type": "markdown",
      "source": [
        "**7. When do you think you'll use the struct package the most?**\n",
        "\n",
        "*Ans:*\n",
        "\n",
        "The **struct** package is mostly used while converting a common python types into C language types."
      ],
      "metadata": {
        "id": "x04CnetDkjDQ"
      }
    },
    {
      "cell_type": "markdown",
      "source": [
        "**8. When is pickling the best option?**\n",
        "\n",
        "*Ans:*\n",
        "\n",
        "Pickling is best option for creating a new binary file using python."
      ],
      "metadata": {
        "id": "PdDCfWcRkvB9"
      }
    },
    {
      "cell_type": "markdown",
      "source": [
        "**9. When will it be best to use the shelve package?**\n",
        "\n",
        "*Ans:*\n",
        "\n",
        "**Shelve** package is used to pickle data but treats the entire file as dictionary."
      ],
      "metadata": {
        "id": "kUyWKlBUk7Sl"
      }
    },
    {
      "cell_type": "markdown",
      "source": [
        "**10. What is a special restriction when using the shelve package, as opposed to using other data dictionaries?**\n",
        "\n",
        "*Ans:*\n",
        "\n",
        "Only string data type can be used as key in this special dictionary object, whereas any picklable Python object can be used as value."
      ],
      "metadata": {
        "id": "tPLMKGyilFwz"
      }
    },
    {
      "cell_type": "code",
      "execution_count": null,
      "metadata": {
        "id": "RskTl64WjX2H"
      },
      "outputs": [],
      "source": []
    }
  ]
}