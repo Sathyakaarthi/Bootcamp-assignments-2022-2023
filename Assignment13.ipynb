{
  "nbformat": 4,
  "nbformat_minor": 0,
  "metadata": {
    "colab": {
      "provenance": [],
      "authorship_tag": "ABX9TyMDd9t9jXdC10Y7jAqIpw6q",
      "include_colab_link": true
    },
    "kernelspec": {
      "name": "python3",
      "display_name": "Python 3"
    },
    "language_info": {
      "name": "python"
    }
  },
  "cells": [
    {
      "cell_type": "markdown",
      "metadata": {
        "id": "view-in-github",
        "colab_type": "text"
      },
      "source": [
        "<a href=\"https://colab.research.google.com/github/Sathyakaarthi/Bootcamp-assignments-2022-2023/blob/main/Assignment13.ipynb\" target=\"_parent\"><img src=\"https://colab.research.google.com/assets/colab-badge.svg\" alt=\"Open In Colab\"/></a>"
      ]
    },
    {
      "cell_type": "markdown",
      "source": [
        "**1. What advantages do Excel spreadsheets have over CSV spreadsheets?**\n",
        "\n",
        "*Ans*\n",
        "\n",
        "* Excel (XLS and XLSX) file formats are better for storing more complex data.\n",
        "* It is a binary file that holds information about all the worksheets in a workbook.\n",
        "* An Excel not only stores data but can also do operations on the data.\n",
        "* Files saved in excel cannot be opened or edited by text editors.\n",
        "* Large files user is much easier in Excel for the end user.\n",
        "* Apart from text, data can also be stored in form of charts and graphs.\n",
        "* In Excel, spreadsheets can have values of data types other than strings; cells can have different fonts, sizes, or color settings; cells can have varying widths and heights; adjacent cells can be merged.\n",
        "\n"
      ],
      "metadata": {
        "id": "Lz0_eXMiQIV7"
      }
    },
    {
      "cell_type": "markdown",
      "source": [
        "**2. What do you pass to csv.reader() and csv.writer() to create reader and writer objects?**\n",
        "\n",
        "*Ans:*\n",
        "We pass a file object, obtained from call to open().\n",
        "\n",
        "\n",
        "\n"
      ],
      "metadata": {
        "id": "ErHNxNs5Rtru"
      }
    },
    {
      "cell_type": "markdown",
      "source": [
        "**3. What modes do File objects for reader and writer objects need to be opened in?**\n",
        "\n",
        "*Ans*\n",
        "\n",
        "File objects need to be opened in read-binary ('rb') for Reader objects and write-binary ('wb') for Writer objects.\n"
      ],
      "metadata": {
        "id": "psHLFYO2SSYT"
      }
    },
    {
      "cell_type": "markdown",
      "source": [
        "**4. What method takes a list argument and writes it to a CSV file?**\n",
        "\n",
        "*Ans:* \n",
        "\n",
        "The writerrow() method takes a list argument and writes it to a CSV file.\n",
        "\n"
      ],
      "metadata": {
        "id": "3Y38ub-WS5jg"
      }
    },
    {
      "cell_type": "markdown",
      "source": [
        "**5. What do the keyword arguments delimiter and line terminator do?**\n",
        "\n",
        "*Ans:*\n",
        "\n",
        "* The delimiter argument changes the string used to separate cells in a row.\n",
        "* The line terminator argument changes the string used to separate rows."
      ],
      "metadata": {
        "id": "RxLNdf_rTetL"
      }
    },
    {
      "cell_type": "markdown",
      "source": [
        "**6. What function takes a string of JSON data and returns a Python data structure?**\n",
        "\n",
        "*Ans:*\n",
        "\n",
        "**json.loads()** function takes a string of JSON data and returns a Python data structure."
      ],
      "metadata": {
        "id": "FRxwpWYmT137"
      }
    },
    {
      "cell_type": "markdown",
      "source": [
        "**7. What function takes a Python data structure and returns a string of JSON data?**\n",
        "\n",
        "*Ans:*\n",
        "\n",
        "json.dumps() function takes a Python data structure and returns a string of JSON data.\n",
        "\n"
      ],
      "metadata": {
        "id": "DegWd1i5UIgC"
      }
    },
    {
      "cell_type": "code",
      "execution_count": null,
      "metadata": {
        "id": "YsKWSsdEPkt3"
      },
      "outputs": [],
      "source": []
    }
  ]
}