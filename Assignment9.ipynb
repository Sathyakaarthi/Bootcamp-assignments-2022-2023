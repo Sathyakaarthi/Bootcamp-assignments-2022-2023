{
  "nbformat": 4,
  "nbformat_minor": 0,
  "metadata": {
    "colab": {
      "provenance": [],
      "authorship_tag": "ABX9TyNgCUfTg5kDeI45jYMBjkIk",
      "include_colab_link": true
    },
    "kernelspec": {
      "name": "python3",
      "display_name": "Python 3"
    },
    "language_info": {
      "name": "python"
    }
  },
  "cells": [
    {
      "cell_type": "markdown",
      "metadata": {
        "id": "view-in-github",
        "colab_type": "text"
      },
      "source": [
        "<a href=\"https://colab.research.google.com/github/Sathyakaarthi/Bootcamp-assignments-2022-2023/blob/main/Assignment9.ipynb\" target=\"_parent\"><img src=\"https://colab.research.google.com/assets/colab-badge.svg\" alt=\"Open In Colab\"/></a>"
      ]
    },
    {
      "cell_type": "code",
      "execution_count": null,
      "metadata": {
        "id": "5L3HN_9IFUwc"
      },
      "outputs": [],
      "source": []
    },
    {
      "cell_type": "markdown",
      "source": [
        "**1. To what does a relative path refer?**\n",
        "\n",
        "*Ans:*\n",
        "\n",
        "* Relative paths are relative to the current working directory.\n",
        "\n",
        "* We can use relative paths to access files or directories with respect to the current working directory or the script's location.\n"
      ],
      "metadata": {
        "id": "3Ct6OhEYFhNq"
      }
    },
    {
      "cell_type": "markdown",
      "source": [
        "**2. What does an absolute path start with your operating system?**\n",
        "\n",
        "*Ans:*\n",
        "\n",
        "An absolute path is defined as the specifying the location of a file or directory from the root directory(/). In other words we can say absolute path is a complete path from start of actual filesystem from / directory."
      ],
      "metadata": {
        "id": "vNwv2EOPHBZA"
      }
    },
    {
      "cell_type": "markdown",
      "source": [
        "**3. What do the functions os.getcwd() and os.chdir() do?**\n",
        "\n",
        "*Ans:*\n",
        "\n",
        "* **os.getcwd()** returns current working directory of a process.\n",
        "\n",
        "* **os.chdir()** method in Python used to change the current working directory to specified path.\n",
        "\n"
      ],
      "metadata": {
        "id": "F0dkv-c2H0Ym"
      }
    },
    {
      "cell_type": "markdown",
      "source": [
        "**4. What are the . and .. folders?**\n",
        "\n",
        "*Ans:*\n",
        "\n",
        " * The . folder is the current folder\n",
        " * The .. is the parent folder.\n",
        "\n",
        "\n"
      ],
      "metadata": {
        "id": "sNSIXbL4Ixm8"
      }
    },
    {
      "cell_type": "markdown",
      "source": [
        "**5. In C:\\bacon\\eggs\\spam.txt, which part is the dir name, and which part is the base name?**\n",
        "\n",
        "*Ans:*\n",
        "\n",
        "* C:\\bacon\\eggs is the dir name.\n",
        "* spam. txt is the base name.\n",
        "\n"
      ],
      "metadata": {
        "id": "uHnqwfS2Jh5I"
      }
    },
    {
      "cell_type": "markdown",
      "source": [
        "**6. What are the three “mode” arguments that can be passed to the open() function?**\n",
        "\n",
        "*Ans:*\n",
        "\n",
        "* \"r\" :  This string is used to read the file. \n",
        "* \"w\" : This string is used for writing on the file. \n",
        "* \"a\" : This string is used to add(append) content to an existing file. \n"
      ],
      "metadata": {
        "id": "jSNke7vkKLq9"
      }
    },
    {
      "cell_type": "markdown",
      "source": [
        "**8. What happens if an existing file is opened in write mode?**\n",
        "\n",
        "*Ans:*\n",
        "\n",
        "If an existing file is opened in write mode, it is erased and completely overwritten.\n",
        "\n",
        "\n",
        "\n"
      ],
      "metadata": {
        "id": "IZTwOsNKLRdJ"
      }
    },
    {
      "cell_type": "markdown",
      "source": [
        "**9. How do you tell the difference between read() and readlines()?**\n",
        "\n",
        "*Ans:*\n",
        "\n",
        "* read()      - returns the file's entire contents as a single string value. \n",
        "* readlines() - returns a list of strings, where each string is a line from the file's contents.\n",
        "\n"
      ],
      "metadata": {
        "id": "2el2ag36Mi43"
      }
    },
    {
      "cell_type": "markdown",
      "source": [
        "**9. What data structure does a shelf value resemble?**\n",
        "\n",
        "*Ans:*\n",
        "\n",
        "A shelf value resembles a dictionary value. It has keys and values, along with keys() and values() methods that work similarly to the dictionary methods of the same names."
      ],
      "metadata": {
        "id": "kftrM66fOfA_"
      }
    }
  ]
}