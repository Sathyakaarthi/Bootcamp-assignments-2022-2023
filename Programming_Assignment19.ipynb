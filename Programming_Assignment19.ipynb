{
  "nbformat": 4,
  "nbformat_minor": 0,
  "metadata": {
    "colab": {
      "provenance": [],
      "authorship_tag": "ABX9TyPWinAAmwOJkUIlrG445ux9",
      "include_colab_link": true
    },
    "kernelspec": {
      "name": "python3",
      "display_name": "Python 3"
    },
    "language_info": {
      "name": "python"
    }
  },
  "cells": [
    {
      "cell_type": "markdown",
      "metadata": {
        "id": "view-in-github",
        "colab_type": "text"
      },
      "source": [
        "<a href=\"https://colab.research.google.com/github/Sathyakaarthi/Bootcamp-assignments-2022-2023/blob/main/Programming_Assignment19.ipynb\" target=\"_parent\"><img src=\"https://colab.research.google.com/assets/colab-badge.svg\" alt=\"Open In Colab\"/></a>"
      ]
    },
    {
      "cell_type": "markdown",
      "source": [
        "**Question 1**\n",
        "\n",
        "Create a function that takes a string and returns a string in which each character is repeated\n",
        "once.\n",
        "\n",
        "Examples\n",
        "\n",
        "double_char(&quot;String&quot;) ➞ &quot;SSttrriinngg&quot;\n",
        "\n",
        "double_char(&quot;Hello World!&quot;) ➞ &quot;HHeelllloo WWoorrlldd!!&quot;\n",
        "\n",
        "double_char(&quot;1234!_ &quot;) ➞ &quot;11223344!!__ &quot;\n"
      ],
      "metadata": {
        "id": "rIPlCKoC16SE"
      }
    },
    {
      "cell_type": "code",
      "execution_count": 3,
      "metadata": {
        "colab": {
          "base_uri": "https://localhost:8080/"
        },
        "id": "m6RCsejK14wQ",
        "outputId": "20d78e46-c4b4-4275-a5c2-e39bd6b83390"
      },
      "outputs": [
        {
          "output_type": "stream",
          "name": "stdout",
          "text": [
            "double_char(\"String\") ➞ SSttrriinngg\n",
            "double_char(\"Hello World!\") ➞ HHeelllloo  WWoorrlldd!!\n",
            "double_char(\"1234!_ \") ➞ 11223344!!__\n"
          ]
        }
      ],
      "source": [
        "\n",
        "def DoubleChar(instring):\n",
        "    outstring = ''\n",
        "    for ele in instring:\n",
        "        outstring += ele*2\n",
        "    return outstring\n",
        "\n",
        "print(f'double_char(\"String\") ➞ {DoubleChar(\"String\")}')\n",
        "print(f'double_char(\"Hello World!\") ➞ {DoubleChar(\"Hello World!\")}')\n",
        "print(f'double_char(\"1234!_ \") ➞ {DoubleChar(\"1234!_\")}')"
      ]
    },
    {
      "cell_type": "markdown",
      "source": [
        "**Question 2**\n",
        "\n",
        "Create a function that reverses a boolean value and returns the string &quot;boolean expected&quot;\n",
        "if another variable type is given.\n",
        "\n",
        "Examples\n",
        "\n",
        "reverse(True) ➞ False\n",
        "\n",
        "reverse(False) ➞ True\n",
        "\n",
        "reverse(0) ➞ &quot;boolean expected&quot;\n",
        "\n",
        "reverse(None) ➞ &quot;boolean expected&quot;"
      ],
      "metadata": {
        "id": "wLgYgXij2jP0"
      }
    },
    {
      "cell_type": "code",
      "source": [
        "def reverse(in_bool):\n",
        "    if type(in_bool) == bool:\n",
        "        return not in_bool\n",
        "    else:\n",
        "        return \"Boolean Expected\"\n",
        "\n",
        "print(f'reverse(True) ➞ {reverse(True)}')\n",
        "print(f'reverse(False) ➞ {reverse(False)}')\n",
        "print(f'reverse(0) ➞ {reverse(0)}')\n",
        "print(f'reverse(None) ➞ {reverse(None)}')"
      ],
      "metadata": {
        "colab": {
          "base_uri": "https://localhost:8080/"
        },
        "id": "BlorXlcG2pX1",
        "outputId": "5b24d10b-1790-496c-b17b-81b52fd57b53"
      },
      "execution_count": 4,
      "outputs": [
        {
          "output_type": "stream",
          "name": "stdout",
          "text": [
            "reverse(True) ➞ False\n",
            "reverse(False) ➞ True\n",
            "reverse(0) ➞ Boolean Expected\n",
            "reverse(None) ➞ Boolean Expected\n"
          ]
        }
      ]
    },
    {
      "cell_type": "markdown",
      "source": [
        "**Question 3**\n",
        "\n",
        "Create a function that returns the thickness (in meters) of a piece of paper after folding it n\n",
        "number of times. The paper starts off with a thickness of 0.5mm.\n",
        "\n",
        "Examples\n",
        "\n",
        "num_layers(1) ➞ &quot;0.001m&quot;\n",
        "\n",
        "Paper folded once is 1mm (equal to 0.001m)\n",
        "\n",
        "num_layers(4) ➞ &quot;0.008m&quot;\n",
        "\n",
        "Paper folded 4 times is 8mm (equal to 0.008m)\n",
        "\n",
        "num_layers(21) ➞ &quot;1048.576m&quot;\n",
        "\n",
        "Paper folded 21 times is 1048576mm (equal to 1048.576m)"
      ],
      "metadata": {
        "id": "xnRH8HqI2vyH"
      }
    },
    {
      "cell_type": "code",
      "source": [
        "def num_layers(in_num):\n",
        "    out_num = 0.5\n",
        "    for ele in range(in_num):\n",
        "        out_num *= 2\n",
        "    print(f'{out_num/1000}m')\n",
        "num_layers(1)\n",
        "num_layers(4)\n",
        "num_layers(21)"
      ],
      "metadata": {
        "colab": {
          "base_uri": "https://localhost:8080/"
        },
        "id": "EDLlc5Ei27-B",
        "outputId": "265b67f2-4cc6-4f66-8474-945304aa3380"
      },
      "execution_count": 9,
      "outputs": [
        {
          "output_type": "stream",
          "name": "stdout",
          "text": [
            "0.001m\n",
            "0.008m\n",
            "1048.576m\n"
          ]
        }
      ]
    },
    {
      "cell_type": "markdown",
      "source": [
        "**Question 4**\n",
        "\n",
        "Create a function that takes a single string as argument and returns an ordered list containing\n",
        "the indices of all capital letters in the string.\n",
        "\n",
        "Examples\n",
        "\n",
        "index_of_caps(&quot;eDaBiT&quot;) ➞ [1, 3, 5]\n",
        "\n",
        "index_of_caps(&quot;eQuINoX&quot;) ➞ [1, 3, 4, 6]\n",
        "\n",
        "index_of_caps(&quot;determine&quot;) ➞ []\n",
        "\n",
        "index_of_caps(&quot;STRIKE&quot;) ➞ [0, 1, 2, 3, 4, 5]\n",
        "\n",
        "index_of_caps(&quot;sUn&quot;) ➞ [1]"
      ],
      "metadata": {
        "id": "tlTQ7pku36GD"
      }
    },
    {
      "cell_type": "code",
      "source": [
        "def IndexOfCaps(in_string):\n",
        "    out_string = []\n",
        "    for ele in in_string:\n",
        "        if ele.isupper():\n",
        "            out_string.append(in_string.index(ele))\n",
        "    print(f'{in_string} ➞ {out_string}')\n",
        "\n",
        "IndexOfCaps(\"eDaBiT\")\n",
        "IndexOfCaps(\"eQuINoX\")\n",
        "IndexOfCaps(\"determine\")\n",
        "IndexOfCaps(\"STRIKE\")\n",
        "IndexOfCaps(\"sUn\")"
      ],
      "metadata": {
        "colab": {
          "base_uri": "https://localhost:8080/"
        },
        "id": "gCwaILJX4Ili",
        "outputId": "78d3e183-12c9-4ecd-db9a-35314f4336a0"
      },
      "execution_count": 10,
      "outputs": [
        {
          "output_type": "stream",
          "name": "stdout",
          "text": [
            "eDaBiT ➞ [1, 3, 5]\n",
            "eQuINoX ➞ [1, 3, 4, 6]\n",
            "determine ➞ []\n",
            "STRIKE ➞ [0, 1, 2, 3, 4, 5]\n",
            "sUn ➞ [1]\n"
          ]
        }
      ]
    },
    {
      "cell_type": "markdown",
      "source": [
        "**Question 5**\n",
        "\n",
        "Using list comprehensions, create a function that finds all even numbers from 1 to the given\n",
        "number.\n",
        "\n",
        "Examples\n",
        "\n",
        "find_even_nums(8) ➞ [2, 4, 6, 8]\n",
        "\n",
        "find_even_nums(4) ➞ [2, 4]\n",
        "\n",
        "find_even_nums(2) ➞ [2]"
      ],
      "metadata": {
        "id": "KJVlEgTp4XvD"
      }
    },
    {
      "cell_type": "code",
      "source": [
        "def EvenNums(in_num):\n",
        "\n",
        "    out_list = [i for i in range(1,in_num+1) if i%2 == 0]\n",
        "    #print(f'Output ➞ {out_list}')\n",
        "    print(f' ➞ {out_list}')\n",
        "EvenNums(8)\n",
        "EvenNums(4)\n",
        "EvenNums(2)"
      ],
      "metadata": {
        "colab": {
          "base_uri": "https://localhost:8080/"
        },
        "id": "F7QhYPqn4ds0",
        "outputId": "3c3f8f98-09a6-48db-9d69-44c8a2aea1bf"
      },
      "execution_count": 16,
      "outputs": [
        {
          "output_type": "stream",
          "name": "stdout",
          "text": [
            " ➞ [2, 4, 6, 8]\n",
            " ➞ [2, 4]\n",
            " ➞ [2]\n"
          ]
        }
      ]
    }
  ]
}