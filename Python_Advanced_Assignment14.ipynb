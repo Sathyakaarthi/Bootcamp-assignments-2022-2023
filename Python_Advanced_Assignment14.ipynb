{
  "nbformat": 4,
  "nbformat_minor": 0,
  "metadata": {
    "colab": {
      "provenance": [],
      "authorship_tag": "ABX9TyMxpwpmqfB4gZbGVfjq74Qw",
      "include_colab_link": true
    },
    "kernelspec": {
      "name": "python3",
      "display_name": "Python 3"
    },
    "language_info": {
      "name": "python"
    }
  },
  "cells": [
    {
      "cell_type": "markdown",
      "metadata": {
        "id": "view-in-github",
        "colab_type": "text"
      },
      "source": [
        "<a href=\"https://colab.research.google.com/github/Sathyakaarthi/Bootcamp-assignments-2022-2023/blob/main/Python_Advanced_Assignment14.ipynb\" target=\"_parent\"><img src=\"https://colab.research.google.com/assets/colab-badge.svg\" alt=\"Open In Colab\"/></a>"
      ]
    },
    {
      "cell_type": "markdown",
      "source": [
        "**1. Is an assignment operator like += only for show? Is it possible that it would lead to faster results at the runtime ?**\n",
        "\n",
        "*Ans:*\n",
        "\n",
        "A=A+1 evaluates to finding A, adding 1 to it. Then storing the value again in variable A. This expression makes Python to look for memory holder of a twice. But A+=1 simply means value of A is to incremented by 1. As memory address has to be identified once, += leads to faster operation."
      ],
      "metadata": {
        "id": "5axYKmE_qLUy"
      }
    },
    {
      "cell_type": "markdown",
      "source": [
        "**2. What is the smallest no of statements you'd have to write in most programming languages to replace the Python expr a, b = a + b, a ?**\n",
        "\n",
        "*Ans:*\n",
        "\n",
        "Minimum number of lines required to write above code in languages other Python will be 4, two for assigning initial values for variables a and b, and two for reassignment i.e. a=a+b and b=a."
      ],
      "metadata": {
        "id": "zlkOVVDUqWX_"
      }
    },
    {
      "cell_type": "markdown",
      "source": [
        "**3. In Python, what is the most effective way to set a list of 100 integers to 0?**\n",
        "\n",
        "*Ans:*\n",
        "\n",
        "The Most effective way to set a list of 100 integers to 0 in python is by using repition operator(*) or by using list comprehension."
      ],
      "metadata": {
        "id": "eocKhWoqqgng"
      }
    },
    {
      "cell_type": "markdown",
      "source": [
        "**4. What is the most effective way to initialise a list of 99 integers that repeats the sequence 1, 2, 3? S If necessary, show step-by-step instructions on how to accomplish this.**\n"
      ],
      "metadata": {
        "id": "UXxymIMpqxhK"
      }
    },
    {
      "cell_type": "code",
      "source": [
        "my_list = [1,2,3]*33\n",
        "print(my_list)"
      ],
      "metadata": {
        "colab": {
          "base_uri": "https://localhost:8080/"
        },
        "id": "qdgEpVNDrOiq",
        "outputId": "f8655fed-f2b8-4759-fab3-da8b8135a639"
      },
      "execution_count": null,
      "outputs": [
        {
          "output_type": "stream",
          "name": "stdout",
          "text": [
            "[1, 2, 3, 1, 2, 3, 1, 2, 3, 1, 2, 3, 1, 2, 3, 1, 2, 3, 1, 2, 3, 1, 2, 3, 1, 2, 3, 1, 2, 3, 1, 2, 3, 1, 2, 3, 1, 2, 3, 1, 2, 3, 1, 2, 3, 1, 2, 3, 1, 2, 3, 1, 2, 3, 1, 2, 3, 1, 2, 3, 1, 2, 3, 1, 2, 3, 1, 2, 3, 1, 2, 3, 1, 2, 3, 1, 2, 3, 1, 2, 3, 1, 2, 3, 1, 2, 3, 1, 2, 3, 1, 2, 3, 1, 2, 3, 1, 2, 3]\n"
          ]
        }
      ]
    },
    {
      "cell_type": "markdown",
      "source": [
        "**5. If you're using IDLE to run a Python application, explain how to print a multidimensional list as efficiently?**"
      ],
      "metadata": {
        "id": "L6gBwS2VrVCe"
      }
    },
    {
      "cell_type": "code",
      "execution_count": null,
      "metadata": {
        "colab": {
          "base_uri": "https://localhost:8080/"
        },
        "id": "qKyVlpeiqE08",
        "outputId": "3b63053b-fc61-40cd-8123-a3a026cc6f3b"
      },
      "outputs": [
        {
          "output_type": "stream",
          "name": "stdout",
          "text": [
            "1 1 2 2 3 3 4 4 5 5 "
          ]
        }
      ],
      "source": [
        "my_list = [[1,1],[2,2],[3,3],[4,4],[5,5]]\n",
        "for x in range(len(my_list)):\n",
        "    for y in range(len(my_list[x])):\n",
        "        print(my_list[x][y],end=\" \")"
      ]
    },
    {
      "cell_type": "markdown",
      "source": [
        "**6. Is it possible to use list comprehension with a string? If so, how can you go about doing it?**\n",
        "\n",
        "*Ans:*\n",
        "\n",
        "List comprehension with string is possible.\n"
      ],
      "metadata": {
        "id": "jsDGEn-Trfnf"
      }
    },
    {
      "cell_type": "code",
      "source": [
        "my_list = [ele for ele in 'Python']\n",
        "print(my_list)"
      ],
      "metadata": {
        "colab": {
          "base_uri": "https://localhost:8080/"
        },
        "id": "rX9o2yGfryWA",
        "outputId": "cc425499-7925-43d6-a2dd-6ec145006e66"
      },
      "execution_count": null,
      "outputs": [
        {
          "output_type": "stream",
          "name": "stdout",
          "text": [
            "['P', 'y', 't', 'h', 'o', 'n']\n"
          ]
        }
      ]
    },
    {
      "cell_type": "markdown",
      "source": [
        "**7. From the command line, how do you get support with a user-written Python programme? Is this possible from inside IDLE?**\n",
        "\n",
        "*Ans:*\n",
        "\n",
        "**Get support with a user-written Python Programme:** Start a command prompt (Windows) or terminal window (Linux/Mac). If the current working directory is the same as the location in which you saved the file, you can simply specify the filename as a command-line argument to the Python interpreter.\n",
        "\n",
        "**Get support with a User-written Python Program from IDLE:** You can also create script files and run them in IDLE. From the Shell window menu, select File → New File. That should open an additional editing window. Type in the code to be executed. From the menu in that window, select File → Save or File → Save As… and save the file to disk. Then select Run → Run Module. The output should appear back in the interpreter"
      ],
      "metadata": {
        "id": "UfKVOdPzr2Hr"
      }
    },
    {
      "cell_type": "markdown",
      "source": [
        "**8. Functions are said to be “first-class objects” in Python but not in most other languages, such as C++ or Java. What can you do in Python with a function (callable object) that you can't do in C or C++?**\n",
        "\n",
        "*Ans:*\n",
        "\n",
        " The tasks which can be performed with the functions in python are:\n",
        "\n",
        "* A function is an instance of the Object type.\n",
        "* You can store the function in a variable.\n",
        "* You can pass the function as a parameter to another function.\n",
        "* You can return the function from a function.\n",
        "* You can store them in data structures such as hash tables, lists."
      ],
      "metadata": {
        "id": "UahsuAAfsWPP"
      }
    },
    {
      "cell_type": "markdown",
      "source": [
        "**9. How do you distinguish between a wrapper, a wrapped feature, and a decorator?**\n",
        "\n",
        "*Ans:*\n",
        "\n",
        "Wrappers Around the functions are known as Decrators."
      ],
      "metadata": {
        "id": "Qr6U0akbssv4"
      }
    },
    {
      "cell_type": "markdown",
      "source": [
        "**10.  If a function is a generator function, what does it return?**\n",
        "\n",
        "*Ans:*\n",
        "\n",
        "Generator functions are a special kind of function that return a lazy iterator. These are objects that you can loop over like a list. However, unlike lists, lazy iterators do not store their contents in memory."
      ],
      "metadata": {
        "id": "RAfShNM9s6gW"
      }
    },
    {
      "cell_type": "markdown",
      "source": [
        "**11. What is the one improvement that must be made to a function in order for it to become a generator function in the Python language?**\n",
        "\n",
        "*Ans:*\n",
        "\n",
        "Generator is a written as normal function but uses **yield** keyword to return values instead of **return** keyword."
      ],
      "metadata": {
        "id": "7rWKyxxJtDR0"
      }
    },
    {
      "cell_type": "markdown",
      "source": [
        "**12.  Identify at least one benefit of generators.**\n",
        "\n",
        "*Ans:*\n",
        "\n",
        "**return** statement sends a specified value back to its caller whereas **yield **statment can produce a sequence of values. We should use generator when we want to iterate over a sequence, but don't want to store the entire sequence in memory."
      ],
      "metadata": {
        "id": "RiwQZWFhtWdZ"
      }
    }
  ]
}