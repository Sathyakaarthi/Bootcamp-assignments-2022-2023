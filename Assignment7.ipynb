{
  "nbformat": 4,
  "nbformat_minor": 0,
  "metadata": {
    "colab": {
      "provenance": [],
      "authorship_tag": "ABX9TyOM9nVO45NLYQReBnmD/rEp",
      "include_colab_link": true
    },
    "kernelspec": {
      "name": "python3",
      "display_name": "Python 3"
    },
    "language_info": {
      "name": "python"
    }
  },
  "cells": [
    {
      "cell_type": "markdown",
      "metadata": {
        "id": "view-in-github",
        "colab_type": "text"
      },
      "source": [
        "<a href=\"https://colab.research.google.com/github/Sathyakaarthi/Bootcamp-assignments-2022-2023/blob/main/Assignment7.ipynb\" target=\"_parent\"><img src=\"https://colab.research.google.com/assets/colab-badge.svg\" alt=\"Open In Colab\"/></a>"
      ]
    },
    {
      "cell_type": "markdown",
      "source": [
        "**1. What is the name of the feature responsible for generating Regex objects?**\n",
        "\n",
        "**Ans:** The name of the feature responsible for generating Regex objects is re.compile() function"
      ],
      "metadata": {
        "id": "ePsFLVzBQyTn"
      }
    },
    {
      "cell_type": "markdown",
      "source": [
        "**2. Why do raw strings often appear in Regex objects?**\n",
        "\n",
        "**Ans:** Raw strings are used so that backslashes do not have to be escaped."
      ],
      "metadata": {
        "id": "8ggVeRvjRm5b"
      }
    },
    {
      "cell_type": "markdown",
      "source": [
        "**3. What is the return value of the search() method?**\n",
        "\n",
        "Ans: \n",
        "\n",
        "The search() method returns the index (position) of the first match. The search() method is case sensitive."
      ],
      "metadata": {
        "id": "bfFPncyESMEI"
      }
    },
    {
      "cell_type": "code",
      "source": [
        "import re\n",
        "\n",
        "message = \"This is my 7th assignment\"\n",
        "a = re.search(\"m\", message)\n",
        "\n",
        "print(\"The first m character is located in position:\", a.start()) \n",
        "type(a)"
      ],
      "metadata": {
        "colab": {
          "base_uri": "https://localhost:8080/"
        },
        "id": "VBI6brKo94rS",
        "outputId": "2ac2984a-477e-498f-e42f-2603c423a056"
      },
      "execution_count": 3,
      "outputs": [
        {
          "output_type": "stream",
          "name": "stdout",
          "text": [
            "The first m character is located in position: 8\n"
          ]
        },
        {
          "output_type": "execute_result",
          "data": {
            "text/plain": [
              "re.Match"
            ]
          },
          "metadata": {},
          "execution_count": 3
        }
      ]
    },
    {
      "cell_type": "markdown",
      "source": [
        "**4.From a Match item, how do you get the actual strings that match the pattern?**\n",
        "\n",
        "*Ans:*\n",
        "\n",
        "Call the Match object's **group()** method to return a string of the actual matched text.\n",
        "\n"
      ],
      "metadata": {
        "id": "dNLisl3d_Rg1"
      }
    },
    {
      "cell_type": "markdown",
      "source": [
        "**5. In the regex which created from the r'(\\d\\d\\d)-(\\d\\d\\d-\\d\\d\\d\\d)', what does group zero cover? Group 2? Group 1?**\n",
        "\n",
        "*Ans:*\n",
        "\n",
        "Group 0 is the entire match, group 1 covers the first set of parentheses, and group 2 covers the second set of parentheses.\n",
        "\n",
        "\n",
        "\n"
      ],
      "metadata": {
        "id": "e3ptb4R7AlKw"
      }
    },
    {
      "cell_type": "markdown",
      "source": [
        "**6. In standard expression syntax, parentheses and intervals have distinct meanings. How can you tell a regex that you want it to fit real parentheses and periods?**\n",
        "\n",
        "*Ans:*\n",
        "\n",
        "Periods and parentheses can be escaped with a backslash:\\"
      ],
      "metadata": {
        "id": "_ASffIy8B2cf"
      }
    },
    {
      "cell_type": "markdown",
      "source": [
        "**7. The findall() method returns a string list or a list of string tuples. What causes it to return one of the two options?**\n",
        "\n",
        "*Ans*\n",
        "\n",
        "* If the pattern has no capturing groups, the findall() function returns a list of strings that match the whole pattern.\n",
        "* If the pattern has one capturing group, the findall() function returns a list of strings that match the group."
      ],
      "metadata": {
        "id": "SoWURez_EGuI"
      }
    },
    {
      "cell_type": "markdown",
      "source": [
        "**8. In standard expressions, what does the | character mean?**\n",
        "\n",
        "*Ans:*\n",
        "\n",
        "The | character signifies matching \"either, or\" between two groups.\n",
        "\n",
        "\n",
        "\n"
      ],
      "metadata": {
        "id": "YeTWeJY2EU1x"
      }
    },
    {
      "cell_type": "code",
      "execution_count": null,
      "metadata": {
        "id": "Fj2YrPwSQWgt"
      },
      "outputs": [],
      "source": [
        "\n"
      ]
    },
    {
      "cell_type": "markdown",
      "source": [
        "**9. In regular expressions, what does the character stand for?**\n",
        "\n",
        "*Ans:*\n",
        "\n",
        "The ? character can either mean \"match zero or one of the preceding group\" or be used to signify nongreedy matching."
      ],
      "metadata": {
        "id": "ddHxjgBUGcR4"
      }
    },
    {
      "cell_type": "markdown",
      "source": [
        "**10. In regular expressions, what is the difference between the + and * characters?**\n",
        "\n",
        "*Ans:*\n",
        "\n",
        "* The *  means zero-or-more, and + means one-or-more.\n",
        "* the star quantifier(*) **bold text** means that the preceding expression can match zero or more times it is like {0,} while the **plus quantifier(+)** indicate that the preceding expression MUST match at least one time or multiple times and it is the same as {1,} .\n",
        "\n"
      ],
      "metadata": {
        "id": "qIgJATXsHoni"
      }
    },
    {
      "cell_type": "markdown",
      "source": [
        "**11. What is the difference between {4} and {4,5} in regular expression?**\n",
        "\n",
        "*Ans:*\n",
        "\n",
        "* The {4} matches exactly three instances of the preceding group. \n",
        "\n",
        "* The {4,5} matches between four and five instances.\n",
        "\n",
        "\n",
        "\n"
      ],
      "metadata": {
        "id": "HwHGKYbeKE__"
      }
    },
    {
      "cell_type": "markdown",
      "source": [
        "**12. What do you mean by the \\d, \\w, and \\s shorthand character classes signify in regular expressions?**\n",
        "\n",
        "*Ans*\n",
        "The \\d, \\w, and \\s shorthand character classes match a single character digit, word, or space character, respectively.\n",
        "\n"
      ],
      "metadata": {
        "id": "AMoB7gyOK-6i"
      }
    },
    {
      "cell_type": "markdown",
      "source": [
        "**13. What do means by \\D, \\W, and \\S shorthand character classes signify in regular expressions?**\n",
        "\n",
        "*Ans:*\n",
        "\n",
        "The \\D, \\W, and \\S shorthand character classes match a single character that is not a digit, word, or space character, respectively."
      ],
      "metadata": {
        "id": "U-CS_9y7MV8u"
      }
    },
    {
      "cell_type": "markdown",
      "source": [
        "**14. What is the difference between .* and .*? ?**\n",
        "\n",
        "*Ans:*\n",
        "\n",
        " * The * is a greedy quantifier, which means that it will match as many letters possible. \n",
        "  \n",
        " * The *? is a non greedy quantifier, it will match the smallest number of letters possible."
      ],
      "metadata": {
        "id": "RBbdiwOkMywf"
      }
    },
    {
      "cell_type": "markdown",
      "source": [
        "**15.What is the syntax for matching both numbers and lowercase letters with a character class?**\n",
        "\n",
        "*Ans:*\n",
        "\n",
        "[0-9a-z] or  [a-z0-9]\n",
        "\n"
      ],
      "metadata": {
        "id": "n0o_hND3NN9x"
      }
    },
    {
      "cell_type": "markdown",
      "source": [
        "**16. What is the procedure for making a normal expression in regex case insensitive?**\n",
        "\n",
        "*Ans:*\n",
        "\n",
        "Passing re.I or re.IGNORECASE as the second argument to re.compile() will make the matching case insensitive.\n",
        "\n"
      ],
      "metadata": {
        "id": "JJ-0OVx4ONkV"
      }
    },
    {
      "cell_type": "markdown",
      "source": [
        "**17. What does the . character normally match? What does it match if re.DOTALL is passed as 2nd argument in re.compile()?*\n",
        "\n",
        "*Ans:*\n",
        "\n",
        "The . character normally matches any character except the newline character. If re. DOTALL is passed as the second argument to re. compile(), then the dot will also match newline characters.\n",
        "\n"
      ],
      "metadata": {
        "id": "7iExwk5RO1-X"
      }
    },
    {
      "cell_type": "markdown",
      "source": [],
      "metadata": {
        "id": "hm73amY6QwrK"
      }
    },
    {
      "cell_type": "markdown",
      "source": [
        "**18. If numRegex = re.compile(r'\\d+'), what will numRegex.sub('X', '11 drummers, 10 pipers, five rings, 4 hen') return?**\n",
        "\n"
      ],
      "metadata": {
        "id": "L-A-0SUhPZn3"
      }
    },
    {
      "cell_type": "code",
      "source": [
        "import re\n",
        "numRegex = re.compile(r'\\d+')\n",
        "numRegex.sub('X', '11 drummers, 10 pipers, five rings, 4 hen')"
      ],
      "metadata": {
        "colab": {
          "base_uri": "https://localhost:8080/",
          "height": 36
        },
        "id": "mT2xK_foPo5F",
        "outputId": "339c0df1-5f03-435e-fabf-1f5561f7bc4c"
      },
      "execution_count": 4,
      "outputs": [
        {
          "output_type": "execute_result",
          "data": {
            "text/plain": [
              "'X drummers, X pipers, five rings, X hen'"
            ],
            "application/vnd.google.colaboratory.intrinsic+json": {
              "type": "string"
            }
          },
          "metadata": {},
          "execution_count": 4
        }
      ]
    },
    {
      "cell_type": "markdown",
      "source": [
        "**19. What does passing re.VERBOSE as the 2nd argument to re.compile() allow to do?**\n",
        "\n",
        "*Ans:*\n",
        "\n",
        "re.VERBOSE : This flag allows you to write regular expressions that look nicer and are more readable by allowing you to visually separate logical sections of the pattern and add comments.\n",
        "\n"
      ],
      "metadata": {
        "id": "nt1IYHJ9Puoe"
      }
    },
    {
      "cell_type": "markdown",
      "source": [
        "**20. How would you write a regex that match a number with comma for every three digits? It must match the given following:**\n",
        "\n",
        "* '42'\n",
        "\n",
        "* '1,234'\n",
        "\n",
        "* '6,368,745'\n",
        "\n",
        "but not the following:\n",
        "\n",
        "* '12,34,567' (which has only two digits between the commas)\n",
        "\n",
        "* '1234' (which lacks commas) \n",
        "\n",
        "*Ans:*\n",
        "\n",
        "re.compile(r'^\\d{1,3}(,\\d{3})*$') will create this regex, but other regex strings can produce a similar regular expression.\n",
        "\n"
      ],
      "metadata": {
        "id": "Hmh4MXmpQZl3"
      }
    },
    {
      "cell_type": "markdown",
      "source": [
        "**21. How would you write a regex that matches the full name of someone whose last name is Watanabe? You can assume that the first name that comes before it will always be one word that begins with a capital letter. The regex must match the following:**\n",
        "\n",
        "* 'Haruto Watanabe'\n",
        "\n",
        "* 'Alice Watanabe'\n",
        "\n",
        "* 'RoboCop Watanabe'\n",
        "\n",
        "but not the following:\n",
        "\n",
        "* 'haruto Watanabe' (where the first name is not capitalized)\n",
        "\n",
        "* 'Mr. Watanabe' (where the preceding word has a nonletter character)\n",
        "\n",
        "* 'Watanabe' (which has no first name)\n",
        "\n",
        "* 'Haruto watanabe' (where Watanabe is not capitalized)\n",
        "\n",
        "*Ans:*\n",
        "\n",
        "re.compile(r'[A-Z][a-z]*\\sNakamoto')\n",
        "\n"
      ],
      "metadata": {
        "id": "L6B1xWKBRhsk"
      }
    },
    {
      "cell_type": "markdown",
      "source": [
        "**22. How would you write a regex that matches a sentence where the first word is either Alice, Bob, or Carol; the second word is either eats, pets, or throws; the third word is apples, cats, or baseballs; and the sentence ends with a period? This regex should be case-insensitive. It must match the following:**\n",
        "\n",
        "* 'Alice eats apples.'\n",
        "\n",
        "* 'Bob pets cats.'\n",
        "\n",
        "* 'Carol throws baseballs.'\n",
        "\n",
        "* 'Alice throws Apples.'\n",
        "\n",
        "* 'BOB EATS CATS.'\n",
        "\n",
        "but not the following:\n",
        "\n",
        "* 'RoboCop eats apples.'\n",
        "\n",
        "* 'ALICE THROWS FOOTBALLS.'\n",
        "\n",
        "* 'Carol eats 7 cats.'\n",
        "\n",
        "*Ans:*\n",
        "\n",
        "re.compile(r'(Alice|Bob|Carol)\\s(eats|pets|throws)\\s(apples|cats|baseballs).', re.IGNORECASE)\n",
        "\n"
      ],
      "metadata": {
        "id": "c6NmH5oFSPAU"
      }
    }
  ]
}