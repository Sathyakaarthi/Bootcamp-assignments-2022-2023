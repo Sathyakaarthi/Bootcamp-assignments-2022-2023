{
  "nbformat": 4,
  "nbformat_minor": 0,
  "metadata": {
    "colab": {
      "provenance": [],
      "authorship_tag": "ABX9TyNSXFS+eRyMJ06xYgyisV+e",
      "include_colab_link": true
    },
    "kernelspec": {
      "name": "python3",
      "display_name": "Python 3"
    },
    "language_info": {
      "name": "python"
    }
  },
  "cells": [
    {
      "cell_type": "markdown",
      "metadata": {
        "id": "view-in-github",
        "colab_type": "text"
      },
      "source": [
        "<a href=\"https://colab.research.google.com/github/Sathyakaarthi/Bootcamp-assignments-2022-2023/blob/main/Preplacement_Assignment14.ipynb\" target=\"_parent\"><img src=\"https://colab.research.google.com/assets/colab-badge.svg\" alt=\"Open In Colab\"/></a>"
      ]
    },
    {
      "cell_type": "markdown",
      "source": [
        "**Question 1**"
      ],
      "metadata": {
        "id": "p7rhPK0S_iSd"
      }
    },
    {
      "cell_type": "code",
      "source": [
        "class Node:\n",
        "\n",
        "    def __init__(self, data):\n",
        "        self.data = data\n",
        "        self.next = None\n",
        "\n",
        "class LinkedList:\n",
        "\n",
        "    def __init__(self):\n",
        "        self.head = None\n",
        "\n",
        "    def push(self, new_data):\n",
        "        new_node = Node(new_data)\n",
        "        new_node.next = self.head\n",
        "        self.head = new_node\n",
        "\n",
        "    def detectAndRemoveLoop(self):\n",
        "      if self.head is None:\n",
        "          return\n",
        "      if self.head.next is None:\n",
        "          return\n",
        "      slow_p = self.head\n",
        "      fast_p = self.head\n",
        "\n",
        "      while(slow_p and fast_p and fast_p.next):\n",
        "          slow_p = slow_p.next\n",
        "          fast_p = fast_p.next.next\n",
        "\n",
        "          if slow_p == fast_p:\n",
        "            slow_p = self.head\n",
        "            while (slow_p.next != fast_p.next):\n",
        "              slow_p = slow_p.next\n",
        "              fast_p = fast_p.next\n",
        "\n",
        "            fast_p.next = None\n",
        "\n",
        "    def printList(self):\n",
        "        temp = self.head\n",
        "        while(temp):\n",
        "            print(temp.data, end = ' ')\n",
        "            temp = temp.next\n",
        "\n",
        "llist = LinkedList()\n",
        "llist.head = Node(1)\n",
        "llist.head.next = Node(3)\n",
        "llist.head.next.next = Node(4)\n",
        "\n",
        "llist.head.next.next.next = llist.head\n",
        "llist.detectAndRemoveLoop()\n",
        "print(\"Linked List after removing loop\")\n",
        "llist.printList()"
      ],
      "metadata": {
        "colab": {
          "base_uri": "https://localhost:8080/"
        },
        "id": "BcDNtYMw-mqN",
        "outputId": "eaf8ac46-290d-4aa4-809d-f569a2170b6c"
      },
      "execution_count": 31,
      "outputs": [
        {
          "output_type": "stream",
          "name": "stdout",
          "text": [
            "Linked List after removing loop\n",
            "1 "
          ]
        }
      ]
    },
    {
      "cell_type": "markdown",
      "source": [
        "\n",
        "\n",
        "**Question 2**"
      ],
      "metadata": {
        "id": "P9WmVaWw4Fka"
      }
    },
    {
      "cell_type": "code",
      "source": [
        "class Node:\n",
        "    def __init__(self, data=None):\n",
        "        self.data = data\n",
        "        self.next = None\n",
        "\n",
        "def addOne(head):\n",
        "    prev = None\n",
        "    current = head\n",
        "    while current is not None:\n",
        "        next_node = current.next\n",
        "        current.next = prev\n",
        "        prev = current\n",
        "        current = next_node\n",
        "    head = prev\n",
        "\n",
        "    carry = 1\n",
        "    temp = head\n",
        "    prev = None\n",
        "\n",
        "    while temp is not None:\n",
        "        sum = temp.data + carry\n",
        "        carry = 1 if sum >= 10 else 0\n",
        "        sum = sum % 10\n",
        "        temp.data = sum\n",
        "        prev = temp\n",
        "        temp = temp.next\n",
        "\n",
        "    if carry > 0:\n",
        "        prev.next = Node(carry)\n",
        "\n",
        "    prev = None\n",
        "    current = head\n",
        "    while current is not None:\n",
        "        next_node = current.next\n",
        "        current.next = prev\n",
        "        prev = current\n",
        "        current = next_node\n",
        "    head = prev\n",
        "\n",
        "    return head\n",
        "\n",
        "def printList(head):\n",
        "    while head is not None:\n",
        "        print(head.data, end=\"\")\n",
        "        head = head.next\n",
        "    print()\n",
        "\n",
        "head = Node(4)\n",
        "head.next = Node(5)\n",
        "head.next.next = Node(6)\n",
        "\n",
        "print(\"Original Linked List:\")\n",
        "printList(head)\n",
        "\n",
        "head = addOne(head)\n",
        "\n",
        "print(\"Linked List after adding 1:\")\n",
        "printList(head)\n",
        "head = Node(1)\n",
        "head.next = Node(2)\n",
        "head.next.next = Node(3)\n",
        "\n",
        "print(\"Original Linked List:\")\n",
        "printList(head)\n",
        "\n",
        "head = addOne(head)\n",
        "\n",
        "print(\"Linked List after adding 1:\")\n",
        "printList(head)\n"
      ],
      "metadata": {
        "colab": {
          "base_uri": "https://localhost:8080/"
        },
        "id": "tJnwkVEW4AQU",
        "outputId": "346c9aa4-7b80-491b-9d8a-78d225130d39"
      },
      "execution_count": 8,
      "outputs": [
        {
          "output_type": "stream",
          "name": "stdout",
          "text": [
            "Original Linked List:\n",
            "456\n",
            "Linked List after adding 1:\n",
            "457\n",
            "Original Linked List:\n",
            "123\n",
            "Linked List after adding 1:\n",
            "124\n"
          ]
        }
      ]
    },
    {
      "cell_type": "markdown",
      "source": [
        "**Question 3**"
      ],
      "metadata": {
        "id": "JBbuT-tO4-aE"
      }
    },
    {
      "cell_type": "code",
      "source": [
        "class Node:\n",
        "    def __init__(self, data=None):\n",
        "        self.data = data\n",
        "        self.next = None\n",
        "        self.bottom = None\n",
        "\n",
        "def mergeLists(a, b):\n",
        "    if a is None:\n",
        "        return b\n",
        "    if b is None:\n",
        "        return a\n",
        "\n",
        "    result = None\n",
        "    if a.data <= b.data:\n",
        "        result = a\n",
        "        result.bottom = mergeLists(a.bottom, b)\n",
        "    else:\n",
        "        result = b\n",
        "        result.bottom = mergeLists(a, b.bottom)\n",
        "\n",
        "    return result\n",
        "def flattenList(root):\n",
        "    if root is None or root.next is None:\n",
        "        return root\n",
        "    root.next = flattenList(root.next)\n",
        "    root = mergeLists(root, root.next)\n",
        "    return root\n",
        "def printList(head):\n",
        "    while head is not None:\n",
        "        print(head.data, end=\" \")\n",
        "        head = head.bottom\n",
        "    print()\n",
        "head = Node(5)\n",
        "head.next = Node(10)\n",
        "head.next.next = Node(19)\n",
        "head.next.next.next = Node(28)\n",
        "\n",
        "head.bottom = Node(7)\n",
        "head.bottom.bottom = Node(8)\n",
        "head.bottom.bottom.bottom = Node(30)\n",
        "head.next.bottom = Node(20)\n",
        "head.next.next.bottom = Node(22)\n",
        "head.next.next.bottom.bottom = Node(50)\n",
        "head.next.next.next.bottom = Node(35)\n",
        "head.next.next.next.bottom.bottom = Node(40)\n",
        "head.next.next.next.bottom.bottom.bottom = Node(45)\n",
        "\n",
        "print(\"Original Linked List:\")\n",
        "printList(head)\n",
        "\n",
        "head = flattenList(head)\n",
        "\n",
        "print(\"Flattened Linked List:\")\n",
        "printList(head)"
      ],
      "metadata": {
        "colab": {
          "base_uri": "https://localhost:8080/"
        },
        "id": "YE2dCpKZ4xsQ",
        "outputId": "b1d3a367-ca15-44ba-b24a-1ead8ad430ea"
      },
      "execution_count": 10,
      "outputs": [
        {
          "output_type": "stream",
          "name": "stdout",
          "text": [
            "Original Linked List:\n",
            "5 7 8 30 \n",
            "Flattened Linked List:\n",
            "5 7 8 10 19 20 22 28 30 35 40 45 50 \n"
          ]
        }
      ]
    },
    {
      "cell_type": "markdown",
      "source": [
        "**Question 5**\n"
      ],
      "metadata": {
        "id": "WXp2xgpN5PJi"
      }
    },
    {
      "cell_type": "code",
      "source": [
        "class ListNode:\n",
        "    def __init__(self, val=0, next=None):\n",
        "        self.val = val\n",
        "        self.next = next\n",
        "\n",
        "def oddEvenList(head):\n",
        "    if head is None or head.next is None:\n",
        "        return head\n",
        "\n",
        "    odd = head\n",
        "    even = head.next\n",
        "    even_head = even\n",
        "\n",
        "    while even and even.next:\n",
        "        odd.next = even.next\n",
        "        odd = odd.next\n",
        "\n",
        "        even.next = odd.next\n",
        "        even = even.next\n",
        "\n",
        "    odd.next = even_head\n",
        "\n",
        "    return head\n",
        "\n",
        "def printList(head):\n",
        "    while head:\n",
        "        print(head.val, end=\" \")\n",
        "        head = head.next\n",
        "    print()\n",
        "\n",
        "head = ListNode(1)\n",
        "head.next = ListNode(2)\n",
        "head.next.next = ListNode(3)\n",
        "head.next.next.next = ListNode(4)\n",
        "head.next.next.next.next = ListNode(5)\n",
        "\n",
        "print(\"Original Linked List:\")\n",
        "printList(head)\n",
        "\n",
        "head = oddEvenList(head)\n",
        "\n",
        "print(\"Modified Linked List:\")\n",
        "printList(head)"
      ],
      "metadata": {
        "colab": {
          "base_uri": "https://localhost:8080/"
        },
        "id": "2Ydl8sWm547S",
        "outputId": "07fca4ba-5aef-4e61-8992-d62672343196"
      },
      "execution_count": 13,
      "outputs": [
        {
          "output_type": "stream",
          "name": "stdout",
          "text": [
            "Original Linked List:\n",
            "1 2 3 4 5 \n",
            "Modified Linked List:\n",
            "1 3 5 2 4 \n"
          ]
        }
      ]
    },
    {
      "cell_type": "markdown",
      "source": [
        "**Question 6**"
      ],
      "metadata": {
        "id": "QxerD_Ew64pT"
      }
    },
    {
      "cell_type": "code",
      "source": [
        "class ListNode:\n",
        "    def __init__(self, val=0, next=None):\n",
        "        self.val = val\n",
        "        self.next = next\n",
        "\n",
        "def leftShiftLinkedList(head, k):\n",
        "    if head is None or k == 0:\n",
        "        return head\n",
        "\n",
        "    length = 0\n",
        "    current = head\n",
        "    while current:\n",
        "        length += 1\n",
        "        current = current.next\n",
        "\n",
        "    k = k % length\n",
        "\n",
        "    if k == 0:\n",
        "        return head\n",
        "\n",
        "    slow = head\n",
        "    fast = head\n",
        "    for _ in range(k):\n",
        "        fast = fast.next\n",
        "\n",
        "    while fast.next:\n",
        "        slow = slow.next\n",
        "        fast = fast.next\n",
        "\n",
        "    new_head = slow.next\n",
        "    slow.next = None\n",
        "    fast.next = head\n",
        "\n",
        "    return new_head\n",
        "\n",
        "def printList(head):\n",
        "    while head:\n",
        "        print(head.val, end=\" \")\n",
        "        head = head.next\n",
        "    print()\n",
        "\n",
        "head = ListNode(2)\n",
        "head.next = ListNode(4)\n",
        "head.next.next = ListNode(7)\n",
        "head.next.next.next = ListNode(8)\n",
        "head.next.next.next.next = ListNode(9)\n",
        "\n",
        "print(\"Original Linked List:\")\n",
        "printList(head)\n",
        "\n",
        "k = 2\n",
        "head = leftShiftLinkedList(head, k)\n",
        "\n",
        "print(f\"Linked List after left-shift by {k} nodes:\")\n",
        "printList(head)\n"
      ],
      "metadata": {
        "colab": {
          "base_uri": "https://localhost:8080/"
        },
        "id": "w72rgyI-64My",
        "outputId": "be577242-4a6b-4efc-9ed6-ab1ce037906b"
      },
      "execution_count": 16,
      "outputs": [
        {
          "output_type": "stream",
          "name": "stdout",
          "text": [
            "Original Linked List:\n",
            "2 4 7 8 9 \n",
            "Linked List after left-shift by 2 nodes:\n",
            "8 9 2 4 7 \n"
          ]
        }
      ]
    },
    {
      "cell_type": "markdown",
      "source": [
        "**Question 7**"
      ],
      "metadata": {
        "id": "7V0BCSuX7Sle"
      }
    },
    {
      "cell_type": "code",
      "source": [
        "class ListNode:\n",
        "    def __init__(self, val=0, next=None):\n",
        "        self.val = val\n",
        "        self.next = next\n",
        "\n",
        "def nextLargerNodes(head):\n",
        "    arr = []\n",
        "    current = head\n",
        "    while current:\n",
        "        arr.append(current.val)\n",
        "        current = current.next\n",
        "    result = [0] * len(arr)\n",
        "    stack = []\n",
        "    for i in range(len(arr)):\n",
        "        while stack and arr[stack[-1]] < arr[i]:\n",
        "            result[stack.pop()] = arr[i]\n",
        "        stack.append(i)\n",
        "    return result\n",
        "\n",
        "head = ListNode(2)\n",
        "head.next = ListNode(7)\n",
        "head.next.next = ListNode(4)\n",
        "head.next.next.next = ListNode(3)\n",
        "head.next.next.next.next = ListNode(5)\n",
        "\n",
        "print(\"Original Linked List:\")\n",
        "current = head\n",
        "while current:\n",
        "    print(current.val, end=\" \")\n",
        "    current = current.next\n",
        "print()\n",
        "\n",
        "result = nextLargerNodes(head)\n",
        "\n",
        "print(\"Next Greater Nodes:\")\n",
        "print(result)\n"
      ],
      "metadata": {
        "colab": {
          "base_uri": "https://localhost:8080/"
        },
        "id": "bmP30gqL7stn",
        "outputId": "a1701995-555f-4951-8d4e-d4d451341623"
      },
      "execution_count": 19,
      "outputs": [
        {
          "output_type": "stream",
          "name": "stdout",
          "text": [
            "Original Linked List:\n",
            "2 7 4 3 5 \n",
            "Next Greater Nodes:\n",
            "[7, 0, 5, 5, 0]\n"
          ]
        }
      ]
    },
    {
      "cell_type": "markdown",
      "source": [
        "**Question 8**"
      ],
      "metadata": {
        "id": "PwaRi7n38OJq"
      }
    },
    {
      "cell_type": "code",
      "source": [
        "class ListNode:\n",
        "    def __init__(self, val=0, next=None):\n",
        "        self.val = val\n",
        "        self.next = next\n",
        "\n",
        "def removeZeroSumSublists(head):\n",
        "    dummy = ListNode(0)\n",
        "    dummy.next = head\n",
        "    prefix_sum = 0\n",
        "    prefix_sums = {0: dummy}\n",
        "\n",
        "    current = head\n",
        "\n",
        "    while current:\n",
        "        prefix_sum += current.val\n",
        "        if prefix_sum in prefix_sums:\n",
        "            prev = prefix_sums[prefix_sum].next\n",
        "            temp_sum = prefix_sum + prev.val\n",
        "            while prev != current:\n",
        "                prefix_sums.pop(temp_sum)\n",
        "                prev = prev.next\n",
        "                temp_sum += prev.val\n",
        "            prefix_sums[prefix_sum].next = current.next\n",
        "        else:\n",
        "            prefix_sums[prefix_sum] = current\n",
        "\n",
        "        current = current.next\n",
        "    return dummy.next\n",
        "def printList(head):\n",
        "    while head:\n",
        "        print(head.val, end=\" \")\n",
        "        head = head.next\n",
        "    print()\n",
        "head = ListNode(1)\n",
        "head.next = ListNode(2)\n",
        "head.next.next = ListNode(-3)\n",
        "head.next.next.next = ListNode(3)\n",
        "head.next.next.next.next = ListNode(1)\n",
        "\n",
        "print(\"Original Linked List:\")\n",
        "printList(head)\n",
        "\n",
        "head = removeZeroSumSublists(head)\n",
        "\n",
        "print(\"Modified Linked List:\")\n",
        "printList(head)\n"
      ],
      "metadata": {
        "colab": {
          "base_uri": "https://localhost:8080/"
        },
        "id": "5LyhlHcz8QMH",
        "outputId": "d60f0a59-5f11-477b-fd2e-99edaad7102d"
      },
      "execution_count": 21,
      "outputs": [
        {
          "output_type": "stream",
          "name": "stdout",
          "text": [
            "Original Linked List:\n",
            "1 2 -3 3 1 \n",
            "Modified Linked List:\n",
            "3 1 \n"
          ]
        }
      ]
    }
  ]
}