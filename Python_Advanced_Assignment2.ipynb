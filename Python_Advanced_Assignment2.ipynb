{
  "nbformat": 4,
  "nbformat_minor": 0,
  "metadata": {
    "colab": {
      "provenance": [],
      "authorship_tag": "ABX9TyMQbsah9UQpL527hxWOhuOo",
      "include_colab_link": true
    },
    "kernelspec": {
      "name": "python3",
      "display_name": "Python 3"
    },
    "language_info": {
      "name": "python"
    }
  },
  "cells": [
    {
      "cell_type": "markdown",
      "metadata": {
        "id": "view-in-github",
        "colab_type": "text"
      },
      "source": [
        "<a href=\"https://colab.research.google.com/github/Sathyakaarthi/Bootcamp-assignments-2022-2023/blob/main/Python_Advanced_Assignment2.ipynb\" target=\"_parent\"><img src=\"https://colab.research.google.com/assets/colab-badge.svg\" alt=\"Open In Colab\"/></a>"
      ]
    },
    {
      "cell_type": "markdown",
      "source": [
        "**Q1. What is the relationship between classes and modules?**\n",
        "\n",
        "*Ans*\n",
        "\n",
        "* Modules are collections of methods and constants. They cannot generate instances.\n",
        "* Classes may generate instances (objects), and have per-instance state (instance variables)."
      ],
      "metadata": {
        "id": "G-U6NldNuyg-"
      }
    },
    {
      "cell_type": "markdown",
      "source": [
        "**Q2. How do you make instances and classes?**\n",
        "\n",
        "*Ans*\n",
        "\n",
        "* For creating a class instance. we call a class by its name and pass the arguments which its __init__ method accepts.\n",
        "\n",
        "Example: sathya = employee('Female',45000), Here vishwak is an instance of class employee with attriubutes 'Male' and 20000.\n",
        "\n",
        "* For creating a class, we use the Class keyword. Class keyword is followed by classname and semicolon.\n",
        "\n",
        "Example: Here Employee is a class created with class keyword with arguments gender and salary.\n",
        "\n",
        "class Employee: def __init__(self, gender,salary): self.gender = gender self.salary = salary"
      ],
      "metadata": {
        "id": "K1lVRdmOvbR0"
      }
    },
    {
      "cell_type": "markdown",
      "source": [
        "**Q3. Where and how should be class attributes created?**\n",
        "\n",
        "*Ans*\n",
        "\n",
        "Class attributes or Class level Attributes belong to the class itself. these attributes will be shared by all the instances of the class. Hence these attributes are usually created/defined in the top of class definiation outside all methods."
      ],
      "metadata": {
        "id": "si7YyeDSwrXG"
      }
    },
    {
      "cell_type": "markdown",
      "source": [
        "**Q4. Where and how are instance attributes created?**\n",
        "\n",
        "*Ans*\n",
        "\n",
        "Instance attributes are attributes or properties attached to an instance of a class. Instance attributes are defined in the constructor."
      ],
      "metadata": {
        "id": "yJk8g-b3xJdK"
      }
    },
    {
      "cell_type": "markdown",
      "source": [
        "**Q5. What does the term \"self\" in a Python class mean?**\n",
        "\n",
        "*Ans*\n",
        "\n",
        "self represents the instance of the class. By using the “self” keyword we can access the attributes and methods of the class in python. It binds the attributes with the given arguments."
      ],
      "metadata": {
        "id": "ShwytabKxnOH"
      }
    },
    {
      "cell_type": "markdown",
      "source": [
        "**Q6. How does a Python class handle operator overloading?**\n",
        "\n",
        "*Ans*\n",
        "\n",
        "To perform operator overloading, Python provides some special function or magic function that is automatically invoked when it is associated with that particular operator. For example, when we use + operator, the magic method ___add_ __ is automatically invoked in which the operation for + operator is defined."
      ],
      "metadata": {
        "id": "e_VCa9JbyGXC"
      }
    },
    {
      "cell_type": "markdown",
      "source": [
        "**Q7. When do you consider allowing operator overloading of your classes?**\n",
        "\n",
        "*Ans*\n",
        "\n",
        "  Suppose that we have two objects which are a physical representation of a class (user-defined data type) and we have to add two objects with binary '+' operator it throws an error, because compiler don't know how to add two objects. So we define a method for an operator and that process is called operator overloading."
      ],
      "metadata": {
        "id": "eVEoYTviyqnk"
      }
    },
    {
      "cell_type": "markdown",
      "source": [
        "**Q8. What is the most popular form of operator overloading?**\n",
        "\n",
        "*Ans*\n",
        "\n",
        "* Operator overloading is the process of using an operator in different ways depending on the operands. You can change the way an operator in Python works on different data-types.\n",
        "\n",
        "* A very popular and convenient example is the Addition (+) operator.\n",
        "\n",
        "* The ‘+’ operator operates on two numbers and the same operator operates on two strings. It performs “Addition” on numbers whereas it performs “Concatenation” on strings."
      ],
      "metadata": {
        "id": "alpV8Tx-zC3q"
      }
    },
    {
      "cell_type": "code",
      "execution_count": null,
      "metadata": {
        "id": "hwI38J9ftMDm"
      },
      "outputs": [],
      "source": []
    }
  ]
}