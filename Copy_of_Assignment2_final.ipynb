{
  "nbformat": 4,
  "nbformat_minor": 0,
  "metadata": {
    "colab": {
      "provenance": [],
      "authorship_tag": "ABX9TyO+nKTsgRymu+70YTpGec07",
      "include_colab_link": true
    },
    "kernelspec": {
      "name": "python3",
      "display_name": "Python 3"
    },
    "language_info": {
      "name": "python"
    }
  },
  "cells": [
    {
      "cell_type": "markdown",
      "metadata": {
        "id": "view-in-github",
        "colab_type": "text"
      },
      "source": [
        "<a href=\"https://colab.research.google.com/github/Sathyakaarthi/Bootcamp-assignments-2022-2023/blob/main/Copy_of_Assignment2_final.ipynb\" target=\"_parent\"><img src=\"https://colab.research.google.com/assets/colab-badge.svg\" alt=\"Open In Colab\"/></a>"
      ]
    },
    {
      "cell_type": "markdown",
      "source": [
        "##1.What are the two values of the boolean data types? how do you write them ?\n",
        "Ans: True and False are two values of the boolen data types. We have to use capital T and F ie. 1st letter in caps and others in lower case."
      ],
      "metadata": {
        "id": "rGiZERPbJ-g9"
      }
    },
    {
      "cell_type": "code",
      "execution_count": null,
      "metadata": {
        "colab": {
          "base_uri": "https://localhost:8080/"
        },
        "id": "qLfmzZeyJ0c8",
        "outputId": "f35a3d79-55f7-4056-8284-620dcbb72551"
      },
      "outputs": [
        {
          "output_type": "stream",
          "name": "stdout",
          "text": [
            "True <class 'bool'>\n",
            "False <class 'bool'>\n"
          ]
        }
      ],
      "source": [
        "a = True\n",
        "b = False\n",
        "print(a,type(a))\n",
        "print(b,type(b))"
      ]
    },
    {
      "cell_type": "markdown",
      "source": [
        "##2. What are the three different types of Boolean operators?\n",
        "Ans: The three differnt types of Boolean operators in python are:\n",
        "\n",
        "*   or\n",
        "*   and\n",
        "*   not\n",
        "\n",
        "\n",
        "\n"
      ],
      "metadata": {
        "id": "MLtIMajcKnzw"
      }
    },
    {
      "cell_type": "markdown",
      "source": [
        "##3. Make a list of each Boolean operator's truth tables (i.e. every possible combination of Boolean values for the operator and what it evaluate) ?\n",
        "\n",
        "**Truth Table for and operaotor**\n",
        "\n",
        "True  | True   | **True**\n",
        "\n",
        "True  | False  | **False**\n",
        "\n",
        "False | True   | **False**\n",
        "\n",
        "False | False  | **False**\n",
        "\n",
        "**Truth Table for or operaotor**\n",
        "\n",
        "True  | True   | **True**\n",
        "\n",
        "True  | False  | **True**\n",
        "\n",
        "False | True   | **True**\n",
        "\n",
        "False | False  | **False**\n",
        "\n",
        "**Truth Table for or operaotor**\n",
        "\n",
        "Not True  | **False**\n",
        "\n",
        "Not False |"
      ],
      "metadata": {
        "id": "zr8sci2tLf_8"
      }
    },
    {
      "cell_type": "markdown",
      "source": [
        "##4. What are the values of the following expressions ?\n",
        "\n",
        "(5 > 4) and (3 == 5)\n",
        "\n",
        "not (5 > 4)\n",
        "\n",
        "(5 > 4) or (3 == 5)\n",
        "\n",
        "not ((5 > 4) or (3 == 5))\n",
        "\n",
        "(True and True) and (True == False)\n",
        "\n",
        "(not False) or (not True)"
      ],
      "metadata": {
        "id": "q_0dZPzqNTOb"
      }
    },
    {
      "cell_type": "code",
      "source": [
        "\n",
        "(5 > 4) and (3 == 5)"
      ],
      "metadata": {
        "colab": {
          "base_uri": "https://localhost:8080/"
        },
        "id": "IyEwKFcHNdj6",
        "outputId": "7d7057ff-b715-498a-d022-8c240585672f"
      },
      "execution_count": null,
      "outputs": [
        {
          "output_type": "execute_result",
          "data": {
            "text/plain": [
              "False"
            ]
          },
          "metadata": {},
          "execution_count": 3
        }
      ]
    },
    {
      "cell_type": "code",
      "source": [
        "not (5 > 4)"
      ],
      "metadata": {
        "colab": {
          "base_uri": "https://localhost:8080/"
        },
        "id": "R-9OQlu5NkFO",
        "outputId": "5deef0f4-1f40-459e-a34f-e5e69d0ee706"
      },
      "execution_count": null,
      "outputs": [
        {
          "output_type": "execute_result",
          "data": {
            "text/plain": [
              "False"
            ]
          },
          "metadata": {},
          "execution_count": 4
        }
      ]
    },
    {
      "cell_type": "code",
      "source": [
        "(5 > 4) or (3 == 5)"
      ],
      "metadata": {
        "colab": {
          "base_uri": "https://localhost:8080/"
        },
        "id": "GX3CwKSINo0R",
        "outputId": "5ee5d30e-29a9-4b6a-c1d2-93952236b79b"
      },
      "execution_count": null,
      "outputs": [
        {
          "output_type": "execute_result",
          "data": {
            "text/plain": [
              "True"
            ]
          },
          "metadata": {},
          "execution_count": 5
        }
      ]
    },
    {
      "cell_type": "code",
      "source": [
        "\n",
        "not ((5 > 4) or (3 == 5))"
      ],
      "metadata": {
        "colab": {
          "base_uri": "https://localhost:8080/"
        },
        "id": "BqBQ1ZZsNtpr",
        "outputId": "cd081be2-1aac-4e1d-dffa-77833e5e09c7"
      },
      "execution_count": null,
      "outputs": [
        {
          "output_type": "execute_result",
          "data": {
            "text/plain": [
              "False"
            ]
          },
          "metadata": {},
          "execution_count": 6
        }
      ]
    },
    {
      "cell_type": "code",
      "source": [
        "(True and True) and (True == False)"
      ],
      "metadata": {
        "colab": {
          "base_uri": "https://localhost:8080/"
        },
        "id": "n2czDedcNyUM",
        "outputId": "47567476-2b73-44fc-fdbc-32fe9f370c1e"
      },
      "execution_count": null,
      "outputs": [
        {
          "output_type": "execute_result",
          "data": {
            "text/plain": [
              "False"
            ]
          },
          "metadata": {},
          "execution_count": 7
        }
      ]
    },
    {
      "cell_type": "code",
      "source": [
        "(not False) or (not True)\n",
        "\n"
      ],
      "metadata": {
        "colab": {
          "base_uri": "https://localhost:8080/"
        },
        "id": "2o8kWfFTN2Ms",
        "outputId": "df8d7e33-a01f-4198-ef16-c36ad6bfeeab"
      },
      "execution_count": null,
      "outputs": [
        {
          "output_type": "execute_result",
          "data": {
            "text/plain": [
              "True"
            ]
          },
          "metadata": {},
          "execution_count": 8
        }
      ]
    },
    {
      "cell_type": "markdown",
      "source": [
        "##5. What are the six comparison operators?\n",
        "Ans: Python has six comparison operators: \n",
        "* less than (<)\n",
        "* less than or equal to (<=)\n",
        "* greater than (>) \n",
        "* greater than or equal to (>=)\n",
        "* equal to (==)\n",
        "* and not equal to (!=)"
      ],
      "metadata": {
        "id": "xUm2Ub7XN7zQ"
      }
    },
    {
      "cell_type": "markdown",
      "source": [
        "##6. How do you tell the difference between the equal to and assignment operators?Describe a condition and when you would use one ?\n",
        "\n",
        "Ans:\n",
        "\n",
        "The “=” is an assignment operator used to assign the value on the right to the variable on the left. \n",
        "\n",
        "The ‘==’ operator checks whether the two given operands are equal or not. If so, it returns true. Otherwise it returns false. \n"
      ],
      "metadata": {
        "id": "mruoaDhOOro4"
      }
    },
    {
      "cell_type": "markdown",
      "source": [
        "##7. Identify the three blocks in this code:\n",
        "spam = 0\n",
        "\n",
        "if spam == 10:\n",
        "\n",
        "print('eggs')\n",
        "\n",
        "if spam > 5:\n",
        "\n",
        "print('bacon')\n",
        "\n",
        "else:\n",
        "\n",
        "print('ham')\n",
        "\n",
        "print('spam')\n",
        "\n",
        "print('spam')"
      ],
      "metadata": {
        "id": "oNB4_DMPPCyq"
      }
    },
    {
      "cell_type": "code",
      "source": [
        "spam = 0\n",
        "if spam == 10:\n",
        "  print (\"eggs\") # block1\n",
        "if spam > 5:\n",
        "  print(\"bacon\") # block2\n",
        "else:\n",
        "  print(\"ham\")  # block3\n",
        "print(\"spam\")\n",
        "print(\"spam\")"
      ],
      "metadata": {
        "colab": {
          "base_uri": "https://localhost:8080/"
        },
        "id": "jeI2PzCXPJA1",
        "outputId": "0bdf715f-57f6-4b00-cb12-5784a0eabd2a"
      },
      "execution_count": null,
      "outputs": [
        {
          "output_type": "stream",
          "name": "stdout",
          "text": [
            "ham\n",
            "spam\n",
            "spam\n"
          ]
        }
      ]
    },
    {
      "cell_type": "markdown",
      "source": [
        "##8. Write code that prints Hello if 1 is stored in spam, prints Howdy if 2 is stored in spam, and prints Greetings! if anything else is stored in spam."
      ],
      "metadata": {
        "id": "-W8KEZClPgec"
      }
    },
    {
      "cell_type": "code",
      "source": [
        "spam = int(input(f\"Enter a number: \"))\n",
        "if spam == 1:\n",
        "        print('Hello')\n",
        "elif spam == 2:\n",
        "        print('Howdy')\n",
        "else:\n",
        "        print('Greetings!')"
      ],
      "metadata": {
        "colab": {
          "base_uri": "https://localhost:8080/"
        },
        "id": "quPKmgVmPidS",
        "outputId": "017de200-0723-4c18-85fa-4bb15b91093c"
      },
      "execution_count": null,
      "outputs": [
        {
          "output_type": "stream",
          "name": "stdout",
          "text": [
            "Enter a number: 1\n",
            "Hello\n"
          ]
        }
      ]
    },
    {
      "cell_type": "code",
      "source": [
        "spam = int(input(f\"Enter a number: \"))\n",
        "if spam == 1:\n",
        "        print('Hello')\n",
        "elif spam == 2:\n",
        "        print('Howdy')\n",
        "else:\n",
        "        print('Greetings!')"
      ],
      "metadata": {
        "colab": {
          "base_uri": "https://localhost:8080/"
        },
        "id": "oLvjGl8TPwI4",
        "outputId": "2429be62-a76f-47eb-a6c2-93ae49da9e35"
      },
      "execution_count": null,
      "outputs": [
        {
          "output_type": "stream",
          "name": "stdout",
          "text": [
            "Enter a number: 2\n",
            "Howdy\n"
          ]
        }
      ]
    },
    {
      "cell_type": "code",
      "source": [
        "spam = int(input(f\"Enter a number: \"))\n",
        "if spam == 1:\n",
        "        print('Hello')\n",
        "elif spam == 2:\n",
        "        print('Howdy')\n",
        "else:\n",
        "        print('Greetings!')"
      ],
      "metadata": {
        "colab": {
          "base_uri": "https://localhost:8080/"
        },
        "id": "-MdZxf6pP509",
        "outputId": "a1a365b4-7bae-4a4c-b3b2-c513bc177819"
      },
      "execution_count": null,
      "outputs": [
        {
          "output_type": "stream",
          "name": "stdout",
          "text": [
            "Enter a number: 3\n",
            "Greetings!\n"
          ]
        }
      ]
    },
    {
      "cell_type": "markdown",
      "source": [
        "##9.If your programme is stuck in an endless loop, what keys you’ll press?\n",
        "Ans: Press **Ctrl-c** to stop a program stuck in an infinite loop"
      ],
      "metadata": {
        "id": "8xQIMQZuQFuZ"
      }
    },
    {
      "cell_type": "markdown",
      "source": [
        "\n",
        "##10. How can you tell the difference between break and continue?\n",
        "Ans: \n",
        "\n",
        "* The **break** statement will move the execution outside the loop if break condtion is satisfied. \n",
        "* The **continue** statement will move the execution to the start of the loop."
      ],
      "metadata": {
        "id": "1hyrKOQlQa-q"
      }
    },
    {
      "cell_type": "markdown",
      "source": [
        "##11. In a for loop, what is the difference between range(10), range(0, 10), and range(0, 10, 1)?\n",
        "Ans: The Differences are as follows:\n",
        "\n",
        "* The range(10) call range from 0 to 9 (but not include 10)\n",
        "* The range (0,10) explicitly tells the loop to start at 0\n",
        "* The range(0,10,1) explicitly tells the loop to increase the variable by 1 on each iteration"
      ],
      "metadata": {
        "id": "4k6Z36tTRCM5"
      }
    },
    {
      "cell_type": "markdown",
      "source": [
        "##12. Write a short program that prints the numbers 1 to 10 using a for loop. Then write an equivalent program that prints the numbers 1 to 10 using a while loop ?\n",
        "\n"
      ],
      "metadata": {
        "id": "EtElp_tURcC7"
      }
    },
    {
      "cell_type": "code",
      "source": [
        "for i in range(1, 11):\n",
        "    print(i)\n",
        "    "
      ],
      "metadata": {
        "colab": {
          "base_uri": "https://localhost:8080/"
        },
        "id": "gajfd4lJRlAL",
        "outputId": "7c168ee6-c03f-4076-ed99-5998cb9a5548"
      },
      "execution_count": null,
      "outputs": [
        {
          "output_type": "stream",
          "name": "stdout",
          "text": [
            "1\n",
            "2\n",
            "3\n",
            "4\n",
            "5\n",
            "6\n",
            "7\n",
            "8\n",
            "9\n",
            "10\n"
          ]
        }
      ]
    },
    {
      "cell_type": "code",
      "source": [
        "i = 1\n",
        "while(i<=10):\n",
        "    print(i)\n",
        "    i += 1"
      ],
      "metadata": {
        "colab": {
          "base_uri": "https://localhost:8080/"
        },
        "id": "noTQVBVgR0HR",
        "outputId": "64665208-3708-4ae8-f5d4-65391fa711ca"
      },
      "execution_count": null,
      "outputs": [
        {
          "output_type": "stream",
          "name": "stdout",
          "text": [
            "1\n",
            "2\n",
            "3\n",
            "4\n",
            "5\n",
            "6\n",
            "7\n",
            "8\n",
            "9\n",
            "10\n"
          ]
        }
      ]
    },
    {
      "cell_type": "markdown",
      "source": [
        "##13. If you had a function named bacon() inside a module named spam, how would you call it after importing spam ?\n",
        "Ans: This function can be called as **spam.bacon()**"
      ],
      "metadata": {
        "id": "MnulBZnyR9RT"
      }
    },
    {
      "cell_type": "code",
      "source": [],
      "metadata": {
        "id": "o_t2UI4CQEBU"
      },
      "execution_count": null,
      "outputs": []
    }
  ]
}