{
  "nbformat": 4,
  "nbformat_minor": 0,
  "metadata": {
    "colab": {
      "provenance": [],
      "authorship_tag": "ABX9TyM4XtBYvOL+8r2e8ENP0hc2",
      "include_colab_link": true
    },
    "kernelspec": {
      "name": "python3",
      "display_name": "Python 3"
    },
    "language_info": {
      "name": "python"
    }
  },
  "cells": [
    {
      "cell_type": "markdown",
      "metadata": {
        "id": "view-in-github",
        "colab_type": "text"
      },
      "source": [
        "<a href=\"https://colab.research.google.com/github/Sathyakaarthi/Bootcamp-assignments-2022-2023/blob/main/Programming_Assignment4.ipynb\" target=\"_parent\"><img src=\"https://colab.research.google.com/assets/colab-badge.svg\" alt=\"Open In Colab\"/></a>"
      ]
    },
    {
      "cell_type": "markdown",
      "source": [
        "**1.Write a Python Program to find the factorial of a number ?**"
      ],
      "metadata": {
        "id": "wYgXYsUPzDUk"
      }
    },
    {
      "cell_type": "code",
      "source": [
        "x = int(input(\"Enter a Number :  \"))\n",
        "factorial = 1\n",
        "if x < 0:\n",
        "    print(\"Can not calculate Factorial of a negative number\")\n",
        "elif x == 0:\n",
        "    print(\"Factorial of zero is 1\")\n",
        "else:\n",
        "    for i in range(1, x + 1):\n",
        "        factorial = factorial * i\n",
        "print(\"Factorial of {} = {}\".format(x, factorial))"
      ],
      "metadata": {
        "colab": {
          "base_uri": "https://localhost:8080/"
        },
        "id": "1Kom9rwSzGli",
        "outputId": "c3df50d6-49e6-41bf-b141-24a6a2d44d49"
      },
      "execution_count": 2,
      "outputs": [
        {
          "output_type": "stream",
          "name": "stdout",
          "text": [
            "Enter a Number :  6\n",
            "Factorial of 6 = 720\n"
          ]
        }
      ]
    },
    {
      "cell_type": "markdown",
      "source": [
        "**2.Write a Python Program to display the multiplication table ?**"
      ],
      "metadata": {
        "id": "S29cHF-_0OJZ"
      }
    },
    {
      "cell_type": "code",
      "source": [
        "x = int(input(\"Enter a number : \"))\n",
        "print(\"Multiplication table for \",x)\n",
        "for i in range(1,11):\n",
        "    print(\"{} x {} = {}\".format(x , i , x*i))"
      ],
      "metadata": {
        "colab": {
          "base_uri": "https://localhost:8080/"
        },
        "id": "UHh639lL0P-V",
        "outputId": "f2733282-04f4-4eb1-f101-29cb4f12ee56"
      },
      "execution_count": 3,
      "outputs": [
        {
          "output_type": "stream",
          "name": "stdout",
          "text": [
            "Enter a number : 5\n",
            "Multiplication table for  5\n",
            "5 x 1 = 5\n",
            "5 x 2 = 10\n",
            "5 x 3 = 15\n",
            "5 x 4 = 20\n",
            "5 x 5 = 25\n",
            "5 x 6 = 30\n",
            "5 x 7 = 35\n",
            "5 x 8 = 40\n",
            "5 x 9 = 45\n",
            "5 x 10 = 50\n"
          ]
        }
      ]
    },
    {
      "cell_type": "markdown",
      "source": [
        "**3.Write a Python Program to print the fibonacci sequence ?**"
      ],
      "metadata": {
        "id": "yJZtwjMx0kf3"
      }
    },
    {
      "cell_type": "code",
      "source": [
        "n = int(input(\"Number of terms : \"))\n",
        "\n",
        "\n",
        "n1, n2 = 0, 1\n",
        "count = 0\n",
        "\n",
        "# check if the number of terms is valid\n",
        "if n <= 0:\n",
        "   print(\"Please enter a positive integer\")\n",
        "# if there is only one term, return n1\n",
        "elif n == 1:\n",
        "   print(\"Fibonacci sequence upto\", n,\": \")\n",
        "   print(n1)\n",
        "# generate fibonacci sequence\n",
        "else:\n",
        "   print(\"Fibonacci sequence:\")\n",
        "   while count < n:\n",
        "       print(n1)\n",
        "       nth = n1 + n2\n",
        "       # update values\n",
        "       n1 = n2\n",
        "       n2 = nth\n",
        "       count += 1"
      ],
      "metadata": {
        "colab": {
          "base_uri": "https://localhost:8080/"
        },
        "id": "j_9JZqHj0mgp",
        "outputId": "864e48da-4415-403c-f102-ab230ec2884b"
      },
      "execution_count": 6,
      "outputs": [
        {
          "output_type": "stream",
          "name": "stdout",
          "text": [
            "Number of terms : 8\n",
            "Fibonacci sequence:\n",
            "0\n",
            "1\n",
            "1\n",
            "2\n",
            "3\n",
            "5\n",
            "8\n",
            "13\n"
          ]
        }
      ]
    },
    {
      "cell_type": "code",
      "execution_count": null,
      "metadata": {
        "id": "PKEZUQE9zAeP"
      },
      "outputs": [],
      "source": []
    },
    {
      "cell_type": "markdown",
      "source": [
        "**4.Write a Python Program to check Armstrong number ?**"
      ],
      "metadata": {
        "id": "W2D4Hx131Zib"
      }
    },
    {
      "cell_type": "code",
      "source": [
        "x = int(input(\"Enter the number : \"))\n",
        "\n",
        "power = len(str(x))\n",
        "\n",
        "y = x\n",
        "sum = 0\n",
        "while y > 0:\n",
        "    digit = y % 10\n",
        "    sum = sum + digit ** power\n",
        "    y = y//10\n",
        "if x == sum :\n",
        "    print(\"{} is armstrong number\".format(x))\n",
        "else:\n",
        "    print(\"{} is not an armstrong number\".format(x))"
      ],
      "metadata": {
        "colab": {
          "base_uri": "https://localhost:8080/"
        },
        "id": "6G_d5w7p1uQ3",
        "outputId": "a9401302-3a25-4eaa-d977-78c6dd176936"
      },
      "execution_count": 7,
      "outputs": [
        {
          "output_type": "stream",
          "name": "stdout",
          "text": [
            "Enter the number : 22\n",
            "22 is not an armstrong number\n"
          ]
        }
      ]
    },
    {
      "cell_type": "markdown",
      "source": [
        "**5.Write a Python Program to Find Armstrong number in an interval ?**"
      ],
      "metadata": {
        "id": "NgtPsZF32iVQ"
      }
    },
    {
      "cell_type": "code",
      "source": [
        "x = int(input(\"From number : \"))\n",
        "y = int(input(\"To number : \"))\n",
        "\n",
        "\n",
        "for i in range(x,y+1):\n",
        "    power = len(str(i))\n",
        "    temp = i\n",
        "    sum = 0\n",
        "    while temp > 0:\n",
        "        digit = temp % 10\n",
        "        sum = sum + digit ** power\n",
        "        temp = temp//10\n",
        "    if i == sum :\n",
        "        print(i)"
      ],
      "metadata": {
        "colab": {
          "base_uri": "https://localhost:8080/"
        },
        "id": "haeEodgP2kcp",
        "outputId": "7bfb7b24-352f-4326-a939-ee5638fe42be"
      },
      "execution_count": 10,
      "outputs": [
        {
          "output_type": "stream",
          "name": "stdout",
          "text": [
            "From number : 200\n",
            "To number : 2000\n",
            "370\n",
            "371\n",
            "407\n",
            "1634\n"
          ]
        }
      ]
    }
  ]
}