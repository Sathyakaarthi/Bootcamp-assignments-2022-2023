{
  "nbformat": 4,
  "nbformat_minor": 0,
  "metadata": {
    "colab": {
      "provenance": [],
      "authorship_tag": "ABX9TyMvsc9q+2M2YtR9EPyGTlQR",
      "include_colab_link": true
    },
    "kernelspec": {
      "name": "python3",
      "display_name": "Python 3"
    },
    "language_info": {
      "name": "python"
    }
  },
  "cells": [
    {
      "cell_type": "markdown",
      "metadata": {
        "id": "view-in-github",
        "colab_type": "text"
      },
      "source": [
        "<a href=\"https://colab.research.google.com/github/Sathyakaarthi/Bootcamp-assignments-2022-2023/blob/main/Array_Assignment7.ipynb\" target=\"_parent\"><img src=\"https://colab.research.google.com/assets/colab-badge.svg\" alt=\"Open In Colab\"/></a>"
      ]
    },
    {
      "cell_type": "markdown",
      "source": [
        "**Question 1:**"
      ],
      "metadata": {
        "id": "r7zTFPRviSnt"
      }
    },
    {
      "cell_type": "code",
      "execution_count": 2,
      "metadata": {
        "colab": {
          "base_uri": "https://localhost:8080/"
        },
        "id": "RCgLiI9Hhn8n",
        "outputId": "840585b8-6646-417f-f9cb-609c697dd8db"
      },
      "outputs": [
        {
          "output_type": "stream",
          "name": "stdout",
          "text": [
            "True\n"
          ]
        }
      ],
      "source": [
        "def IsIsomorphic(s, t):\n",
        "    if len(s) != len(t):\n",
        "        return False\n",
        "\n",
        "    char_map = {}\n",
        "    used_chars = set()\n",
        "\n",
        "    for i in range(len(s)):\n",
        "        if s[i] in char_map:\n",
        "            if char_map[s[i]] != t[i]:\n",
        "                return False\n",
        "        else:\n",
        "            if t[i] in used_chars:\n",
        "                return False\n",
        "            char_map[s[i]] = t[i]\n",
        "            used_chars.add(t[i])\n",
        "    return True\n",
        "s = \"egg\"\n",
        "t = \"add\"\n",
        "print(IsIsomorphic(s, t)) \n"
      ]
    },
    {
      "cell_type": "markdown",
      "source": [
        "**Question 2:**"
      ],
      "metadata": {
        "id": "aW8yEAVcixuV"
      }
    },
    {
      "cell_type": "code",
      "source": [
        "def IsStrobogrammatic(num):\n",
        "    strobogrammatic_map = {'0': '0', '1': '1', '6': '9', '8': '8', '9': '6'}\n",
        "    left, right = 0, len(num) - 1\n",
        "\n",
        "    while left <= right:\n",
        "        if num[left] not in strobogrammatic_map or num[right] != strobogrammatic_map[num[left]]:\n",
        "            return False\n",
        "        left += 1\n",
        "        right -= 1\n",
        "\n",
        "    return True\n",
        "\n",
        "num = \"69\"\n",
        "print(IsStrobogrammatic(num)) \n"
      ],
      "metadata": {
        "colab": {
          "base_uri": "https://localhost:8080/"
        },
        "id": "xzH142THizvj",
        "outputId": "2df487cb-69a2-466c-ca02-3975d6f93587"
      },
      "execution_count": 5,
      "outputs": [
        {
          "output_type": "stream",
          "name": "stdout",
          "text": [
            "True\n"
          ]
        }
      ]
    },
    {
      "cell_type": "markdown",
      "source": [
        "**Question 3:**"
      ],
      "metadata": {
        "id": "jcN-kGX3jx6x"
      }
    },
    {
      "cell_type": "code",
      "source": [
        "def addStrings(num1, num2):\n",
        "    result = []\n",
        "    carry = 0\n",
        "    i = len(num1) - 1\n",
        "    j = len(num2) - 1\n",
        "\n",
        "    while i >= 0 or j >= 0 or carry:\n",
        "        digit1 = int(num1[i]) if i >= 0 else 0\n",
        "        digit2 = int(num2[j]) if j >= 0 else 0\n",
        "        digit_sum = digit1 + digit2 + carry\n",
        "        carry = digit_sum // 10\n",
        "        digit_sum %= 10\n",
        "        result.insert(0, str(digit_sum))\n",
        "        i -= 1\n",
        "        j -= 1\n",
        "    return ''.join(result)\n",
        "num1 = \"11\"\n",
        "num2 = \"123\"\n",
        "print(addStrings(num1, num2)) \n"
      ],
      "metadata": {
        "colab": {
          "base_uri": "https://localhost:8080/"
        },
        "id": "MTz7jbN8j0iv",
        "outputId": "23e35aeb-a244-4141-ab8e-cc63bd8facec"
      },
      "execution_count": 9,
      "outputs": [
        {
          "output_type": "stream",
          "name": "stdout",
          "text": [
            "134\n"
          ]
        }
      ]
    },
    {
      "cell_type": "markdown",
      "source": [
        "**Question 4:**"
      ],
      "metadata": {
        "id": "AuMmecPek-zG"
      }
    },
    {
      "cell_type": "code",
      "source": [
        "def ReverseWords(s):\n",
        "    words = s.split()\n",
        "    reversed_words = [word[::-1] for word in words] \n",
        "    reversed_sentence = ' '.join(reversed_words) \n",
        "    return reversed_sentence\n",
        "\n",
        "# Example usage:\n",
        "sentence = \"Let's take LeetCode contest\"\n",
        "print(ReverseWords(sentence))\n"
      ],
      "metadata": {
        "colab": {
          "base_uri": "https://localhost:8080/"
        },
        "id": "O9tmwpjMlBZC",
        "outputId": "2cb236f4-2650-4c46-96f9-965ffe63e074"
      },
      "execution_count": 12,
      "outputs": [
        {
          "output_type": "stream",
          "name": "stdout",
          "text": [
            "s'teL ekat edoCteeL tsetnoc\n"
          ]
        }
      ]
    },
    {
      "cell_type": "markdown",
      "source": [
        "**Question 5:**"
      ],
      "metadata": {
        "id": "EkS0tjIQmIdl"
      }
    },
    {
      "cell_type": "code",
      "source": [
        "def ReverseString(s, k):\n",
        "    result = \"\"\n",
        "    i = 0\n",
        "\n",
        "    while i < len(s):\n",
        "        if i + k <= len(s):\n",
        "            result += s[i:i+k][::-1]\n",
        "        else:\n",
        "            result += s[i:]\n",
        "\n",
        "        if i + 2 * k <= len(s):\n",
        "            result += s[i + k : i + 2 * k]\n",
        "        i += 2 * k\n",
        "    return result\n",
        "\n",
        "s = \"abcdefg\"\n",
        "k = 2\n",
        "print(ReverseString(s, k)) \n"
      ],
      "metadata": {
        "colab": {
          "base_uri": "https://localhost:8080/"
        },
        "id": "Pa86dDI3mKuf",
        "outputId": "e6a81a40-5127-4a72-d488-a86259326041"
      },
      "execution_count": 15,
      "outputs": [
        {
          "output_type": "stream",
          "name": "stdout",
          "text": [
            "bacdfe\n"
          ]
        }
      ]
    },
    {
      "cell_type": "markdown",
      "source": [
        "**Question 6:**"
      ],
      "metadata": {
        "id": "QBPqGqx-mpUI"
      }
    },
    {
      "cell_type": "code",
      "source": [
        "def ShiftToGoal(s, goal):\n",
        "    if len(s) != len(goal):\n",
        "        return False\n",
        "\n",
        "    for _ in range(len(s)):\n",
        "        if s == goal:\n",
        "            return True\n",
        "        s = s[1:] + s[0]\n",
        "\n",
        "    return False\n",
        "s1 = \"abcde\"\n",
        "goal1 = \"cdeab\"\n",
        "print(ShiftToGoal(s1, goal1)) \n",
        "\n"
      ],
      "metadata": {
        "colab": {
          "base_uri": "https://localhost:8080/"
        },
        "id": "cQhXfypKmrxQ",
        "outputId": "e6b00186-c3a3-4c92-bd51-5b85d10510bf"
      },
      "execution_count": 18,
      "outputs": [
        {
          "output_type": "stream",
          "name": "stdout",
          "text": [
            "True\n"
          ]
        }
      ]
    },
    {
      "cell_type": "markdown",
      "source": [
        "**Question 7:**"
      ],
      "metadata": {
        "id": "SXABHnSgneeL"
      }
    },
    {
      "cell_type": "code",
      "source": [
        "def ProcessString(s):\n",
        "    stack = []\n",
        "    for char in s:\n",
        "        if char == '#':\n",
        "            if stack:\n",
        "                stack.pop()\n",
        "        else:\n",
        "            stack.append(char)\n",
        "    return ''.join(stack)\n",
        "\n",
        "def backspace_compare(s, t):\n",
        "    process_s = ProcessString(s)\n",
        "    process_t = ProcessString(t)\n",
        "    return process_s == process_t\n",
        "\n",
        "s = \"ab#c\"\n",
        "t = \"ad#c\"\n",
        "print(backspace_compare(s, t)) \n"
      ],
      "metadata": {
        "colab": {
          "base_uri": "https://localhost:8080/"
        },
        "id": "MyGX4ayqngmM",
        "outputId": "e068a60a-ad41-4857-a365-d0f5a212a7ba"
      },
      "execution_count": 19,
      "outputs": [
        {
          "output_type": "stream",
          "name": "stdout",
          "text": [
            "True\n"
          ]
        }
      ]
    },
    {
      "cell_type": "markdown",
      "source": [
        "**Question 8:**"
      ],
      "metadata": {
        "id": "giHJSs4Ioeuz"
      }
    },
    {
      "cell_type": "code",
      "source": [
        "def StraightLine(coordinates):\n",
        "    if len(coordinates) <= 2:\n",
        "        return True\n",
        "\n",
        "    x0, y0 = coordinates[0]\n",
        "    x1, y1 = coordinates[1]\n",
        "\n",
        "    for i in range(2, len(coordinates)):\n",
        "        x, y = coordinates[i]\n",
        "        if (x1 - x0) * (y - y1) != (x - x1) * (y1 - y0):\n",
        "            return False\n",
        "\n",
        "    return True\n",
        "coordinates = [[1,2],[2,3],[3,4],[4,5],[5,6],[6,7]]\n",
        "print(StraightLine(coordinates)) \n"
      ],
      "metadata": {
        "colab": {
          "base_uri": "https://localhost:8080/"
        },
        "id": "66AJi58bohW1",
        "outputId": "ed17f998-3df2-4689-9e9e-43849327741c"
      },
      "execution_count": 21,
      "outputs": [
        {
          "output_type": "stream",
          "name": "stdout",
          "text": [
            "True\n"
          ]
        }
      ]
    }
  ]
}