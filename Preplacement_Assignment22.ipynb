{
  "nbformat": 4,
  "nbformat_minor": 0,
  "metadata": {
    "colab": {
      "provenance": [],
      "authorship_tag": "ABX9TyOwCl+ttYenVbYfPdbZ0vOl",
      "include_colab_link": true
    },
    "kernelspec": {
      "name": "python3",
      "display_name": "Python 3"
    },
    "language_info": {
      "name": "python"
    }
  },
  "cells": [
    {
      "cell_type": "markdown",
      "metadata": {
        "id": "view-in-github",
        "colab_type": "text"
      },
      "source": [
        "<a href=\"https://colab.research.google.com/github/Sathyakaarthi/Bootcamp-assignments-2022-2023/blob/main/Preplacement_Assignment22.ipynb\" target=\"_parent\"><img src=\"https://colab.research.google.com/assets/colab-badge.svg\" alt=\"Open In Colab\"/></a>"
      ]
    },
    {
      "cell_type": "markdown",
      "source": [
        "**Question 1**"
      ],
      "metadata": {
        "id": "3Km_GwPGHK8i"
      }
    },
    {
      "cell_type": "code",
      "execution_count": null,
      "metadata": {
        "colab": {
          "base_uri": "https://localhost:8080/"
        },
        "id": "Aip-kV-6HJq2",
        "outputId": "81503edf-5d65-4d4d-d948-113122560bfe"
      },
      "outputs": [
        {
          "output_type": "stream",
          "name": "stdout",
          "text": [
            "25 12 30 10 36 15 "
          ]
        }
      ],
      "source": [
        "class Node:\n",
        "    def __init__(self, val):\n",
        "        self.right = None\n",
        "        self.data = val\n",
        "        self.left = None\n",
        "\n",
        "prev = None\n",
        "\n",
        "def BinaryTree2DoubleLinkedList(root):\n",
        "\n",
        "    if root is None:\n",
        "        return root\n",
        "\n",
        "    head = BinaryTree2DoubleLinkedList(root.left);\n",
        "    global prev\n",
        "    if prev is None :\n",
        "        head = root\n",
        "\n",
        "    else:\n",
        "        root.left = prev\n",
        "        prev.right = root\n",
        "    prev = root;\n",
        "    BinaryTree2DoubleLinkedList(root.right);\n",
        "\n",
        "    return head\n",
        "\n",
        "def print_dll(head):\n",
        "    while head is not None:\n",
        "        print(head.data, end=\" \")\n",
        "        head = head.right\n",
        "if __name__ == '__main__':\n",
        "    root = Node(10)\n",
        "    root.left = Node(12)\n",
        "    root.right = Node(15)\n",
        "    root.left.left = Node(25)\n",
        "    root.left.right = Node(30)\n",
        "    root.right.left = Node(36)\n",
        "\n",
        "    head = BinaryTree2DoubleLinkedList(root)\n",
        "    print_dll(head)\n"
      ]
    },
    {
      "cell_type": "markdown",
      "source": [
        "**Question 2**"
      ],
      "metadata": {
        "id": "74dp64OMID_D"
      }
    },
    {
      "cell_type": "code",
      "source": [
        "from collections import deque\n",
        "\n",
        "class Node:\n",
        "\n",
        "    def __init__(self, key):\n",
        "\n",
        "        self.data = key\n",
        "        self.left = None\n",
        "        self.right = None\n",
        "def flipBinaryTree(root):\n",
        "    curr = root\n",
        "    next = None\n",
        "    temp = None\n",
        "    prev = None\n",
        "    while(curr):\n",
        "        next = curr.left\n",
        "        curr.left = temp\n",
        "        temp = curr.right\n",
        "        curr.right = prev\n",
        "\n",
        "        prev = curr\n",
        "        curr = next\n",
        "    return prev\n",
        "def printLevelOrder(root):\n",
        "    if (root == None):\n",
        "        return\n",
        "    q = deque()\n",
        "    q.append(root)\n",
        "\n",
        "    while (1):\n",
        "        nodeCount = len(q)\n",
        "        if (nodeCount == 0):\n",
        "            break\n",
        "        while (nodeCount > 0):\n",
        "            node = q.popleft()\n",
        "            print(node.data, end = \" \")\n",
        "\n",
        "            if (node.left != None):\n",
        "                q.append(node.left)\n",
        "\n",
        "            if (node.right != None):\n",
        "                q.append(node.right)\n",
        "            nodeCount -= 1\n",
        "\n",
        "        print()\n",
        "if __name__ == '__main__':\n",
        "\n",
        "    root = Node(1)\n",
        "    root.left = Node(2)\n",
        "    root.right = Node(3)\n",
        "    root.right.left = Node(4)\n",
        "    root.right.right = Node(5)\n",
        "\n",
        "    print(\"Level order traversal of given tree\")\n",
        "    printLevelOrder(root)\n",
        "\n",
        "    root = flipBinaryTree(root)\n",
        "\n",
        "    print(\"\\nLevel order traversal of the flipped tree\")\n",
        "    printLevelOrder(root)\n",
        ""
      ],
      "metadata": {
        "colab": {
          "base_uri": "https://localhost:8080/"
        },
        "id": "0hXRYoJoJWMu",
        "outputId": "8828e5ae-25c2-46ee-f340-5380db236137"
      },
      "execution_count": 4,
      "outputs": [
        {
          "output_type": "stream",
          "name": "stdout",
          "text": [
            "Level order traversal of given tree\n",
            "1 \n",
            "2 3 \n",
            "4 5 \n",
            "\n",
            "Level order traversal of the flipped tree\n",
            "2 \n",
            "3 1 \n",
            "4 5 \n"
          ]
        }
      ]
    },
    {
      "cell_type": "markdown",
      "source": [
        "**Question 3**"
      ],
      "metadata": {
        "id": "H5jGZIH1Jz0Y"
      }
    },
    {
      "cell_type": "code",
      "source": [
        "class newNode:\n",
        "    def __init__(self, data):\n",
        "        self.data = data\n",
        "        self.left = self.right = None\n",
        "def printTopToBottomPath(curr, parent):\n",
        "    stk = []\n",
        "    while (curr):\n",
        "        stk.append(curr)\n",
        "        curr = parent[curr]\n",
        "    while len(stk) != 0:\n",
        "        curr = stk[-1]\n",
        "        stk.pop(-1)\n",
        "        print(curr.data, end = \" \")\n",
        "    print()\n",
        "def printRootToLeaf(root):\n",
        "    if (root == None):\n",
        "        return\n",
        "    nodeStack = []\n",
        "    nodeStack.append(root)\n",
        "    parent = {}\n",
        "    parent[root] = None\n",
        "\n",
        "    while len(nodeStack) != 0:\n",
        "        current = nodeStack[-1]\n",
        "        nodeStack.pop(-1)\n",
        "        if (not (current.left) and\n",
        "            not (current.right)):\n",
        "            printTopToBottomPath(current, parent)\n",
        "        if (current.right):\n",
        "            parent[current.right] = current\n",
        "            nodeStack.append(current.right)\n",
        "        if (current.left):\n",
        "            parent[current.left] = current\n",
        "            nodeStack.append(current.left)\n",
        "\n",
        "if __name__ == '__main__':\n",
        "\n",
        "    root = newNode(6)\n",
        "    root.left = newNode(3)\n",
        "    root.right = newNode(5)\n",
        "    root.left.left = newNode(2)\n",
        "    root.left.right = newNode(5)\n",
        "    root.right.right = newNode(4)\n",
        "    root.left.right.left = newNode(7)\n",
        "    root.left.right.right = newNode(4)\n",
        "\n",
        "    printRootToLeaf(root)\n",
        ""
      ],
      "metadata": {
        "colab": {
          "base_uri": "https://localhost:8080/"
        },
        "id": "qYMa97tBJ3LH",
        "outputId": "96a9f5f6-e06f-45cf-f42c-71fd99f0d081"
      },
      "execution_count": 6,
      "outputs": [
        {
          "output_type": "stream",
          "name": "stdout",
          "text": [
            "6 3 2 \n",
            "6 3 5 7 \n",
            "6 3 5 4 \n",
            "6 5 4 \n"
          ]
        }
      ]
    },
    {
      "cell_type": "markdown",
      "source": [
        "**Question 4**"
      ],
      "metadata": {
        "id": "7fvNfLVQLV8y"
      }
    },
    {
      "cell_type": "code",
      "source": [
        "class node:\n",
        "\n",
        "    def __init__(self, x):\n",
        "\n",
        "        self.data = x\n",
        "        self.left = None\n",
        "        self.right = None\n",
        "\n",
        "preIndex = 0\n",
        "def search(arr, strt, end, value):\n",
        "\n",
        "    for i in range(strt, end + 1):\n",
        "        if(arr[i] == value):\n",
        "            return i\n",
        "def buildTree(inn, pre, inStrt, inEnd):\n",
        "\n",
        "    global preIndex\n",
        "\n",
        "    if(inStrt > inEnd):\n",
        "        return None\n",
        "    tNode = node(pre[preIndex])\n",
        "    preIndex += 1\n",
        "    if (inStrt == inEnd):\n",
        "        return tNode\n",
        "    inIndex = search(inn, inStrt,\n",
        "                     inEnd, tNode.data)\n",
        "    tNode.left = buildTree(inn, pre, inStrt,\n",
        "                           inIndex - 1)\n",
        "    tNode.right = buildTree(inn, pre,\n",
        "                            inIndex + 1, inEnd)\n",
        "\n",
        "    return tNode\n",
        "def checkPostorder(node, postOrder, index):\n",
        "    if (node == None):\n",
        "        return index\n",
        "    index = checkPostorder(node.left,\n",
        "                           postOrder,\n",
        "                           index)\n",
        "    index = checkPostorder(node.right,\n",
        "                           postOrder,\n",
        "                           index)\n",
        "    if (node.data == postOrder[index]):\n",
        "        index += 1\n",
        "    else:\n",
        "        return - 1\n",
        "\n",
        "    return index\n",
        "if __name__ == '__main__':\n",
        "\n",
        "    inOrder = [4, 2, 5, 1, 3]\n",
        "    preOrder = [1, 2, 4, 5, 3]\n",
        "    postOrder = [4, 5, 2, 3, 1]\n",
        "    lenn = len(inOrder)\n",
        "    print(\"Inorder -> \", inOrder)\n",
        "    print(\"Preorder -> \", preOrder)\n",
        "    print(\"Postorder ->\", postOrder)\n",
        "    root = buildTree(inOrder, preOrder,\n",
        "                     0, lenn - 1)\n",
        "    index = checkPostorder(root, postOrder, 0)\n",
        "    if (index == lenn):\n",
        "        print(\"Yes\")\n",
        "    else:\n",
        "        print(\"No\")"
      ],
      "metadata": {
        "colab": {
          "base_uri": "https://localhost:8080/"
        },
        "id": "qx_yhPZeLcDa",
        "outputId": "f7b4ebe1-eb9a-4b2c-ac79-0605037e96e1"
      },
      "execution_count": 11,
      "outputs": [
        {
          "output_type": "stream",
          "name": "stdout",
          "text": [
            "Inorder ->  [4, 2, 5, 1, 3]\n",
            "Preorder ->  [1, 2, 4, 5, 3]\n",
            "Postorder -> [4, 5, 2, 3, 1]\n",
            "Yes\n"
          ]
        }
      ]
    }
  ]
}