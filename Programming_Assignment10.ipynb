{
  "nbformat": 4,
  "nbformat_minor": 0,
  "metadata": {
    "colab": {
      "provenance": [],
      "authorship_tag": "ABX9TyNhLZ2jaoCFBB00yHFUoSne",
      "include_colab_link": true
    },
    "kernelspec": {
      "name": "python3",
      "display_name": "Python 3"
    },
    "language_info": {
      "name": "python"
    }
  },
  "cells": [
    {
      "cell_type": "markdown",
      "metadata": {
        "id": "view-in-github",
        "colab_type": "text"
      },
      "source": [
        "<a href=\"https://colab.research.google.com/github/Sathyakaarthi/Bootcamp-assignments-2022-2023/blob/main/Programming_Assignment10.ipynb\" target=\"_parent\"><img src=\"https://colab.research.google.com/assets/colab-badge.svg\" alt=\"Open In Colab\"/></a>"
      ]
    },
    {
      "cell_type": "markdown",
      "source": [
        "**Question 1**\n",
        "\n",
        "Write a Python program to find sum of elements in list?"
      ],
      "metadata": {
        "id": "17GqyoAAws1M"
      }
    },
    {
      "cell_type": "code",
      "execution_count": 3,
      "metadata": {
        "colab": {
          "base_uri": "https://localhost:8080/"
        },
        "id": "uCHdypLtwr8g",
        "outputId": "9b3c8f9d-7e68-4736-e11f-e16078abada0"
      },
      "outputs": [
        {
          "output_type": "stream",
          "name": "stdout",
          "text": [
            "Enter the lenth of your list : 4\n",
            "12\n",
            "21\n",
            "32\n",
            "43\n",
            "The List is  [12, 21, 32, 43]\n",
            "Sum of elements in List 108\n"
          ]
        }
      ],
      "source": [
        "n = int(input(\"Enter the lenth of your list : \"))\n",
        "list = []\n",
        "\n",
        "for i in range(n):\n",
        "    list.append(int(input()))\n",
        "print(\"The List is \",list)\n",
        "print(\"Sum of elements in List\",sum(list))"
      ]
    },
    {
      "cell_type": "markdown",
      "source": [
        "**Question 2**\n",
        "\n",
        "Write a Python program to Multiply all numbers in the list?"
      ],
      "metadata": {
        "id": "6CpfMtpRxvZA"
      }
    },
    {
      "cell_type": "code",
      "source": [
        "n = int(input(\"Enter the lenth of your list : \"))\n",
        "list = []\n",
        "\n",
        "for i in range(n):\n",
        "    list.append(int(input()))\n",
        "print(\"The List is \",list)\n",
        "product = 1\n",
        "for i in list:\n",
        "    product = product*i\n",
        "print(\"Product of elements in List is :\",product)"
      ],
      "metadata": {
        "colab": {
          "base_uri": "https://localhost:8080/"
        },
        "id": "3miVpZqex41L",
        "outputId": "4eb37f11-adcd-4252-c08b-20dcb6f16318"
      },
      "execution_count": 4,
      "outputs": [
        {
          "output_type": "stream",
          "name": "stdout",
          "text": [
            "Enter the lenth of your list : 3\n",
            "2\n",
            "3\n",
            "4\n",
            "The List is  [2, 3, 4]\n",
            "Product of elements in List is : 24\n"
          ]
        }
      ]
    },
    {
      "cell_type": "markdown",
      "source": [
        "**Question 3**\n",
        "\n",
        "Write a Python program to find smallest number in a list?"
      ],
      "metadata": {
        "id": "XUh9xMNeyKs4"
      }
    },
    {
      "cell_type": "code",
      "source": [
        "\n",
        "n = int(input(\"Enter the lenth of your list : \"))\n",
        "list = []\n",
        "\n",
        "for i in range(n):\n",
        "    list.append(int(input()))\n",
        "print(\"The List is \",list)\n",
        "print(\"The Smallest number in the list is :\",min(list))"
      ],
      "metadata": {
        "colab": {
          "base_uri": "https://localhost:8080/"
        },
        "id": "CvSd4JxHyRud",
        "outputId": "7f831e35-0f61-4d2b-d7a8-4f89e12e094e"
      },
      "execution_count": 5,
      "outputs": [
        {
          "output_type": "stream",
          "name": "stdout",
          "text": [
            "Enter the lenth of your list : 4\n",
            "22\n",
            "43\n",
            "12\n",
            "53\n",
            "The List is  [22, 43, 12, 53]\n",
            "The Smallest number in the list is : 12\n"
          ]
        }
      ]
    },
    {
      "cell_type": "markdown",
      "source": [
        "**Question 4**\n",
        "\n",
        "Write a Python program to find largest number in a list?"
      ],
      "metadata": {
        "id": "-4axH8gPyk7h"
      }
    },
    {
      "cell_type": "code",
      "source": [
        "\n",
        "n = int(input(\"Enter the lenth of your list : \"))\n",
        "list = []\n",
        "\n",
        "for i in range(n):\n",
        "    list.append(int(input()))\n",
        "print(\"The List is \",list)\n",
        "print(\"The largest number in the list is :\",max(list))"
      ],
      "metadata": {
        "colab": {
          "base_uri": "https://localhost:8080/"
        },
        "id": "xf0XcAHnytn_",
        "outputId": "d3131a14-c04b-43a3-ff34-fd96fe65a464"
      },
      "execution_count": 7,
      "outputs": [
        {
          "output_type": "stream",
          "name": "stdout",
          "text": [
            "Enter the lenth of your list : 5\n",
            "12\n",
            "32\n",
            "21\n",
            "54\n",
            "65\n",
            "The List is  [12, 32, 21, 54, 65]\n",
            "The largest number in the list is : 65\n"
          ]
        }
      ]
    },
    {
      "cell_type": "markdown",
      "source": [
        "**Question 5**\n",
        "\n",
        "Write a Python program to find second largest number in a list?"
      ],
      "metadata": {
        "id": "9ZQzj6mny8tx"
      }
    },
    {
      "cell_type": "code",
      "source": [
        "\n",
        "n = int(input(\"Enter the lenth of your list : \"))\n",
        "list = []\n",
        "\n",
        "for i in range(n):\n",
        "    list.append(int(input()))\n",
        "print(\"The List is \",list)\n",
        "list.sort()\n",
        "print(\"The sorted list is \",list)\n",
        "print(\"The second largest number in the list is \",list[-2])"
      ],
      "metadata": {
        "colab": {
          "base_uri": "https://localhost:8080/"
        },
        "id": "xyMb9UKDzC93",
        "outputId": "d376c6de-d8de-4858-ed49-1b9f52b3dec1"
      },
      "execution_count": 8,
      "outputs": [
        {
          "output_type": "stream",
          "name": "stdout",
          "text": [
            "Enter the lenth of your list : 5\n",
            "23\n",
            "34\n",
            "12\n",
            "53\n",
            "47\n",
            "The List is  [23, 34, 12, 53, 47]\n",
            "The sorted list is  [12, 23, 34, 47, 53]\n",
            "The second largest number in the list is  47\n"
          ]
        }
      ]
    },
    {
      "cell_type": "markdown",
      "source": [
        "**Question 6**\n",
        "\n",
        "Write a Python program to find N largest elements from a list?"
      ],
      "metadata": {
        "id": "Ck4YbiGSzaeD"
      }
    },
    {
      "cell_type": "code",
      "source": [
        "\n",
        "n = int(input(\"Enter the lenth of your list : \"))\n",
        "list = []\n",
        "\n",
        "for i in range(n):\n",
        "    list.append(int(input()))\n",
        "print(\"The List is \",list)\n",
        "list.sort()\n",
        "print(\"The sorted list is \",list)\n",
        "nlar = int(input(\"Enter how many largest number you want from list:\"))\n",
        "\n",
        "if n < nlar :\n",
        "    print(\"enterted value is larger then the length of list\")\n",
        "else:\n",
        "    print(nlar,\"largest elements from the list are :\",list[(n-nlar):])"
      ],
      "metadata": {
        "colab": {
          "base_uri": "https://localhost:8080/"
        },
        "id": "N9I9LfWtzdNP",
        "outputId": "95c81a5d-e841-4047-eeab-7041c4bd2ec4"
      },
      "execution_count": 10,
      "outputs": [
        {
          "output_type": "stream",
          "name": "stdout",
          "text": [
            "Enter the lenth of your list : 7\n",
            "32\n",
            "12\n",
            "76\n",
            "43\n",
            "54\n",
            "65\n",
            "3\n",
            "The List is  [32, 12, 76, 43, 54, 65, 3]\n",
            "The sorted list is  [3, 12, 32, 43, 54, 65, 76]\n",
            "Enter how many largest number you want from list:3\n",
            "3 largest elements from the list are : [54, 65, 76]\n"
          ]
        }
      ]
    },
    {
      "cell_type": "markdown",
      "source": [
        "**Question 7**\n",
        "\n",
        "Write a Python program to print even numbers in a list?"
      ],
      "metadata": {
        "id": "yaLU8Uzn0Jyh"
      }
    },
    {
      "cell_type": "code",
      "source": [
        "length =  int(input(\"Enter  the len of the list :\"))\n",
        "list = []\n",
        "for i in  range(length):\n",
        "  list.append(int(input()))\n",
        "print(\"The List is :\" ,list)\n",
        "even = [i for i in list if i % 2 == 0 ]\n",
        "print(\"The even numbers in list are :\" , even)"
      ],
      "metadata": {
        "colab": {
          "base_uri": "https://localhost:8080/"
        },
        "id": "0SqZp3yX0Ojp",
        "outputId": "629ac6f4-a297-4956-9fc7-ae4397ccdc2f"
      },
      "execution_count": 11,
      "outputs": [
        {
          "output_type": "stream",
          "name": "stdout",
          "text": [
            "Enter  the len of the list :6\n",
            "32\n",
            "44\n",
            "53\n",
            "22\n",
            "65\n",
            "78\n",
            "The List is : [32, 44, 53, 22, 65, 78]\n",
            "The even numbers in list are : [32, 44, 22, 78]\n"
          ]
        }
      ]
    },
    {
      "cell_type": "markdown",
      "source": [
        "**Question 8**\n",
        "\n",
        "Write a Python program to print odd numbers in a List?"
      ],
      "metadata": {
        "id": "6sgzXTbE0wvS"
      }
    },
    {
      "cell_type": "code",
      "source": [
        "\n",
        "length =  int(input(\"Enter  the length of the list :\"))\n",
        "list = []\n",
        "for i in  range(length):\n",
        "  list.append(int(input()))\n",
        "print(\"The List is :\" ,list)\n",
        "odd = [i for i in list if i % 2 != 0 ]\n",
        "print(\"The odd numbers in list are : \" , odd)"
      ],
      "metadata": {
        "colab": {
          "base_uri": "https://localhost:8080/"
        },
        "id": "f_tNPO6O04MA",
        "outputId": "64864e5b-3e73-4e20-b6ed-d2f70c43b4a8"
      },
      "execution_count": 12,
      "outputs": [
        {
          "output_type": "stream",
          "name": "stdout",
          "text": [
            "Enter  the length of the list :6\n",
            "32\n",
            "41\n",
            "53\n",
            "16\n",
            "9\n",
            "69\n",
            "The List is : [32, 41, 53, 16, 9, 69]\n",
            "The odd numbers in list are :  [41, 53, 9, 69]\n"
          ]
        }
      ]
    },
    {
      "cell_type": "markdown",
      "source": [
        "**Question 9**\n",
        "\n",
        "Write a Python program to Remove empty List from List?"
      ],
      "metadata": {
        "id": "d_zgbCMl1Td3"
      }
    },
    {
      "cell_type": "code",
      "source": [
        "\n",
        "list = [32,[],43,[],12,43,[],[],36]\n",
        "print(\"The List is :\",list)\n",
        "new_list = [item for item in list if item != []]\n",
        "print(\"The list after removing empty lists :\" , new_list)"
      ],
      "metadata": {
        "colab": {
          "base_uri": "https://localhost:8080/"
        },
        "id": "ZvZ0HluD1Y2m",
        "outputId": "ad4832b3-c7ad-46bc-c586-ab806fa351e6"
      },
      "execution_count": 14,
      "outputs": [
        {
          "output_type": "stream",
          "name": "stdout",
          "text": [
            "The List is : [32, [], 43, [], 12, 43, [], [], 36]\n",
            "The list after removing empty lists : [32, 43, 12, 43, 36]\n"
          ]
        }
      ]
    },
    {
      "cell_type": "markdown",
      "source": [
        "**Question 10**\n",
        "\n",
        "Write a Python program to Cloning or Copying a list?"
      ],
      "metadata": {
        "id": "a5eIcoxr1w3h"
      }
    },
    {
      "cell_type": "code",
      "source": [
        "\n",
        "n = int(input(\"Enter the length of your list : \"))\n",
        "list = []\n",
        "\n",
        "for i in range(n):\n",
        "    list.append(int(input()))\n",
        "print(\"The List is \",list)\n",
        "\n",
        "list_copy = list.copy()\n",
        "print(\"Cloning or copying list \",list_copy)"
      ],
      "metadata": {
        "colab": {
          "base_uri": "https://localhost:8080/"
        },
        "id": "qK2Qz5PH11yT",
        "outputId": "8409ae59-75e9-4826-f8e2-a420476bef49"
      },
      "execution_count": 16,
      "outputs": [
        {
          "output_type": "stream",
          "name": "stdout",
          "text": [
            "Enter the length of your list : 5\n",
            "32\n",
            "12\n",
            "54\n",
            "44\n",
            "76\n",
            "The List is  [32, 12, 54, 44, 76]\n",
            "Cloning or copying list  [32, 12, 54, 44, 76]\n"
          ]
        }
      ]
    },
    {
      "cell_type": "markdown",
      "source": [
        "**Question 11**\n",
        "\n",
        "Write a Python program to Count occurrences of an element in a list?"
      ],
      "metadata": {
        "id": "EE5mCkh02Wxh"
      }
    },
    {
      "cell_type": "code",
      "source": [
        "length = int(input(\"Enter the length of your list : \"))\n",
        "list = []\n",
        "\n",
        "for i in range(length):\n",
        "    list.append(int(input()))\n",
        "print(\"The List is \",list)\n",
        "element = int(input(\"Enter the element to find its occurance : \"))\n",
        "print(element,\"has occured {} times in the list \".format(list.count(element)))\n"
      ],
      "metadata": {
        "colab": {
          "base_uri": "https://localhost:8080/"
        },
        "id": "rGZ6eIz72boT",
        "outputId": "132ae7f3-899e-4fb6-c0a3-30591e7b48c7"
      },
      "execution_count": 17,
      "outputs": [
        {
          "output_type": "stream",
          "name": "stdout",
          "text": [
            "Enter the length of your list : 5\n",
            "32\n",
            "44\n",
            "54\n",
            "32\n",
            "16\n",
            "The List is  [32, 44, 54, 32, 16]\n",
            "Enter the element to find its occurance : 32\n",
            "32 has occured 2 times in the list \n"
          ]
        }
      ]
    }
  ]
}