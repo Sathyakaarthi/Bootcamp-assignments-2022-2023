{
  "nbformat": 4,
  "nbformat_minor": 0,
  "metadata": {
    "colab": {
      "provenance": [],
      "authorship_tag": "ABX9TyNaw1y7DjeVpUnmMz/ZrM46",
      "include_colab_link": true
    },
    "kernelspec": {
      "name": "python3",
      "display_name": "Python 3"
    },
    "language_info": {
      "name": "python"
    }
  },
  "cells": [
    {
      "cell_type": "markdown",
      "metadata": {
        "id": "view-in-github",
        "colab_type": "text"
      },
      "source": [
        "<a href=\"https://colab.research.google.com/github/Sathyakaarthi/Bootcamp-assignments-2022-2023/blob/main/Python_Advanced_Assignment21.ipynb\" target=\"_parent\"><img src=\"https://colab.research.google.com/assets/colab-badge.svg\" alt=\"Open In Colab\"/></a>"
      ]
    },
    {
      "cell_type": "markdown",
      "source": [
        "**1. What is a probability distribution, exactly? If the values are meant to be random, how can you predict them at all ?**\n",
        "\n",
        "*Ans:*\n",
        "\n",
        "A probability distribution describes how a random variable is distributed.\n",
        "\n",
        "It tells us which values a random variable is most likely to take on and which values are less likely. Based on the previous data and the occurences of the random event, we can predict the outcome in terms of probabilities."
      ],
      "metadata": {
        "id": "gJH-ckWWs4p6"
      }
    },
    {
      "cell_type": "markdown",
      "source": [
        "**2. Is there a distinction between true random numbers and pseudo-random numbers, if there is one? Why are the latter considered “good enough”?**\n",
        "\n",
        "*Ans:*\n",
        "\n",
        "True Random Numbers are true physical values while pseudo-random numbers are generated internally by a program . Latter is considered good enough as they have sort of uniform distribution."
      ],
      "metadata": {
        "id": "2dTrHsfltEoE"
      }
    },
    {
      "cell_type": "markdown",
      "source": [
        "**3. What are the two main factors that influence the behaviour of a \"normal\" probability distribution ?**\n",
        "\n",
        "*Ans:*\n",
        "\n",
        "Normal Probability Distribution are influenced by two factors mean and the variance."
      ],
      "metadata": {
        "id": "5YXN0KoktPqo"
      }
    },
    {
      "cell_type": "markdown",
      "source": [
        "**4.  Provide a real-life example of a normal distribution ?**\n",
        "\n",
        "*Ans:*\n",
        "\n",
        "A Real-life example of a normal distribution are heights or blood pressure measurements."
      ],
      "metadata": {
        "id": "WSvOhAGGtbC9"
      }
    },
    {
      "cell_type": "markdown",
      "source": [
        "**5. In the short term, how can you expect a probability distribution to behave? What do you think will happen as the number of trials grows ?**\n",
        "\n",
        "*Ans:*\n",
        "\n",
        "Variance will decrease with number of trials"
      ],
      "metadata": {
        "id": "h9QobgfOtlnd"
      }
    },
    {
      "cell_type": "markdown",
      "source": [
        "**6. What kind of object can be shuffled by using random.shuffle ?**\n",
        "\n",
        "*Ans:*\n",
        "\n",
        " lists (list), strings (str) and tuples (tuple) objects can be shuffled by using random.shuffle."
      ],
      "metadata": {
        "id": "4Ou3ekPqtxN1"
      }
    },
    {
      "cell_type": "markdown",
      "source": [
        "**7. Describe the math package's general categories of functions ?**\n",
        "\n",
        "*Ans*\n",
        "\n",
        "The Math package's general categories of functions are:\n",
        "\n",
        "1. Trigonometric functions\n",
        "2. Quadratic functions\n",
        "3. Exponential functions\n",
        "4. Hyperbolic functions\n",
        "5. Periodic functions\n",
        "6. Arithmetic functions\n",
        "7. Logarithimic functions\n",
        "8. Conversions to Integer"
      ],
      "metadata": {
        "id": "k-C-Eq0Qt5XM"
      }
    },
    {
      "cell_type": "markdown",
      "source": [
        "**8. What is the relationship between exponentiation and logarithms ?**\n",
        "\n",
        "*Ans:*\n",
        "\n",
        "Exponentiation and logarithms are inverse of each other."
      ],
      "metadata": {
        "id": "WyIc_CyMuN-O"
      }
    },
    {
      "cell_type": "markdown",
      "source": [
        "**9. What are the three logarithmic functions that Python supports ?**\n",
        "\n",
        "*Ans:*\n",
        "\n",
        "The Three Logarithmic Functions that Python supports are:\n",
        "\n",
        "log2(x) - logarithmic value of x to base 2\n",
        "\n",
        "log10(x) - logarithmic value of x to base 10\n",
        "\n",
        "log1p(a) - This function is used to compute logarithm(1+a) ."
      ],
      "metadata": {
        "id": "FK8nSp3Lucgc"
      }
    },
    {
      "cell_type": "code",
      "execution_count": null,
      "metadata": {
        "id": "MSpdjUECrvQm"
      },
      "outputs": [],
      "source": []
    }
  ]
}