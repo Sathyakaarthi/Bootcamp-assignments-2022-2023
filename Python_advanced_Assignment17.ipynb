{
  "nbformat": 4,
  "nbformat_minor": 0,
  "metadata": {
    "colab": {
      "provenance": [],
      "authorship_tag": "ABX9TyOR57AqDE3YWa4Btk2s61pe",
      "include_colab_link": true
    },
    "kernelspec": {
      "name": "python3",
      "display_name": "Python 3"
    },
    "language_info": {
      "name": "python"
    }
  },
  "cells": [
    {
      "cell_type": "markdown",
      "metadata": {
        "id": "view-in-github",
        "colab_type": "text"
      },
      "source": [
        "<a href=\"https://colab.research.google.com/github/Sathyakaarthi/Bootcamp-assignments-2022-2023/blob/main/Python_advanced_Assignment17.ipynb\" target=\"_parent\"><img src=\"https://colab.research.google.com/assets/colab-badge.svg\" alt=\"Open In Colab\"/></a>"
      ]
    },
    {
      "cell_type": "markdown",
      "source": [
        "**1. Explain the difference between greedy and non-greedy syntax with visual terms in as few words as possible. What is the bare minimum effort required to transform a greedy pattern into a non-greedy one? What characters or characters can you introduce or change?**\n",
        "\n",
        "*Ans:*\n",
        "\n",
        "The Main difference between Greedy and Non Greedy Match Syntax is The Greedy Match will try to match as many repetitions of the quantified pattern as possible Whereas The Non Greedy Match will try to match as few repetitions of the quantified pattern as possible"
      ],
      "metadata": {
        "id": "4qKssoMT0WCA"
      }
    },
    {
      "cell_type": "code",
      "source": [
        "import re\n",
        "print(re.findall(\"v*\", \"vvvvvv\"))\n",
        "print(re.findall(\"v*?\", \"vvvvvv\"))"
      ],
      "metadata": {
        "colab": {
          "base_uri": "https://localhost:8080/"
        },
        "id": "eTosXu7f0857",
        "outputId": "54707350-1b93-4c01-8120-9923fd0c596b"
      },
      "execution_count": 1,
      "outputs": [
        {
          "output_type": "stream",
          "name": "stdout",
          "text": [
            "['vvvvvv', '']\n",
            "['', 'v', '', 'v', '', 'v', '', 'v', '', 'v', '', 'v', '']\n"
          ]
        }
      ]
    },
    {
      "cell_type": "markdown",
      "source": [
        "**2. When exactly does greedy versus non-greedy make a difference? What if you're looking for a non-greedy match but the only one available is greedy?**\n",
        "\n",
        "*Ans:*\n",
        "\n",
        "The Greedy Match will try to match as many repetitions of the quantified pattern as possible. The Non Greedy Match will try to match as few repetitions of the quantified pattern as possible. If only Non Greedy Match is available, we can use other filtering or pattern matching methods of regex and further identify the required pattern."
      ],
      "metadata": {
        "id": "MiByJz470iX8"
      }
    },
    {
      "cell_type": "markdown",
      "source": [
        "**3. In a simple match of a string, which looks only for one match and does not do any replacement, is the use of a nontagged group likely to make any practical difference?**\n",
        "\n",
        "*Ans:*\n",
        "\n",
        "In this Case The Non Tagged Group will not make any diffrence in this case."
      ],
      "metadata": {
        "id": "jNfH0EeF0s-D"
      }
    },
    {
      "cell_type": "code",
      "execution_count": 2,
      "metadata": {
        "colab": {
          "base_uri": "https://localhost:8080/"
        },
        "id": "1J1jDy3O0Qry",
        "outputId": "9e3e96f2-f448-49b4-c814-8081f8d3fe16"
      },
      "outputs": [
        {
          "output_type": "stream",
          "name": "stdout",
          "text": [
            "Phone number found -> 234\n",
            "Phone number found -> 234\n"
          ]
        }
      ],
      "source": [
        "import re\n",
        "phoneNumRegex = re.compile(r'\\d\\d\\d')\n",
        "num = phoneNumRegex.search('My number is 234-567-8901.')\n",
        "print(f'Phone number found -> {num.group()}')\n",
        "print(f'Phone number found -> {num.group(0)}')"
      ]
    },
    {
      "cell_type": "markdown",
      "source": [
        "**4. Describe a scenario in which using a nontagged category would have a significant impact on the program's outcomes ?**\n",
        "\n",
        "*Ans:*\n",
        "\n",
        "Here in the below **Code Snippet .** decimal is not tagged or captured. It will useful in scenarios where the separator of value in a string is of no use and we need to capture only the values."
      ],
      "metadata": {
        "id": "ojnwN3EV1Owk"
      }
    },
    {
      "cell_type": "code",
      "source": [
        "import re\n",
        "text='135.456'\n",
        "pattern=r'(\\d+)(?:.)(\\d+)'\n",
        "regobj=re.compile(pattern)\n",
        "matobj=regobj.search(text)\n",
        "matobj.groups()"
      ],
      "metadata": {
        "colab": {
          "base_uri": "https://localhost:8080/"
        },
        "id": "_pqlOoxM2JEw",
        "outputId": "9f6439d7-6285-49ec-d838-20b8d0a40186"
      },
      "execution_count": 3,
      "outputs": [
        {
          "output_type": "execute_result",
          "data": {
            "text/plain": [
              "('135', '456')"
            ]
          },
          "metadata": {},
          "execution_count": 3
        }
      ]
    },
    {
      "cell_type": "markdown",
      "source": [
        "**5. Unlike a normal regex pattern, a look-ahead condition does not consume the characters it examines. Describe a situation in which this could make a difference in the results of your programme ?**\n",
        "\n",
        "*Ans:*\n",
        "\n",
        "While counting the number of multiple lines or mutiple sentence in a string the positive look ahead makes a difference, without which we wont get the correct count of lines or sentences in a string."
      ],
      "metadata": {
        "id": "Y4TnKc4r1cIk"
      }
    },
    {
      "cell_type": "markdown",
      "source": [
        "**6. In standard expressions, what is the difference between positive look-ahead and negative look-ahead ?**\n",
        "\n",
        "*Ans:*\n",
        "\n",
        "Positive Lookahead allows to add a condition for **what follows**. Negative Lookahead is similar, but it looks behind. That is, it allows to match a pattern only if there’s something before it."
      ],
      "metadata": {
        "id": "QJyzF8eV1n1Y"
      }
    },
    {
      "cell_type": "markdown",
      "source": [
        "**7. What is the benefit of referring to groups by name rather than by number in a standard expression?**\n",
        "\n",
        "*Ans:*\n",
        "\n",
        "Referring to groups by name rather than by number in a standard expression helps to keep the code clear and easy to understand."
      ],
      "metadata": {
        "id": "-92cPCTO15F7"
      }
    },
    {
      "cell_type": "markdown",
      "source": [
        "**8. Can you identify repeated items within a target string using named groups, as in \"The cow jumped over the moon\"?**"
      ],
      "metadata": {
        "id": "w884kFbN2Lej"
      }
    },
    {
      "cell_type": "code",
      "source": [
        "import re\n",
        "text = \"The cow jumped over the moon\"\n",
        "regobj=re.compile(r'(?P<w1>The)',re.I)\n",
        "regobj.findall(text)"
      ],
      "metadata": {
        "colab": {
          "base_uri": "https://localhost:8080/"
        },
        "id": "lDMDoRYD2c1w",
        "outputId": "9e020809-3b8e-404a-f97d-8557287a3b0e"
      },
      "execution_count": 4,
      "outputs": [
        {
          "output_type": "execute_result",
          "data": {
            "text/plain": [
              "['The', 'the']"
            ]
          },
          "metadata": {},
          "execution_count": 4
        }
      ]
    },
    {
      "cell_type": "markdown",
      "source": [
        "**9. When parsing a string, what is at least one thing that the Scanner interface does for you that the re.findall feature does not ?**\n",
        "\n",
        "*Ans:*\n",
        "\n",
        "**re.findall()** module is used to search for all occurrences that match a given pattern. In contrast, **re.search()** will only return the first occurrence that matches the specified pattern. **re.findall()** will iterate over all the lines of the file and will return all non-overlapping matches of pattern in a single step."
      ],
      "metadata": {
        "id": "onyTjmoZ2grp"
      }
    },
    {
      "cell_type": "markdown",
      "source": [
        "**10. Does a scanner object have to be named scanner?**\n",
        "\n",
        "*Ans:*\n",
        "\n",
        "Yes, It may have any name."
      ],
      "metadata": {
        "id": "90tY4tEQ2sjl"
      }
    }
  ]
}