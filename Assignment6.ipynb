{
  "nbformat": 4,
  "nbformat_minor": 0,
  "metadata": {
    "colab": {
      "provenance": [],
      "authorship_tag": "ABX9TyP7MB+Aah7NeMcjHHYnAhqv",
      "include_colab_link": true
    },
    "kernelspec": {
      "name": "python3",
      "display_name": "Python 3"
    },
    "language_info": {
      "name": "python"
    }
  },
  "cells": [
    {
      "cell_type": "markdown",
      "metadata": {
        "id": "view-in-github",
        "colab_type": "text"
      },
      "source": [
        "<a href=\"https://colab.research.google.com/github/Sathyakaarthi/Bootcamp-assignments-2022-2023/blob/main/Assignment6.ipynb\" target=\"_parent\"><img src=\"https://colab.research.google.com/assets/colab-badge.svg\" alt=\"Open In Colab\"/></a>"
      ]
    },
    {
      "cell_type": "markdown",
      "source": [
        "#1. What are escape characters, and how do you use them?\n",
        "\n",
        "*Solution:*\n",
        "\n",
        "Escape characters represent characters in string values that would otherwise be difficult or impossible to type into code. The escape character allows us to use double quotes when you normally would not be allowed."
      ],
      "metadata": {
        "id": "CbOqVtYsgWYD"
      }
    },
    {
      "cell_type": "markdown",
      "source": [
        "#2. What do the escape characters n and t stand for?\n",
        "\n",
        "*Solution:*\n",
        "\n",
        "*  \\n is a newline\n",
        "*  \\t is a tab"
      ],
      "metadata": {
        "id": "1IEfobWuhM9X"
      }
    },
    {
      "cell_type": "markdown",
      "source": [
        "#3. What is the way to include backslash characters in a string?\n",
        "\n",
        "*Solution:*\n",
        "\n",
        "The \\\\ escape character will represent a backslash character."
      ],
      "metadata": {
        "id": "ab6vE0ljhoOs"
      }
    },
    {
      "cell_type": "markdown",
      "source": [
        "#4. The string \"Howl's Moving Castle\" is a correct value. Why isn't the single quote character in the word Howl's not escaped a problem?\n",
        "\n",
        "*Solution:*\n",
        "\n",
        "The single quote in Howl's is fine because you've used double quotes to mark the beginning and end of the string."
      ],
      "metadata": {
        "id": "2lnq-L2Yh_z4"
      }
    },
    {
      "cell_type": "markdown",
      "source": [
        "#5. How do you write a string of newlines if you don't want to use the n character?\n",
        "\n",
        "*Solution:*\n",
        "\n",
        "Multiline strings allow you to use newlines in strings without the \\n escape character."
      ],
      "metadata": {
        "id": "VEb3lG9qiQBm"
      }
    },
    {
      "cell_type": "markdown",
      "source": [
        "#6. What are the values of the given expressions?\n",
        "\n",
        "* 'Hello, world!'[1]\n",
        "* 'Hello, world!'[0:5]\n",
        "* 'Hello, world!'[:5]\n",
        "* 'Hello, world!'[3:]\n",
        "\n",
        "*Solution:*"
      ],
      "metadata": {
        "id": "LHCdTSiailoF"
      }
    },
    {
      "cell_type": "code",
      "source": [
        "'Hello, world!'[1]"
      ],
      "metadata": {
        "colab": {
          "base_uri": "https://localhost:8080/",
          "height": 36
        },
        "id": "6oYF01Aai6Gy",
        "outputId": "155618e9-0715-4543-c709-1e4a999fee57"
      },
      "execution_count": 1,
      "outputs": [
        {
          "output_type": "execute_result",
          "data": {
            "text/plain": [
              "'e'"
            ],
            "application/vnd.google.colaboratory.intrinsic+json": {
              "type": "string"
            }
          },
          "metadata": {},
          "execution_count": 1
        }
      ]
    },
    {
      "cell_type": "code",
      "execution_count": 2,
      "metadata": {
        "colab": {
          "base_uri": "https://localhost:8080/",
          "height": 36
        },
        "id": "ZxKsgDnMfzwO",
        "outputId": "da2c826c-3a37-45a4-f420-c931269f555b"
      },
      "outputs": [
        {
          "output_type": "execute_result",
          "data": {
            "text/plain": [
              "'Hello'"
            ],
            "application/vnd.google.colaboratory.intrinsic+json": {
              "type": "string"
            }
          },
          "metadata": {},
          "execution_count": 2
        }
      ],
      "source": [
        "'Hello, world!'[0:5]"
      ]
    },
    {
      "cell_type": "code",
      "source": [
        "'Hello, world!'[:5]"
      ],
      "metadata": {
        "colab": {
          "base_uri": "https://localhost:8080/",
          "height": 36
        },
        "id": "ss6v_iEXjGb3",
        "outputId": "8b910cea-ff34-4304-b335-477d193cdb3b"
      },
      "execution_count": 3,
      "outputs": [
        {
          "output_type": "execute_result",
          "data": {
            "text/plain": [
              "'Hello'"
            ],
            "application/vnd.google.colaboratory.intrinsic+json": {
              "type": "string"
            }
          },
          "metadata": {},
          "execution_count": 3
        }
      ]
    },
    {
      "cell_type": "code",
      "source": [
        "'Hello, world!'[3:]"
      ],
      "metadata": {
        "colab": {
          "base_uri": "https://localhost:8080/",
          "height": 36
        },
        "id": "J9q97MPMjK08",
        "outputId": "cf0ea82e-8b9f-4702-97ab-06f22cd8c6b5"
      },
      "execution_count": 5,
      "outputs": [
        {
          "output_type": "execute_result",
          "data": {
            "text/plain": [
              "'lo, world!'"
            ],
            "application/vnd.google.colaboratory.intrinsic+json": {
              "type": "string"
            }
          },
          "metadata": {},
          "execution_count": 5
        }
      ]
    },
    {
      "cell_type": "markdown",
      "source": [
        "#7. What are the values of the following expressions?\n",
        "\n",
        "* 'Hello'.upper()\n",
        "* 'Hello'.upper().isupper()\n",
        "* 'Hello'.upper().lower()\n",
        "\n",
        "*Solution:*\n",
        "\n"
      ],
      "metadata": {
        "id": "k3YOZ675jWth"
      }
    },
    {
      "cell_type": "code",
      "source": [
        "'Hello'.upper()"
      ],
      "metadata": {
        "colab": {
          "base_uri": "https://localhost:8080/",
          "height": 36
        },
        "id": "h14KVrJAji_H",
        "outputId": "cfe1471f-adaa-456a-ec14-7893e73c31a2"
      },
      "execution_count": 6,
      "outputs": [
        {
          "output_type": "execute_result",
          "data": {
            "text/plain": [
              "'HELLO'"
            ],
            "application/vnd.google.colaboratory.intrinsic+json": {
              "type": "string"
            }
          },
          "metadata": {},
          "execution_count": 6
        }
      ]
    },
    {
      "cell_type": "code",
      "source": [
        "'Hello'.upper().isupper()"
      ],
      "metadata": {
        "colab": {
          "base_uri": "https://localhost:8080/"
        },
        "id": "lGD4icBLjokd",
        "outputId": "46c7e737-40cb-4744-988e-f893a8a2af05"
      },
      "execution_count": 7,
      "outputs": [
        {
          "output_type": "execute_result",
          "data": {
            "text/plain": [
              "True"
            ]
          },
          "metadata": {},
          "execution_count": 7
        }
      ]
    },
    {
      "cell_type": "code",
      "source": [
        "'Hello'.upper().lower()"
      ],
      "metadata": {
        "colab": {
          "base_uri": "https://localhost:8080/",
          "height": 36
        },
        "id": "NUnNg13ZjtV_",
        "outputId": "f7b05565-c43c-4bc9-9615-663b1d5f4075"
      },
      "execution_count": 8,
      "outputs": [
        {
          "output_type": "execute_result",
          "data": {
            "text/plain": [
              "'hello'"
            ],
            "application/vnd.google.colaboratory.intrinsic+json": {
              "type": "string"
            }
          },
          "metadata": {},
          "execution_count": 8
        }
      ]
    },
    {
      "cell_type": "markdown",
      "source": [
        "#8. What are the values of the following expressions?\n",
        "\n",
        "'Remember, remember, the fifth of July.'.split()\n",
        "\n",
        "'-'.join('There can only one.'.split())\n",
        "\n",
        "*Solution:*\n"
      ],
      "metadata": {
        "id": "qPQSeWH5jz3i"
      }
    },
    {
      "cell_type": "code",
      "source": [
        "'Remember, remember, the fifth of July.'.split()"
      ],
      "metadata": {
        "colab": {
          "base_uri": "https://localhost:8080/"
        },
        "id": "h-uH-JcZkZY8",
        "outputId": "917ca251-4362-4039-f21e-05ce488d331f"
      },
      "execution_count": 9,
      "outputs": [
        {
          "output_type": "execute_result",
          "data": {
            "text/plain": [
              "['Remember,', 'remember,', 'the', 'fifth', 'of', 'July.']"
            ]
          },
          "metadata": {},
          "execution_count": 9
        }
      ]
    },
    {
      "cell_type": "code",
      "source": [
        "'-'.join('There can only one.'.split())"
      ],
      "metadata": {
        "colab": {
          "base_uri": "https://localhost:8080/",
          "height": 36
        },
        "id": "LR-m2va7keDb",
        "outputId": "00314c06-afff-43e5-c781-6305378ff765"
      },
      "execution_count": 11,
      "outputs": [
        {
          "output_type": "execute_result",
          "data": {
            "text/plain": [
              "'There-can-only-one.'"
            ],
            "application/vnd.google.colaboratory.intrinsic+json": {
              "type": "string"
            }
          },
          "metadata": {},
          "execution_count": 11
        }
      ]
    },
    {
      "cell_type": "markdown",
      "source": [
        "#9. What are the methods for right-justifying, left-justifying, and centering a string?\n",
        "\n",
        "*Solution:*\n",
        "\n",
        "The rjust(), ljust(), and center() string methods, respectively\n"
      ],
      "metadata": {
        "id": "AWyNeAgsk1ZQ"
      }
    },
    {
      "cell_type": "markdown",
      "source": [
        "#10. What is the best way to remove whitespace characters from the start or end?\n",
        "\n",
        "*Solution:*\n",
        "\n",
        "The lstrip() and rstrip() methods remove whitespace from the left and right ends of a string, respectively.\n"
      ],
      "metadata": {
        "id": "q1h0EQJEmHos"
      }
    }
  ]
}