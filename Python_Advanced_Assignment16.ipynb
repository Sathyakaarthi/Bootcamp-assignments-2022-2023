{
  "nbformat": 4,
  "nbformat_minor": 0,
  "metadata": {
    "colab": {
      "provenance": [],
      "authorship_tag": "ABX9TyNNn+I0e5qFo0c980xx62pV",
      "include_colab_link": true
    },
    "kernelspec": {
      "name": "python3",
      "display_name": "Python 3"
    },
    "language_info": {
      "name": "python"
    }
  },
  "cells": [
    {
      "cell_type": "markdown",
      "metadata": {
        "id": "view-in-github",
        "colab_type": "text"
      },
      "source": [
        "<a href=\"https://colab.research.google.com/github/Sathyakaarthi/Bootcamp-assignments-2022-2023/blob/main/Python_Advanced_Assignment16.ipynb\" target=\"_parent\"><img src=\"https://colab.research.google.com/assets/colab-badge.svg\" alt=\"Open In Colab\"/></a>"
      ]
    },
    {
      "cell_type": "markdown",
      "source": [
        "**1. What is the benefit of regular expressions?**\n",
        "\n",
        "*Ans:*\n",
        "\n",
        "Regular Expressions, also known as **regex** or **regexp**, are used to match strings of text such as particular characters, words, or patterns of characters. It means that we can match and extract any string pattern from the text with the help of regular expressions. it helps the programmers to Write less and cleaner code. it also avoids multiple use of **if/else** statements."
      ],
      "metadata": {
        "id": "KSw7EAH6xa7Z"
      }
    },
    {
      "cell_type": "markdown",
      "source": [
        "**2. Describe the difference between the effects of \"(ab)c+\" and \"a(bc)+\" Which of these, if any, is the unqualified pattern \"abc+\"?**\n",
        "\n",
        "*Ans:*\n",
        "\n",
        "Both (ab)c+ and a(bc)+ are valid patterns. the difference between both these patterns is in (ab)c+ ab is group whereas in a(bc)+ bc is a group."
      ],
      "metadata": {
        "id": "gKB_cTI6xrH4"
      }
    },
    {
      "cell_type": "markdown",
      "source": [
        "**3. How much do you need to use the following sentence while using regular expressions?**\n",
        "\n",
        "*Ans:*\n",
        "\n",
        "**import re** statement always has to be imported before using regular expressions."
      ],
      "metadata": {
        "id": "-lKqkM4nx7XJ"
      }
    },
    {
      "cell_type": "markdown",
      "source": [
        "**4. Which characters have special significance in square brackets when expressing a range, and under what circumstances?**\n",
        "\n",
        "*Ans:*\n",
        "\n",
        "The Characters **.,*,?,^,or,(),** have a special signiface when used with square brackets. They need not be be explicitly escaped by **\\** as in case of pattern texts in a raw string."
      ],
      "metadata": {
        "id": "kbtlDBC0yLcY"
      }
    },
    {
      "cell_type": "markdown",
      "source": [
        "**5. How does compiling a regular-expression object benefit you?**\n",
        "\n",
        "*Ans:*\n",
        "\n",
        "We can Combine a regular expression pattern into pattern Objects. Which can be used for pattern matching. It also helps to search a pattern again without rewritting it."
      ],
      "metadata": {
        "id": "eq2aEHCZylxi"
      }
    },
    {
      "cell_type": "markdown",
      "source": [
        "**6. What are some examples of how to use the match object returned by re.match and re.search?**\n",
        "\n",
        "*Ans:*\n",
        "\n",
        "The re.search() and re.match() both are functions of re module in python. These functions are very efficient and fast for searching in strings. The function searches for some substring in a string and returns a match object if found, else it returns none."
      ],
      "metadata": {
        "id": "jeD7lxwPyycR"
      }
    },
    {
      "cell_type": "code",
      "execution_count": 1,
      "metadata": {
        "colab": {
          "base_uri": "https://localhost:8080/"
        },
        "id": "defg9UNNxMJX",
        "outputId": "7b4fe002-c815-45cd-f7b2-c2cd82f9f900"
      },
      "outputs": [
        {
          "output_type": "stream",
          "name": "stdout",
          "text": [
            "<re.Match object; span=(66, 72), match='string'>\n",
            "None\n",
            "<re.Match object; span=(0, 6), match='string'>\n",
            "<re.Match object; span=(0, 6), match='string'>\n"
          ]
        }
      ],
      "source": [
        "import re\n",
        "Substring ='string'\n",
        "String1 ='We are learning regex with geeksforgeeks regex is very useful for string matching. It is fast too.'\n",
        "String2 ='string We are learning regex with geeksforgeeks regex is very useful for string matching. It is fast too.'\n",
        "print(re.search(Substring, String1, re.IGNORECASE))\n",
        "print(re.match(Substring, String1, re.IGNORECASE))\n",
        "print(re.search(Substring, String2, re.IGNORECASE))\n",
        "print(re.match(Substring, String2, re.IGNORECASE))"
      ]
    },
    {
      "cell_type": "markdown",
      "source": [
        "**7. What is the difference between using a vertical bar (|) as an alteration and using square brackets as a character set?**\n",
        "\n",
        "*Ans:*\n",
        "\n",
        "When | us used then patterns searches for or option. i.e **<pattern_1>|<pattern_2>** means it searches as **<pattern_1>or<<pattern_2>** in the searched string. the first occurance of matched string will be returned as the Match Object. Using Character set in square Brackets searches for all the character set in the square bracket and if match is found, it returns it."
      ],
      "metadata": {
        "id": "j2b7zCGszI_S"
      }
    },
    {
      "cell_type": "markdown",
      "source": [
        "**8. In regular-expression search patterns, why is it necessary to use the raw-string indicator (r)? In replacement strings?**\n",
        "\n",
        "*Ans:*\n",
        "\n",
        "Raw Strings are used in the regular-expression search patterns, so that blackslashes donot have to be escaped."
      ],
      "metadata": {
        "id": "sdKy1oj6zaea"
      }
    }
  ]
}