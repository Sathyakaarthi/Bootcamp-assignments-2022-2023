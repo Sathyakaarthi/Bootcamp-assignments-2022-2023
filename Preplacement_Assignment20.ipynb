{
  "nbformat": 4,
  "nbformat_minor": 0,
  "metadata": {
    "colab": {
      "provenance": [],
      "authorship_tag": "ABX9TyOdKeOBURhBY54TW+Q2srbm",
      "include_colab_link": true
    },
    "kernelspec": {
      "name": "python3",
      "display_name": "Python 3"
    },
    "language_info": {
      "name": "python"
    }
  },
  "cells": [
    {
      "cell_type": "markdown",
      "metadata": {
        "id": "view-in-github",
        "colab_type": "text"
      },
      "source": [
        "<a href=\"https://colab.research.google.com/github/Sathyakaarthi/Bootcamp-assignments-2022-2023/blob/main/Preplacement_Assignment20.ipynb\" target=\"_parent\"><img src=\"https://colab.research.google.com/assets/colab-badge.svg\" alt=\"Open In Colab\"/></a>"
      ]
    },
    {
      "cell_type": "code",
      "execution_count": null,
      "metadata": {
        "id": "xvkfMLRCgZcl"
      },
      "outputs": [],
      "source": []
    },
    {
      "cell_type": "markdown",
      "source": [
        "**Question 1**"
      ],
      "metadata": {
        "id": "m2DHWiKAgbEH"
      }
    },
    {
      "cell_type": "code",
      "source": [
        "class Node:\n",
        "    def __init__(self, data):\n",
        "        self.data = data\n",
        "        self.left = None\n",
        "        self.right = None\n",
        "\n",
        "ans = float(\"-infinity\")\n",
        "def findLargestSubtreeSum(root):\n",
        "    if root is None:\n",
        "        return 0\n",
        "    if root.left is None and root.right is None:\n",
        "        return root.data\n",
        "\n",
        "    sum_left = findLargestSubtreeSum(root.left)\n",
        "\n",
        "    sum_right = findLargestSubtreeSum(root.right)\n",
        "\n",
        "    sum_rootnode = sum_left + sum_right + root.data\n",
        "\n",
        "    temp_max = max(sum_left, sum_right)\n",
        "    temp_max = max(temp_max, sum_rootnode)\n",
        "\n",
        "    global ans\n",
        "    ans = max(ans, temp_max)\n",
        "    return sum_rootnode\n",
        "if __name__ == '__main__':\n",
        "    root = Node(1)\n",
        "    root.left = Node(2)\n",
        "    root.right = Node(3)\n",
        "    root.left.left = Node(4)\n",
        "    root.left.right = Node(5)\n",
        "    root.right.left = Node(6)\n",
        "    root.right.right = Node(7)\n",
        "    findLargestSubtreeSum(root)\n",
        "    print(ans)"
      ],
      "metadata": {
        "colab": {
          "base_uri": "https://localhost:8080/"
        },
        "id": "7hY1eZsfg2ud",
        "outputId": "5e782621-0136-4888-e2ea-65bd13f5e9d9"
      },
      "execution_count": 5,
      "outputs": [
        {
          "output_type": "stream",
          "name": "stdout",
          "text": [
            "28\n"
          ]
        }
      ]
    },
    {
      "cell_type": "markdown",
      "source": [
        "**Question 2**"
      ],
      "metadata": {
        "id": "nMc5RGH8haHZ"
      }
    },
    {
      "cell_type": "code",
      "source": [
        "class Node:\n",
        "    def __init__(self,data):\n",
        "\n",
        "        self.data = data\n",
        "        self.left = None\n",
        "        self.right = None\n",
        "class NodeDetails:\n",
        "\n",
        "    def __init__(self ,node, min, Max):\n",
        "\n",
        "        self.node = node\n",
        "        self.min = min\n",
        "        self.max = Max\n",
        "\n",
        "def preorder(root):\n",
        "\n",
        "    if (root == None):\n",
        "        return\n",
        "\n",
        "    print(root.data ,end = \" \")\n",
        "    preorder(root.left)\n",
        "    preorder(root.right)\n",
        "def constructBST(arr, n):\n",
        "    root = Node(arr[0])\n",
        "    q = []\n",
        "    q.append(NodeDetails(root, -1000000000,\n",
        "                                  1000000000))\n",
        "    i = 1\n",
        "    while (len(q) != 0):\n",
        "        temp = q[0]\n",
        "        q = q[1:]\n",
        "        c = temp.node\n",
        "        Min = temp.min\n",
        "        Max = temp.max\n",
        "        if (i < n and Min < arr[i] and arr[i] < c.data):\n",
        "            c.left = Node(arr[i])\n",
        "            i += 1\n",
        "            q.append(NodeDetails(c.left, Min,\n",
        "                                      c.data))\n",
        "        if (i < n and c.data < arr[i] and arr[i] < Max):\n",
        "            c.right = Node(arr[i])\n",
        "            i += 1\n",
        "            q.append(NodeDetails(c.right,\n",
        "                                    c.data, Max))\n",
        "    return root\n",
        "n = 9\n",
        "arr = [ 7, 4, 12, 3, 6, 8, 1, 5, 10 ]\n",
        "\n",
        "root = constructBST(arr, n)\n",
        "\n",
        "preorder(root)\n",
        ""
      ],
      "metadata": {
        "colab": {
          "base_uri": "https://localhost:8080/"
        },
        "id": "Pd_H2Ln8kran",
        "outputId": "7288d73f-148e-43b6-e3b2-ce6627583018"
      },
      "execution_count": 17,
      "outputs": [
        {
          "output_type": "stream",
          "name": "stdout",
          "text": [
            "7 4 3 1 6 5 12 8 10 "
          ]
        }
      ]
    },
    {
      "cell_type": "markdown",
      "source": [
        "**Question 3**"
      ],
      "metadata": {
        "id": "M2TgR734luwY"
      }
    },
    {
      "cell_type": "code",
      "source": [
        "INT_MIN, INT_MAX = float('-inf'), float('inf')\n",
        "\n",
        "class NodeDetails:\n",
        "\n",
        "    def __init__(self, data, min, max):\n",
        "        self.data = data\n",
        "        self.min = min\n",
        "        self.max = max\n",
        "def levelOrderIsOfBST(arr, n):\n",
        "\n",
        "    if n == 0:\n",
        "        return True\n",
        "    q = []\n",
        "    i = 0\n",
        "\n",
        "    newNode = NodeDetails(arr[i], INT_MIN, INT_MAX)\n",
        "    i += 1\n",
        "    q.append(newNode)\n",
        "    while i != n and len(q) != 0:\n",
        "        temp = q.pop(0)\n",
        "        if i < n and (arr[i] < temp.data and\n",
        "                    arr[i] > temp.min):\n",
        "            newNode = NodeDetails(arr[i], temp.min, temp.data)\n",
        "            i += 1\n",
        "            q.append(newNode)\n",
        "        if i < n and (arr[i] > temp.data and\n",
        "                    arr[i] < temp.max):\n",
        "            newNode = NodeDetails(arr[i], temp.data, temp.max)\n",
        "            i += 1\n",
        "            q.append(newNode)\n",
        "    if i == n:\n",
        "        return True\n",
        "    return False\n",
        "if __name__ == \"__main__\":\n",
        "\n",
        "    arr = [7, 4, 12, 3, 6, 8, 1, 5, 10]\n",
        "    n = len(arr)\n",
        "    if levelOrderIsOfBST(arr, n):\n",
        "        print(\"Yes\")\n",
        "    else:\n",
        "        print(\"No\")\n",
        ""
      ],
      "metadata": {
        "colab": {
          "base_uri": "https://localhost:8080/"
        },
        "id": "nPWQSKf2lwqI",
        "outputId": "eca0f944-ae04-4a5a-bbb4-fb02bf501bec"
      },
      "execution_count": 19,
      "outputs": [
        {
          "output_type": "stream",
          "name": "stdout",
          "text": [
            "Yes\n"
          ]
        }
      ]
    }
  ]
}