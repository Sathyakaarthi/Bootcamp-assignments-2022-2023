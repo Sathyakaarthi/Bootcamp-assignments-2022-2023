{
  "nbformat": 4,
  "nbformat_minor": 0,
  "metadata": {
    "colab": {
      "provenance": [],
      "authorship_tag": "ABX9TyPz6WzGjntqg/Y4+rbi23aB",
      "include_colab_link": true
    },
    "kernelspec": {
      "name": "python3",
      "display_name": "Python 3"
    },
    "language_info": {
      "name": "python"
    }
  },
  "cells": [
    {
      "cell_type": "markdown",
      "metadata": {
        "id": "view-in-github",
        "colab_type": "text"
      },
      "source": [
        "<a href=\"https://colab.research.google.com/github/Sathyakaarthi/Bootcamp-assignments-2022-2023/blob/main/Python_Advanced_Assignment9.ipynb\" target=\"_parent\"><img src=\"https://colab.research.google.com/assets/colab-badge.svg\" alt=\"Open In Colab\"/></a>"
      ]
    },
    {
      "cell_type": "markdown",
      "source": [
        "**1. In Python 3.X, what are the names and functions of string object types?**\n",
        "\n",
        "*Ans:*\n",
        "\n",
        "**capitalize()** -\tConverts the first character to upper case\n",
        "\n",
        "**casefold()**\t- Converts string into lower case\n",
        "\n",
        "**center()** - \tReturns a centered string\n",
        "\n",
        "**count()** - Returns the number of times a specified value occurs in a string\n",
        "\n",
        "**encode()** - Returns an encoded version of the string\n",
        "\n",
        "**endswith()** -\tReturns true if the string ends with the specified value\n",
        "\n",
        "**expandtabs()** - Sets the tab size of the string\n",
        "\n",
        "**find()** -\tSearches the string for a specified value and returns the\n",
        "position of where it was found\n",
        "\n",
        "**format()** -\tFormats specified values in a string\n",
        "\n",
        "**format_map()** - Formats specified values in a string\n",
        "\n",
        "**index()** - Searches the string for a specified value and returns the position of where it was found\n",
        "**isalnum()**\t- Returns True if all characters in the string are alphanumeric\n",
        "\n",
        "**isalpha()** -\tReturns True if all characters in the string are in the alphabet\n",
        "\n",
        "**isascii()**\t- Returns True if all characters in the string are ascii characters\n",
        "\n",
        "**isdecimal()** -\tReturns True if all characters in the string are decimals\n",
        "\n",
        "**isdigit()** -\tReturns True if all characters in the string are digits\n",
        "\n",
        "**isidentifier()** -\tReturns True if the string is an identifier\n",
        "\n",
        "**islower()**\t- Returns True if all characters in the string are lower case\n",
        "\n",
        "**isnumeric()** -\tReturns True if all characters in the string are numeric\n",
        "\n",
        "**isprintable()**\t- Returns True if all characters in the string are printable\n",
        "\n",
        "**isspace()** -\tReturns True if all characters in the string are whitespaces\n",
        "\n",
        "**istitle()** -\tReturns True if the string follows the rules of a title\n",
        "\n",
        "**isupper()** -\tReturns True if all characters in the string are upper case\n",
        "\n",
        "**join()** -\tConverts the elements of an iterable into a string\n",
        "\n",
        "**ljust()** -\tReturns a left justified version of the string\n",
        "\n",
        "**lower()** -\tConverts a string into lower case\n",
        "\n",
        "**lstrip()** - Returns a left trim version of the string\n",
        "\n",
        "**maketrans()** -\tReturns a translation table to be used in translations\n",
        "\n",
        "**partition()** -\tReturns a tuple where the string is parted into three parts\n",
        "\n",
        "**replace()**\t- Returns a string where a specified value is replaced with a specified value\n",
        "\n",
        "**rfind()** -\tSearches the string for a specified value and returns the last position of where it was found\n",
        "\n",
        "**rindex()** -\tSearches the string for a specified value and returns the last position of where it was found\n",
        "\n",
        "** rjust()** -\tReturns a right justified version of the string\n",
        "\n",
        "**rpartition()** -\tReturns a tuple where the string is parted into three parts\n",
        "\n",
        "**rsplit()** -\tSplits the string at the specified separator, and returns a list\n",
        "\n",
        "**rstrip()** -\tReturns a right trim version of the string\n",
        "\n",
        "**split()** -\tSplits the string at the specified separator, and returns a list\n",
        "\n",
        "**splitlines()**\t- Splits the string at line breaks and returns a list\n",
        "\n",
        "**startswith()** -\tReturns true if the string starts with the specified value\n",
        "\n",
        "**strip()** -\tReturns a trimmed version of the string\n",
        "\n",
        "**swapcase()**\t- Swaps cases, lower case becomes upper case and vice versa\n",
        "\n",
        "**title()**\t- Converts the first character of each word to upper case\n",
        "\n",
        "**translate()** -\tReturns a translated string\n",
        "**upper()** -\tConverts a string into upper case\n",
        "\n",
        "**zfill()** -\tFills the string with a specified number of 0 values at the beginning\n"
      ],
      "metadata": {
        "id": "gH083-OaWLzm"
      }
    },
    {
      "cell_type": "markdown",
      "source": [
        "**2. How do the string forms in Python 3.X vary in terms of operations?**\n",
        "\n",
        "*Ans:**\n",
        "\n",
        "In Python3 default format of strings is Unicode Whereas in Pyton2 we need to explicitly mention Unicode value using u."
      ],
      "metadata": {
        "id": "lRWjgGzjcQ_S"
      }
    },
    {
      "cell_type": "markdown",
      "source": [
        "**3. In 3.X, how do you put non-ASCII Unicode characters in a string?**\n",
        "\n",
        "*Ans:*\n",
        "\n",
        "In order to use non-ASCII characters, Python requires explicit encoding and decoding of strings into Unicode. we can check using the ascii value using ord()\n"
      ],
      "metadata": {
        "id": "E6p3s8CUcePh"
      }
    },
    {
      "cell_type": "markdown",
      "source": [
        "**4. In Python 3.X, what are the key differences between text-mode and binary-mode files?**\n",
        "\n",
        "*Ans:*\n",
        "\n",
        "The major difference between these two is that:\n",
        "*  A text file contains textual information in the form of alphabets, digits and special characters or symbols.\n",
        "\n",
        "* A binary file contains bytes or a compiled version of a text file."
      ],
      "metadata": {
        "id": "3EAXkYpfcxog"
      }
    },
    {
      "cell_type": "markdown",
      "source": [
        "**5. How can you interpret a Unicode text file containing text encoded in a different encoding than your platform's default?**\n",
        "\n",
        "*Ans:*\n",
        "\n",
        "Use of **encode()** and **decode()** method can be used to you interpret a Unicode text file containing text encoded in a different encoding than your platform's default, by default encoding parameter is UTF-8"
      ],
      "metadata": {
        "id": "3OC2Mp5DdZ1O"
      }
    },
    {
      "cell_type": "markdown",
      "source": [
        "**6. What is the best way to make a Unicode text file in a particular encoding format?**\n",
        "\n",
        "*Ans:*\n",
        "\n",
        "Use **str.encode()** and **file.write()** to make a Unicode text file in a particular encoding format, default encoding format is UTF-18.\n",
        "\n",
        "* Call **str.encode(encoding)** with encoding set to utf8 to encode str.\n",
        "* Call **open(file, mode)** to open a file with mode set to wb . wb writes to files in binary mode & preserves UTF-8format.\n",
        "* Call **file.write(data)** to write data to the file."
      ],
      "metadata": {
        "id": "TlGo5RQMdtYy"
      }
    },
    {
      "cell_type": "markdown",
      "source": [
        "**7. What qualifies ASCII text as a form of Unicode text?**\n",
        "\n",
        "*Ans:*\n",
        "\n",
        "Unicode represents most written languages in the world. ASCII has its equivalent in Unicode. The difference between ASCII and Unicode is that ASCII represents **lowercase letters (a-z), uppercase letters (A-Z), digits (0–9) and symbols such as punctuation marks** while Unicode represents letters of English, Arabic, Greek etc. mathematical symbols, historical scripts, emoji covering a wide range of characters than ASCII."
      ],
      "metadata": {
        "id": "Lbg2BqdjeJ9p"
      }
    },
    {
      "cell_type": "markdown",
      "source": [
        "**8. How much of an effect does the change in string types in Python 3.X have on your code?**\n",
        "\n",
        "*Ans:*\n",
        "\n",
        "Python 3 stores strings as Unicode by default whereas Python 2 requires you to mark a string with a u if you want to store it as Unicode. Unicode strings are more versatile than ASCII strings, which are the Python 3.X default, as they can store letters from foreign languages as well as emoji and the standard Roman letters and numerals."
      ],
      "metadata": {
        "id": "28AbCIhPecCY"
      }
    },
    {
      "cell_type": "code",
      "execution_count": null,
      "metadata": {
        "id": "aAG56hQPWKTn"
      },
      "outputs": [],
      "source": []
    }
  ]
}