{
  "nbformat": 4,
  "nbformat_minor": 0,
  "metadata": {
    "colab": {
      "provenance": [],
      "authorship_tag": "ABX9TyNiNTFNvp1Y+vQ7T4waZ9wA",
      "include_colab_link": true
    },
    "kernelspec": {
      "name": "python3",
      "display_name": "Python 3"
    },
    "language_info": {
      "name": "python"
    }
  },
  "cells": [
    {
      "cell_type": "markdown",
      "metadata": {
        "id": "view-in-github",
        "colab_type": "text"
      },
      "source": [
        "<a href=\"https://colab.research.google.com/github/Sathyakaarthi/Bootcamp-assignments-2022-2023/blob/main/MockTest1_First_Unique_Character_in_a_String.ipynb\" target=\"_parent\"><img src=\"https://colab.research.google.com/assets/colab-badge.svg\" alt=\"Open In Colab\"/></a>"
      ]
    },
    {
      "cell_type": "markdown",
      "source": [
        "**First Unique Character in a String**"
      ],
      "metadata": {
        "id": "nMUPLSm04UI4"
      }
    },
    {
      "cell_type": "code",
      "execution_count": 3,
      "metadata": {
        "colab": {
          "base_uri": "https://localhost:8080/"
        },
        "id": "WlSQ_gRJ3mYd",
        "outputId": "79f00d8f-aad7-4647-ce0a-54d080fbd9e1"
      },
      "outputs": [
        {
          "output_type": "stream",
          "name": "stdout",
          "text": [
            "0\n",
            "2\n",
            "-1\n"
          ]
        }
      ],
      "source": [
        "def firstUniqueCharacter(s):\n",
        "    char_freq = {}\n",
        "    \n",
        "    for char in s:\n",
        "        char_freq[char] = char_freq.get(char, 0) + 1\n",
        "    \n",
        "    for i, char in enumerate(s):\n",
        "        if char_freq[char] == 1:\n",
        "            return i\n",
        "    \n",
        "    return -1\n",
        "s1 = \"leetcode\"\n",
        "result = firstUniqueCharacter(s1)\n",
        "print(result)\n",
        "s2 = \"loveleetcode\"\n",
        "result = firstUniqueCharacter(s2)\n",
        "print(result)\n",
        "s3 = \"aabb\"\n",
        "result = firstUniqueCharacter(s3)\n",
        "print(result)\n"
      ]
    }
  ]
}