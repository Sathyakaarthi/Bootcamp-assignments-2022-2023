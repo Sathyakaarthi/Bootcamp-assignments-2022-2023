{
  "nbformat": 4,
  "nbformat_minor": 0,
  "metadata": {
    "colab": {
      "provenance": [],
      "authorship_tag": "ABX9TyPV06K15x9Ph3v+z7AuZW/U",
      "include_colab_link": true
    },
    "kernelspec": {
      "name": "python3",
      "display_name": "Python 3"
    },
    "language_info": {
      "name": "python"
    }
  },
  "cells": [
    {
      "cell_type": "markdown",
      "metadata": {
        "id": "view-in-github",
        "colab_type": "text"
      },
      "source": [
        "<a href=\"https://colab.research.google.com/github/Sathyakaarthi/Bootcamp-assignments-2022-2023/blob/main/Preplacement_Assignment9.ipynb\" target=\"_parent\"><img src=\"https://colab.research.google.com/assets/colab-badge.svg\" alt=\"Open In Colab\"/></a>"
      ]
    },
    {
      "cell_type": "code",
      "execution_count": null,
      "metadata": {
        "id": "TCEYCvcT6eh3"
      },
      "outputs": [],
      "source": []
    },
    {
      "cell_type": "markdown",
      "source": [
        "**Question 1**"
      ],
      "metadata": {
        "id": "Ti6EqO6e6jfi"
      }
    },
    {
      "cell_type": "code",
      "source": [
        "def power_of_two(n):\n",
        "    if n == 1:\n",
        "        return True\n",
        "    elif n % 2 == 0:\n",
        "        return power_of_two(n // 2)\n",
        "    else:\n",
        "        return False\n",
        "\n",
        "print(power_of_two(1)) \n",
        "print(power_of_two(16))\n",
        "print(power_of_two(3)) \n"
      ],
      "metadata": {
        "colab": {
          "base_uri": "https://localhost:8080/"
        },
        "id": "8LS_yIIG6lSA",
        "outputId": "5c627238-7b55-49c5-bc96-88af2c0935f6"
      },
      "execution_count": 5,
      "outputs": [
        {
          "output_type": "stream",
          "name": "stdout",
          "text": [
            "True\n",
            "True\n",
            "False\n"
          ]
        }
      ]
    },
    {
      "cell_type": "markdown",
      "source": [
        "**Question 2**"
      ],
      "metadata": {
        "id": "1RGCcIx19ndh"
      }
    },
    {
      "cell_type": "code",
      "source": [
        "def sum_of_natural_numbers(n):\n",
        "    return (n * (n + 1)) // 2\n",
        "num = 3\n",
        "result = sum_of_natural_numbers(num)\n",
        "print(result)\n",
        "num = 5\n",
        "result = sum_of_natural_numbers(num)\n",
        "print(result)"
      ],
      "metadata": {
        "colab": {
          "base_uri": "https://localhost:8080/"
        },
        "id": "TZcUnTTx9rlh",
        "outputId": "2ce9f284-5697-4b41-9852-413c470f2556"
      },
      "execution_count": 8,
      "outputs": [
        {
          "output_type": "stream",
          "name": "stdout",
          "text": [
            "6\n",
            "15\n"
          ]
        }
      ]
    },
    {
      "cell_type": "markdown",
      "source": [
        "**Question 3**"
      ],
      "metadata": {
        "id": "1fw4v35t-7t1"
      }
    },
    {
      "cell_type": "code",
      "source": [
        "def factorial(n):\n",
        "    if n < 0:\n",
        "        return None \n",
        "    elif n == 0:\n",
        "        return 1 \n",
        "    else:\n",
        "        result = 1\n",
        "        for i in range(1, n + 1):\n",
        "            result *= i\n",
        "        return result\n",
        "\n",
        "number = 5\n",
        "result = factorial(number)\n",
        "print(result)\n",
        "\n",
        "number = 4\n",
        "result = factorial(number)\n",
        "print(result)"
      ],
      "metadata": {
        "colab": {
          "base_uri": "https://localhost:8080/"
        },
        "id": "vHSHMIJ1-9yB",
        "outputId": "ab43a3cd-fdc2-4652-ca77-459557379ec5"
      },
      "execution_count": 9,
      "outputs": [
        {
          "output_type": "stream",
          "name": "stdout",
          "text": [
            "120\n",
            "24\n"
          ]
        }
      ]
    },
    {
      "cell_type": "markdown",
      "source": [
        "**Question 4**"
      ],
      "metadata": {
        "id": "Mwv9xKSJ_kdZ"
      }
    },
    {
      "cell_type": "code",
      "source": [
        "def exponent(n, p):\n",
        "    result = n ** p\n",
        "    return result\n",
        "n = 5\n",
        "p = 2\n",
        "result = exponent(n, p)\n",
        "print(result) \n",
        "n = 2\n",
        "p = 5\n",
        "result = exponent(n, p)\n",
        "print(result) "
      ],
      "metadata": {
        "colab": {
          "base_uri": "https://localhost:8080/"
        },
        "id": "zxHdIXPD_r-J",
        "outputId": "83b67e9d-bc4e-49f8-b925-1f4e42dfeb75"
      },
      "execution_count": 11,
      "outputs": [
        {
          "output_type": "stream",
          "name": "stdout",
          "text": [
            "25\n",
            "32\n"
          ]
        }
      ]
    },
    {
      "cell_type": "markdown",
      "source": [
        "**Question 5**"
      ],
      "metadata": {
        "id": "37p6QrBWARci"
      }
    },
    {
      "cell_type": "code",
      "source": [
        "def find_max(arr):\n",
        "    if len(arr) == 1:\n",
        "        return arr[0]\n",
        "    else:\n",
        "        return max(arr[0], find_max(arr[1:]))\n",
        "\n",
        "arr = [1, 4, 3, -5, -4, 8, 6]\n",
        "result = find_max(arr)\n",
        "print(result) \n",
        "arr = [1, 4, 45, 6, 10, -8]\n",
        "result = find_max(arr)\n",
        "print(result) "
      ],
      "metadata": {
        "colab": {
          "base_uri": "https://localhost:8080/"
        },
        "id": "V_2IFb9lAVQh",
        "outputId": "a6cd8526-7ca4-40fe-9576-47f413970ce6"
      },
      "execution_count": 15,
      "outputs": [
        {
          "output_type": "stream",
          "name": "stdout",
          "text": [
            "8\n",
            "45\n"
          ]
        }
      ]
    },
    {
      "cell_type": "markdown",
      "source": [
        "**Question 6**"
      ],
      "metadata": {
        "id": "uD2pKN5MBtJ4"
      }
    },
    {
      "cell_type": "code",
      "source": [
        "def nth_term_of_ap(a, d, n):\n",
        "    nth_term = a + (n - 1) * d\n",
        "    return nth_term\n",
        "\n",
        "a = 2\n",
        "d = 1\n",
        "n = 5\n",
        "result = nth_term_of_ap(a, d, n)\n",
        "print(\"The 5th term of the series is :\", result) \n",
        "\n",
        "a = 5\n",
        "d = 2\n",
        "n = 10\n",
        "result = nth_term_of_ap(a, d, n)\n",
        "print(\"The 10th term of the series is :\", result) "
      ],
      "metadata": {
        "colab": {
          "base_uri": "https://localhost:8080/"
        },
        "id": "Ny90X1-ECLk9",
        "outputId": "52e881b5-ca52-4485-e28a-9a69863d07a7"
      },
      "execution_count": 21,
      "outputs": [
        {
          "output_type": "stream",
          "name": "stdout",
          "text": [
            "The 5th term of the series is : 6\n",
            "The 10th term of the series is : 23\n"
          ]
        }
      ]
    },
    {
      "cell_type": "markdown",
      "source": [
        "**Question 7**"
      ],
      "metadata": {
        "id": "XkfkB0E0C3xu"
      }
    },
    {
      "cell_type": "code",
      "source": [
        "from itertools import permutations\n",
        "\n",
        "def print_permutations(string):\n",
        "    perm_list = permutations(string)\n",
        "    for perm in perm_list:\n",
        "        print(''.join(perm))\n",
        "\n",
        "# Example usage:\n",
        "input_str = 'ABC'\n",
        "print (\"Permutations of 'ABC'\")\n",
        "print_permutations(input_str)\n",
        "input_str = 'XY'\n",
        "print (\"Permutations of 'XY'\")\n",
        "print_permutations(input_str)"
      ],
      "metadata": {
        "colab": {
          "base_uri": "https://localhost:8080/"
        },
        "id": "WNXxk_tEC6IL",
        "outputId": "8831a7f0-b6cb-4323-cb10-a84026d904e1"
      },
      "execution_count": 25,
      "outputs": [
        {
          "output_type": "stream",
          "name": "stdout",
          "text": [
            "Permutations of 'ABC'\n",
            "ABC\n",
            "ACB\n",
            "BAC\n",
            "BCA\n",
            "CAB\n",
            "CBA\n",
            "Permutations of 'XY'\n",
            "XY\n",
            "YX\n"
          ]
        }
      ]
    },
    {
      "cell_type": "markdown",
      "source": [
        "**Question 8**"
      ],
      "metadata": {
        "id": "rN_WFLsHD0Em"
      }
    },
    {
      "cell_type": "code",
      "source": [
        "def product_of_array(arr):\n",
        "    product = 1\n",
        "    for num in arr:\n",
        "        product *= num\n",
        "    return product\n",
        "\n",
        "arr = [1, 2, 3, 4, 5]\n",
        "result = product_of_array(arr)\n",
        "print(\"product of all array elements.[1, 2, 3, 4, 5] :\", result) \n",
        "\n",
        "arr = [1, 6, 3]\n",
        "result = product_of_array(arr)\n",
        "print(\"product of all array elements.[1, 6, 3] :\", result)\n"
      ],
      "metadata": {
        "colab": {
          "base_uri": "https://localhost:8080/"
        },
        "id": "l8iFFwDHD2Eb",
        "outputId": "528bbe0c-9d63-4f41-b866-0bc5cb35591b"
      },
      "execution_count": 29,
      "outputs": [
        {
          "output_type": "stream",
          "name": "stdout",
          "text": [
            "product of all array elements.[1, 2, 3, 4, 5] : 120\n",
            "product of all array elements.[1, 6, 3] : 18\n"
          ]
        }
      ]
    }
  ]
}