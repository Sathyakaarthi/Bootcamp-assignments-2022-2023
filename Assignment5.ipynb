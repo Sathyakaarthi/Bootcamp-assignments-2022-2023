{
  "nbformat": 4,
  "nbformat_minor": 0,
  "metadata": {
    "colab": {
      "provenance": [],
      "authorship_tag": "ABX9TyNU9G4sF9QwsnVZf1sOZfyf",
      "include_colab_link": true
    },
    "kernelspec": {
      "name": "python3",
      "display_name": "Python 3"
    },
    "language_info": {
      "name": "python"
    }
  },
  "cells": [
    {
      "cell_type": "markdown",
      "metadata": {
        "id": "view-in-github",
        "colab_type": "text"
      },
      "source": [
        "<a href=\"https://colab.research.google.com/github/Sathyakaarthi/Bootcamp-assignments-2022-2023/blob/main/Assignment5.ipynb\" target=\"_parent\"><img src=\"https://colab.research.google.com/assets/colab-badge.svg\" alt=\"Open In Colab\"/></a>"
      ]
    },
    {
      "cell_type": "code",
      "execution_count": null,
      "metadata": {
        "id": "6SzYrVVh9Lwk"
      },
      "outputs": [],
      "source": []
    },
    {
      "cell_type": "markdown",
      "source": [
        "##1. What does an empty dictionary's code look like?##\n",
        "\n",
        "*Solution:*\n",
        "\n",
        "An empty dictionary's code look like **two curly brackets - {}**\n"
      ],
      "metadata": {
        "id": "3KKmxHID90VN"
      }
    },
    {
      "cell_type": "markdown",
      "source": [
        "##2. What is the value of a dictionary value with the key 'foo' and the value 42?\n",
        "\n",
        "*Solution:*\n",
        "\n",
        "{'foo': 42}\n"
      ],
      "metadata": {
        "id": "Bxw1CwVI-I5i"
      }
    },
    {
      "cell_type": "code",
      "source": [
        "dic = {'foo' : 42}\n",
        "dic\n"
      ],
      "metadata": {
        "colab": {
          "base_uri": "https://localhost:8080/"
        },
        "id": "o_g7AGVW-XVf",
        "outputId": "5f40e8b4-bf29-4af6-8455-d37af134cda0"
      },
      "execution_count": 4,
      "outputs": [
        {
          "output_type": "execute_result",
          "data": {
            "text/plain": [
              "{'foo': 42}"
            ]
          },
          "metadata": {},
          "execution_count": 4
        }
      ]
    },
    {
      "cell_type": "markdown",
      "source": [
        "##3. What is the most significant distinction between a dictionary and a list?\n",
        "\n",
        "*Solution:*\n",
        "\n",
        "The items stored in a dictionary are unordered, while the items in a list are ordered."
      ],
      "metadata": {
        "id": "p3wukNN2_ssq"
      }
    },
    {
      "cell_type": "markdown",
      "source": [
        "##4. What happens if you try to access spam['foo'] if spam is {'bar': 100}?\n",
        "\n",
        "*Solution:*\n",
        "\n",
        "We will get KeyError"
      ],
      "metadata": {
        "id": "7PK_v6_HAJSC"
      }
    },
    {
      "cell_type": "code",
      "source": [
        "spam = {'bar': 100}\n",
        "spam['foo']"
      ],
      "metadata": {
        "colab": {
          "base_uri": "https://localhost:8080/",
          "height": 188
        },
        "id": "Hy4xvDw_AUm1",
        "outputId": "51fdd682-b141-48bd-b2e1-6f021adb2194"
      },
      "execution_count": 5,
      "outputs": [
        {
          "output_type": "error",
          "ename": "KeyError",
          "evalue": "ignored",
          "traceback": [
            "\u001b[0;31m---------------------------------------------------------------------------\u001b[0m",
            "\u001b[0;31mKeyError\u001b[0m                                  Traceback (most recent call last)",
            "\u001b[0;32m<ipython-input-5-56a8e50c7ff8>\u001b[0m in \u001b[0;36m<module>\u001b[0;34m\u001b[0m\n\u001b[1;32m      1\u001b[0m \u001b[0mspam\u001b[0m \u001b[0;34m=\u001b[0m \u001b[0;34m{\u001b[0m\u001b[0;34m'bar'\u001b[0m\u001b[0;34m:\u001b[0m \u001b[0;36m100\u001b[0m\u001b[0;34m}\u001b[0m\u001b[0;34m\u001b[0m\u001b[0;34m\u001b[0m\u001b[0m\n\u001b[0;32m----> 2\u001b[0;31m \u001b[0mspam\u001b[0m\u001b[0;34m[\u001b[0m\u001b[0;34m'foo'\u001b[0m\u001b[0;34m]\u001b[0m\u001b[0;34m\u001b[0m\u001b[0;34m\u001b[0m\u001b[0m\n\u001b[0m",
            "\u001b[0;31mKeyError\u001b[0m: 'foo'"
          ]
        }
      ]
    },
    {
      "cell_type": "markdown",
      "source": [
        "##5. If a dictionary is stored in spam, what is the difference between the expressions 'cat' in spam and 'cat' in spam.keys()?\n",
        "\n",
        "*Solution:*\n",
        "\n",
        "There is no difference. The in operator checks whether a value exists as a key in the dictionary.\n",
        "\n"
      ],
      "metadata": {
        "id": "xDpzz7ViAfib"
      }
    },
    {
      "cell_type": "markdown",
      "source": [
        "##6. If a dictionary is stored in spam, what is the difference between the expressions 'cat' in spam and 'cat' in spam.values()?\n",
        "\n",
        "*Solution:*\n",
        "\n",
        "'cat' in spam checks whether there is a 'cat' key in the dictionary, while 'cat' in spam.values() checks whether there is a value 'cat' for one of the keys in spam."
      ],
      "metadata": {
        "id": "Lj1gMBbNBqWJ"
      }
    },
    {
      "cell_type": "markdown",
      "source": [
        "##7. What is a shortcut for the following code?\n",
        "\n",
        "if 'color' not in spam:\n",
        "spam['color'] = 'black'\n",
        "\n",
        "*Solution:*\n",
        "\n",
        "spam.setdefault('color', 'black')"
      ],
      "metadata": {
        "id": "LGaheiGUCT6z"
      }
    },
    {
      "cell_type": "markdown",
      "source": [
        "##8. How do you \"pretty print\" dictionary values using which module and function?\n",
        "\n",
        "\n",
        "*Solution:*\n",
        "\n",
        "pprint.pprint()"
      ],
      "metadata": {
        "id": "d_r_wiAgCoJB"
      }
    }
  ]
}