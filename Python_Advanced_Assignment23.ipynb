{
  "nbformat": 4,
  "nbformat_minor": 0,
  "metadata": {
    "colab": {
      "provenance": [],
      "authorship_tag": "ABX9TyMJVuOtTzWP0zlvmuo59bxS",
      "include_colab_link": true
    },
    "kernelspec": {
      "name": "python3",
      "display_name": "Python 3"
    },
    "language_info": {
      "name": "python"
    }
  },
  "cells": [
    {
      "cell_type": "markdown",
      "metadata": {
        "id": "view-in-github",
        "colab_type": "text"
      },
      "source": [
        "<a href=\"https://colab.research.google.com/github/Sathyakaarthi/Bootcamp-assignments-2022-2023/blob/main/Python_Advanced_Assignment23.ipynb\" target=\"_parent\"><img src=\"https://colab.research.google.com/assets/colab-badge.svg\" alt=\"Open In Colab\"/></a>"
      ]
    },
    {
      "cell_type": "markdown",
      "source": [
        "**1. If you have any, what are your choices for increasing the comparison between different figures on the same graph?**\n",
        "\n",
        "*Ans:*\n",
        "\n",
        "Matplotlib provides a convenient method called subplots for increasing the comparison between different figures on the same graph. Subplots mean a group of smaller axes (where each axis is a plot) that can exist together within a single figure."
      ],
      "metadata": {
        "id": "5sd8lXhI1ut-"
      }
    },
    {
      "cell_type": "markdown",
      "source": [
        "**2. Can you explain the benefit of compound interest over a higher rate of interest that does not compound after reading this chapter?**\n",
        "\n",
        "*Ans:*\n",
        "\n",
        "Compound interest makes a sum of money grow at a faster rate than simple interest,because in addition to earning returns on the money you invest, you also earn returns on those returns at the end of every compounding period, which could be daily, monthly, quarterly or annually."
      ],
      "metadata": {
        "id": "bU37I6C015m9"
      }
    },
    {
      "cell_type": "markdown",
      "source": [
        "**3. What is a histogram, exactly? Name a numpy method for creating such a graph?**\n",
        "\n",
        "*Ans:*\n",
        "\n",
        "Histogram shows total values of X wrt Y. Which means at any particular position of X, Y value shows the total number of counts or data below that value of X. numpy.histogram() is the built in function used."
      ],
      "metadata": {
        "id": "XtsGRi3E25BO"
      }
    },
    {
      "cell_type": "markdown",
      "source": [
        "**4. If necessary, how do you change the aspect ratios between the X and Y axes?**\n",
        "\n",
        "*Ans:*\n",
        "\n",
        "We can use **figure(figsize=(10,8))** function inside the matplot.pyplot library which we scale down or up the graph."
      ],
      "metadata": {
        "id": "iOc5dwtR3EUU"
      }
    },
    {
      "cell_type": "markdown",
      "source": [
        "**5. Compare and contrast the three types of array multiplication between two numpy arrays: dot product, outer product, and regular multiplication of two numpy arrays?**\n",
        "\n",
        "*Ans:*\n",
        "\n",
        "* In regular multiplication values of same index get multiplied.\n",
        "\n",
        "* In dot product there is row wise multiplication, row of one array with column of second array and so on.\n",
        "\n",
        "* In outer multiplication every element of first array a1 will be multiply by every element of other array a2 such such the number of columns will be equal to the number of element in another array a2."
      ],
      "metadata": {
        "id": "e87xLJjq3Pnn"
      }
    },
    {
      "cell_type": "markdown",
      "source": [
        "**6. Before you buy a home, which numpy function will you use to measure your monthly mortgage payment?**\n",
        "\n",
        "*Ans:*\n",
        "\n",
        "* np.pmt(rate, nper, pv) function we will be using in order to calculate monthly mortgage payment before you purchase a house.\n",
        "\n",
        " * rate = The periodic interest rate\n",
        " * nper = The number of payment periods\n",
        " * pv = The total value of the mortgage loan"
      ],
      "metadata": {
        "id": "L5-e8Ni83dbJ"
      }
    },
    {
      "cell_type": "markdown",
      "source": [
        "**7. Can string data be stored in numpy arrays? If so, list at least one restriction that applies to this data?**\n",
        "\n",
        "*Ans:*\n",
        "\n",
        "Yes, an array can store the string. The limitation which imposed on the string data is, whenever we store the data of string dtype then it should should keep in mind that the string which is having the maximum length is the limit."
      ],
      "metadata": {
        "id": "3ZqXN3hR30t_"
      }
    },
    {
      "cell_type": "code",
      "execution_count": null,
      "metadata": {
        "id": "2P4lwIsJ1fwT"
      },
      "outputs": [],
      "source": []
    }
  ]
}