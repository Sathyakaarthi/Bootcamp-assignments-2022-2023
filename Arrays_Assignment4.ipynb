{
  "nbformat": 4,
  "nbformat_minor": 0,
  "metadata": {
    "colab": {
      "provenance": [],
      "authorship_tag": "ABX9TyOwXiArfCrj6Y2jD8gwpDGY",
      "include_colab_link": true
    },
    "kernelspec": {
      "name": "python3",
      "display_name": "Python 3"
    },
    "language_info": {
      "name": "python"
    }
  },
  "cells": [
    {
      "cell_type": "markdown",
      "metadata": {
        "id": "view-in-github",
        "colab_type": "text"
      },
      "source": [
        "<a href=\"https://colab.research.google.com/github/Sathyakaarthi/Bootcamp-assignments-2022-2023/blob/main/Arrays_Assignment4.ipynb\" target=\"_parent\"><img src=\"https://colab.research.google.com/assets/colab-badge.svg\" alt=\"Open In Colab\"/></a>"
      ]
    },
    {
      "cell_type": "markdown",
      "source": [
        "**Question 1:**"
      ],
      "metadata": {
        "id": "JqEunUUg6U0r"
      }
    },
    {
      "cell_type": "code",
      "source": [
        "def CommonElements(arr1, arr2, arr3):\n",
        "    i, j, k = 0, 0, 0\n",
        "    common_elements = []\n",
        "\n",
        "    while i < len(arr1) and j < len(arr2) and k < len(arr3):\n",
        "        if arr1[i] == arr2[j] == arr3[k]:\n",
        "            common_elements.append(arr1[i])\n",
        "            i += 1\n",
        "            j += 1\n",
        "            k += 1\n",
        "        elif arr1[i] < arr2[j]:\n",
        "            i += 1\n",
        "        elif arr2[j] < arr3[k]:\n",
        "            j += 1\n",
        "        else:\n",
        "            k += 1\n",
        "\n",
        "    return common_elements\n",
        "arr1 = [1, 2, 3, 4, 5]\n",
        "arr2 = [1, 2, 5, 7, 9]\n",
        "arr3 = [1, 3, 4, 5, 8]\n",
        "result = CommonElements(arr1, arr2, arr3)\n",
        "print(result) \n"
      ],
      "metadata": {
        "colab": {
          "base_uri": "https://localhost:8080/"
        },
        "id": "kgLO-j6C6Y2z",
        "outputId": "143e7c1a-3b03-4d30-8c84-abdd2206ead1"
      },
      "execution_count": 2,
      "outputs": [
        {
          "output_type": "stream",
          "name": "stdout",
          "text": [
            "[1, 5]\n"
          ]
        }
      ]
    },
    {
      "cell_type": "markdown",
      "source": [
        "**Question 2:**"
      ],
      "metadata": {
        "id": "NDplIXUNBWi4"
      }
    },
    {
      "cell_type": "code",
      "source": [
        "def distinct_elements(nums1, nums2):\n",
        "    set1 = set(nums1)\n",
        "    set2 = set(nums2)\n",
        "\n",
        "    answer = []\n",
        "    answer.append(list(set1 - set2))\n",
        "    answer.append(list(set2 - set1))\n",
        "\n",
        "    return answer\n",
        "nums1 = [1, 2, 3]\n",
        "nums2 = [2, 4, 6]\n",
        "\n",
        "result = distinct_elements(nums1, nums2)\n",
        "print (\"[ {}, {}]\".format(result[0], result[1]))\n",
        "\n"
      ],
      "metadata": {
        "colab": {
          "base_uri": "https://localhost:8080/"
        },
        "id": "K_GfcRYNBaOi",
        "outputId": "e76cac46-5672-4644-c8bb-e2e7be8dfe3c"
      },
      "execution_count": 6,
      "outputs": [
        {
          "output_type": "stream",
          "name": "stdout",
          "text": [
            "[ [1, 3], [4, 6]]\n"
          ]
        }
      ]
    },
    {
      "cell_type": "markdown",
      "source": [
        "**Question 3:**"
      ],
      "metadata": {
        "id": "rL0f_0dyCyNC"
      }
    },
    {
      "cell_type": "code",
      "source": [
        "def TransposeMatrix(matrix):\n",
        "    rows = len(matrix)\n",
        "    cols = len(matrix[0])\n",
        "\n",
        "    transpose = [[0 for _ in range(rows)] for _ in range(cols)]\n",
        "\n",
        "    for i in range(rows):\n",
        "        for j in range(cols):\n",
        "            transpose[j][i] = matrix[i][j]\n",
        "\n",
        "    return transpose\n",
        "matrix = [[1, 2, 3],\n",
        "          [4, 5, 6],\n",
        "          [7, 8, 9]]\n",
        "\n",
        "transpose = TransposeMatrix(matrix)\n",
        "print (\"The transpose matrix:\")\n",
        "for row in transpose:\n",
        "    print(row)\n"
      ],
      "metadata": {
        "colab": {
          "base_uri": "https://localhost:8080/"
        },
        "id": "BV1XQ_sNC1iU",
        "outputId": "4170bcdf-585b-4737-8a8a-a991cb3cab8f"
      },
      "execution_count": 9,
      "outputs": [
        {
          "output_type": "stream",
          "name": "stdout",
          "text": [
            "The transpose matrix:\n",
            "[1, 4, 7]\n",
            "[2, 5, 8]\n",
            "[3, 6, 9]\n"
          ]
        }
      ]
    },
    {
      "cell_type": "markdown",
      "source": [
        "**Question 4:**"
      ],
      "metadata": {
        "id": "-yHTdb9DFO_U"
      }
    },
    {
      "cell_type": "code",
      "source": [
        "def ArrayPair(nums):\n",
        "    nums.sort()\n",
        "\n",
        "    pair_sum = 0\n",
        "\n",
        "    for i in range(0, len(nums), 2):\n",
        "        pair_sum += nums[i]\n",
        "\n",
        "    return pair_sum\n",
        "nums = [1, 4, 3, 2]\n",
        "\n",
        "max_sum = ArrayPair(nums)\n",
        "\n",
        "print(\"The maximized sum is : \", max_sum)\n"
      ],
      "metadata": {
        "colab": {
          "base_uri": "https://localhost:8080/"
        },
        "id": "3oGCe6-4FUFl",
        "outputId": "60b045fc-7a97-4a1e-dbc0-6d69385fe594"
      },
      "execution_count": 12,
      "outputs": [
        {
          "output_type": "stream",
          "name": "stdout",
          "text": [
            "The maximized sum is :  4\n"
          ]
        }
      ]
    },
    {
      "cell_type": "markdown",
      "source": [
        "**Question 5:**"
      ],
      "metadata": {
        "id": "pfMahAV6GOs6"
      }
    },
    {
      "cell_type": "code",
      "source": [
        "def ArrangeCoins(n):\n",
        "    k = 0 \n",
        "    while n >= k + 1:\n",
        "        k += 1\n",
        "        n -= k\n",
        "\n",
        "    return k\n",
        "n = 5\n",
        "\n",
        "comp_rows = ArrangeCoins(n)\n",
        "\n",
        "print(\"The number of complete rows is : \", comp_rows)"
      ],
      "metadata": {
        "colab": {
          "base_uri": "https://localhost:8080/"
        },
        "id": "dvSSgBpNGRx1",
        "outputId": "40e28269-0083-4d55-e21c-6cedf53a47be"
      },
      "execution_count": 16,
      "outputs": [
        {
          "output_type": "stream",
          "name": "stdout",
          "text": [
            "The number of complete rows is :  2\n"
          ]
        }
      ]
    },
    {
      "cell_type": "markdown",
      "source": [
        "**Question 6:**"
      ],
      "metadata": {
        "id": "fqjJkvY8IAum"
      }
    },
    {
      "cell_type": "code",
      "source": [
        "def sortedSquares(nums):\n",
        "    squares = [num ** 2 for num in nums]\n",
        "    print (\"After squaring:\", squares)\n",
        "    squares.sort()\n",
        "    return squares\n",
        "nums = [-4, -1, 0, 3, 10]\n",
        "result = sortedSquares(nums)\n",
        "print(\"Squared numbers after sorting : \",result)"
      ],
      "metadata": {
        "colab": {
          "base_uri": "https://localhost:8080/"
        },
        "id": "sSWNsfI5IEiq",
        "outputId": "c135a88d-c67a-4efc-f77a-3fd401a84333"
      },
      "execution_count": 20,
      "outputs": [
        {
          "output_type": "stream",
          "name": "stdout",
          "text": [
            "After squaring: [16, 1, 0, 9, 100]\n",
            "Squared numbers after sorting :  [0, 1, 9, 16, 100]\n"
          ]
        }
      ]
    },
    {
      "cell_type": "markdown",
      "source": [
        "**Question 7:**"
      ],
      "metadata": {
        "id": "09kN6CNRJchL"
      }
    },
    {
      "cell_type": "code",
      "source": [
        "def max_count(m, n, ops):\n",
        "    if not ops:\n",
        "        return m * n\n",
        "    \n",
        "    min_a = min(op[0] for op in ops)\n",
        "    min_b = min(op[1] for op in ops)\n",
        "    \n",
        "    return min_a * min_b\n",
        "\n",
        "# Example usage\n",
        "m = 3\n",
        "n = 3\n",
        "ops = [[2, 2], [3, 3]]\n",
        "result = max_count(m, n, ops)\n",
        "print(result)\n"
      ],
      "metadata": {
        "colab": {
          "base_uri": "https://localhost:8080/"
        },
        "id": "ruIyq8LqJfKJ",
        "outputId": "d0ba2d99-0fb2-4343-beef-819a28e81654"
      },
      "execution_count": 29,
      "outputs": [
        {
          "output_type": "stream",
          "name": "stdout",
          "text": [
            "4\n"
          ]
        }
      ]
    },
    {
      "cell_type": "markdown",
      "source": [
        "**Question 8:**"
      ],
      "metadata": {
        "id": "0iiLsxTmMQGk"
      }
    },
    {
      "cell_type": "code",
      "source": [
        "def RearrangeArray(nums):\n",
        "    n = 3\n",
        "    result = []\n",
        "    for i in range(n):\n",
        "        result.append(nums[i])\n",
        "        result.append(nums[i + n])\n",
        "    return result\n",
        "nums = [2, 5, 1, 3, 4, 7]\n",
        "rearranged_nums = RearrangeArray(nums)\n",
        "print(rearranged_nums)"
      ],
      "metadata": {
        "colab": {
          "base_uri": "https://localhost:8080/"
        },
        "id": "V3BIy4l3MT-L",
        "outputId": "096e7bc3-7ed6-49ea-ae1c-5e2c4af78831"
      },
      "execution_count": 26,
      "outputs": [
        {
          "output_type": "stream",
          "name": "stdout",
          "text": [
            "[2, 3, 5, 4, 1, 7]\n"
          ]
        }
      ]
    },
    {
      "cell_type": "code",
      "execution_count": null,
      "metadata": {
        "id": "0bilQiLr6RX3"
      },
      "outputs": [],
      "source": []
    }
  ]
}