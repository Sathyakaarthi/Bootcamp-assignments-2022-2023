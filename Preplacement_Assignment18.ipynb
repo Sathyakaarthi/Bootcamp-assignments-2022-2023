{
  "nbformat": 4,
  "nbformat_minor": 0,
  "metadata": {
    "colab": {
      "provenance": [],
      "authorship_tag": "ABX9TyPn+Kg/gRsvj4RZQ0p7yKCh",
      "include_colab_link": true
    },
    "kernelspec": {
      "name": "python3",
      "display_name": "Python 3"
    },
    "language_info": {
      "name": "python"
    }
  },
  "cells": [
    {
      "cell_type": "markdown",
      "metadata": {
        "id": "view-in-github",
        "colab_type": "text"
      },
      "source": [
        "<a href=\"https://colab.research.google.com/github/Sathyakaarthi/Bootcamp-assignments-2022-2023/blob/main/Preplacement_Assignment18.ipynb\" target=\"_parent\"><img src=\"https://colab.research.google.com/assets/colab-badge.svg\" alt=\"Open In Colab\"/></a>"
      ]
    },
    {
      "cell_type": "markdown",
      "source": [
        "**Question 1**"
      ],
      "metadata": {
        "id": "THtxKFUi9TlP"
      }
    },
    {
      "cell_type": "code",
      "execution_count": 7,
      "metadata": {
        "colab": {
          "base_uri": "https://localhost:8080/"
        },
        "id": "Ottt2k0S8I9T",
        "outputId": "381c77c4-8b7b-460f-f2db-ef098cbaaa8c"
      },
      "outputs": [
        {
          "output_type": "stream",
          "name": "stdout",
          "text": [
            "The Merged Intervals are : [1, 6] [8, 10] [15, 18] \n",
            "\n",
            "The Merged Intervals are : [1, 5] "
          ]
        }
      ],
      "source": [
        "def mergeIntervals(intervals):\n",
        "    intervals.sort()\n",
        "    stack = []\n",
        "    stack.append(intervals[0])\n",
        "    for i in intervals[1:]:\n",
        "        if stack[-1][0] <= i[0] <= stack[-1][-1]:\n",
        "            stack[-1][-1] = max(stack[-1][-1], i[-1])\n",
        "        else:\n",
        "            stack.append(i)\n",
        "\n",
        "    print(\"The Merged Intervals are :\", end=\" \")\n",
        "    for i in range(len(stack)):\n",
        "        print(stack[i], end=\" \")\n",
        "\n",
        "\n",
        "arr = [[1,3],[2,6],[8,10],[15,18]]\n",
        "mergeIntervals(arr)\n",
        "print('\\n')\n",
        "arr = [[1,4],[4,5]]\n",
        "mergeIntervals(arr)"
      ]
    },
    {
      "cell_type": "markdown",
      "source": [
        "**Question 2**"
      ],
      "metadata": {
        "id": "4frXXEbG9XHW"
      }
    },
    {
      "cell_type": "code",
      "source": [
        "\n",
        "\n",
        "\n",
        "def sort(a, arr_size):\n",
        "    lo = 0\n",
        "    hi = arr_size - 1\n",
        "    mid = 0\n",
        "    while mid <= hi:\n",
        "        if a[mid] == 0:\n",
        "            a[lo], a[mid] = a[mid], a[lo]\n",
        "            lo = lo + 1\n",
        "            mid = mid + 1\n",
        "        elif a[mid] == 1:\n",
        "            mid = mid + 1\n",
        "        else:\n",
        "            a[mid], a[hi] = a[hi], a[mid]\n",
        "            hi = hi - 1\n",
        "    return a\n",
        "def printArray(a):\n",
        "    for k in a:\n",
        "        print(k, end=' ')\n",
        "arr = [2,0,2,1,1,0]\n",
        "arr_size = len(arr)\n",
        "arr = sort(arr, arr_size)\n",
        "printArray(arr)\n",
        "print('\\n')\n",
        "arr = [2,0,1]\n",
        "arr_size = len(arr)\n",
        "arr = sort(arr, arr_size)\n",
        "printArray(arr)"
      ],
      "metadata": {
        "colab": {
          "base_uri": "https://localhost:8080/"
        },
        "id": "dL_7fdQd9ZBJ",
        "outputId": "06399c1b-4e93-412e-be09-bafbe68c0118"
      },
      "execution_count": 13,
      "outputs": [
        {
          "output_type": "stream",
          "name": "stdout",
          "text": [
            "0 0 1 1 2 2 \n",
            "\n",
            "0 1 2 "
          ]
        }
      ]
    },
    {
      "cell_type": "markdown",
      "source": [
        "**Question 3**"
      ],
      "metadata": {
        "id": "6EBVmFlCP24U"
      }
    },
    {
      "cell_type": "code",
      "source": [
        "first_bad = 0\n",
        "def isBadVersion(version):\n",
        "   if version >= first_bad:\n",
        "      return True\n",
        "   return False\n",
        "class Solution:\n",
        "   def firstBadVersion(self, n):\n",
        "      if n <2:\n",
        "         return n\n",
        "      start = 1\n",
        "      end = n\n",
        "      while(start<=end):\n",
        "         mid = (start+end)//2\n",
        "         if isBadVersion(mid) and not isBadVersion(mid-1):\n",
        "            return mid\n",
        "         elif isBadVersion(mid-1):\n",
        "            end = mid-1\n",
        "         else:\n",
        "            start = mid+1\n",
        "ob1 = Solution()\n",
        "first_bad = 4\n",
        "op = ob1.firstBadVersion(5)\n",
        "print(op)\n",
        "first_bad = 1\n",
        "op = ob1.firstBadVersion(1)\n",
        "print(op)"
      ],
      "metadata": {
        "colab": {
          "base_uri": "https://localhost:8080/"
        },
        "id": "q2XIa-EsPrIs",
        "outputId": "ca048933-1434-43e5-860e-26375fba9785"
      },
      "execution_count": 48,
      "outputs": [
        {
          "output_type": "stream",
          "name": "stdout",
          "text": [
            "4\n",
            "1\n"
          ]
        }
      ]
    },
    {
      "cell_type": "markdown",
      "source": [
        "**Question 4**"
      ],
      "metadata": {
        "id": "p5rFpwEsAyBp"
      }
    },
    {
      "cell_type": "code",
      "source": [
        "def maxSortAdjDiff(nums, n):\n",
        "\n",
        "    maxVal, minVal = arr[0], arr[0]\n",
        "    for i in range(1, n):\n",
        "        maxVal = max(maxVal, arr[i])\n",
        "        minVal = min(minVal, arr[i])\n",
        "\n",
        "    maxBucket = [INT_MIN] * (n - 1)\n",
        "    minBucket = [INT_MAX] * (n - 1)\n",
        "\n",
        "    delta = (maxVal - minVal) // (n - 1)\n",
        "\n",
        "    for i in range(0, n):\n",
        "        if arr[i] == maxVal or arr[i] == minVal:\n",
        "            continue\n",
        "\n",
        "        index = (arr[i] - minVal) // delta\n",
        "        if maxBucket[index] == INT_MIN:\n",
        "            maxBucket[index] = arr[i]\n",
        "        else:\n",
        "            maxBucket[index] = max(maxBucket[index],\n",
        "                                             arr[i])\n",
        "\n",
        "        if minBucket[index] == INT_MAX:\n",
        "            minBucket[index] = arr[i]\n",
        "        else:\n",
        "            minBucket[index] = min(minBucket[index],\n",
        "                                             arr[i])\n",
        "\n",
        "    prev_val, max_gap = minVal, 0\n",
        "\n",
        "    for i in range(0, n - 1):\n",
        "        if minBucket[i] == INT_MAX:\n",
        "            continue\n",
        "\n",
        "        max_gap = max(max_gap,\n",
        "                      minBucket[i] - prev_val)\n",
        "        prev_val = maxBucket[i]\n",
        "\n",
        "    max_gap = max(max_gap, maxVal - prev_val)\n",
        "\n",
        "    return max_gap\n",
        "if __name__ == \"__main__\":\n",
        "\n",
        "    nums = [3,6,9,1]\n",
        "    n = len(nums)\n",
        "    INT_MIN, INT_MAX = float('-inf'), float('inf')\n",
        "\n",
        "    print(maxSortAdjDiff(nums, n))\n",
        ""
      ],
      "metadata": {
        "colab": {
          "base_uri": "https://localhost:8080/"
        },
        "id": "NQQcwLZ8-8bR",
        "outputId": "a10fae59-1fe3-4b57-bb76-e5c3d3f40bc3"
      },
      "execution_count": 17,
      "outputs": [
        {
          "output_type": "stream",
          "name": "stdout",
          "text": [
            "3\n"
          ]
        }
      ]
    },
    {
      "cell_type": "markdown",
      "source": [
        "**Question 5**"
      ],
      "metadata": {
        "id": "L9Fm4IiKAujJ"
      }
    },
    {
      "cell_type": "code",
      "source": [
        "def test_duplicate(array_nums):\n",
        "    nums_set = set(array_nums)\n",
        "    return len(array_nums) != len(nums_set)\n",
        "nums = [1,2,3,1]\n",
        "res = test_duplicate(nums)\n",
        "print(res)\n",
        "nums = [1,2,3,4]\n",
        "res = test_duplicate(nums)\n",
        "print(res)\n"
      ],
      "metadata": {
        "colab": {
          "base_uri": "https://localhost:8080/"
        },
        "id": "IWQVVrqyCWCN",
        "outputId": "a08def77-eb81-4897-ee84-1535464fb7a1"
      },
      "execution_count": 21,
      "outputs": [
        {
          "output_type": "stream",
          "name": "stdout",
          "text": [
            "True\n",
            "False\n"
          ]
        }
      ]
    },
    {
      "cell_type": "markdown",
      "source": [
        "**Question 6**"
      ],
      "metadata": {
        "id": "9sv80XHuDL50"
      }
    },
    {
      "cell_type": "code",
      "source": [
        "def minArrows(points):\n",
        "    points = sorted(points,  key = lambda x:x[1])\n",
        "    end = points[0][1];\n",
        "    arrow = 1;\n",
        "    for i in range (1, len(points)) :\n",
        "        if (points[i][0] <= end) :\n",
        "            continue;\n",
        "        else :\n",
        "            end = points[i][1]\n",
        "            arrow = arrow + 1\n",
        "    return arrow;\n",
        "points = [[10, 16 ], [ 2, 8 ], [1, 6 ], [ 7, 12 ]]\n",
        "print(minArrows(points))\n",
        "points = [[1,2],[3,4],[5,6],[7,8]]\n",
        "print(minArrows(points))"
      ],
      "metadata": {
        "colab": {
          "base_uri": "https://localhost:8080/"
        },
        "id": "cilzNbP5EFGd",
        "outputId": "9ecfaa68-267b-466f-e49c-5fdc192c6597"
      },
      "execution_count": 23,
      "outputs": [
        {
          "output_type": "stream",
          "name": "stdout",
          "text": [
            "2\n",
            "4\n"
          ]
        }
      ]
    },
    {
      "cell_type": "markdown",
      "source": [
        "**Question 7**"
      ],
      "metadata": {
        "id": "llPnkgMXEiz0"
      }
    },
    {
      "cell_type": "code",
      "source": [
        "def _lis(arr, n):\n",
        "    global maximum\n",
        "\n",
        "    if n == 1:\n",
        "        return 1\n",
        "\n",
        "    maxEnd = 1\n",
        "    for i in range(1, n):\n",
        "        res = _lis(arr, i)\n",
        "        if arr[i-1] < arr[n-1] and res+1 > maxEnd:\n",
        "            maxEnd = res + 1\n",
        "    maximum = max(maximum, maxEnd)\n",
        "\n",
        "    return maxEnd\n",
        "\n",
        "def lis(arr):\n",
        "    global maximum\n",
        "    n = len(arr)\n",
        "    maximum = 1\n",
        "    _lis(arr, n)\n",
        "    return maximum\n",
        "if __name__ == '__main__':\n",
        "    arr = [10,9,2,5,3,7,101,18]\n",
        "    n = len(arr)\n",
        "    print (\"Length of list is\", lis(arr))"
      ],
      "metadata": {
        "colab": {
          "base_uri": "https://localhost:8080/"
        },
        "id": "Ji4v1_gVJfmc",
        "outputId": "f06d3fac-0267-43ed-c40f-b352a45ce026"
      },
      "execution_count": 42,
      "outputs": [
        {
          "output_type": "stream",
          "name": "stdout",
          "text": [
            "Length of list is 4\n"
          ]
        }
      ]
    },
    {
      "cell_type": "markdown",
      "source": [
        "**Question 8**"
      ],
      "metadata": {
        "id": "BxLg9uJAKrv2"
      }
    },
    {
      "cell_type": "code",
      "source": [
        "def recreationalSpot(arr, n) :\n",
        "\n",
        "    small = []\n",
        "\n",
        "    min1 = arr[0]\n",
        "    for i in range(n) :\n",
        "        if (min1 >= arr[i]) :\n",
        "            min1 = arr[i]\n",
        "            small.append(-1)\n",
        "\n",
        "        else :\n",
        "            small.append(min1)\n",
        "    s = []\n",
        "    for i in range(n - 1, 0, -1) :\n",
        "        while (len(s) != 0 and s[-1] <= small[i]) :\n",
        "            s.pop()\n",
        "        if (len(s) != 0 and small[i] != -1 and s[-1] < arr[i]) :\n",
        "            return True\n",
        "        s.append(arr[i])\n",
        "\n",
        "    return False\n",
        "if __name__ == \"__main__\" :\n",
        "\n",
        "    arr = [1,2,3,4]\n",
        "    N = len(arr)\n",
        "\n",
        "    # Function Call\n",
        "    if (recreationalSpot(arr, N)):\n",
        "        print(\"True\");\n",
        "    else :\n",
        "        print(\"False\");\n"
      ],
      "metadata": {
        "colab": {
          "base_uri": "https://localhost:8080/"
        },
        "id": "9QUTRmU4KuIJ",
        "outputId": "5fd20a98-f1e7-41ff-ee31-a1724f08ab53"
      },
      "execution_count": 45,
      "outputs": [
        {
          "output_type": "stream",
          "name": "stdout",
          "text": [
            "False\n"
          ]
        }
      ]
    }
  ]
}