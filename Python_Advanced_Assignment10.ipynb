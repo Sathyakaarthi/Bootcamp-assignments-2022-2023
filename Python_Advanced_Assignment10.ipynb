{
  "nbformat": 4,
  "nbformat_minor": 0,
  "metadata": {
    "colab": {
      "provenance": [],
      "authorship_tag": "ABX9TyNEm54lGGsxtP9dpjil2uju",
      "include_colab_link": true
    },
    "kernelspec": {
      "name": "python3",
      "display_name": "Python 3"
    },
    "language_info": {
      "name": "python"
    }
  },
  "cells": [
    {
      "cell_type": "markdown",
      "metadata": {
        "id": "view-in-github",
        "colab_type": "text"
      },
      "source": [
        "<a href=\"https://colab.research.google.com/github/Sathyakaarthi/Bootcamp-assignments-2022-2023/blob/main/Python_Advanced_Assignment10.ipynb\" target=\"_parent\"><img src=\"https://colab.research.google.com/assets/colab-badge.svg\" alt=\"Open In Colab\"/></a>"
      ]
    },
    {
      "cell_type": "markdown",
      "source": [
        "**1.  What is the difference between _ getattr_ and _ getattribute _?**\n",
        "\n",
        "*Ans:*\n",
        "\n",
        " * if the attribute was not found by the usual way then __getattr__ is used.\n",
        " * Whereas the __getattribute__ is used before looking at the actual attributes on the object."
      ],
      "metadata": {
        "id": "XqQsfrxpfJ1G"
      }
    },
    {
      "cell_type": "markdown",
      "source": [
        "**2. What is the difference between properties and descriptors?**\n",
        "\n",
        "*Ans:*\n",
        "\n",
        "**Properties:** With Properties we can bind getter, setter and delete functions together with an attribute name, using the built-in property function or @property decorator. When we do this, each reference to an attribute looks like simple, direct access, but involes the appropriate function of the object.\n",
        "\n",
        "**Descriptor:** With Descriptor we can bind getter, setter and delete functions into a seperate class. we then assign an object of this class to the attribute name in our main class. When we do this, each reference to an attribute looks like simple, direct access but invokes an appropriate function of descriptor object."
      ],
      "metadata": {
        "id": "KIVNqzUnf7HW"
      }
    },
    {
      "cell_type": "markdown",
      "source": [
        "**3. What are the key differences in functionality between getattr and getattribute, as well as properties and descriptors?**\n",
        "\n",
        "*Ans:*\n",
        "\n",
        "* The main difference between __ getattr __ and __ getattribute __ is that if the attribute was not found by the usual way then __ getattr __ is used. Whereas the __ getattribute __ is used before looking at the actual attributes on the object.\n",
        "\n",
        "* **Descriptors** are a low-level mechanism that lets you hook into an object's attributes being accessed. **Properties** are a high-level application of this; that is, properties are implemented using descriptors."
      ],
      "metadata": {
        "id": "_aTXbGLsgJ-g"
      }
    },
    {
      "cell_type": "code",
      "execution_count": null,
      "metadata": {
        "id": "l7eZCuTZfIrR"
      },
      "outputs": [],
      "source": []
    }
  ]
}