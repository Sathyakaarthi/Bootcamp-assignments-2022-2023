{
  "nbformat": 4,
  "nbformat_minor": 0,
  "metadata": {
    "colab": {
      "provenance": [],
      "authorship_tag": "ABX9TyO+VEf58xUkY4FL3X19X84f",
      "include_colab_link": true
    },
    "kernelspec": {
      "name": "python3",
      "display_name": "Python 3"
    },
    "language_info": {
      "name": "python"
    }
  },
  "cells": [
    {
      "cell_type": "markdown",
      "metadata": {
        "id": "view-in-github",
        "colab_type": "text"
      },
      "source": [
        "<a href=\"https://colab.research.google.com/github/Sathyakaarthi/Bootcamp-assignments-2022-2023/blob/main/Preplacement_Assignment21.ipynb\" target=\"_parent\"><img src=\"https://colab.research.google.com/assets/colab-badge.svg\" alt=\"Open In Colab\"/></a>"
      ]
    },
    {
      "cell_type": "markdown",
      "source": [
        "**Question 1**"
      ],
      "metadata": {
        "id": "18G4oaRBm_OL"
      }
    },
    {
      "cell_type": "code",
      "execution_count": 3,
      "metadata": {
        "colab": {
          "base_uri": "https://localhost:8080/"
        },
        "id": "Gb2IckuUm9cH",
        "outputId": "5b4e0833-0e7b-4a59-97b7-08b3ebdd484f"
      },
      "outputs": [
        {
          "output_type": "stream",
          "name": "stdout",
          "text": [
            "2 4 7 8 10 "
          ]
        }
      ],
      "source": [
        "class Node:\n",
        "    def __init__(self, data):\n",
        "        self.data = data\n",
        "        self.left = None\n",
        "        self.right = None\n",
        "def storeInorder(root, inorder):\n",
        "    if root is None:\n",
        "        return\n",
        "    storeInorder(root.left, inorder)\n",
        "    inorder.append(root.data)\n",
        "    storeInorder(root.right, inorder)\n",
        "def countNodes(root):\n",
        "    if root is None:\n",
        "        return 0\n",
        "\n",
        "    return countNodes(root.left) + countNodes(root.right) + 1\n",
        "\n",
        "def arrayToBST(arr, root):\n",
        "    if root is None:\n",
        "        return\n",
        "    arrayToBST(arr, root.left)\n",
        "    root.data = arr[0]\n",
        "    arr.pop(0)\n",
        "    arrayToBST(arr, root.right)\n",
        "def binaryTreeToBST(root):\n",
        "    if root is None:\n",
        "        return\n",
        "    n = countNodes(root)\n",
        "    arr = []\n",
        "    storeInorder(root, arr)\n",
        "    arr.sort()\n",
        "    arrayToBST(arr, root)\n",
        "def printInorder(root):\n",
        "    if root is None:\n",
        "        return\n",
        "    printInorder(root.left)\n",
        "    print (root.data,end=\" \")\n",
        "    printInorder(root.right)\n",
        "\n",
        "root = Node(10)\n",
        "root.left = Node(2)\n",
        "root.right = Node(7)\n",
        "root.left.left = Node(8)\n",
        "root.right.right = Node(4)\n",
        "binaryTreeToBST(root)\n",
        "\n",
        "printInorder(root)\n",
        ""
      ]
    },
    {
      "cell_type": "markdown",
      "source": [
        "**Question 2**"
      ],
      "metadata": {
        "id": "Qx0hmlpvocHH"
      }
    },
    {
      "cell_type": "code",
      "source": [
        "class Node:\n",
        "    def __init__(self, value):\n",
        "        self.value = value\n",
        "        self.left = None\n",
        "        self.right = None\n",
        "\n",
        "def insert(root, value):\n",
        "    if root is None:\n",
        "        return Node(value)\n",
        "    if value < root.value:\n",
        "        root.left = insert(root.left, value)\n",
        "    else:\n",
        "        root.right = insert(root.right, value)\n",
        "    return root\n",
        "\n",
        "def findDistance(root, key1, key2):\n",
        "    if root is None:\n",
        "        return 0\n",
        "    if root.value > key1 and root.value > key2:\n",
        "        return findDistance(root.left, key1, key2)\n",
        "    if root.value < key1 and root.value < key2:\n",
        "        return findDistance(root.right, key1, key2)\n",
        "    if root.value >= key1 and root.value <= key2:\n",
        "        return distanceFromRoot(root, key1) + distanceFromRoot(root, key2)\n",
        "\n",
        "def distanceFromRoot(root, key):\n",
        "    if root.value == key:\n",
        "        return 0\n",
        "    elif root.value > key:\n",
        "        return 1 + distanceFromRoot(root.left, key)\n",
        "    else:\n",
        "        return 1 + distanceFromRoot(root.right, key)\n",
        "root = None\n",
        "keys = [8, 3, 1, 6, 4, 7, 10, 14,13]\n",
        "for key in keys:\n",
        "    root = insert(root, key)\n",
        "node1 = 6\n",
        "node2 = 14\n",
        "distance = findDistance(root, node1, node2)\n",
        "print(\"Distance between\", node1, \"and\", node2, \"=\", distance)\n",
        "node1 = 3\n",
        "node2 = 4\n",
        "distance = findDistance(root, node1, node2)\n",
        "print(\"Distance between\", node1, \"and\", node2, \"=\", distance)"
      ],
      "metadata": {
        "colab": {
          "base_uri": "https://localhost:8080/"
        },
        "id": "cgHGZt1itk_N",
        "outputId": "a612c011-168d-474f-bad5-fa169c6d2133"
      },
      "execution_count": 9,
      "outputs": [
        {
          "output_type": "stream",
          "name": "stdout",
          "text": [
            "Distance between 6 and 14 = 4\n",
            "Distance between 3 and 4 = 2\n"
          ]
        }
      ]
    },
    {
      "cell_type": "markdown",
      "source": [
        "**Question 3**"
      ],
      "metadata": {
        "id": "4I_JRdyKt9zP"
      }
    },
    {
      "cell_type": "code",
      "source": [
        "class Node:\n",
        "    def __init__(self, val):\n",
        "        self.right = None\n",
        "        self.data = val\n",
        "        self.left = None\n",
        "prev = None\n",
        "\n",
        "def BinaryTree2DoubleLinkedList(root):\n",
        "    if root is None:\n",
        "        return root\n",
        "    head = BinaryTree2DoubleLinkedList(root.left)\n",
        "    global prev\n",
        "    if prev is None :\n",
        "        head = root\n",
        "\n",
        "    else:\n",
        "        root.left = prev\n",
        "        prev.right = root\n",
        "\n",
        "    prev = root\n",
        "    BinaryTree2DoubleLinkedList(root.right)\n",
        "\n",
        "    return head\n",
        "\n",
        "def print_dll(head):\n",
        "    while head is not None:\n",
        "        print(head.data, end=\" \")\n",
        "        head = head.right\n",
        "if __name__ == '__main__':\n",
        "    root = Node(10)\n",
        "    root.left = Node(5)\n",
        "    root.right = Node(20)\n",
        "    root.right.left = Node(30)\n",
        "    root.right.right = Node(35)\n",
        "    head = BinaryTree2DoubleLinkedList(root)\n",
        "\n",
        "    print_dll(head)"
      ],
      "metadata": {
        "colab": {
          "base_uri": "https://localhost:8080/"
        },
        "id": "LdAeZKq8t_nJ",
        "outputId": "1729d82f-05ed-43e5-b347-00e47342240d"
      },
      "execution_count": 13,
      "outputs": [
        {
          "output_type": "stream",
          "name": "stdout",
          "text": [
            "5 10 30 20 35 "
          ]
        }
      ]
    },
    {
      "cell_type": "markdown",
      "source": [
        "**Question 4**"
      ],
      "metadata": {
        "id": "QzN_tGr9vvAc"
      }
    },
    {
      "cell_type": "code",
      "source": [
        "import sys\n",
        "\n",
        "class Node:\n",
        "    def __init__(self, data):\n",
        "        self.data = data\n",
        "        self.left = None\n",
        "        self.right = None\n",
        "        self.nextRight = None\n",
        "\n",
        "    def __str__(self):\n",
        "        return '{}'.format(self.data)\n",
        "def printLevelByLevel(root):\n",
        "    if root:\n",
        "        node = root\n",
        "        while node:\n",
        "            print('{}'.format(node.data), end=' ')\n",
        "            node = node.nextRight\n",
        "        print()\n",
        "        if root.left:\n",
        "            printLevelByLevel(root.left)\n",
        "        else:\n",
        "            printLevelByLevel(root.right)\n",
        "\n",
        "\n",
        "def inorder(root):\n",
        "    if root:\n",
        "        inorder(root.left)\n",
        "        print(root.data, end=' ')\n",
        "        inorder(root.right)\n",
        "\n",
        "\n",
        "def connect(root):\n",
        "    queue = []\n",
        "    queue.append(root)\n",
        "    queue.append(None)\n",
        "    while queue:\n",
        "        p = queue.pop(0)\n",
        "        if p:\n",
        "            p.nextRight = queue[0]\n",
        "            if p.left:\n",
        "                queue.append(p.left)\n",
        "            if p.right:\n",
        "                queue.append(p.right)\n",
        "        elif queue:\n",
        "            queue.append(None)\n",
        "\n",
        "\n",
        "def main():\n",
        "    root = Node(1)\n",
        "    root.left = Node(2)\n",
        "    root.right = Node(3)\n",
        "    root.left.left = Node(4)\n",
        "    root.left.right = Node(5)\n",
        "    root.right.left = Node(6)\n",
        "    root.right.right = Node(7)\n",
        "    connect(root)\n",
        "    if(root.nextRight != None):\n",
        "        print(root.data,\"->\",root.nextRight.data)\n",
        "    else:\n",
        "        print(root.data,\"->\",-1)\n",
        "    if(root.left.nextRight != None):\n",
        "        print(root.left.data,\"->\",root.left.nextRight.data)\n",
        "    else:\n",
        "        print(root.left.data,\"->\",-1)\n",
        "    if(root.right.nextRight != None):\n",
        "        print(root.right.data,\"->\",root.right.nextRight.data)\n",
        "    else:\n",
        "        print(root.right.data,\"->\",-1)\n",
        "    if(root.left.left.nextRight != None):\n",
        "        print(root.left.left.data,\"->\",root.left.left.nextRight.data)\n",
        "    if(root.left.right.nextRight != None):\n",
        "        print(root.left.right.data,\"->\",root.left.right.nextRight.data)\n",
        "    else:\n",
        "        print(root.left.right.data,\"->\",-1)\n",
        "    if(root.right.left.nextRight != None):\n",
        "        print(root.right.left.data,\"->\",root.right.left.nextRight.data)\n",
        "    else:\n",
        "        print(root.right.left.data,\"->\",-1)\n",
        "    if(root.right.right.nextRight != None):\n",
        "        print(root.right.right.data,\"->\",root.right.right.nextRight.data)\n",
        "    else:\n",
        "        print(root.right.right.data,\"->\",-1)\n",
        "\n",
        "    print()\n",
        "\n",
        "\n",
        "if __name__ == \"__main__\":\n",
        "    main()"
      ],
      "metadata": {
        "colab": {
          "base_uri": "https://localhost:8080/"
        },
        "id": "nIy00j41wuvE",
        "outputId": "6f0de443-7022-4444-9882-31d812bc65e3"
      },
      "execution_count": 25,
      "outputs": [
        {
          "output_type": "stream",
          "name": "stdout",
          "text": [
            "1 -> -1\n",
            "2 -> 3\n",
            "3 -> -1\n",
            "4 -> 5\n",
            "5 -> 6\n",
            "6 -> 7\n",
            "7 -> -1\n",
            "\n"
          ]
        }
      ]
    }
  ]
}