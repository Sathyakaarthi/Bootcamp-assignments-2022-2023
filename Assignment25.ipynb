{
  "nbformat": 4,
  "nbformat_minor": 0,
  "metadata": {
    "colab": {
      "provenance": [],
      "authorship_tag": "ABX9TyM6N9zsu52WJ7ibmPiIP7gn",
      "include_colab_link": true
    },
    "kernelspec": {
      "name": "python3",
      "display_name": "Python 3"
    },
    "language_info": {
      "name": "python"
    }
  },
  "cells": [
    {
      "cell_type": "markdown",
      "metadata": {
        "id": "view-in-github",
        "colab_type": "text"
      },
      "source": [
        "<a href=\"https://colab.research.google.com/github/Sathyakaarthi/Bootcamp-assignments-2022-2023/blob/main/Assignment25.ipynb\" target=\"_parent\"><img src=\"https://colab.research.google.com/assets/colab-badge.svg\" alt=\"Open In Colab\"/></a>"
      ]
    },
    {
      "cell_type": "markdown",
      "source": [
        "**1. What is the difference between enclosing a list comprehension in square brackets and parentheses?**\n",
        "\n",
        "Ans:\n",
        "\n",
        "Enclosing a list comprehension in square brackets,[] returns a list.but where as enclosing a list comprehension in parentheses() returns a generator object."
      ],
      "metadata": {
        "id": "Ts-YNyvKYRlx"
      }
    },
    {
      "cell_type": "markdown",
      "source": [
        "**2. What is the relationship between generators and iterators?**\n",
        "\n",
        "Ans:\n",
        "Iterators are the objects that use the next() method to get the next value of the sequence. A generator is a function that produces or yields a sequence of values using a yield statement. Classes are used to Implement the iterators. Functions are used to implement the generator. Generators are an another way of creating iterators in a simple way where it uses the keyword yield statement instead of return statement in a defined function.\n"
      ],
      "metadata": {
        "id": "SVwiO8zAZ9jy"
      }
    },
    {
      "cell_type": "markdown",
      "source": [
        "**3. What are the signs that a function is a generator function?**\n",
        "\n",
        "Ans:\n",
        "\n",
        " generator function uses a yield statement instead of a return statement.\n",
        "\n",
        " When the generator function is called, it does not execute the function body immediately. Instead, it returns a generator object that can be iterated over to produce the values.\n",
        "\n"
      ],
      "metadata": {
        "id": "knAR_hPta1_t"
      }
    },
    {
      "cell_type": "markdown",
      "source": [
        "**4. What is the purpose of a yield statement?**\n",
        "\n",
        "Ans:\n",
        "\n",
        "The yield statement returns a generator object to the one who calls the function which contains yield, instead of simply returning a value."
      ],
      "metadata": {
        "id": "3JH0Unsecz2d"
      }
    },
    {
      "cell_type": "markdown",
      "source": [
        "**5. What is the relationship between map calls and list comprehensions? Make a comparison and contrast between the two ?**\n",
        "\n",
        "Ans:\n",
        "\n",
        "List comprehension is more concise and easier to read as compared to map.\n",
        "\n",
        "List comprehension allows filtering. In map, we have no such facility. For example, to print all even numbers in range of 100, we can write [n for n in range(100) if n%2 == 0]. There is no alternate for it in map.\n",
        "\n",
        "List comprehension are used when a list of results is required as map only returns a map object and does not return any list.\n",
        "\n",
        "List comprehension is faster than map when we need to evaluate expressions that are too long or complicated to express.\n",
        "\n",
        "Map is faster in case of calling an already defined function.S"
      ],
      "metadata": {
        "id": "zp-QBO4cZqcI"
      }
    }
  ]
}