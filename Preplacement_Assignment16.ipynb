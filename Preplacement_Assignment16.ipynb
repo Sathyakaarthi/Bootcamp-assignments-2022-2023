{
  "nbformat": 4,
  "nbformat_minor": 0,
  "metadata": {
    "colab": {
      "provenance": [],
      "authorship_tag": "ABX9TyPjv6olQHqn9Nkji92mGKYP",
      "include_colab_link": true
    },
    "kernelspec": {
      "name": "python3",
      "display_name": "Python 3"
    },
    "language_info": {
      "name": "python"
    }
  },
  "cells": [
    {
      "cell_type": "markdown",
      "metadata": {
        "id": "view-in-github",
        "colab_type": "text"
      },
      "source": [
        "<a href=\"https://colab.research.google.com/github/Sathyakaarthi/Bootcamp-assignments-2022-2023/blob/main/Preplacement_Assignment16.ipynb\" target=\"_parent\"><img src=\"https://colab.research.google.com/assets/colab-badge.svg\" alt=\"Open In Colab\"/></a>"
      ]
    },
    {
      "cell_type": "markdown",
      "source": [
        "**Question 1**"
      ],
      "metadata": {
        "id": "DcrgCDn4DB0k"
      }
    },
    {
      "cell_type": "code",
      "source": [
        "mystack = []\n",
        "mymap = {}\n",
        "\n",
        "\n",
        "def NGF(arr, res):\n",
        "    n = len(arr)\n",
        "\n",
        "    for i in range(n):\n",
        "        if arr[i] in mymap:\n",
        "            mymap[arr[i]] += 1\n",
        "        else:\n",
        "            mymap[arr[i]] = 1\n",
        "\n",
        "    curr_freq = mymap[arr[n-1]]\n",
        "\n",
        "    mystack.append([arr[n-1],curr_freq])\n",
        "\n",
        "\n",
        "    res[n-1] = -1\n",
        "\n",
        "    for i in range(n - 2, -1, -1):\n",
        "        curr_freq = mymap[arr[i]]\n",
        "\n",
        "        while len(mystack) > 0  and  curr_freq >= mystack[-1][1]:\n",
        "            mystack.pop()\n",
        "\n",
        "\n",
        "        if (len(mystack) == 0):\n",
        "            res[i] = -1\n",
        "        else:\n",
        "            res[i] = mystack[-1][0]\n",
        "\n",
        "        mystack.append([arr[i],mymap[arr[i]]])\n",
        "\n",
        "arr = [1, 1, 1, 2, 2, 2, 2, 11, 3, 3]\n",
        "\n",
        "res = [0]*(len(arr))\n",
        "NGF(arr, res)\n",
        "print(res)\n",
        "arr = [1, 1, 2, 3, 4, 2, 1]\n",
        "\n",
        "res = [0]*(len(arr))\n",
        "NGF(arr, res)\n",
        "print(res)"
      ],
      "metadata": {
        "colab": {
          "base_uri": "https://localhost:8080/"
        },
        "id": "0KfNJ2vkCYlz",
        "outputId": "bdac1366-714d-49bd-f659-0e7c28702352"
      },
      "execution_count": 6,
      "outputs": [
        {
          "output_type": "stream",
          "name": "stdout",
          "text": [
            "[2, 2, 2, -1, -1, -1, -1, 3, -1, -1]\n",
            "[-1, -1, -1, 2, 2, -1, -1]\n"
          ]
        }
      ]
    },
    {
      "cell_type": "markdown",
      "source": [
        "**Question 2**"
      ],
      "metadata": {
        "id": "4ZbE0_BuDA4w"
      }
    },
    {
      "cell_type": "code",
      "source": [
        "def SortStack (stack):\n",
        "    tmpStack = CreateStack()\n",
        "    while(isEmpty(stack) == False):\n",
        "\n",
        "        tmp = top(stack)\n",
        "        pop(stack)\n",
        "\n",
        "\n",
        "        while(isEmpty(tmpStack) == False and\n",
        "             int(top(tmpStack)) < int(tmp)):\n",
        "\n",
        "            push(stack,top(tmpStack))\n",
        "            pop(tmpStack)\n",
        "\n",
        "        push(tmpStack,tmp)\n",
        "\n",
        "    return tmpStack\n",
        "\n",
        "\n",
        "def CreateStack():\n",
        "    stack = []\n",
        "    return stack\n",
        "\n",
        "def isEmpty(stack):\n",
        "    return len(stack) == 0\n",
        "\n",
        "\n",
        "def push(stack, item):\n",
        "    stack.append(item)\n",
        "\n",
        "\n",
        "def top(stack):\n",
        "    p = len(stack)\n",
        "    return stack[p-1]\n",
        "\n",
        "def pop(stack):\n",
        "\n",
        "\n",
        "    if(isEmpty( stack )):\n",
        "        print(\"Stack Underflow \")\n",
        "        exit(1)\n",
        "\n",
        "    return stack.pop()\n",
        "\n",
        "def prints(stack):\n",
        "    for i in range(len(stack)-1, -1, -1):\n",
        "        print(stack[i], end = ' ')\n",
        "    print()\n",
        "\n",
        "stack = CreateStack()\n",
        "push( stack, str(34) )\n",
        "push( stack, str(3) )\n",
        "push( stack, str(31) )\n",
        "push( stack, str(98) )\n",
        "push( stack, str(92) )\n",
        "push( stack, str(23) )\n",
        "\n",
        "print(\"Sorted numbers are: \")\n",
        "sortedst = SortStack ( stack )\n",
        "prints(sortedst)\n",
        "stack = CreateStack()\n",
        "push( stack, str(3) )\n",
        "push( stack, str(5) )\n",
        "push( stack, str(1) )\n",
        "push( stack, str(4) )\n",
        "push( stack, str(2) )\n",
        "push( stack, str(8) )\n",
        "\n",
        "print(\"Sorted numbers are: \")\n",
        "sortedst = SortStack ( stack )\n",
        "prints(sortedst)\n",
        ""
      ],
      "metadata": {
        "colab": {
          "base_uri": "https://localhost:8080/"
        },
        "id": "vgcjcvjmDHwA",
        "outputId": "b354da04-e719-4d9a-d114-140a4563c638"
      },
      "execution_count": 8,
      "outputs": [
        {
          "output_type": "stream",
          "name": "stdout",
          "text": [
            "Sorted numbers are: \n",
            "3 23 31 34 92 98 \n",
            "Sorted numbers are: \n",
            "1 2 3 4 5 8 \n"
          ]
        }
      ]
    },
    {
      "cell_type": "markdown",
      "source": [
        "**Question 3**"
      ],
      "metadata": {
        "id": "zJUCYUbXE4Bp"
      }
    },
    {
      "cell_type": "code",
      "source": [
        "import math\n",
        "\n",
        "st = []\n",
        "st.append('1')\n",
        "st.append('2')\n",
        "st.append('3')\n",
        "st.append('4')\n",
        "st.append('5')\n",
        "\n",
        "v = []\n",
        "\n",
        "while(len(st) > 0):\n",
        "    v.append(st[0])\n",
        "    del st[0]\n",
        "\n",
        "n = len(v)\n",
        "\n",
        "if n%2==0:\n",
        "    target = math.floor(n/2)\n",
        "    for i in range(0, n):\n",
        "        if i==target:\n",
        "            continue\n",
        "        st.append(v[i])\n",
        "else:\n",
        "    target = math.floor(n/2)\n",
        "    for i in range(0, n):\n",
        "        if i==target:\n",
        "            continue\n",
        "        st.append(v[i])\n",
        "\n",
        "print(\"stack after deletion of middle element:\", end = \" \")\n",
        "\n",
        "while (len(st) > 0):\n",
        "    p = st[0]\n",
        "    del st[0]\n",
        "    print(p, end = \" \")"
      ],
      "metadata": {
        "colab": {
          "base_uri": "https://localhost:8080/"
        },
        "id": "-r0g83osE6JZ",
        "outputId": "aeb4ef89-2e5b-47e3-e2c9-6bf8c59dffb7"
      },
      "execution_count": 11,
      "outputs": [
        {
          "output_type": "stream",
          "name": "stdout",
          "text": [
            "stack after deletion of middle element: 1 2 4 5 "
          ]
        }
      ]
    },
    {
      "cell_type": "markdown",
      "source": [
        "**Question 4**"
      ],
      "metadata": {
        "id": "mXL1iMN2HSe4"
      }
    },
    {
      "cell_type": "code",
      "source": [
        "from queue import Queue\n",
        "\n",
        "\n",
        "def checkSorted(n, q):\n",
        "    st = []\n",
        "    expected = 1\n",
        "    fnt = None\n",
        "\n",
        "    while (not q.empty()):\n",
        "        fnt = q.queue[0]\n",
        "        q.get()\n",
        "\n",
        "\n",
        "        if (fnt == expected):\n",
        "            expected += 1\n",
        "\n",
        "        else:\n",
        "\n",
        "            if (len(st) == 0):\n",
        "                st.append(fnt)\n",
        "\n",
        "            elif (len(st) != 0 and st[-1] < fnt):\n",
        "                return False\n",
        "\n",
        "            else:\n",
        "                st.append(fnt)\n",
        "\n",
        "\n",
        "        while (len(st) != 0 and\n",
        "                   st[-1] == expected):\n",
        "            st.pop()\n",
        "            expected += 1\n",
        "\n",
        "    if (expected - 1 == n and len(st) == 0):\n",
        "        return True\n",
        "\n",
        "    return False\n",
        "\n",
        "if __name__ == '__main__':\n",
        "    q = Queue()\n",
        "    q.put(5)\n",
        "    q.put(1)\n",
        "    q.put(2)\n",
        "    q.put(3)\n",
        "    q.put(4)\n",
        "\n",
        "    n = q.qsize()\n",
        "\n",
        "    if checkSorted(n, q):\n",
        "        print(\"Yes\")\n",
        "    else:\n",
        "        print(\"No\")\n",
        "if __name__ == '__main__':\n",
        "    q = Queue()\n",
        "    q.put(5)\n",
        "    q.put(1)\n",
        "    q.put(2)\n",
        "    q.put(6)\n",
        "    q.put(3)\n",
        "    q.put(4)\n",
        "\n",
        "    n = q.qsize()\n",
        "\n",
        "    if checkSorted(n, q):\n",
        "        print(\"Yes\")\n",
        "    else:\n",
        "        print(\"No\")"
      ],
      "metadata": {
        "colab": {
          "base_uri": "https://localhost:8080/"
        },
        "id": "xBDKQy2NHUW5",
        "outputId": "1affd3b8-949d-49a2-fbc5-83b7c3baa11e"
      },
      "execution_count": 15,
      "outputs": [
        {
          "output_type": "stream",
          "name": "stdout",
          "text": [
            "Yes\n",
            "No\n"
          ]
        }
      ]
    },
    {
      "cell_type": "markdown",
      "source": [
        "**Question 5**"
      ],
      "metadata": {
        "id": "AiyW3l6-IXhR"
      }
    },
    {
      "cell_type": "code",
      "source": [
        "st = []\n",
        "\n",
        "def push_digits(num):\n",
        "\n",
        "    while (num != 0):\n",
        "        st.append(num % 10)\n",
        "        num = int(num / 10)\n",
        "\n",
        "def reverse_number(num):\n",
        "\n",
        "    push_digits(num)\n",
        "\n",
        "    reverse = 0\n",
        "    i = 1\n",
        "\n",
        "    while (len(st) > 0):\n",
        "        reverse = reverse + (st[len(st) - 1] * i)\n",
        "        st.pop()\n",
        "        i = i * 10\n",
        "\n",
        "    return reverse\n",
        "num = 365\n",
        "print(reverse_number(num))\n",
        "num = 6899\n",
        "print(reverse_number(num))\n",
        ""
      ],
      "metadata": {
        "colab": {
          "base_uri": "https://localhost:8080/"
        },
        "id": "S6yD8TErIZpC",
        "outputId": "ddb66d98-eb86-4dd6-a842-5d8b84038713"
      },
      "execution_count": 22,
      "outputs": [
        {
          "output_type": "stream",
          "name": "stdout",
          "text": [
            "563\n",
            "9986\n"
          ]
        }
      ]
    },
    {
      "cell_type": "markdown",
      "source": [
        "**Question 6**"
      ],
      "metadata": {
        "id": "uB9XXiYCKH-V"
      }
    },
    {
      "cell_type": "code",
      "source": [
        "from collections import deque\n",
        "\n",
        "def reverse_first(q, k):\n",
        "    solve(q, k)\n",
        "    s = len(q) - k\n",
        "    for _ in range(s):\n",
        "        x = q.popleft()\n",
        "        q.append(x)\n",
        "    return q\n",
        "\n",
        "def solve(q, k):\n",
        "    if k == 0:\n",
        "        return\n",
        "    e = q.popleft()\n",
        "    solve(q, k - 1)\n",
        "    q.append(e)\n",
        "\n",
        "# Driver code\n",
        "queue = deque([10, 20, 30, 40, 50, 60, 70, 80, 90, 100])\n",
        "k = 5\n",
        "queue = reverse_first(queue, k)\n",
        "\n",
        "# Printing queue\n",
        "while queue:\n",
        "    print(queue.popleft(), end=' ')"
      ],
      "metadata": {
        "colab": {
          "base_uri": "https://localhost:8080/"
        },
        "id": "BiMKsubJMAoL",
        "outputId": "36e4a94c-e0f8-4b35-becb-8328ec5d0884"
      },
      "execution_count": 24,
      "outputs": [
        {
          "output_type": "stream",
          "name": "stdout",
          "text": [
            "50 40 30 20 10 60 70 80 90 100 "
          ]
        }
      ]
    },
    {
      "cell_type": "markdown",
      "source": [
        "**Question 7**"
      ],
      "metadata": {
        "id": "yIXA4_wLNu4D"
      }
    },
    {
      "cell_type": "code",
      "source": [
        "def removeConsecutiveSame(v):\n",
        "\n",
        "    n = len(v)\n",
        "\n",
        "    i = 0\n",
        "    while(i < n - 1):\n",
        "\n",
        "        if ((i + 1) < len(v)) and (v[i] == v[i + 1]):\n",
        "\n",
        "            v = v[:i]\n",
        "            v = v[:i]\n",
        "\n",
        "            if (i > 0):\n",
        "                i -= 1\n",
        "\n",
        "            n = n - 2\n",
        "\n",
        "        else:\n",
        "            i += 1\n",
        "\n",
        "    return len(v[:i - 1])\n",
        "\n",
        "if __name__ == '__main__':\n",
        "    v = [\"tom\", \"jerry\", \"jerry\", \"tom\"]\n",
        "    print(removeConsecutiveSame(v))\n"
      ],
      "metadata": {
        "colab": {
          "base_uri": "https://localhost:8080/"
        },
        "id": "Jx1WsypPNxL3",
        "outputId": "5f8aa69c-0e1c-4616-bb8c-716bb6bf429c"
      },
      "execution_count": 31,
      "outputs": [
        {
          "output_type": "stream",
          "name": "stdout",
          "text": [
            "0\n"
          ]
        }
      ]
    },
    {
      "cell_type": "markdown",
      "source": [
        "**Question 8**"
      ],
      "metadata": {
        "id": "Y22AprX-O1pt"
      }
    },
    {
      "cell_type": "code",
      "source": [
        "def leftsmaller(arr, n, SE):\n",
        "\n",
        "    sta = []\n",
        "\n",
        "    for i in range(n):\n",
        "\n",
        "        while(sta != [] and sta[len(sta)-1] >= arr[i]):\n",
        "            sta.pop()\n",
        "\n",
        "        if(sta != []):\n",
        "            SE[i]=sta[len(sta)-1]\n",
        "        else:\n",
        "            SE[i]=0\n",
        "\n",
        "        sta.append(arr[i])\n",
        "\n",
        "def findMaxDiff(arr, n):\n",
        "    ls=[0]*n\n",
        "    rs=[0]*n\n",
        "\n",
        "    leftsmaller(arr, n, ls)\n",
        "    leftsmaller(arr[::-1], n, rs)\n",
        "\n",
        "    res = -1\n",
        "    for i in range(n):\n",
        "        res = max(res, abs(ls[i] - rs[n-1-i]))\n",
        "    return res\n",
        "\n",
        "if __name__=='__main__':\n",
        "    arr = [2, 4, 8, 7, 7, 9, 3]\n",
        "    print (findMaxDiff(arr, len(arr)))\n",
        ""
      ],
      "metadata": {
        "colab": {
          "base_uri": "https://localhost:8080/"
        },
        "id": "2zx4oUvFPPHY",
        "outputId": "19ca56d5-06dc-4359-ea10-f9966cc977c0"
      },
      "execution_count": 1,
      "outputs": [
        {
          "output_type": "stream",
          "name": "stdout",
          "text": [
            "4\n"
          ]
        }
      ]
    }
  ]
}