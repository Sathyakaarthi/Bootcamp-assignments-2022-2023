{
  "nbformat": 4,
  "nbformat_minor": 0,
  "metadata": {
    "colab": {
      "provenance": [],
      "authorship_tag": "ABX9TyNHwAfaixZGzS1tN/D0OJgU",
      "include_colab_link": true
    },
    "kernelspec": {
      "name": "python3",
      "display_name": "Python 3"
    },
    "language_info": {
      "name": "python"
    }
  },
  "cells": [
    {
      "cell_type": "markdown",
      "metadata": {
        "id": "view-in-github",
        "colab_type": "text"
      },
      "source": [
        "<a href=\"https://colab.research.google.com/github/Sathyakaarthi/Bootcamp-assignments-2022-2023/blob/main/Assignment11.ipynb\" target=\"_parent\"><img src=\"https://colab.research.google.com/assets/colab-badge.svg\" alt=\"Open In Colab\"/></a>"
      ]
    },
    {
      "cell_type": "markdown",
      "source": [
        "**1. Create an assert statement that throws an AssertionError if the variable spam is a negative integer.**\n",
        "\n"
      ],
      "metadata": {
        "id": "pr4LM4aSTw3R"
      }
    },
    {
      "cell_type": "code",
      "execution_count": 1,
      "metadata": {
        "colab": {
          "base_uri": "https://localhost:8080/",
          "height": 188
        },
        "id": "cipKdMiaTacG",
        "outputId": "ee695dc8-92f7-460e-9ae7-430cfe44da1c"
      },
      "outputs": [
        {
          "output_type": "error",
          "ename": "AssertionError",
          "evalue": "ignored",
          "traceback": [
            "\u001b[0;31m---------------------------------------------------------------------------\u001b[0m",
            "\u001b[0;31mAssertionError\u001b[0m                            Traceback (most recent call last)",
            "\u001b[0;32m<ipython-input-1-01a2238445a6>\u001b[0m in \u001b[0;36m<cell line: 2>\u001b[0;34m()\u001b[0m\n\u001b[1;32m      1\u001b[0m \u001b[0mx\u001b[0m \u001b[0;34m=\u001b[0m \u001b[0;34m-\u001b[0m\u001b[0;36m42\u001b[0m\u001b[0;34m\u001b[0m\u001b[0;34m\u001b[0m\u001b[0m\n\u001b[0;32m----> 2\u001b[0;31m \u001b[0;32massert\u001b[0m \u001b[0mx\u001b[0m \u001b[0;34m>\u001b[0m \u001b[0;36m0\u001b[0m\u001b[0;34m,\u001b[0m \u001b[0;34m' x is a negative integer.'\u001b[0m\u001b[0;34m\u001b[0m\u001b[0;34m\u001b[0m\u001b[0m\n\u001b[0m",
            "\u001b[0;31mAssertionError\u001b[0m:  x is a negative integer."
          ]
        }
      ],
      "source": [
        "x = -42\n",
        "assert x > 0, ' x is a negative integer.'"
      ]
    },
    {
      "cell_type": "markdown",
      "source": [
        "**2. Write an assert statement that triggers an AssertionError if the variables eggs and bacon contain strings that are the same as each other, even if their cases are different (that is, 'hello' and 'hello' are considered the same, and 'goodbye' and 'GOODbye' are also considered the same).**"
      ],
      "metadata": {
        "id": "WaexZQRfVOak"
      }
    },
    {
      "cell_type": "code",
      "source": [
        "eggs = 'goodbye'\n",
        "bacon = 'Goodbye'\n",
        "\n",
        "assert eggs.lower() != bacon.lower(), 'The eggs and bacon variables are same!'\n",
        "assert eggs.upper() != bacon.upper(), 'The eggs and bacon variables are same!'"
      ],
      "metadata": {
        "colab": {
          "base_uri": "https://localhost:8080/",
          "height": 224
        },
        "id": "uwbpQ228VRj8",
        "outputId": "0352c4d5-0aca-4f07-88a6-08fbbc05cd1d"
      },
      "execution_count": 7,
      "outputs": [
        {
          "output_type": "error",
          "ename": "AssertionError",
          "evalue": "ignored",
          "traceback": [
            "\u001b[0;31m---------------------------------------------------------------------------\u001b[0m",
            "\u001b[0;31mAssertionError\u001b[0m                            Traceback (most recent call last)",
            "\u001b[0;32m<ipython-input-7-5165decb38ac>\u001b[0m in \u001b[0;36m<cell line: 4>\u001b[0;34m()\u001b[0m\n\u001b[1;32m      2\u001b[0m \u001b[0mbacon\u001b[0m \u001b[0;34m=\u001b[0m \u001b[0;34m'Goodbye'\u001b[0m\u001b[0;34m\u001b[0m\u001b[0;34m\u001b[0m\u001b[0m\n\u001b[1;32m      3\u001b[0m \u001b[0;34m\u001b[0m\u001b[0m\n\u001b[0;32m----> 4\u001b[0;31m \u001b[0;32massert\u001b[0m \u001b[0meggs\u001b[0m\u001b[0;34m.\u001b[0m\u001b[0mlower\u001b[0m\u001b[0;34m(\u001b[0m\u001b[0;34m)\u001b[0m \u001b[0;34m!=\u001b[0m \u001b[0mbacon\u001b[0m\u001b[0;34m.\u001b[0m\u001b[0mlower\u001b[0m\u001b[0;34m(\u001b[0m\u001b[0;34m)\u001b[0m\u001b[0;34m,\u001b[0m \u001b[0;34m'The eggs and bacon variables are same!'\u001b[0m\u001b[0;34m\u001b[0m\u001b[0;34m\u001b[0m\u001b[0m\n\u001b[0m\u001b[1;32m      5\u001b[0m \u001b[0;32massert\u001b[0m \u001b[0meggs\u001b[0m\u001b[0;34m.\u001b[0m\u001b[0mupper\u001b[0m\u001b[0;34m(\u001b[0m\u001b[0;34m)\u001b[0m \u001b[0;34m!=\u001b[0m \u001b[0mbacon\u001b[0m\u001b[0;34m.\u001b[0m\u001b[0mupper\u001b[0m\u001b[0;34m(\u001b[0m\u001b[0;34m)\u001b[0m\u001b[0;34m,\u001b[0m \u001b[0;34m'The eggs and bacon variables are same!'\u001b[0m\u001b[0;34m\u001b[0m\u001b[0;34m\u001b[0m\u001b[0m\n",
            "\u001b[0;31mAssertionError\u001b[0m: The eggs and bacon variables are same!"
          ]
        }
      ]
    },
    {
      "cell_type": "markdown",
      "source": [
        "**3. Create an assert statement that throws an AssertionError every time.**\n",
        "\n",
        "*Ans:*\n",
        "\n",
        "\n",
        "\n"
      ],
      "metadata": {
        "id": "xCnOl6MiXQSU"
      }
    },
    {
      "cell_type": "code",
      "source": [
        "assert False"
      ],
      "metadata": {
        "colab": {
          "base_uri": "https://localhost:8080/",
          "height": 169
        },
        "id": "X0q-jU74XZC9",
        "outputId": "2ece18ab-5dfe-4889-a77f-7ba23e8ef183"
      },
      "execution_count": 8,
      "outputs": [
        {
          "output_type": "error",
          "ename": "AssertionError",
          "evalue": "ignored",
          "traceback": [
            "\u001b[0;31m---------------------------------------------------------------------------\u001b[0m",
            "\u001b[0;31mAssertionError\u001b[0m                            Traceback (most recent call last)",
            "\u001b[0;32m<ipython-input-8-a871fdc9ebee>\u001b[0m in \u001b[0;36m<cell line: 1>\u001b[0;34m()\u001b[0m\n\u001b[0;32m----> 1\u001b[0;31m \u001b[0;32massert\u001b[0m \u001b[0;32mFalse\u001b[0m\u001b[0;34m\u001b[0m\u001b[0;34m\u001b[0m\u001b[0m\n\u001b[0m",
            "\u001b[0;31mAssertionError\u001b[0m: "
          ]
        }
      ]
    },
    {
      "cell_type": "markdown",
      "source": [
        "**4. What are the two lines that must be present in your software in order to call logging.debug()?**\n",
        "\n",
        "*Ans:*\n",
        "\n",
        "\n",
        "\n"
      ],
      "metadata": {
        "id": "ek8UBMLQX-e5"
      }
    },
    {
      "cell_type": "code",
      "source": [
        "import logging\n",
        "logging.basicConfig(level=logging.DEBUG, format=' %(asctime)s -%(levelname)s - %(message)s')"
      ],
      "metadata": {
        "id": "e-ak8BDnYMZJ"
      },
      "execution_count": 10,
      "outputs": []
    },
    {
      "cell_type": "markdown",
      "source": [
        "**5. What are the two lines that your program must have in order to have logging.debug() send a logging message to a file named programLog.txt?**\n",
        "\n",
        "*Ans:*\n",
        "\n",
        "\n",
        "\n"
      ],
      "metadata": {
        "id": "6iyjfCEhYu5b"
      }
    },
    {
      "cell_type": "code",
      "source": [
        "import logging\n",
        "logging.basicConfig(filename='programLog.txt', level=logging.DEBUG, format=' %(asctime)s - %(levelname)s - %(message)s')"
      ],
      "metadata": {
        "id": "loAP_XZVZRzW"
      },
      "execution_count": 11,
      "outputs": []
    },
    {
      "cell_type": "markdown",
      "source": [
        "**6. What are the five levels of logging?**\n",
        "\n",
        "*Ans:*\n",
        "\n",
        "DEBUG, INGO, WARNING, ERROR and CRITICAL."
      ],
      "metadata": {
        "id": "t0CF-46bZb0l"
      }
    },
    {
      "cell_type": "markdown",
      "source": [
        "**7. What line of code would you add to your software to disable all logging messages?**\n",
        "\n",
        "*Ans:*\n",
        "\n",
        "logging.disable(logging.CRITICAL)\n",
        "\n"
      ],
      "metadata": {
        "id": "yXYefiZ8ZpWz"
      }
    },
    {
      "cell_type": "markdown",
      "source": [
        "**8. Why is using logging messages better than using print() to display the same message?**\n",
        "\n",
        "*Ans:*\n",
        "\n",
        "We can disable logging messages without removing the logging function calls. We can selectively disable lower-level logging messages. We can create logging messages. Logging messages provides a timestamp.\n",
        "\n",
        "\n",
        "\n"
      ],
      "metadata": {
        "id": "j9NtdUDNaC0y"
      }
    },
    {
      "cell_type": "markdown",
      "source": [
        "**9. What are the differences between the Step Over, Step In, and Step Out buttons in the debugger?**\n",
        "\n",
        "*Ans:*\n",
        "\n",
        "* **Step In**\n",
        "Clicking the Step In button will cause the debugger to execute the next line of code and then pause again. If the next line of code is a function call, the debugger will “step into” that function and jump to the first line of code of that function.\n",
        "\n",
        "* **Step Over**\n",
        "Clicking the Step Over button will execute the next line of code, similar to the Step In button. However, if the next line of code is a function call, the Step Over button will “step over” the code in the function.\n",
        "\n",
        "* **Step Out**\n",
        "Clicking the Step Out button will cause the debugger to execute lines of code at full speed until it returns from the current function. click the Out button to “step out” of the current function call.\n",
        "\n"
      ],
      "metadata": {
        "id": "ei2d4j9Ja-As"
      }
    },
    {
      "cell_type": "markdown",
      "source": [
        "**10. After you click Continue, when will the debugger stop ?**\n",
        "\n",
        "*Ans:*\n",
        "\n",
        "Continue execution until the current function returns. Continue execution, only stop when a breakpoint is encountered.\n",
        "\n",
        "\n"
      ],
      "metadata": {
        "id": "wx0F08FzdNSs"
      }
    },
    {
      "cell_type": "markdown",
      "source": [
        "**11. What is the concept of a breakpoint?**\n",
        "\n",
        "*Ans:*\n",
        "\n",
        "Breakpoint is a setting on a line of code that causes the debugger to pause when the program execution reaches the line\n",
        "\n",
        "\n",
        "\n",
        "> Indented block\n",
        "\n",
        "\n",
        "\n"
      ],
      "metadata": {
        "id": "rEEp3Txrdb2k"
      }
    },
    {
      "cell_type": "markdown",
      "source": [],
      "metadata": {
        "id": "5x7ktz4TVtG-"
      }
    }
  ]
}