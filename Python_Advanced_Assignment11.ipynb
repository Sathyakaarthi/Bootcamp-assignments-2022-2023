{
  "nbformat": 4,
  "nbformat_minor": 0,
  "metadata": {
    "colab": {
      "provenance": [],
      "authorship_tag": "ABX9TyOxOZMdw7w7uOhC5XDOp4NC",
      "include_colab_link": true
    },
    "kernelspec": {
      "name": "python3",
      "display_name": "Python 3"
    },
    "language_info": {
      "name": "python"
    }
  },
  "cells": [
    {
      "cell_type": "markdown",
      "metadata": {
        "id": "view-in-github",
        "colab_type": "text"
      },
      "source": [
        "<a href=\"https://colab.research.google.com/github/Sathyakaarthi/Bootcamp-assignments-2022-2023/blob/main/Python_Advanced_Assignment11.ipynb\" target=\"_parent\"><img src=\"https://colab.research.google.com/assets/colab-badge.svg\" alt=\"Open In Colab\"/></a>"
      ]
    },
    {
      "cell_type": "markdown",
      "source": [
        "**1. What is the concept of a metaclass?**\n",
        "\n",
        "*Ans:*\n",
        "\n",
        "Metaclasses are an OOP concept present in all python code by default. Python provides the functionality to create custom metaclasses by using the keyword type. Type is a metaclass whose instances are classes. Any class created in python is an instance of type metaclass."
      ],
      "metadata": {
        "id": "R8YEuiolhUe3"
      }
    },
    {
      "cell_type": "markdown",
      "source": [
        "**2. What is the best way to declare a class's metaclass?**\n",
        "\n",
        "*Ans:*\n",
        "\n",
        "A way to declare a class' metaclass is by using metaclass keyword in class definition."
      ],
      "metadata": {
        "id": "BhrUNbedhiuJ"
      }
    },
    {
      "cell_type": "code",
      "execution_count": 1,
      "metadata": {
        "colab": {
          "base_uri": "https://localhost:8080/"
        },
        "id": "QQ48kMfJhGBi",
        "outputId": "b61d34c9-a3bc-4191-f0aa-b557a75fe4f1"
      },
      "outputs": [
        {
          "output_type": "stream",
          "name": "stdout",
          "text": [
            "<__main__.TestClass object at 0x7f6148f5d990>\n"
          ]
        }
      ],
      "source": [
        "class TestClass():\n",
        "    pass\n",
        "\n",
        "my_test_class = TestClass()\n",
        "print(my_test_class)"
      ]
    },
    {
      "cell_type": "markdown",
      "source": [
        "**3. How do class decorators overlap with metaclasses for handling classes ?**\n",
        "\n",
        "*Ans:*\n",
        "\n",
        "Anything you can do with a class decorator, you can of course do with a custom metaclasses (just apply the functionality of the \"decorator function\", i.e., the one that takes a class object and modifies it, in the course of the metaclass's __ new __ or __ init __ that make the class object!)."
      ],
      "metadata": {
        "id": "p2QGbV6jiOxg"
      }
    },
    {
      "cell_type": "markdown",
      "source": [
        "**4. How do class decorators overlap with metaclasses for handling instances?**\n",
        "\n",
        "*Ans:*\n",
        "\n",
        "Anything you can do with a class decorator, you can of course do with a custom metaclasses (just apply the functionality of the \"decorator function\", i.e., the one that takes a class object and modifies it, in the course of the metaclass's __ new __ or __ init __ that make the class object!)."
      ],
      "metadata": {
        "id": "JmLtO-pXilxR"
      }
    }
  ]
}