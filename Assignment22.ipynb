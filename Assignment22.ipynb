{
  "nbformat": 4,
  "nbformat_minor": 0,
  "metadata": {
    "colab": {
      "provenance": [],
      "authorship_tag": "ABX9TyMyt/KiEbZ9b2xAUpIYRpzf",
      "include_colab_link": true
    },
    "kernelspec": {
      "name": "python3",
      "display_name": "Python 3"
    },
    "language_info": {
      "name": "python"
    }
  },
  "cells": [
    {
      "cell_type": "markdown",
      "metadata": {
        "id": "view-in-github",
        "colab_type": "text"
      },
      "source": [
        "<a href=\"https://colab.research.google.com/github/Sathyakaarthi/Bootcamp-assignments-2022-2023/blob/main/Assignment22.ipynb\" target=\"_parent\"><img src=\"https://colab.research.google.com/assets/colab-badge.svg\" alt=\"Open In Colab\"/></a>"
      ]
    },
    {
      "cell_type": "markdown",
      "source": [
        "**1. What is the result of the code, and explain?**\n",
        "\n",
        "\\>>> X = 'iNeuron'\n",
        "\n",
        "\\>>> def func():\n",
        "\n",
        "print(X)\n",
        "\n",
        "\\>>> func()"
      ],
      "metadata": {
        "id": "GPgHA_YX0i5K"
      }
    },
    {
      "cell_type": "code",
      "execution_count": 2,
      "metadata": {
        "colab": {
          "base_uri": "https://localhost:8080/"
        },
        "id": "V16cXBLZ0Ves",
        "outputId": "6838cdc1-1397-49c1-a1bb-fd3887a15e0f"
      },
      "outputs": [
        {
          "output_type": "stream",
          "name": "stdout",
          "text": [
            "iNeuron\n"
          ]
        }
      ],
      "source": [
        "X = 'iNeuron'\n",
        "def func():\n",
        "    print(X)\n",
        "func()\n"
      ]
    },
    {
      "cell_type": "markdown",
      "source": [
        "**Explanation:** The Result is iNeuron, because the function intially looks for the variable X in its local scope,But since there is no local variable X, its returns the value of global variable x i.e. iNeuron"
      ],
      "metadata": {
        "id": "fLa8Osmk1NLu"
      }
    },
    {
      "cell_type": "markdown",
      "source": [
        "**2. What is the result of the code, and explain?**\n",
        "\n",
        "\\>>> X = 'iNeuron'\n",
        "\n",
        "\\>>> def func():\n",
        "\n",
        "X = 'NI!'\n",
        "\n",
        "\\>>> func()\n",
        "\n",
        "\\>>> print(X)"
      ],
      "metadata": {
        "id": "jvWBQvfi1ab-"
      }
    },
    {
      "cell_type": "code",
      "source": [
        "X = 'iNeuron'\n",
        "def func():\n",
        "    X = 'NI!'\n",
        "    print(X)\n",
        "func()"
      ],
      "metadata": {
        "colab": {
          "base_uri": "https://localhost:8080/"
        },
        "id": "QV3CmstU1rkf",
        "outputId": "4ae6748b-7a3d-4aae-b725-f7c803fc9293"
      },
      "execution_count": 3,
      "outputs": [
        {
          "output_type": "stream",
          "name": "stdout",
          "text": [
            "NI!\n"
          ]
        }
      ]
    },
    {
      "cell_type": "markdown",
      "source": [
        "**Explanation:** The output NI!, because the function initially looks for the variable X in its local scope if X is not available then it checks for variable X in the global scope, Since here the X is present in the local scope. it prints the value NI!"
      ],
      "metadata": {
        "id": "3TMa68uT2EwS"
      }
    },
    {
      "cell_type": "markdown",
      "source": [
        "**3. What does this code print, and why?**\n",
        "\n",
        "\\>>> X = 'iNeuron'\n",
        "\n",
        "\\>>> def func():\n",
        "\n",
        "X = 'NI'\n",
        "\n",
        "print(X)\n",
        "\n",
        "\\>>> func()\n",
        "\n",
        "\\>>> print(X)"
      ],
      "metadata": {
        "id": "5uh_hn-O2L4l"
      }
    },
    {
      "cell_type": "code",
      "source": [
        "X = 'iNeuron'\n",
        "def func():\n",
        "    X = 'NI'\n",
        "    print(X)\n",
        "func()\n",
        "print(X)"
      ],
      "metadata": {
        "colab": {
          "base_uri": "https://localhost:8080/"
        },
        "id": "fRi86hNz2W30",
        "outputId": "3759784b-3e8f-43f4-e03b-50154bca9dce"
      },
      "execution_count": 4,
      "outputs": [
        {
          "output_type": "stream",
          "name": "stdout",
          "text": [
            "NI\n",
            "iNeuron\n"
          ]
        }
      ]
    },
    {
      "cell_type": "markdown",
      "source": [
        "**Explanation:** The output is NI and iNeuron. X=NI is in the local scope of the function func() hence the function prints the x value as NI. X = 'iNeuron' is in the global scope. hence print(X) prints output as iNeuron"
      ],
      "metadata": {
        "id": "bsyrpO6L1vZD"
      }
    },
    {
      "cell_type": "markdown",
      "source": [
        "**4. What output does this code produce? Why?**\n",
        "\n",
        "\\>>> X = 'iNeuron'\n",
        "\n",
        "\\>>> def func():\n",
        "\n",
        "global X\n",
        "\n",
        "X = 'NI'\n",
        "\n",
        "\\>>> func()\n",
        "\n",
        "\\>>> print(X)"
      ],
      "metadata": {
        "id": "akEQW2BL2lw4"
      }
    },
    {
      "cell_type": "code",
      "source": [
        "X = 'iNeuron'\n",
        "def func():\n",
        "    global X\n",
        "    X = 'NI'\n",
        "func()\n",
        "print(X)"
      ],
      "metadata": {
        "colab": {
          "base_uri": "https://localhost:8080/"
        },
        "id": "Fg8qOq6s2xYH",
        "outputId": "b3990e9a-217a-4b5f-909e-01bd83a85fbb"
      },
      "execution_count": 5,
      "outputs": [
        {
          "output_type": "stream",
          "name": "stdout",
          "text": [
            "NI\n"
          ]
        }
      ]
    },
    {
      "cell_type": "markdown",
      "source": [
        "**Explanation:** The output is NI. the global keyword allows a variable to be accessible in the current scope. since we are using global keyword inside the function func it directly access the variable in X in global scope. and changes its value to NI. So the is NI"
      ],
      "metadata": {
        "id": "pxR8DJo-2_BF"
      }
    },
    {
      "cell_type": "markdown",
      "source": [
        "**5. What about this code—what’s the output, and why?\n",
        "\n",
        "\\>>> X = 'iNeuron'\n",
        "\n",
        "\\>>> def func():\n",
        "\n",
        "X = 'NI'\n",
        "\n",
        "def nested():\n",
        "\n",
        "print(X)\n",
        "\n",
        "nested()\n",
        "\n",
        "\\>>> func()\n",
        "\n",
        "\\>>> X"
      ],
      "metadata": {
        "id": "AC_9Bbkd3Prm"
      }
    },
    {
      "cell_type": "code",
      "source": [
        "X = 'iNeuron'\n",
        "def func():\n",
        "    X = 'NI'\n",
        "    def nested():\n",
        "        print(X)\n",
        "    nested()\n",
        "func()\n",
        "X"
      ],
      "metadata": {
        "colab": {
          "base_uri": "https://localhost:8080/",
          "height": 54
        },
        "id": "ghkC-PtQ3bOk",
        "outputId": "709d57e6-64ce-4154-d8cf-6f95dabde7a2"
      },
      "execution_count": 6,
      "outputs": [
        {
          "output_type": "stream",
          "name": "stdout",
          "text": [
            "NI\n"
          ]
        },
        {
          "output_type": "execute_result",
          "data": {
            "text/plain": [
              "'iNeuron'"
            ],
            "application/vnd.google.colaboratory.intrinsic+json": {
              "type": "string"
            }
          },
          "metadata": {},
          "execution_count": 6
        }
      ]
    },
    {
      "cell_type": "markdown",
      "source": [
        "**Explanation:** The output of the code is NI. the reason for this output is if a function wants to access a variable, if its not available in its localscope. it looks for the variable in its global scope. similarly here also function nested looks for variable X in its global scope. hence the output of the code is NI and 'iNeuron'"
      ],
      "metadata": {
        "id": "oKxGmc7520f4"
      }
    },
    {
      "cell_type": "markdown",
      "source": [
        "**6. How about this code: what is its output in Python 3, and explain?**\n",
        "\n",
        "\\>>> def func():\n",
        "\n",
        "X = 'NI'\n",
        "\n",
        "def nested():\n",
        "\n",
        "nonlocal X\n",
        "\n",
        "X = 'Spam'\n",
        "\n",
        "nested()\n",
        "\n",
        "print(X)\n",
        "\n",
        "\\>>> func()"
      ],
      "metadata": {
        "id": "7hbA5Gcu3ydq"
      }
    },
    {
      "cell_type": "code",
      "source": [
        "def func():\n",
        "    X = 'NI'\n",
        "    def nested():\n",
        "        nonlocal X\n",
        "        X = 'Spam'\n",
        "    nested()\n",
        "    print(X)\n",
        "func()"
      ],
      "metadata": {
        "colab": {
          "base_uri": "https://localhost:8080/"
        },
        "id": "gLL42K3z4M2Y",
        "outputId": "ac4551a5-cdba-4311-9a12-87498139bf3e"
      },
      "execution_count": 7,
      "outputs": [
        {
          "output_type": "stream",
          "name": "stdout",
          "text": [
            "Spam\n"
          ]
        }
      ]
    },
    {
      "cell_type": "markdown",
      "source": [
        "**Explanation:** The output is Spam. nonlocal keyword in python is used to declare a variable as not local.Hence the statement X = \"Spam\" is modified in the global scope. hence the output of print(X) statement is Spam"
      ],
      "metadata": {
        "id": "wFTy1bqH4O_t"
      }
    },
    {
      "cell_type": "code",
      "source": [
        "\n"
      ],
      "metadata": {
        "id": "SgUaQnHP358N"
      },
      "execution_count": null,
      "outputs": []
    }
  ]
}