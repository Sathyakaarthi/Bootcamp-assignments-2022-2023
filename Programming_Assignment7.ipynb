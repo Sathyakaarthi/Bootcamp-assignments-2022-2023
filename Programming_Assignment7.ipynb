{
  "nbformat": 4,
  "nbformat_minor": 0,
  "metadata": {
    "colab": {
      "provenance": [],
      "authorship_tag": "ABX9TyMAiq2H7IyczvdvkCYxsZRB",
      "include_colab_link": true
    },
    "kernelspec": {
      "name": "python3",
      "display_name": "Python 3"
    },
    "language_info": {
      "name": "python"
    }
  },
  "cells": [
    {
      "cell_type": "markdown",
      "metadata": {
        "id": "view-in-github",
        "colab_type": "text"
      },
      "source": [
        "<a href=\"https://colab.research.google.com/github/Sathyakaarthi/Bootcamp-assignments-2022-2023/blob/main/Programming_Assignment7.ipynb\" target=\"_parent\"><img src=\"https://colab.research.google.com/assets/colab-badge.svg\" alt=\"Open In Colab\"/></a>"
      ]
    },
    {
      "cell_type": "markdown",
      "source": [
        "**1. Write a Python Program to find sum of Array?**"
      ],
      "metadata": {
        "id": "mwpxFGK1OBeP"
      }
    },
    {
      "cell_type": "code",
      "source": [
        "\n",
        "sum =0\n",
        "array = [1,2,3,4,5,6]\n",
        "for i in range(0,len(array)):\n",
        "    sum += array[i]\n",
        "print (\"Sum of array{} is {} \".format(array,sum))"
      ],
      "metadata": {
        "colab": {
          "base_uri": "https://localhost:8080/"
        },
        "id": "hvQlnk83OGEW",
        "outputId": "af642c2b-d514-433c-b7a2-3dcaaf926a20"
      },
      "execution_count": 3,
      "outputs": [
        {
          "output_type": "stream",
          "name": "stdout",
          "text": [
            "Sum of array[1, 2, 3, 4, 5, 6] is 21 \n"
          ]
        }
      ]
    },
    {
      "cell_type": "markdown",
      "source": [
        "**2. Write a Python Program to find Largest element in an Array?**"
      ],
      "metadata": {
        "id": "VIqzHyE5QbxA"
      }
    },
    {
      "cell_type": "code",
      "execution_count": 9,
      "metadata": {
        "colab": {
          "base_uri": "https://localhost:8080/"
        },
        "id": "AzKXdHU9KOuj",
        "outputId": "a8e507b0-71d1-4b08-9f5a-fedcd8ef01fd"
      },
      "outputs": [
        {
          "output_type": "stream",
          "name": "stdout",
          "text": [
            "The largest number in the array [32, 43, 12, 87, 54] is : 87\n"
          ]
        }
      ],
      "source": [
        "array = [32,43,12,87,54]\n",
        "largest = array[0]\n",
        "for i in array:\n",
        "    if i >= largest:\n",
        "        largest = i\n",
        "\n",
        "print(\"The largest number in the array {} is : {}\".format(array,largest))"
      ]
    },
    {
      "cell_type": "markdown",
      "source": [
        "**3. Write a Python Program for array rotation?**"
      ],
      "metadata": {
        "id": "DIbVtScTSR9o"
      }
    },
    {
      "cell_type": "code",
      "source": [
        "def reverseOfArray():\n",
        "    arr = eval(input(\"Enter the Array: \"))\n",
        "    print(f\"The Reverse of Array {arr} is {arr[::-1]}\")\n",
        "    \n",
        "reverseOfArray()\n"
      ],
      "metadata": {
        "colab": {
          "base_uri": "https://localhost:8080/"
        },
        "id": "t2czGq6vSUkB",
        "outputId": "5b079fca-5fba-4f24-ce4d-3ec7dafb1c68"
      },
      "execution_count": 22,
      "outputs": [
        {
          "output_type": "stream",
          "name": "stdout",
          "text": [
            "Enter the Array: [100,90,80,60,50]\n",
            "The Reverse of Array [100, 90, 80, 60, 50] is [50, 60, 80, 90, 100]\n"
          ]
        }
      ]
    },
    {
      "cell_type": "markdown",
      "source": [
        "**4. Write a Python Program to Split the array and add the first part to the end?**"
      ],
      "metadata": {
        "id": "4Jqg7R7BVknW"
      }
    },
    {
      "cell_type": "code",
      "source": [
        "\n",
        "def split(ar, n):\n",
        "    ar = ar[n:] + ar[:n]\n",
        "    return ar\n",
        "   \n",
        "n = 3\n",
        "ar = [13,15,23,45,56,67]\n",
        "print(\"Array after splitting and adding the firsrt part at end : \", split(ar, n))"
      ],
      "metadata": {
        "colab": {
          "base_uri": "https://localhost:8080/"
        },
        "id": "TGAZwi-0VtlK",
        "outputId": "f1dc1bfa-d853-467a-8490-74312246444f"
      },
      "execution_count": 27,
      "outputs": [
        {
          "output_type": "stream",
          "name": "stdout",
          "text": [
            "Array after splitting and adding the firsrt part at end :  [45, 56, 67, 13, 15, 23]\n"
          ]
        }
      ]
    },
    {
      "cell_type": "markdown",
      "source": [
        "**5. Write a Python Program to check if given array is Monotonic?**"
      ],
      "metadata": {
        "id": "qCN4qwnFXthh"
      }
    },
    {
      "cell_type": "code",
      "source": [
        "l = int(input(\"Enter the length of your list : \"))\n",
        "arr = []\n",
        "\n",
        "for i in range(l):\n",
        "    arr.append(int(input()))\n",
        "print(\"The List is \",arr)\n",
        "\n",
        "if all((arr[i] <= arr[i+1] for i in range(l-1)) or (arr[i] >= [i+1] for i in range(l-1))):\n",
        "    print(\"The Array is Monotonic\")\n",
        "else:\n",
        "    print(\"The Array is Not Monotonic\")"
      ],
      "metadata": {
        "colab": {
          "base_uri": "https://localhost:8080/"
        },
        "id": "IRD_mUq5YFuS",
        "outputId": "4346d32d-d171-4bc9-a1d7-2dfb2273e4b7"
      },
      "execution_count": 1,
      "outputs": [
        {
          "output_type": "stream",
          "name": "stdout",
          "text": [
            "Enter the length of your list : 5\n",
            "12\n",
            "23\n",
            "34\n",
            "45\n",
            "56\n",
            "The List is  [12, 23, 34, 45, 56]\n",
            "The Array is Monotonic\n"
          ]
        }
      ]
    }
  ]
}