{
  "nbformat": 4,
  "nbformat_minor": 0,
  "metadata": {
    "colab": {
      "provenance": [],
      "authorship_tag": "ABX9TyM3eZaHFzJ8q7sKb3b8wXPa",
      "include_colab_link": true
    },
    "kernelspec": {
      "name": "python3",
      "display_name": "Python 3"
    },
    "language_info": {
      "name": "python"
    }
  },
  "cells": [
    {
      "cell_type": "markdown",
      "metadata": {
        "id": "view-in-github",
        "colab_type": "text"
      },
      "source": [
        "<a href=\"https://colab.research.google.com/github/Sathyakaarthi/Bootcamp-assignments-2022-2023/blob/main/PrePlacement_Assignment8.ipynb\" target=\"_parent\"><img src=\"https://colab.research.google.com/assets/colab-badge.svg\" alt=\"Open In Colab\"/></a>"
      ]
    },
    {
      "cell_type": "markdown",
      "source": [
        "**Question 1:**"
      ],
      "metadata": {
        "id": "Qi1y9JoWYj3u"
      }
    },
    {
      "cell_type": "code",
      "source": [
        "def MinDeleteSum(s1, s2):\n",
        "    m, n = len(s1), len(s2)\n",
        "    dp = [[0] * (n + 1) for _ in range(m + 1)]\n",
        "\n",
        "    for i in range(m - 1, -1, -1):\n",
        "        dp[i][n] = dp[i + 1][n] + ord(s1[i])\n",
        "\n",
        "    for j in range(n - 1, -1, -1):\n",
        "        dp[m][j] = dp[m][j + 1] + ord(s2[j])\n",
        "\n",
        "    for i in range(m - 1, -1, -1):\n",
        "        for j in range(n - 1, -1, -1):\n",
        "            if s1[i] == s2[j]:\n",
        "                dp[i][j] = dp[i + 1][j + 1]\n",
        "            else:\n",
        "                dp[i][j] = min(dp[i + 1][j] + ord(s1[i]), dp[i][j + 1] + ord(s2[j]))\n",
        "\n",
        "    return dp[0][0]\n",
        "\n",
        "s1 = \"sea\"\n",
        "s2 = \"eat\"\n",
        "result = MinDeleteSum(s1, s2)\n",
        "print(result)"
      ],
      "metadata": {
        "colab": {
          "base_uri": "https://localhost:8080/"
        },
        "id": "DGV-YJbtYtjP",
        "outputId": "e57b5d96-c128-48ae-8d2b-e419b5c410a1"
      },
      "execution_count": null,
      "outputs": [
        {
          "output_type": "stream",
          "name": "stdout",
          "text": [
            "231\n"
          ]
        }
      ]
    },
    {
      "cell_type": "markdown",
      "source": [
        "**Question 2:**"
      ],
      "metadata": {
        "id": "SMfb-EjqYlpQ"
      }
    },
    {
      "cell_type": "code",
      "source": [
        "def ValidString(s):\n",
        "    low = high = 0\n",
        "\n",
        "    for ch in s:\n",
        "        if ch == '(':\n",
        "            low += 1\n",
        "            high += 1\n",
        "        elif ch == ')':\n",
        "            if low > 0:\n",
        "                low -= 1\n",
        "            high -= 1\n",
        "        elif ch == '*':\n",
        "            if low > 0:\n",
        "                low -= 1\n",
        "            high += 1\n",
        "\n",
        "        if high < 0:\n",
        "            return False\n",
        "\n",
        "    return low == 0\n",
        "\n",
        "s = \"()\"\n",
        "result = ValidString(s)\n",
        "print(result)"
      ],
      "metadata": {
        "colab": {
          "base_uri": "https://localhost:8080/"
        },
        "id": "wCRzGZqRZIW1",
        "outputId": "90bff022-f00e-44ff-f28b-a6a60c420c53"
      },
      "execution_count": null,
      "outputs": [
        {
          "output_type": "stream",
          "name": "stdout",
          "text": [
            "True\n"
          ]
        }
      ]
    },
    {
      "cell_type": "markdown",
      "source": [
        "**Question 3:**"
      ],
      "metadata": {
        "id": "1IBdKxHUa_gZ"
      }
    },
    {
      "cell_type": "code",
      "source": [
        "def minDistance(word1, word2):\n",
        "    m, n = len(word1), len(word2)\n",
        "    dp = [[0] * (n + 1) for _ in range(m + 1)]\n",
        "\n",
        "    for i in range(1, m + 1):\n",
        "        dp[i][0] = i\n",
        "\n",
        "    for j in range(1, n + 1):\n",
        "        dp[0][j] = j\n",
        "\n",
        "    for i in range(1, m + 1):\n",
        "        for j in range(1, n + 1):\n",
        "            if word1[i - 1] == word2[j - 1]:\n",
        "                dp[i][j] = dp[i - 1][j - 1]\n",
        "            else:\n",
        "                dp[i][j] = 1 + min(dp[i - 1][j], dp[i][j - 1])\n",
        "\n",
        "    return dp[m][n]\n",
        "word1 = \"sea\"\n",
        "word2 = \"eat\"\n",
        "result = minDistance(word1, word2)\n",
        "print(result)\n"
      ],
      "metadata": {
        "colab": {
          "base_uri": "https://localhost:8080/"
        },
        "id": "E17A04gCbCUo",
        "outputId": "dc6d6d75-2156-4079-8160-9c913d4070ba"
      },
      "execution_count": null,
      "outputs": [
        {
          "output_type": "stream",
          "name": "stdout",
          "text": [
            "2\n"
          ]
        }
      ]
    },
    {
      "cell_type": "markdown",
      "source": [
        "**Question 4:**"
      ],
      "metadata": {
        "id": "FQ9o3pErbQCR"
      }
    },
    {
      "cell_type": "code",
      "source": [
        "class TreeNode:\n",
        "    def __init__(self, value):\n",
        "        self.val = value\n",
        "        self.left = None\n",
        "        self.right = None\n",
        "\n",
        "\n",
        "def construct_binary_tree(s):\n",
        "    if not s:\n",
        "        return None\n",
        "    \n",
        "    i = 0\n",
        "    while i < len(s) and s[i] != '(':\n",
        "        i += 1\n",
        "    \n",
        "    if i == len(s):\n",
        "        return TreeNode(int(s))\n",
        "    \n",
        "    node = TreeNode(int(s[:i]))\n",
        "    \n",
        "    count = 0\n",
        "    j = i\n",
        "    while j < len(s):\n",
        "        if s[j] == '(':\n",
        "            count += 1\n",
        "        elif s[j] == ')':\n",
        "            count -= 1\n",
        "        \n",
        "        if count == 0:\n",
        "            break\n",
        "        \n",
        "        j += 1\n",
        "    \n",
        "    node.left = construct_binary_tree(s[i+1:j])\n",
        "    \n",
        "    if j+2 < len(s):\n",
        "        node.right = construct_binary_tree(s[j+2:len(s)-1])\n",
        "    \n",
        "    return node\n",
        "\n",
        "input_string = \"4(2(3)(1))(6(5))\"\n",
        "root = construct_binary_tree(input_string)\n",
        "\n",
        "def inorder_traversal(node):\n",
        "    if node:\n",
        "        inorder_traversal(node.left)\n",
        "        print(node.val, end=' ')\n",
        "        inorder_traversal(node.right)\n",
        "\n",
        "print(\"Inorder traversal:\")\n",
        "inorder_traversal(root)\n"
      ],
      "metadata": {
        "colab": {
          "base_uri": "https://localhost:8080/"
        },
        "id": "m6f2hQw_sRVm",
        "outputId": "24c3e1d6-75e2-438c-e6ea-2ca4e7be2a04"
      },
      "execution_count": 17,
      "outputs": [
        {
          "output_type": "stream",
          "name": "stdout",
          "text": [
            "Inorder traversal:\n",
            "3 2 1 4 5 6 "
          ]
        }
      ]
    },
    {
      "cell_type": "markdown",
      "source": [
        "**Question 5**"
      ],
      "metadata": {
        "id": "QAgDZ8EGokft"
      }
    },
    {
      "cell_type": "code",
      "source": [
        "def compress(chars):\n",
        "    if len(chars) == 0:\n",
        "        return 0\n",
        "    \n",
        "    write_idx = 0\n",
        "    count = 1\n",
        "    \n",
        "    for i in range(1, len(chars)):\n",
        "        if chars[i] == chars[i - 1]:\n",
        "            count += 1\n",
        "        else:\n",
        "            chars[write_idx] = chars[i - 1]\n",
        "            write_idx += 1\n",
        "            \n",
        "            if count > 1:\n",
        "                count_str = str(count)\n",
        "                for digit in count_str:\n",
        "                    chars[write_idx] = digit\n",
        "                    write_idx += 1\n",
        "            \n",
        "            count = 1\n",
        "    \n",
        "    chars[write_idx] = chars[-1]\n",
        "    write_idx += 1\n",
        "    \n",
        "    if count > 1:\n",
        "        count_str = str(count)\n",
        "        for digit in count_str:\n",
        "            chars[write_idx] = digit\n",
        "            write_idx += 1\n",
        "    \n",
        "    return write_idx\n",
        "chars = [\"a\", \"a\", \"b\", \"b\", \"c\", \"c\", \"c\"]\n",
        "new_length = compress(chars)\n",
        "print(new_length) # Output: 6\n",
        "print(chars[:new_length]) # Output: [\"a\", \"2\", \"b\", \"2\", \"c\", \"3\"]\n",
        "\n"
      ],
      "metadata": {
        "colab": {
          "base_uri": "https://localhost:8080/"
        },
        "id": "uHTISa1KqRTP",
        "outputId": "6c475ef7-6659-480b-c090-7ca36064cf73"
      },
      "execution_count": 6,
      "outputs": [
        {
          "output_type": "stream",
          "name": "stdout",
          "text": [
            "6\n",
            "['a', '2', 'b', '2', 'c', '3']\n"
          ]
        }
      ]
    },
    {
      "cell_type": "markdown",
      "source": [
        "**Question 6**"
      ],
      "metadata": {
        "id": "gZ0R88E9s5ns"
      }
    },
    {
      "cell_type": "code",
      "source": [
        "from collections import Counter\n",
        "\n",
        "def find_anagrams(s, p):\n",
        "    result = []\n",
        "    len_s, len_p = len(s), len(p)\n",
        "    \n",
        "    p_counter = Counter(p)\n",
        "    \n",
        "    s_counter = Counter(s[:len_p])\n",
        "    \n",
        "    if s_counter == p_counter:\n",
        "        result.append(0)\n",
        "    \n",
        "    for i in range(len_p, len_s):\n",
        "        s_counter[s[i]] += 1\n",
        "        \n",
        "        if s_counter[s[i - len_p]] == 1:\n",
        "            del s_counter[s[i - len_p]]\n",
        "        else:\n",
        "            s_counter[s[i - len_p]] -= 1\n",
        "        \n",
        "        if s_counter == p_counter:\n",
        "            result.append(i - len_p + 1)\n",
        "    return result\n",
        "\n",
        "s = \"cbaebabacd\"\n",
        "p = \"abc\"\n",
        "indices = find_anagrams(s, p)\n",
        "print(indices)\n",
        "\n"
      ],
      "metadata": {
        "colab": {
          "base_uri": "https://localhost:8080/"
        },
        "id": "JgGNqupus8MJ",
        "outputId": "74261d2d-4b9a-48fa-dd57-bfa05ad23c4a"
      },
      "execution_count": 19,
      "outputs": [
        {
          "output_type": "stream",
          "name": "stdout",
          "text": [
            "[0, 6]\n"
          ]
        }
      ]
    },
    {
      "cell_type": "markdown",
      "source": [
        "**Question 7**"
      ],
      "metadata": {
        "id": "JIuV56USt3Wa"
      }
    },
    {
      "cell_type": "code",
      "source": [
        "def decode_str(s):\n",
        "    stack = []\n",
        "    current_num = 0\n",
        "    current_str = \"\"\n",
        "    \n",
        "    for char in s:\n",
        "        if char.isdigit():\n",
        "            current_num = current_num * 10 + int(char)\n",
        "        elif char == '[':\n",
        "            stack.append((current_str, current_num))\n",
        "            current_str = \"\"\n",
        "            current_num = 0\n",
        "        elif char == ']':\n",
        "            prev_string, prev_num = stack.pop()\n",
        "            current_str = prev_string + current_str * prev_num\n",
        "        else:\n",
        "            current_str += char\n",
        "    \n",
        "    return current_str\n",
        "encoded_str = \"3[a2[c]]\"\n",
        "decoded_str = decode_str(encoded_str)\n",
        "print(decoded_str)"
      ],
      "metadata": {
        "colab": {
          "base_uri": "https://localhost:8080/"
        },
        "id": "enUcqfkVt5JH",
        "outputId": "6fe3297e-7019-4f8c-cc38-7d09e43c2169"
      },
      "execution_count": 22,
      "outputs": [
        {
          "output_type": "stream",
          "name": "stdout",
          "text": [
            "accaccacc\n"
          ]
        }
      ]
    },
    {
      "cell_type": "markdown",
      "source": [
        "**Question 8**"
      ],
      "metadata": {
        "id": "74UVVd__vZro"
      }
    },
    {
      "cell_type": "code",
      "source": [
        "def buddy_strings(s, goal):\n",
        "    if len(s) != len(goal):\n",
        "        return False\n",
        "    \n",
        "    if s == goal and len(set(s)) < len(s):\n",
        "        return True\n",
        "    \n",
        "    pairs = []\n",
        "    \n",
        "    for i in range(len(s)):\n",
        "        if s[i] != goal[i]:\n",
        "            pairs.append((s[i], goal[i]))\n",
        "        \n",
        "        if len(pairs) > 2:\n",
        "            return False\n",
        "    \n",
        "    return len(pairs) == 2 and pairs[0] == pairs[1][::-1]\n",
        "\n",
        "\n",
        "# Example usage\n",
        "s = \"ab\"\n",
        "goal = \"ba\"\n",
        "can_swap = buddy_strings(s, goal)\n",
        "print(\"Can swap two letters:\", can_swap)"
      ],
      "metadata": {
        "colab": {
          "base_uri": "https://localhost:8080/"
        },
        "id": "Zr9HY5fQvdR0",
        "outputId": "88baa741-e142-4d19-9d13-d9ce13c779e6"
      },
      "execution_count": 23,
      "outputs": [
        {
          "output_type": "stream",
          "name": "stdout",
          "text": [
            "Can swap two letters: True\n"
          ]
        }
      ]
    }
  ]
}