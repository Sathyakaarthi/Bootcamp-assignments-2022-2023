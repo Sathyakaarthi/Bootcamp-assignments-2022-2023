{
  "nbformat": 4,
  "nbformat_minor": 0,
  "metadata": {
    "colab": {
      "provenance": [],
      "authorship_tag": "ABX9TyMqIR9cspnhl81xNt8WRehW",
      "include_colab_link": true
    },
    "kernelspec": {
      "name": "python3",
      "display_name": "Python 3"
    },
    "language_info": {
      "name": "python"
    }
  },
  "cells": [
    {
      "cell_type": "markdown",
      "metadata": {
        "id": "view-in-github",
        "colab_type": "text"
      },
      "source": [
        "<a href=\"https://colab.research.google.com/github/Sathyakaarthi/Bootcamp-assignments-2022-2023/blob/main/Python_Advanced_Asignment5.ipynb\" target=\"_parent\"><img src=\"https://colab.research.google.com/assets/colab-badge.svg\" alt=\"Open In Colab\"/></a>"
      ]
    },
    {
      "cell_type": "markdown",
      "source": [
        "**1. What is the meaning of multiple inheritance?**\n",
        "\n",
        "*Ans:*\n",
        "\n",
        "When a class is derived from more than one base class it is called multiple Inheritance. The derived class inherits all the features of the base case.\n",
        "\n",
        "It can be described as a process where the child class or object inherits the methods and attributes from one or more parent classes."
      ],
      "metadata": {
        "id": "0v2o6E9KIhTf"
      }
    },
    {
      "cell_type": "code",
      "execution_count": 1,
      "metadata": {
        "colab": {
          "base_uri": "https://localhost:8080/"
        },
        "id": "YRCTbHy-IghQ",
        "outputId": "dff837ee-feb3-40ef-f2a5-6887ad5c359a"
      },
      "outputs": [
        {
          "output_type": "stream",
          "name": "stdout",
          "text": [
            " Parent Class2\n"
          ]
        }
      ],
      "source": [
        "\n",
        "class Class1:\n",
        "    def m(self):\n",
        "        print(\"Parent class1\")\n",
        "\n",
        "class Class2(Class1):\n",
        "    def m(self):\n",
        "        print(\" Parent Class2\")\n",
        "\n",
        "class Class3(Class1):\n",
        "    def m(self):\n",
        "        print(\"Parent class3\")\n",
        "\n",
        "class Class4(Class2, Class3):\n",
        "    pass\n",
        "\n",
        "obj = Class4()\n",
        "obj.m()"
      ]
    },
    {
      "cell_type": "markdown",
      "source": [
        "**2. What is the concept of delegation?**\n",
        "\n",
        "*Ans:*\n",
        "\n",
        "Delegation is an object oriented technique. It is also called a design pattern. Let's say you have an object x and want to change the behaviour of just one of its methods. You can create a new class that provides a new implementation of the method you're interested in changing and delegates all other methods to the corresponding method of x.\n",
        "\n",
        "Python programmers can easily implement delegation."
      ],
      "metadata": {
        "id": "itvCwNj-JlRj"
      }
    },
    {
      "cell_type": "markdown",
      "source": [
        "**3. What is the concept of composition?**\n",
        "\n",
        "*Ans:*\n",
        "\n",
        "a class refers to one or more other classes by using instances of those classes as a instance variable. irrespective of inheritence in this approach all the parent class members are not inherited into child class, but only required methods from a class are used by using class instances."
      ],
      "metadata": {
        "id": "457CPqNdKmbr"
      }
    },
    {
      "cell_type": "code",
      "source": [
        "class Salary:\n",
        "    def __init__(self, pay):\n",
        "        self.pay = pay\n",
        "\n",
        "    def get_total(self):\n",
        "        return (self.pay*12)\n",
        "\n",
        "\n",
        "class Employee:\n",
        "    def __init__(self, pay, bonus):\n",
        "        self.pay = pay\n",
        "        self.bonus = bonus\n",
        "        self.obj_salary = Salary(self.pay)\n",
        "\n",
        "    def annual_salary(self):\n",
        "        return \"Total: \" + str(self.obj_salary.get_total() + self.bonus)\n",
        "\n",
        "\n",
        "obj_emp = Employee(1000, 700)\n",
        "print(obj_emp.annual_salary())"
      ],
      "metadata": {
        "colab": {
          "base_uri": "https://localhost:8080/"
        },
        "id": "QxWPoaPzLIeI",
        "outputId": "50abd4d6-c948-4743-c4b1-289ba0097ba9"
      },
      "execution_count": 4,
      "outputs": [
        {
          "output_type": "stream",
          "name": "stdout",
          "text": [
            "Total: 12700\n"
          ]
        }
      ]
    },
    {
      "cell_type": "markdown",
      "source": [
        "**4. What are bound methods and how do we use them?**\n",
        "\n",
        "*Ans:*\n",
        "\n",
        "* A bound method is the one which is dependent on the instance of the class as the first argument.\n",
        "\n",
        "* It passes the instance as the first argument which is used to access the variables and functions\n"
      ],
      "metadata": {
        "id": "NtxR3YRNLX9n"
      }
    },
    {
      "cell_type": "code",
      "source": [
        "class A:\n",
        "\n",
        "    def func(self, arg):\n",
        "        self.arg = arg\n",
        "        print(\"Value of arg = \", arg)\n",
        "\n",
        "obj = A()  # Creating an instance\n",
        "print(obj.func)# bound method"
      ],
      "metadata": {
        "colab": {
          "base_uri": "https://localhost:8080/"
        },
        "id": "k7yJTbloMLko",
        "outputId": "e31d4a92-ff8d-4f26-eef0-758c238cb9e4"
      },
      "execution_count": 6,
      "outputs": [
        {
          "output_type": "stream",
          "name": "stdout",
          "text": [
            "<bound method A.func of <__main__.A object at 0x7ff2302d2710>>\n"
          ]
        }
      ]
    },
    {
      "cell_type": "markdown",
      "source": [
        "**5. What is the purpose of pseudoprivate attributes?**\n",
        "\n",
        "*Ans:*\n",
        "\n",
        "* Pseudoprivate attributes are also useful in larger frameworks or tools, both to avoid introducing new method names that might accidentally hide definitions elsewhere in the class tree and to reduce the chance of internal methods being replaced by names defined lower in the tree.\n",
        "* If a method is intended for use only within a class that may be mixed into other classes, the double underscore prefix ensures that the method won't interfere with other names in the tree, especially in multiple-inheritance scenarios."
      ],
      "metadata": {
        "id": "pvLHNfXBMWCK"
      }
    }
  ]
}