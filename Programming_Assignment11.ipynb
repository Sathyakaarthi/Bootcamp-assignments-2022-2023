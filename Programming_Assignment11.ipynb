{
  "nbformat": 4,
  "nbformat_minor": 0,
  "metadata": {
    "colab": {
      "provenance": [],
      "authorship_tag": "ABX9TyP3dJHPU+cGnkm0rVIUAPFn",
      "include_colab_link": true
    },
    "kernelspec": {
      "name": "python3",
      "display_name": "Python 3"
    },
    "language_info": {
      "name": "python"
    }
  },
  "cells": [
    {
      "cell_type": "markdown",
      "metadata": {
        "id": "view-in-github",
        "colab_type": "text"
      },
      "source": [
        "<a href=\"https://colab.research.google.com/github/Sathyakaarthi/Bootcamp-assignments-2022-2023/blob/main/Programming_Assignment11.ipynb\" target=\"_parent\"><img src=\"https://colab.research.google.com/assets/colab-badge.svg\" alt=\"Open In Colab\"/></a>"
      ]
    },
    {
      "cell_type": "markdown",
      "source": [
        "**Question 1**\n",
        "\n",
        "Write a Python program to find words which are greater than given length k?"
      ],
      "metadata": {
        "id": "XcJV4xTE3lZ5"
      }
    },
    {
      "cell_type": "code",
      "execution_count": 3,
      "metadata": {
        "colab": {
          "base_uri": "https://localhost:8080/"
        },
        "id": "PzcbfahG3kex",
        "outputId": "7bafc4f5-0c68-4a2c-d3fb-c050e9efca55"
      },
      "outputs": [
        {
          "output_type": "stream",
          "name": "stdout",
          "text": [
            "Enter the string : I like to learn python coding\n",
            "Enter the lentgh K : 4\n",
            "\n",
            "The original string ' I like to learn python coding '\n",
            "Words greater than 4\n",
            "['learn', 'python', 'coding']\n"
          ]
        }
      ],
      "source": [
        "\n",
        "def Greaterthan_k(k,str):\n",
        "    txt = str.split()\n",
        "    Wordlist = []\n",
        "    for i in txt:\n",
        "        if len(i) > k:\n",
        "            Wordlist.append(i)\n",
        "    return Wordlist\n",
        "\n",
        "str = input(\"Enter the string : \")\n",
        "k = int(input(\"Enter the lentgh K : \"))\n",
        "\n",
        "Wordlist = Greaterthan_k(k,str)\n",
        "\n",
        "print(\"\\nThe original string ' {} '\".format(str))\n",
        "\n",
        "print(\"Words greater than {}\".format(k))\n",
        "print(Wordlist)\n"
      ]
    },
    {
      "cell_type": "markdown",
      "source": [
        "**Question 2**\n",
        "\n",
        "Write a Python program for removing i-th character from a string?"
      ],
      "metadata": {
        "id": "VSf53kpT4lK6"
      }
    },
    {
      "cell_type": "code",
      "source": [
        "def remove(str, i):\n",
        "\n",
        "    for j in range(len(str)):\n",
        "        if j == i:\n",
        "            str = str.replace(str[i], \"\", 1)\n",
        "    return str\n",
        "str = input(\"Enter the string : \")\n",
        "i = int(input(\"Enter the index : \"))\n",
        "print(\"The new string : \", remove(str, i))"
      ],
      "metadata": {
        "colab": {
          "base_uri": "https://localhost:8080/"
        },
        "id": "ipzsyLJz403A",
        "outputId": "e149904a-90ac-4b8a-8b3e-8769f62fbd86"
      },
      "execution_count": 5,
      "outputs": [
        {
          "output_type": "stream",
          "name": "stdout",
          "text": [
            "Enter the string : codeing\n",
            "Enter the index : 3\n",
            "The new string :  coding\n"
          ]
        }
      ]
    },
    {
      "cell_type": "markdown",
      "source": [
        "**Question 3**\n",
        "\n",
        "Write a Python program to split and join a string?"
      ],
      "metadata": {
        "id": "3D8bjEmL5Kix"
      }
    },
    {
      "cell_type": "code",
      "source": [
        "def splitJoinStr():\n",
        "    in_string = input('Enter the string: ')\n",
        "    print(f\"Split String: {in_string.split(' ')}\")\n",
        "    print(f\"Join String: {' '.join(in_string.split(' '))}\")\n",
        "\n",
        "splitJoinStr()"
      ],
      "metadata": {
        "colab": {
          "base_uri": "https://localhost:8080/"
        },
        "id": "lmg8AulZ5RQW",
        "outputId": "409b0890-3c8b-42b8-dbd0-0c19474c0a11"
      },
      "execution_count": 6,
      "outputs": [
        {
          "output_type": "stream",
          "name": "stdout",
          "text": [
            "Enter the string: I like to learn python coding\n",
            "Split String: ['I', 'like', 'to', 'learn', 'python', 'coding']\n",
            "Join String: I like to learn python coding\n"
          ]
        }
      ]
    },
    {
      "cell_type": "markdown",
      "source": [
        "**Question 4**\n",
        "\n",
        "Write a Python to check if a given string is binary string or not?"
      ],
      "metadata": {
        "id": "MQPMqCzl54_O"
      }
    },
    {
      "cell_type": "code",
      "source": [
        "def if_binary(str):\n",
        "    binary = '01'\n",
        "    for i in range(len(str)):\n",
        "        if str[i] not in binary:\n",
        "            print('Not Binary')\n",
        "            break\n",
        "    else:\n",
        "        print('Binary')\n",
        "\n",
        "str = input(\"Enter the string : \")\n",
        "if_binary(str)\n",
        "str = input(\"Enter the string : \")\n",
        "if_binary(str)"
      ],
      "metadata": {
        "colab": {
          "base_uri": "https://localhost:8080/"
        },
        "id": "1izPvdC26Cm0",
        "outputId": "4a31ec43-6846-4dc3-bfae-a67a717efebb"
      },
      "execution_count": 9,
      "outputs": [
        {
          "output_type": "stream",
          "name": "stdout",
          "text": [
            "Enter the string : 10110011\n",
            "Binary\n",
            "Enter the string : 12345\n",
            "Not Binary\n"
          ]
        }
      ]
    },
    {
      "cell_type": "markdown",
      "source": [
        "**Question 5**\n",
        "\n",
        "Write a Python program to find uncommon words from two Strings?"
      ],
      "metadata": {
        "id": "wSaeSJp46cvA"
      }
    },
    {
      "cell_type": "code",
      "source": [
        "\n",
        "def unCommon(a,b):\n",
        "    list_one = a.split()\n",
        "    list_two = b.split()\n",
        "    notcom =''\n",
        "\n",
        "    for i in list_one:\n",
        "        if i not in list_two:\n",
        "            notcom = notcom +\" \"+ i\n",
        "    for j in list_two:\n",
        "        if j not in list_one:\n",
        "            notcom = notcom +\" \"+ j\n",
        "    return notcom\n",
        "\n",
        "a = input(\"Enter the string a : \").lower()\n",
        "b = input(\"Enter the string b : \").lower()\n",
        "\n",
        "print(\"The list of uncommon words : \", unCommon(a,b))"
      ],
      "metadata": {
        "colab": {
          "base_uri": "https://localhost:8080/"
        },
        "id": "nNXbgtoW6h6U",
        "outputId": "80988c82-5e85-46b7-f722-975f2b1ac307"
      },
      "execution_count": 11,
      "outputs": [
        {
          "output_type": "stream",
          "name": "stdout",
          "text": [
            "Enter the string a : I love Python coding\n",
            "Enter the string b : I love Machine Learning\n",
            "The list of uncommon words :   python coding machine learning\n"
          ]
        }
      ]
    },
    {
      "cell_type": "markdown",
      "source": [
        "**Question 6**\n",
        "\n",
        "Write a Python to find all duplicate characters in string?"
      ],
      "metadata": {
        "id": "OSc-CFVz7Ecc"
      }
    },
    {
      "cell_type": "code",
      "source": [
        "str = input(\"Enter the string a : \").lower()\n",
        "duplicate = []\n",
        "\n",
        "for i in str:\n",
        "    if str.count(i) > 1 :\n",
        "        if i not in duplicate:\n",
        "            duplicate.append(i)\n",
        "\n",
        "duplicate\n"
      ],
      "metadata": {
        "colab": {
          "base_uri": "https://localhost:8080/"
        },
        "id": "Rerp-PvP7LCF",
        "outputId": "fc4971b6-818e-4945-d862-f3b2e15e9235"
      },
      "execution_count": 12,
      "outputs": [
        {
          "name": "stdout",
          "output_type": "stream",
          "text": [
            "Enter the string a : I love python coding\n"
          ]
        },
        {
          "output_type": "execute_result",
          "data": {
            "text/plain": [
              "['i', ' ', 'o', 'n']"
            ]
          },
          "metadata": {},
          "execution_count": 12
        }
      ]
    },
    {
      "cell_type": "markdown",
      "source": [
        "**Question 7**\n",
        "\n",
        "Write a Python Program to check if a string contains any special character?"
      ],
      "metadata": {
        "id": "M5VoYxey7hEe"
      }
    },
    {
      "cell_type": "code",
      "source": [
        "import string\n",
        "\n",
        "str_char = string.punctuation\n",
        "special_str = []\n",
        "\n",
        "str = input(\"Enter the string a : \").lower()\n",
        "for i in str:\n",
        "    if i in str_char:\n",
        "        special_str.append(i)\n",
        "if len(special_str) > 0:\n",
        "    print(\"String {} has special charecters : {}\".format(str, special_str))"
      ],
      "metadata": {
        "colab": {
          "base_uri": "https://localhost:8080/"
        },
        "id": "Bym6-R6e7jpN",
        "outputId": "19249db8-f3a9-4341-b540-8aec45e18fd7"
      },
      "execution_count": 14,
      "outputs": [
        {
          "output_type": "stream",
          "name": "stdout",
          "text": [
            "Enter the string a : I lo#$ve pyth&*n co!@##di^&ng\n",
            "String i lo#$ve pyth&*n co!@##di^&ng has special charecters : ['#', '$', '&', '*', '!', '@', '#', '#', '^', '&']\n"
          ]
        }
      ]
    }
  ]
}