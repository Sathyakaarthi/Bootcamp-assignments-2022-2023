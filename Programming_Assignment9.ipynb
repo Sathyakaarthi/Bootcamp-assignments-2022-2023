{
  "nbformat": 4,
  "nbformat_minor": 0,
  "metadata": {
    "colab": {
      "provenance": [],
      "authorship_tag": "ABX9TyO5VFdnRrEqeZgK+5Xa+1Tl",
      "include_colab_link": true
    },
    "kernelspec": {
      "name": "python3",
      "display_name": "Python 3"
    },
    "language_info": {
      "name": "python"
    }
  },
  "cells": [
    {
      "cell_type": "markdown",
      "metadata": {
        "id": "view-in-github",
        "colab_type": "text"
      },
      "source": [
        "<a href=\"https://colab.research.google.com/github/Sathyakaarthi/Bootcamp-assignments-2022-2023/blob/main/Programming_Assignment9.ipynb\" target=\"_parent\"><img src=\"https://colab.research.google.com/assets/colab-badge.svg\" alt=\"Open In Colab\"/></a>"
      ]
    },
    {
      "cell_type": "markdown",
      "source": [
        "**Question 1**\n",
        "Write a Python program to check if the given number is a Disarium Number?"
      ],
      "metadata": {
        "id": "Lp7TkGzyn-F4"
      }
    },
    {
      "cell_type": "code",
      "execution_count": 3,
      "metadata": {
        "colab": {
          "base_uri": "https://localhost:8080/"
        },
        "id": "meRYZexin845",
        "outputId": "fb3b2d59-7bea-4308-847b-4c0250546e12"
      },
      "outputs": [
        {
          "output_type": "stream",
          "name": "stdout",
          "text": [
            "135 is a Disarium Number\n"
          ]
        }
      ],
      "source": [
        "def IsDisarium(number):\n",
        "    num_str = str(number)\n",
        "    length = len(num_str)\n",
        "    sum = 0\n",
        "\n",
        "    for i, digit in enumerate(num_str):\n",
        "        sum += int(digit) ** (i + 1)\n",
        "\n",
        "    return sum == number\n",
        "\n",
        "num = 135\n",
        "if IsDisarium(num):\n",
        "    print(f\"{num} is a Disarium Number\")\n",
        "else:\n",
        "    print(f\"{num} is not a Disarium Number\")"
      ]
    },
    {
      "cell_type": "markdown",
      "source": [
        "**Question 2**\n",
        "\n",
        "Write a Python program to print all disarium numbers between 1 to 100?"
      ],
      "metadata": {
        "id": "We_jFPonpEjm"
      }
    },
    {
      "cell_type": "code",
      "source": [
        "def is_disarium(number):\n",
        "    num_str = str(number)\n",
        "    length = len(num_str)\n",
        "    sum = 0\n",
        "\n",
        "    for i, digit in enumerate(num_str):\n",
        "        sum += int(digit) ** (i + 1)\n",
        "    return sum == number\n",
        "def print_disarium_numbers(start, end):\n",
        "    disarium_numbers = []\n",
        "    for number in range(start, end + 1):\n",
        "        if is_disarium(number):\n",
        "            disarium_numbers.append(number)\n",
        "\n",
        "    print(\"Disarium Numbers between\", start, \"and\", end, \":\")\n",
        "    print(disarium_numbers)\n",
        "\n",
        "print_disarium_numbers(1, 100)\n"
      ],
      "metadata": {
        "colab": {
          "base_uri": "https://localhost:8080/"
        },
        "id": "EyXF4pxwpHk2",
        "outputId": "886b46d1-34c4-48df-ebdf-3d9d06366240"
      },
      "execution_count": 5,
      "outputs": [
        {
          "output_type": "stream",
          "name": "stdout",
          "text": [
            "Disarium Numbers between 1 and 100 :\n",
            "[1, 2, 3, 4, 5, 6, 7, 8, 9, 89]\n"
          ]
        }
      ]
    },
    {
      "cell_type": "markdown",
      "source": [
        "**Question 3**\n",
        "\n",
        "Write a Python program to check if the given number is Happy Number?"
      ],
      "metadata": {
        "id": "2mXakgPSqFM1"
      }
    },
    {
      "cell_type": "code",
      "source": [
        "def is_happy_number(number):\n",
        "    seen_numbers = set()\n",
        "\n",
        "    while number != 1:\n",
        "        number = sum(int(digit) ** 2 for digit in str(number))\n",
        "        if number in seen_numbers:\n",
        "            return False\n",
        "        seen_numbers.add(number)\n",
        "\n",
        "    return True\n",
        "num = input (\"Enter a number: \")\n",
        "if is_happy_number(num):\n",
        "    print(f\"{num} is a Happy Number\")\n",
        "else:\n",
        "    print(f\"{num} is not a Happy Number\")"
      ],
      "metadata": {
        "colab": {
          "base_uri": "https://localhost:8080/"
        },
        "id": "PNAcLHZ0qOMd",
        "outputId": "e8d17813-ba59-4df4-934d-532413897c9f"
      },
      "execution_count": 8,
      "outputs": [
        {
          "output_type": "stream",
          "name": "stdout",
          "text": [
            "Enter a number: 19\n",
            "19 is a Happy Number\n"
          ]
        }
      ]
    },
    {
      "cell_type": "markdown",
      "source": [
        "**Question 4**\n",
        "\n",
        "Write a Python program to print all happy numbers between 1 and 100?"
      ],
      "metadata": {
        "id": "p0FMdbf2rCqW"
      }
    },
    {
      "cell_type": "code",
      "source": [
        "def is_happy_number(number):\n",
        "    seen_numbers = set()\n",
        "\n",
        "    while number != 1:\n",
        "        number = sum(int(digit) ** 2 for digit in str(number))\n",
        "        if number in seen_numbers:\n",
        "            return False\n",
        "        seen_numbers.add(number)\n",
        "    return True\n",
        "def print_happy_numbers(start, end):\n",
        "    happy_numbers = []\n",
        "    for number in range(start, end + 1):\n",
        "        if is_happy_number(number):\n",
        "            happy_numbers.append(number)\n",
        "\n",
        "    print(\"Happy Numbers between\", start, \"and\", end, \":\")\n",
        "    print(happy_numbers)\n",
        "print_happy_numbers(1, 100)"
      ],
      "metadata": {
        "colab": {
          "base_uri": "https://localhost:8080/"
        },
        "id": "MyNqkaN-rLX_",
        "outputId": "d896874e-4ba4-4d29-8d28-0fbea84144fa"
      },
      "execution_count": 9,
      "outputs": [
        {
          "output_type": "stream",
          "name": "stdout",
          "text": [
            "Happy Numbers between 1 and 100 :\n",
            "[1, 7, 10, 13, 19, 23, 28, 31, 32, 44, 49, 68, 70, 79, 82, 86, 91, 94, 97, 100]\n"
          ]
        }
      ]
    },
    {
      "cell_type": "markdown",
      "source": [
        "**Question 5**\n",
        "\n",
        "Write a Python program to determine whether the given number is a Harshad Number?"
      ],
      "metadata": {
        "id": "N6aliuN1rrCN"
      }
    },
    {
      "cell_type": "code",
      "source": [
        "def checkHarshadNumber():\n",
        "    num = input('Enter a Number: ')\n",
        "    sum = 0\n",
        "    for item in range(len(num)):\n",
        "        sum = sum + int(num[item])\n",
        "    if int(num)%sum == 0:\n",
        "        print(f\"{num} is a Harshad Number\")\n",
        "    else:\n",
        "        print(f\"{num} is a Not Harshad Number\")\n",
        "checkHarshadNumber()\n",
        "checkHarshadNumber()"
      ],
      "metadata": {
        "colab": {
          "base_uri": "https://localhost:8080/"
        },
        "id": "S1a9SlgStSL2",
        "outputId": "2692f2b1-b61c-4e77-d78e-33f395df9d19"
      },
      "execution_count": 17,
      "outputs": [
        {
          "output_type": "stream",
          "name": "stdout",
          "text": [
            "Enter a Number: 12\n",
            "12 is a Harshad Number\n",
            "Enter a Number: 3445\n",
            "3445 is a Not Harshad Number\n"
          ]
        }
      ]
    },
    {
      "cell_type": "markdown",
      "source": [
        "**Question 6**\n",
        "\n",
        "Write a Python program to print all pronic numbers between 1 and 100?"
      ],
      "metadata": {
        "id": "Tsodm_TLvMUd"
      }
    },
    {
      "cell_type": "code",
      "source": [
        "def PronicNumbers(start=0,end=100):\n",
        "    outputList = []\n",
        "    for ele in range(start,end+1):\n",
        "        outputList.append((ele)*(ele+1))\n",
        "    print(outputList)\n",
        "\n",
        "PronicNumbers()"
      ],
      "metadata": {
        "colab": {
          "base_uri": "https://localhost:8080/"
        },
        "id": "-2PR6bcWvPkZ",
        "outputId": "05884c2d-6acb-42a9-f04a-72e46c2ef799"
      },
      "execution_count": 19,
      "outputs": [
        {
          "output_type": "stream",
          "name": "stdout",
          "text": [
            "[0, 2, 6, 12, 20, 30, 42, 56, 72, 90, 110, 132, 156, 182, 210, 240, 272, 306, 342, 380, 420, 462, 506, 552, 600, 650, 702, 756, 812, 870, 930, 992, 1056, 1122, 1190, 1260, 1332, 1406, 1482, 1560, 1640, 1722, 1806, 1892, 1980, 2070, 2162, 2256, 2352, 2450, 2550, 2652, 2756, 2862, 2970, 3080, 3192, 3306, 3422, 3540, 3660, 3782, 3906, 4032, 4160, 4290, 4422, 4556, 4692, 4830, 4970, 5112, 5256, 5402, 5550, 5700, 5852, 6006, 6162, 6320, 6480, 6642, 6806, 6972, 7140, 7310, 7482, 7656, 7832, 8010, 8190, 8372, 8556, 8742, 8930, 9120, 9312, 9506, 9702, 9900, 10100]\n"
          ]
        }
      ]
    }
  ]
}