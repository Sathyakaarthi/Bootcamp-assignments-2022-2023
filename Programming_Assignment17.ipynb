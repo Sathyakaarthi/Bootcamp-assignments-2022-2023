{
  "nbformat": 4,
  "nbformat_minor": 0,
  "metadata": {
    "colab": {
      "provenance": [],
      "authorship_tag": "ABX9TyNLXlRNyvougy3iRgkKceTr",
      "include_colab_link": true
    },
    "kernelspec": {
      "name": "python3",
      "display_name": "Python 3"
    },
    "language_info": {
      "name": "python"
    }
  },
  "cells": [
    {
      "cell_type": "markdown",
      "metadata": {
        "id": "view-in-github",
        "colab_type": "text"
      },
      "source": [
        "<a href=\"https://colab.research.google.com/github/Sathyakaarthi/Bootcamp-assignments-2022-2023/blob/main/Programming_Assignment17.ipynb\" target=\"_parent\"><img src=\"https://colab.research.google.com/assets/colab-badge.svg\" alt=\"Open In Colab\"/></a>"
      ]
    },
    {
      "cell_type": "markdown",
      "source": [
        "**Question 1**\n",
        "\n",
        "Create a function that takes three arguments a, b, c and returns the sum of the\n",
        "numbers that are evenly divided by c from the range a, b inclusive.\n",
        "\n",
        "Examples\n",
        "\n",
        "evenly_divisible(1, 10, 20) ➞ 0\n",
        "No number between 1 and 10 can be evenly divided by 20.\n",
        "\n",
        "evenly_divisible(1, 10, 2) ➞ 30\n",
        " 2 + 4 + 6 + 8 + 10 = 30\n",
        "\n",
        "evenly_divisible(1, 10, 3) ➞ 18\n",
        " 3 + 6 + 9 = 18"
      ],
      "metadata": {
        "id": "hXm_rdmlveG7"
      }
    },
    {
      "cell_type": "code",
      "execution_count": 2,
      "metadata": {
        "colab": {
          "base_uri": "https://localhost:8080/"
        },
        "id": "MMhMKBuMvUpq",
        "outputId": "0e3b31cb-0252-446f-9f21-d36f85010621"
      },
      "outputs": [
        {
          "output_type": "stream",
          "name": "stdout",
          "text": [
            "(1, 10, 20) ➞ 0\n",
            "(1, 10, 2) ➞ 30\n",
            "(1, 10, 3) ➞ 18\n"
          ]
        }
      ],
      "source": [
        "def evenly_Divisible(a,b,c):\n",
        "    divList = []\n",
        "    for num in range(a,b+1):\n",
        "        if num%c == 0:\n",
        "            divList.append(num)\n",
        "    print(f'{a,b,c} ➞ {sum(divList)}')\n",
        "\n",
        "evenly_Divisible(1,10,20)\n",
        "evenly_Divisible(1,10,2)\n",
        "evenly_Divisible(1,10,3)"
      ]
    },
    {
      "cell_type": "markdown",
      "source": [
        "**Question 2**\n",
        "\n",
        "Create a function that returns True if a given inequality expression is correct and\n",
        "False otherwise.\n",
        "\n",
        "Examples\n",
        "\n",
        "correct_signs(&quot;3 &lt; 7 &lt; 11&quot;) ➞ True\n",
        "\n",
        "correct_signs(&quot;13 &gt; 44 &gt; 33 &gt; 1&quot;) ➞ False\n",
        "\n",
        "correct_signs(&quot;1 &lt; 2 &lt; 6 &lt; 9 &gt; 3&quot;) ➞ True"
      ],
      "metadata": {
        "id": "9FKSuFeewC8z"
      }
    },
    {
      "cell_type": "code",
      "source": [
        "def checkEquality():\n",
        "    in_string = input('Enter the inequality: ')\n",
        "    out_bool = eval(in_string)\n",
        "    print(f'{in_string} ➞ {out_bool}')\n",
        "\n",
        "for x in range(3):\n",
        "    checkEquality()"
      ],
      "metadata": {
        "colab": {
          "base_uri": "https://localhost:8080/"
        },
        "id": "-_T9rwamwJzU",
        "outputId": "a5dd38b2-9ac0-4042-8be0-e2371ca5194f"
      },
      "execution_count": 3,
      "outputs": [
        {
          "output_type": "stream",
          "name": "stdout",
          "text": [
            "Enter the inequality: 3<7<11\n",
            "3<7<11 ➞ True\n",
            "Enter the inequality: 13<44<33>1\n",
            "13<44<33>1 ➞ False\n",
            "Enter the inequality: 1<2<6<9>3\n",
            "1<2<6<9>3 ➞ True\n"
          ]
        }
      ]
    },
    {
      "cell_type": "markdown",
      "source": [
        "**Question 3**\n",
        "\n",
        "Create a function that replaces all the vowels in a string with a specified character.\n",
        "\n",
        "Examples\n",
        "\n",
        "replace_vowels(&quot;the aardvark&quot;, &quot;#&quot;) ➞ &quot;th# ##rdv#rk&quot;\n",
        "\n",
        "replace_vowels(&quot;minnie mouse&quot;, &quot;?&quot;) ➞ &quot;m?nn?? m??s?&quot;\n",
        "\n",
        "replace_vowels(&quot;shakespeare&quot;, &quot;*&quot;) ➞ &quot;sh*k*sp**r*&quot;"
      ],
      "metadata": {
        "id": "XA6BvqR_wX5T"
      }
    },
    {
      "cell_type": "code",
      "source": [
        "def ReplaceVowels():\n",
        "    vowels = ['a','e','i','o','u','A','E','I','O','U']\n",
        "    string = input(\"String: \")\n",
        "    string_copy = string\n",
        "    char = input('Replacement character: ')\n",
        "    for ele in string:\n",
        "        if ele in vowels:\n",
        "            string = string.replace(ele,char)\n",
        "    print(f'{string_copy} {char} ➞ {string}')\n",
        "\n",
        "for x in range(3):\n",
        "    ReplaceVowels()"
      ],
      "metadata": {
        "colab": {
          "base_uri": "https://localhost:8080/"
        },
        "id": "vG5oqGfkwgCi",
        "outputId": "7b0cd081-9933-4b85-bd15-a04db222f919"
      },
      "execution_count": 4,
      "outputs": [
        {
          "output_type": "stream",
          "name": "stdout",
          "text": [
            "String: the aardvark\n",
            "Replacement character: #\n",
            "the aardvark # ➞ th# ##rdv#rk\n",
            "String: minnie mouse\n",
            "Replacement character: ?\n",
            "minnie mouse ? ➞ m?nn?? m??s?\n",
            "String: shakespeare\n",
            "Replacement character: *\n",
            "shakespeare * ➞ sh*k*sp**r*\n"
          ]
        }
      ]
    },
    {
      "cell_type": "markdown",
      "source": [
        "**Question 4**\n",
        "\n",
        "Write a function that calculates the factorial of a number recursively ?\n",
        "\n",
        "Examples:\n",
        "\n",
        "factorial(5) ➞ 120\n",
        "\n",
        "factorial(3) ➞ 6\n",
        "\n",
        "factorial(1) ➞ 1\n",
        "\n",
        "factorial(0) ➞ 1"
      ],
      "metadata": {
        "id": "Cc0Y6DTjxQIh"
      }
    },
    {
      "cell_type": "code",
      "source": [
        "def fact(n):\n",
        "    if n==0:\n",
        "        return 1\n",
        "    return n * fact(n-1)\n",
        "\n",
        "print(f'factorial(5) ➞ {fact(5)}')\n",
        "print(f'factorial(3) ➞ {fact(3)}')\n",
        "print(f'factorial(1) ➞ {fact(1)}')\n",
        "print(f'factorial(0) ➞ {fact(0)}')"
      ],
      "metadata": {
        "colab": {
          "base_uri": "https://localhost:8080/"
        },
        "id": "j-na1UksxW7h",
        "outputId": "f353a1c3-8082-4d42-85e6-6b0f537abea5"
      },
      "execution_count": 5,
      "outputs": [
        {
          "output_type": "stream",
          "name": "stdout",
          "text": [
            "factorial(5) ➞ 120\n",
            "factorial(3) ➞ 6\n",
            "factorial(1) ➞ 1\n",
            "factorial(0) ➞ 1\n"
          ]
        }
      ]
    },
    {
      "cell_type": "markdown",
      "source": [
        "**Question 5**\n",
        "\n",
        "\n",
        "Hamming distance is the number of characters that differ between two strings.\n",
        "\n",
        "To illustrate:\n",
        "\n",
        "String1: &quot;abcbba&quot;\n",
        "\n",
        "String2: &quot;abcbda&quot;\n",
        "\n",
        "Hamming Distance: 1 - &quot;b&quot; vs. &quot;d&quot; is the only difference.\n",
        "\n",
        "Create a function that computes the hamming distance between two strings.\n",
        "\n",
        "Examples\n",
        "\n",
        "hamming_distance(&quot;abcde&quot;, &quot;bcdef&quot;) ➞ 5\n",
        "\n",
        "hamming_distance(&quot;abcde&quot;, &quot;abcde&quot;) ➞ 0\n",
        "\n",
        "hamming_distance(&quot;strong&quot;, &quot;strung&quot;) ➞ 1"
      ],
      "metadata": {
        "id": "Oee19DtFxkEv"
      }
    },
    {
      "cell_type": "code",
      "source": [
        "def genHammingDistance():\n",
        "    string_1 = input('Enter the String_1: ')\n",
        "    string_2 = input('Enter the String_2: ')\n",
        "    if len(string_1) == len(string_2):\n",
        "        count = 0\n",
        "        for i in range(len(string_1)):\n",
        "            if string_1[i] != string_2[i]:\n",
        "                count = count+1\n",
        "        print(f'Hamning Distance between {string_1} and {string_2} ➞ {count}')\n",
        "    else:\n",
        "        print('Both Strings Must be of Same Length')\n",
        "\n",
        "for x in range(3):\n",
        "    genHammingDistance()"
      ],
      "metadata": {
        "colab": {
          "base_uri": "https://localhost:8080/"
        },
        "id": "Ctqm1OeUxx7p",
        "outputId": "de6b9a7c-271f-46e9-b0f2-d7701ca0e3c2"
      },
      "execution_count": 6,
      "outputs": [
        {
          "output_type": "stream",
          "name": "stdout",
          "text": [
            "Enter the String_1: abcde\n",
            "Enter the String_2: bcdef\n",
            "Hamning Distance between abcde and bcdef ➞ 5\n",
            "Enter the String_1: abcde\n",
            "Enter the String_2: abcde\n",
            "Hamning Distance between abcde and abcde ➞ 0\n",
            "Enter the String_1: strong\n",
            "Enter the String_2: strung\n",
            "Hamning Distance between strong and strung ➞ 1\n"
          ]
        }
      ]
    }
  ]
}