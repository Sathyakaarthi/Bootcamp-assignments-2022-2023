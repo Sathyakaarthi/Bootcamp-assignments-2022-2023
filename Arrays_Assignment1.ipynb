{
  "nbformat": 4,
  "nbformat_minor": 0,
  "metadata": {
    "colab": {
      "provenance": [],
      "authorship_tag": "ABX9TyNXAwXEnvIDOJZ/tkJSKaAl",
      "include_colab_link": true
    },
    "kernelspec": {
      "name": "python3",
      "display_name": "Python 3"
    },
    "language_info": {
      "name": "python"
    }
  },
  "cells": [
    {
      "cell_type": "markdown",
      "metadata": {
        "id": "view-in-github",
        "colab_type": "text"
      },
      "source": [
        "<a href=\"https://colab.research.google.com/github/Sathyakaarthi/Bootcamp-assignments-2022-2023/blob/main/Arrays_Assignment1.ipynb\" target=\"_parent\"><img src=\"https://colab.research.google.com/assets/colab-badge.svg\" alt=\"Open In Colab\"/></a>"
      ]
    },
    {
      "cell_type": "markdown",
      "source": [
        "**Question 1:**"
      ],
      "metadata": {
        "id": "QW4cxRYIs-Fg"
      }
    },
    {
      "cell_type": "code",
      "source": [
        "class Solution(object):\n",
        "   def twoSum(self, num, target):\n",
        "      required = {}\n",
        "      for i in range(len(num)):\n",
        "         if target - num[i] in required:\n",
        "            return [required[target - num[i]],i]\n",
        "         else:\n",
        "            required[num[i]]=i\n",
        "number_list = [2,7,11,15]\n",
        "a = Solution()\n",
        "print(a.twoSum(number_list, 9))"
      ],
      "metadata": {
        "colab": {
          "base_uri": "https://localhost:8080/"
        },
        "id": "tXQQhikIsQmU",
        "outputId": "1afd261a-d3b0-4251-d1d1-20d95ea3eb21"
      },
      "execution_count": 3,
      "outputs": [
        {
          "output_type": "stream",
          "name": "stdout",
          "text": [
            "[0, 1]\n"
          ]
        }
      ]
    },
    {
      "cell_type": "markdown",
      "source": [
        "**Question 2:**"
      ],
      "metadata": {
        "id": "3or2I1yqtQuj"
      }
    },
    {
      "cell_type": "code",
      "source": [
        "def removeEle(num, val):\n",
        "    k = 0  \n",
        "    for i in range(len(num)):\n",
        "        if num[i] != val:\n",
        "            num[k] = num[i]\n",
        "            k += 1\n",
        "    return k\n",
        "num = [3, 2, 2, 3]\n",
        "val = 3\n",
        "print(removeEle(num, val)) \n",
        "\n",
        "\n",
        "      \n"
      ],
      "metadata": {
        "id": "NQgjhlivJkOR",
        "colab": {
          "base_uri": "https://localhost:8080/"
        },
        "outputId": "ebe31e56-6672-4960-b897-4f187d31571a"
      },
      "execution_count": 5,
      "outputs": [
        {
          "output_type": "stream",
          "name": "stdout",
          "text": [
            "2\n"
          ]
        }
      ]
    },
    {
      "cell_type": "markdown",
      "source": [
        "**Question 3:**\n",
        "\n",
        "***Algorithm***\n",
        "\n",
        "*  Set start and end as 0 and N - 1, where the start and end variables denote the lower and upper bound of the search space respectively.\n",
        "\n",
        "Calculate mid = (start + end) / 2.\n",
        "\n",
        "If arr[mid] is found to be equal to K, print mid as the required answer.\n",
        "\n",
        "If arr[mid] exceeds K, set high = mid - 1 Otherwise, set  low = mid + 1.\n",
        "\n"
      ],
      "metadata": {
        "id": "8z0cMbozI5nQ"
      }
    },
    {
      "cell_type": "code",
      "source": [
        "#3\n",
        "\n",
        "def find_index(arr, n, K):\n",
        "    start = 0\n",
        "    end = n - 1\n",
        " \n",
        "    while start<= end:\n",
        " \n",
        "        mid =(start + end)//2\n",
        " \n",
        "        if arr[mid] == K:\n",
        "            return mid\n",
        " \n",
        "        elif arr[mid] < K:\n",
        "            start = mid + 1\n",
        "        else:\n",
        "            end = mid-1\n",
        " \n",
        "    return end + 1\n",
        " \n",
        "ar = [1, 3, 5, 6]\n",
        "n = len(ar)\n",
        "K = 5\n",
        "print(find_index(ar, n, K))\n"
      ],
      "metadata": {
        "colab": {
          "base_uri": "https://localhost:8080/"
        },
        "id": "Iq9XeyNqIPyN",
        "outputId": "3962d00a-1ad2-42c1-b65d-97c7a543fea8"
      },
      "execution_count": 7,
      "outputs": [
        {
          "output_type": "stream",
          "name": "stdout",
          "text": [
            "2\n"
          ]
        }
      ]
    },
    {
      "cell_type": "markdown",
      "source": [
        "**Question 4:**"
      ],
      "metadata": {
        "id": "pLmstYeCvysK"
      }
    },
    {
      "cell_type": "code",
      "source": [
        "def addone(digits):\n",
        "    \n",
        "    index = len(digits) - 1\n",
        "      \n",
        "    while (index >= 0 and digits[index] == 9):\n",
        "        digits[index] = 0\n",
        "        index -= 1\n",
        "          \n",
        "    if (index < 0):\n",
        "        \n",
        "        digits.insert(0, 1)\n",
        "          \n",
        "    else:\n",
        "        digits[index]+=1\n",
        "  \n",
        "digits = [1,2,3]\n",
        "  \n",
        "addone(digits)\n",
        "  \n",
        "for digit in digits:\n",
        "    print(digit, end =' , ')"
      ],
      "metadata": {
        "colab": {
          "base_uri": "https://localhost:8080/"
        },
        "id": "240OVGrJHgO2",
        "outputId": "a621fe40-ed14-4631-90c0-0114be0e80a9"
      },
      "execution_count": 9,
      "outputs": [
        {
          "output_type": "stream",
          "name": "stdout",
          "text": [
            "1 , 2 , 4 , "
          ]
        }
      ]
    },
    {
      "cell_type": "markdown",
      "source": [
        "**Question 5:**"
      ],
      "metadata": {
        "id": "tSBkLUivv21u"
      }
    },
    {
      "cell_type": "code",
      "source": [
        "class Solution(object):\n",
        "   def merge(self, num1, m, num2, n):\n",
        "      i = 0\n",
        "      j = 0\n",
        "      end = len(num1)-1\n",
        "      while end>=0 and not num1[end]:\n",
        "         end-=1\n",
        "      while j<len(num2) :\n",
        "         if i>end and not num1[i]:\n",
        "            num1[i] = num2[j]\n",
        "            j+=1\n",
        "         elif num1[i]>num2[j]:\n",
        "            self.shift(num1,i)\n",
        "            num1[i] = num2[j]\n",
        "            end += 1\n",
        "            j+=1\n",
        "         i+=1\n",
        "      return num1\n",
        "   def shift(self,num,i):\n",
        "      j = len(num)-1\n",
        "      while not num[j]:\n",
        "         j-=1\n",
        "      while j>=i:\n",
        "         num[j+1] = num[j]\n",
        "         j-=1\n",
        "ob = Solution()\n",
        "print(ob.merge([1,2,3,0,0,0],3,[2,5,6],3))"
      ],
      "metadata": {
        "colab": {
          "base_uri": "https://localhost:8080/"
        },
        "id": "_9p9LpkKE_a_",
        "outputId": "9327d536-dd5b-4e6e-9567-92f42ca4e447"
      },
      "execution_count": 10,
      "outputs": [
        {
          "output_type": "stream",
          "name": "stdout",
          "text": [
            "[1, 2, 2, 3, 5, 6]\n"
          ]
        }
      ]
    },
    {
      "cell_type": "markdown",
      "source": [
        "**Question 6:**"
      ],
      "metadata": {
        "id": "VFIwpLpSwn1p"
      }
    },
    {
      "cell_type": "code",
      "source": [
        "\n",
        "def test_duplicate(array_num):\n",
        "    num_set = set(array_num)    \n",
        "    return len(array_num) != len(num_set)     \n",
        "print(test_duplicate([1,2,3,4,5]))\n",
        "print(test_duplicate([1,1,2,2,3,3,4,4,5]))"
      ],
      "metadata": {
        "colab": {
          "base_uri": "https://localhost:8080/"
        },
        "id": "lvkgYVhuB88u",
        "outputId": "01fd4c3c-4493-44e3-a156-5df38ea9704e"
      },
      "execution_count": 13,
      "outputs": [
        {
          "output_type": "stream",
          "name": "stdout",
          "text": [
            "False\n",
            "True\n"
          ]
        }
      ]
    },
    {
      "cell_type": "markdown",
      "source": [
        "**Question 7:**"
      ],
      "metadata": {
        "id": "kYCCPa3RxEbI"
      }
    },
    {
      "cell_type": "code",
      "source": [
        "def move_zero(num_list):\n",
        "    a = [0 for i in range(num_list.count(0))]\n",
        "    x = [ i for i in num_list if i != 0]\n",
        "    x.extend(a)\n",
        "    return(x)\n",
        "\n",
        "print(move_zero([0,1,0,3,12]))\n"
      ],
      "metadata": {
        "colab": {
          "base_uri": "https://localhost:8080/"
        },
        "id": "2_5FzTG0Cc0H",
        "outputId": "8665038f-3819-4e9d-a147-e0374d59eb17"
      },
      "execution_count": 14,
      "outputs": [
        {
          "output_type": "stream",
          "name": "stdout",
          "text": [
            "[1, 3, 12, 0, 0]\n"
          ]
        }
      ]
    },
    {
      "cell_type": "markdown",
      "source": [
        "**Question 8:**"
      ],
      "metadata": {
        "id": "4vpdOUlExYjn"
      }
    },
    {
      "cell_type": "code",
      "source": [
        "arr = [1,2,2,4]\n",
        "arr.sort()\n",
        "repeat = 0\n",
        "miss = 0\n",
        "for i in range(len(arr)):\n",
        "    if i == len(arr)-1:\n",
        "        break\n",
        "    if arr[i] == arr[i+1]:\n",
        "        repeat = arr[i]\n",
        "    if arr[i+1] - arr[i]!= 1:\n",
        "        miss = i+1\n",
        "print(\"Missing number:\",miss)\n",
        "print (\"Repeating number:\",repeat)"
      ],
      "metadata": {
        "colab": {
          "base_uri": "https://localhost:8080/"
        },
        "id": "VdEA9YmJEMhE",
        "outputId": "effd6659-35f5-4226-a25d-b2d7fb541437"
      },
      "execution_count": 16,
      "outputs": [
        {
          "output_type": "stream",
          "name": "stdout",
          "text": [
            "Missing number: 3\n",
            "Repeating number: 2\n"
          ]
        }
      ]
    }
  ]
}