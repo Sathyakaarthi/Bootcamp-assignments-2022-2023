{
  "nbformat": 4,
  "nbformat_minor": 0,
  "metadata": {
    "colab": {
      "provenance": [],
      "authorship_tag": "ABX9TyOkjwwTNPND7WLHBtwKKrB4",
      "include_colab_link": true
    },
    "kernelspec": {
      "name": "python3",
      "display_name": "Python 3"
    },
    "language_info": {
      "name": "python"
    }
  },
  "cells": [
    {
      "cell_type": "markdown",
      "metadata": {
        "id": "view-in-github",
        "colab_type": "text"
      },
      "source": [
        "<a href=\"https://colab.research.google.com/github/Sathyakaarthi/Bootcamp-assignments-2022-2023/blob/main/Python_Advanced_Assignment7.ipynb\" target=\"_parent\"><img src=\"https://colab.research.google.com/assets/colab-badge.svg\" alt=\"Open In Colab\"/></a>"
      ]
    },
    {
      "cell_type": "markdown",
      "source": [
        "**1. What is the purpose of the try statement?**\n",
        "\n",
        "*Ans:*\n",
        "\n",
        "The **try** block is used to check some code for errors i.e the code inside the try block will execute when there is no error in the program. Whereas the code inside the except block will execute whenever the program encounters some error in the preceding **try** block."
      ],
      "metadata": {
        "id": "FJFJj-maQ-sh"
      }
    },
    {
      "cell_type": "code",
      "execution_count": 1,
      "metadata": {
        "colab": {
          "base_uri": "https://localhost:8080/"
        },
        "id": "CxvkenhhQ2ic",
        "outputId": "7b4846b2-4f11-4a94-d1d7-998d42ec1465"
      },
      "outputs": [
        {
          "output_type": "stream",
          "name": "stdout",
          "text": [
            "Divided by zero\n",
            "Should reach here\n"
          ]
        }
      ],
      "source": [
        "try:\n",
        "    1 / 0\n",
        "except ZeroDivisionError:\n",
        "    print('Divided by zero')\n",
        "\n",
        "print('Should reach here')"
      ]
    },
    {
      "cell_type": "markdown",
      "source": [
        "**2. What are the two most popular try statement variations?**\n",
        "\n",
        "*Ans:*\n",
        "\n",
        "The Popular **try** statement variations are:\n",
        "\n",
        "* **Try**: This block will test the excepted error to occur\n",
        "* **Except**:  Here you can handle the error\n",
        "* **Else**: If there is no exception then this block will be executed\n",
        "* **Finally**: Finally block always gets executed either exception is generated or not"
      ],
      "metadata": {
        "id": "Filnqmp9Rrka"
      }
    },
    {
      "cell_type": "markdown",
      "source": [
        "**3. What is the purpose of the raise statement?**\n",
        "\n",
        "*Ans:*\n",
        "\n",
        "* **raise** Keyword is used to raise exceptions or errors.\n",
        "\n",
        "* The **raise** keyword raises an error and stops the control flow of the program.\n",
        "\n",
        "* It is used to bring up the current exception in an exception handler so that it can be handled further up the call stack."
      ],
      "metadata": {
        "id": "btojFaQ3SbmY"
      }
    },
    {
      "cell_type": "markdown",
      "source": [
        "**4. What does the assert statement do, and what other statement is it like?**\n",
        "\n",
        "*Ans:*\n",
        "\n",
        "Python's assert statement allows you to write sanity checks in your code. These checks are known as assertions, and you can use them to test if certain assumptions remain true while you're developing your code. If any of your assertions turn false, then you have a bug in your code."
      ],
      "metadata": {
        "id": "uvTUeOHFS2nI"
      }
    },
    {
      "cell_type": "code",
      "source": [
        "a = 4\n",
        "b = 0\n",
        "print(\"The value of a / b is : \")\n",
        "assert b != 0\n",
        "print(a / b)"
      ],
      "metadata": {
        "colab": {
          "base_uri": "https://localhost:8080/",
          "height": 242
        },
        "id": "Mn8M30SNTK1z",
        "outputId": "79331b62-ccc0-42aa-bf6d-536eb23297f0"
      },
      "execution_count": 2,
      "outputs": [
        {
          "output_type": "stream",
          "name": "stdout",
          "text": [
            "The value of a / b is : \n"
          ]
        },
        {
          "output_type": "error",
          "ename": "AssertionError",
          "evalue": "ignored",
          "traceback": [
            "\u001b[0;31m---------------------------------------------------------------------------\u001b[0m",
            "\u001b[0;31mAssertionError\u001b[0m                            Traceback (most recent call last)",
            "\u001b[0;32m<ipython-input-2-ecb5dd688d44>\u001b[0m in \u001b[0;36m<cell line: 4>\u001b[0;34m()\u001b[0m\n\u001b[1;32m      2\u001b[0m \u001b[0mb\u001b[0m \u001b[0;34m=\u001b[0m \u001b[0;36m0\u001b[0m\u001b[0;34m\u001b[0m\u001b[0;34m\u001b[0m\u001b[0m\n\u001b[1;32m      3\u001b[0m \u001b[0mprint\u001b[0m\u001b[0;34m(\u001b[0m\u001b[0;34m\"The value of a / b is : \"\u001b[0m\u001b[0;34m)\u001b[0m\u001b[0;34m\u001b[0m\u001b[0;34m\u001b[0m\u001b[0m\n\u001b[0;32m----> 4\u001b[0;31m \u001b[0;32massert\u001b[0m \u001b[0mb\u001b[0m \u001b[0;34m!=\u001b[0m \u001b[0;36m0\u001b[0m\u001b[0;34m\u001b[0m\u001b[0;34m\u001b[0m\u001b[0m\n\u001b[0m\u001b[1;32m      5\u001b[0m \u001b[0mprint\u001b[0m\u001b[0;34m(\u001b[0m\u001b[0ma\u001b[0m \u001b[0;34m/\u001b[0m \u001b[0mb\u001b[0m\u001b[0;34m)\u001b[0m\u001b[0;34m\u001b[0m\u001b[0;34m\u001b[0m\u001b[0m\n",
            "\u001b[0;31mAssertionError\u001b[0m: "
          ]
        }
      ]
    },
    {
      "cell_type": "markdown",
      "source": [
        "**5. What is the purpose of the with/as argument, and what other statement is it like?**\n",
        "\n",
        "*Ans:*\n",
        "\n",
        "* **with/as** statement simplifies use of file handling in python.\n",
        "\n",
        "* When we use a **with** statement for file reading, there is no need for programmer to explicitly takecare of activities like resource deallocation and file closing by using file.close() method.\n",
        "\n",
        "* **with** statement itself ensures proper acquisition and release of resources. this avoids triggering of exceptions if file closing is unknowingly forgotten in the code execution.\n"
      ],
      "metadata": {
        "id": "BosxTSVHTRSz"
      }
    }
  ]
}