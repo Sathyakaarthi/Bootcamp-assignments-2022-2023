{
  "nbformat": 4,
  "nbformat_minor": 0,
  "metadata": {
    "colab": {
      "provenance": [],
      "authorship_tag": "ABX9TyPICn3fAYJMAEEWqAXkA1cS",
      "include_colab_link": true
    },
    "kernelspec": {
      "name": "python3",
      "display_name": "Python 3"
    },
    "language_info": {
      "name": "python"
    }
  },
  "cells": [
    {
      "cell_type": "markdown",
      "metadata": {
        "id": "view-in-github",
        "colab_type": "text"
      },
      "source": [
        "<a href=\"https://colab.research.google.com/github/Sathyakaarthi/Bootcamp-assignments-2022-2023/blob/main/Array_Assignment5.ipynb\" target=\"_parent\"><img src=\"https://colab.research.google.com/assets/colab-badge.svg\" alt=\"Open In Colab\"/></a>"
      ]
    },
    {
      "cell_type": "markdown",
      "source": [
        "**Question 1:**"
      ],
      "metadata": {
        "id": "Ju9-bcZbRFvH"
      }
    },
    {
      "cell_type": "code",
      "execution_count": 5,
      "metadata": {
        "colab": {
          "base_uri": "https://localhost:8080/"
        },
        "id": "ZXoKOh0xP-xg",
        "outputId": "4eb7778d-4ca6-4e34-f283-aae78128a593"
      },
      "outputs": [
        {
          "output_type": "stream",
          "name": "stdout",
          "text": [
            "[[1 2]\n",
            " [3 4]]\n"
          ]
        }
      ],
      "source": [
        "import numpy as np\n",
        "\n",
        "def convertTo2d(arr, rows, cols):\n",
        "    return np.reshape(arr, (rows, cols))\n",
        "\n",
        "# Example usage\n",
        "ar_1d = np.array([1, 2, 3, 4])\n",
        "rows = 2\n",
        "cols = 2\n",
        "\n",
        "ar_2d = convertTo2d(ar_1d, rows, cols)\n",
        "print(ar_2d)"
      ]
    },
    {
      "cell_type": "markdown",
      "source": [
        "**Question 2:**"
      ],
      "metadata": {
        "id": "huXNC0UARpwf"
      }
    },
    {
      "cell_type": "code",
      "source": [
        "def ArrangeCoins(n):\n",
        "    k = 0 \n",
        "    while n >= k + 1:\n",
        "        k += 1\n",
        "        n -= k\n",
        "\n",
        "    return k\n",
        "n = 5\n",
        "\n",
        "comp_rows = ArrangeCoins(n)\n",
        "\n",
        "print(\"The number of complete rows is : \", comp_rows)"
      ],
      "metadata": {
        "colab": {
          "base_uri": "https://localhost:8080/"
        },
        "id": "6VBSRbrpRsQG",
        "outputId": "f71edd5b-ee46-4f09-d84b-f5d4bb0a6df9"
      },
      "execution_count": 8,
      "outputs": [
        {
          "output_type": "stream",
          "name": "stdout",
          "text": [
            "The number of complete rows is :  2\n"
          ]
        }
      ]
    },
    {
      "cell_type": "markdown",
      "source": [
        "**Question 3:**"
      ],
      "metadata": {
        "id": "WZYZHgkaSSza"
      }
    },
    {
      "cell_type": "code",
      "source": [
        "def sortedSquares(nums):\n",
        "    squares = [num ** 2 for num in nums]\n",
        "    print (\"After squaring:\", squares)\n",
        "    squares.sort()\n",
        "    return squares\n",
        "nums = [-4, -1, 0, 3, 10]\n",
        "result = sortedSquares(nums)\n",
        "print(\"Squared numbers after sorting : \",result)"
      ],
      "metadata": {
        "colab": {
          "base_uri": "https://localhost:8080/"
        },
        "id": "ElQWolUXSVZ4",
        "outputId": "52925139-1af6-4d14-d104-07af34f3c5f7"
      },
      "execution_count": 7,
      "outputs": [
        {
          "output_type": "stream",
          "name": "stdout",
          "text": [
            "After squaring: [16, 1, 0, 9, 100]\n",
            "Squared numbers after sorting :  [0, 1, 9, 16, 100]\n"
          ]
        }
      ]
    },
    {
      "cell_type": "markdown",
      "source": [
        "**Question 4:**"
      ],
      "metadata": {
        "id": "J6301QB6SV8i"
      }
    },
    {
      "cell_type": "code",
      "source": [
        "def distinct_elements(nums1, nums2):\n",
        "    set1 = set(nums1)\n",
        "    set2 = set(nums2)\n",
        "\n",
        "    answer = []\n",
        "    answer.append(list(set1 - set2))\n",
        "    answer.append(list(set2 - set1))\n",
        "\n",
        "    return answer\n",
        "nums1 = [1, 2, 3]\n",
        "nums2 = [2, 4, 6]\n",
        "\n",
        "result = distinct_elements(nums1, nums2)\n",
        "print (\"[ {}, {}]\".format(result[0], result[1]))"
      ],
      "metadata": {
        "colab": {
          "base_uri": "https://localhost:8080/"
        },
        "id": "pHovUrBASZNI",
        "outputId": "28ae2e4e-5e1e-4db7-a288-1e5ea508aee6"
      },
      "execution_count": 6,
      "outputs": [
        {
          "output_type": "stream",
          "name": "stdout",
          "text": [
            "[ [1, 3], [4, 6]]\n"
          ]
        }
      ]
    },
    {
      "cell_type": "markdown",
      "source": [
        "**Question 5:**"
      ],
      "metadata": {
        "id": "kE8cxmekS_1v"
      }
    },
    {
      "cell_type": "code",
      "source": [
        "def dist_value(arr1, arr2, d):\n",
        "    distance = 0\n",
        "    \n",
        "    for num1 in arr1:\n",
        "        found = True\n",
        "        for num2 in arr2:\n",
        "            if abs(num1 - num2) <= d:\n",
        "                found = False\n",
        "                break\n",
        "        \n",
        "        if found:\n",
        "            distance += 1\n",
        "    \n",
        "    return distance\n",
        "\n",
        "ar1 = [4, 5, 8]\n",
        "ar2 = [10, 9, 1, 8]\n",
        "d = 2\n",
        "\n",
        "result = dist_value(ar1, ar2, d)\n",
        "print(result)"
      ],
      "metadata": {
        "colab": {
          "base_uri": "https://localhost:8080/"
        },
        "id": "bRu_hAJaTCja",
        "outputId": "253fe314-5bea-4da2-b1fd-7e0d6ce99ef3"
      },
      "execution_count": 11,
      "outputs": [
        {
          "output_type": "stream",
          "name": "stdout",
          "text": [
            "2\n"
          ]
        }
      ]
    },
    {
      "cell_type": "markdown",
      "source": [
        "**Question 6:**"
      ],
      "metadata": {
        "id": "Aft-8XiEWWGE"
      }
    },
    {
      "cell_type": "code",
      "source": [
        "def findDuplicates(nums):\n",
        "    n = len(nums)\n",
        "    duplicates = []\n",
        "    \n",
        "    for i in range(n):\n",
        "        num = abs(nums[i])\n",
        "        \n",
        "        if nums[num - 1] > 0:\n",
        "            nums[num - 1] = -nums[num - 1]\n",
        "        else:\n",
        "            duplicates.append(num)\n",
        "    \n",
        "    return duplicates\n",
        "nums = [4,3,2,7,8,2,3,1]\n",
        "result = findDuplicates(nums)\n",
        "print (result)"
      ],
      "metadata": {
        "colab": {
          "base_uri": "https://localhost:8080/"
        },
        "id": "UtlGHVRyWYyi",
        "outputId": "068a5bab-ab87-49c2-80ff-28e84c233ccb"
      },
      "execution_count": 14,
      "outputs": [
        {
          "output_type": "stream",
          "name": "stdout",
          "text": [
            "[2, 3]\n"
          ]
        }
      ]
    },
    {
      "cell_type": "markdown",
      "source": [
        "**Question 7:**"
      ],
      "metadata": {
        "id": "n5wYels4Xfvx"
      }
    },
    {
      "cell_type": "code",
      "source": [
        "def findMin(nums):\n",
        "    left = 0\n",
        "    right = len(nums) - 1\n",
        "\n",
        "    while left < right:\n",
        "        mid = left + (right - left) // 2\n",
        "\n",
        "        if nums[mid] > nums[right]:\n",
        "            left = mid + 1\n",
        "        else:\n",
        "            right = mid\n",
        "\n",
        "    return nums[left]\n",
        "nums = [3,4,5,1,2]\n",
        "result = findMin(nums)\n",
        "print (result)"
      ],
      "metadata": {
        "colab": {
          "base_uri": "https://localhost:8080/"
        },
        "id": "Is-B8tufXlRP",
        "outputId": "372ab26e-1bce-4648-f784-da1de2d2e064"
      },
      "execution_count": 16,
      "outputs": [
        {
          "output_type": "stream",
          "name": "stdout",
          "text": [
            "1\n"
          ]
        }
      ]
    },
    {
      "cell_type": "markdown",
      "source": [
        "**Question 8:**"
      ],
      "metadata": {
        "id": "-pbzU1LPZbOt"
      }
    },
    {
      "cell_type": "code",
      "source": [
        "import random\n",
        "\n",
        "def OriginalArray(changed):\n",
        "    if len(changed) % 2 != 0:\n",
        "        return [] \n",
        "\n",
        "    count_map = {}\n",
        "    for num in changed:\n",
        "        count_map[num] = count_map.get(num, 0) + 1\n",
        "\n",
        "    original = []\n",
        "    for num in sorted(changed):\n",
        "        if count_map.get(num, 0) == 0:\n",
        "            continue\n",
        "        if count_map.get(num*2, 0) == 0:\n",
        "            return [] \n",
        "        original.append(num)\n",
        "        count_map[num] -= 1\n",
        "        count_map[num*2] -= 1\n",
        "\n",
        "    return original\n",
        "changed = [1,3,4,2,6,8]\n",
        "result = OriginalArray(changed)\n",
        "print (result)"
      ],
      "metadata": {
        "colab": {
          "base_uri": "https://localhost:8080/"
        },
        "id": "rYfAfKa1bXFT",
        "outputId": "338fcd9e-387d-444b-8358-7869910d47ba"
      },
      "execution_count": 19,
      "outputs": [
        {
          "output_type": "stream",
          "name": "stdout",
          "text": [
            "[1, 3, 4]\n"
          ]
        }
      ]
    }
  ]
}