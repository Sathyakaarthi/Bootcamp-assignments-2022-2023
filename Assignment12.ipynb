{
  "nbformat": 4,
  "nbformat_minor": 0,
  "metadata": {
    "colab": {
      "provenance": [],
      "authorship_tag": "ABX9TyNDXwikcMwpowzd0DbEUpA5",
      "include_colab_link": true
    },
    "kernelspec": {
      "name": "python3",
      "display_name": "Python 3"
    },
    "language_info": {
      "name": "python"
    }
  },
  "cells": [
    {
      "cell_type": "markdown",
      "metadata": {
        "id": "view-in-github",
        "colab_type": "text"
      },
      "source": [
        "<a href=\"https://colab.research.google.com/github/Sathyakaarthi/Bootcamp-assignments-2022-2023/blob/main/Assignment12.ipynb\" target=\"_parent\"><img src=\"https://colab.research.google.com/assets/colab-badge.svg\" alt=\"Open In Colab\"/></a>"
      ]
    },
    {
      "cell_type": "markdown",
      "source": [
        "**1. In what modes should the PdfFileReader() and PdfFileWriter() File objects will be opened?**\n",
        "\n",
        "*Ans:*\n",
        "\n",
        "* For **PdfFileReader()** file objects should be opened in rb -> read binary mode\n",
        "* For **PdfFileWriter()** file objects should be opened in wb -> write binary mode.\n",
        "\n"
      ],
      "metadata": {
        "id": "WKte-eGQAIuM"
      }
    },
    {
      "cell_type": "markdown",
      "source": [
        "**2. From a PdfFileReader object, how do you get a Page object for page 5?**\n",
        "\n",
        "*Ans:*\n",
        "\n",
        "PdfFileReader class provides a method called getPage(page_no) to get a page object. Calling getPage(4) will return a Page object for page 5 since page 0 is the first page.\n",
        "\n"
      ],
      "metadata": {
        "id": "qvT9mIqxA4F1"
      }
    },
    {
      "cell_type": "markdown",
      "source": [
        "**3. What PdfFileReader variable stores the number of pages in the PDF document?**\n",
        "\n",
        "*Ans:*\n",
        "\n",
        "getNumPages() method of PdfFileReader class stores the number pages in a PDF document.\n",
        "\n"
      ],
      "metadata": {
        "id": "xWGIgK-ABXOo"
      }
    },
    {
      "cell_type": "markdown",
      "source": [
        "**4.\n",
        "If a PdfFileReader object’s PDF is encrypted with the password swordfish, what must you do before you can obtain Page objects from it?**\n",
        "\n",
        "*Ans:*\n",
        "\n",
        "To read an encrypted PDF, call the decrypt() function and pass the password as swordfish. After we call decrypt() with the correct password, you’ll see that calling getPage() no longer causes an error. Call decrypt('swordfish').\n",
        "\n"
      ],
      "metadata": {
        "id": "HkiccarPGNU0"
      }
    },
    {
      "cell_type": "markdown",
      "source": [
        "**5. What methods do you use to rotate a page?**\n",
        "\n",
        "*Ans:*\n",
        "\n",
        "PyPDF2 Package provides 2 methods to rotate a page:\n",
        "\n",
        "* rotateClockWise() - For Clockwise rotation\n",
        "* rotateCounterClockWise() - For Counter Clockwise rotation\n",
        "\n",
        "The PyPDF2 package only allows you to rotate a page in increments of 90 degrees.\n",
        "\n"
      ],
      "metadata": {
        "id": "wurzncNnHyOj"
      }
    },
    {
      "cell_type": "markdown",
      "source": [
        "**6. What is the difference between a Run object and a Paragraph object?**\n",
        "\n",
        "*Ans:*\n",
        "\n",
        "A document contains multiple paragraphs. \n",
        "\n",
        "* A paragraph begins on a new line and contains multiple runs. \n",
        "* Runs are contiguous groups of charecters within a paragraph.\n",
        "\n",
        "\n",
        "\n"
      ],
      "metadata": {
        "id": "VsKrRFgYKNJ1"
      }
    },
    {
      "cell_type": "markdown",
      "source": [
        "**7. How do you obtain a list of Paragraph objects for a Document object that’s stored in a variable named doc?**\n",
        "\n",
        "*Ans:*\n",
        "\n",
        "By using doc.paragraphs\n",
        "\n"
      ],
      "metadata": {
        "id": "9AU-cNrjLosz"
      }
    },
    {
      "cell_type": "markdown",
      "source": [
        "**8. What type of object has bold, underline, italic, strike, and outline variables?**\n",
        "\n",
        "*Ans*\n",
        "\n",
        "**Run object** has bold, underline, italic, strike, and outline variables. \n",
        "\n"
      ],
      "metadata": {
        "id": "Cp_oPfp4NHHs"
      }
    },
    {
      "cell_type": "markdown",
      "source": [
        "**9. What is the difference between False, True, and None for the bold variable?**\n",
        "\n",
        "*Ans:*\n",
        "\n",
        "* True always makes the Run object bolded.\n",
        "* False makes it always not bolded, no matter what the style’s bold setting is.\n",
        "* None will make the Run object just use the style’s bold setting\n",
        "\n"
      ],
      "metadata": {
        "id": "OQpPBpVsNSq5"
      }
    },
    {
      "cell_type": "markdown",
      "source": [
        "**10. How do you create a Document object for a new Word document?**\n",
        "\n",
        "*Ans:*\n",
        "\n",
        "By Calling the docx.Document() function.\n",
        "\n"
      ],
      "metadata": {
        "id": "tMraqbyyN3CR"
      }
    },
    {
      "cell_type": "markdown",
      "source": [
        "**11. How do you add a paragraph with the text 'Hello, there!' to a Document object stored in a variable named doc?**\n",
        "\n",
        "*Ans:*\n",
        "\n",
        "doc.add_paragraph('Hello, there!')\n",
        "\n",
        "\n"
      ],
      "metadata": {
        "id": "QgMEwYaXONDY"
      }
    },
    {
      "cell_type": "markdown",
      "source": [
        "\n",
        "**12. What integers represent the levels of headings available in Word documents?**\n",
        "\n",
        "*Ans:*\n",
        "\n",
        "* integers from 0 to 4\n",
        "* The arguments to add_heading() are a string of the heading text and an integer from 0 to 4. \n",
        "* The integer 0 makes the heading the Title style, which is used for the top of the document. \n",
        "* Integers 1 to 4 are for various heading levels, with 1 being the main heading and 4 the lowest subheading."
      ],
      "metadata": {
        "id": "4v3JOyVUOc27"
      }
    }
  ]
}