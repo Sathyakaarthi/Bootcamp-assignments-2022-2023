{
  "nbformat": 4,
  "nbformat_minor": 0,
  "metadata": {
    "colab": {
      "provenance": [],
      "authorship_tag": "ABX9TyOX4DxEHP9XNXG0hQTDdskH",
      "include_colab_link": true
    },
    "kernelspec": {
      "name": "python3",
      "display_name": "Python 3"
    },
    "language_info": {
      "name": "python"
    }
  },
  "cells": [
    {
      "cell_type": "markdown",
      "metadata": {
        "id": "view-in-github",
        "colab_type": "text"
      },
      "source": [
        "<a href=\"https://colab.research.google.com/github/Sathyakaarthi/Bootcamp-assignments-2022-2023/blob/main/Programming_Assignment18.ipynb\" target=\"_parent\"><img src=\"https://colab.research.google.com/assets/colab-badge.svg\" alt=\"Open In Colab\"/></a>"
      ]
    },
    {
      "cell_type": "markdown",
      "source": [
        "**Question 1**\n",
        "\n",
        "Create a function that takes a list of non-negative integers and strings and return a new list\n",
        "without the strings.\n",
        "\n",
        "Examples\n",
        "\n",
        "filter_list([1, 2, &quot;a&quot;, &quot;b&quot;]) ➞ [1, 2]\n",
        "\n",
        "filter_list([1, &quot;a&quot;, &quot;b&quot;, 0, 15]) ➞ [1, 0, 15]\n",
        "\n",
        "filter_list([1, 2, &quot;aasf&quot;, &quot;1&quot;, &quot;123&quot;, 123]) ➞ [1, 2, 123]"
      ],
      "metadata": {
        "id": "YN9xU4fWzYEt"
      }
    },
    {
      "cell_type": "code",
      "execution_count": 1,
      "metadata": {
        "colab": {
          "base_uri": "https://localhost:8080/"
        },
        "id": "mwFGGhLWzXU4",
        "outputId": "457f011e-1781-4e1d-dc61-525a74973145"
      },
      "outputs": [
        {
          "output_type": "stream",
          "name": "stdout",
          "text": [
            "➞ [1, 2]\n",
            "➞ [1, 0, 15]\n",
            "➞ [1, 2, 123]\n"
          ]
        }
      ],
      "source": [
        "def FilterList(list):\n",
        "    out_string = []\n",
        "    for ele in list:\n",
        "        if type(ele) == int and ele >= 0:\n",
        "            out_string.append(ele)\n",
        "    return out_string\n",
        "\n",
        "print(f'➞ {FilterList([1, 2, \"a\", \"b\"])}')\n",
        "print(f'➞ {FilterList([1, \"a\", \"b\", 0, 15])}')\n",
        "print(f'➞ {FilterList([1, 2, \"aasf\", \"1\", \"123\", 123])}')"
      ]
    },
    {
      "cell_type": "markdown",
      "source": [
        "**Question 2**\n",
        "\n",
        "The &quot;Reverser&quot; takes a string as input and returns that string in reverse order, with the\n",
        "opposite case.\n",
        "\n",
        "Examples\n",
        "\n",
        "reverse(&quot;Hello World&quot;) ➞ &quot;DLROw OLLEh&quot;\n",
        "\n",
        "reverse(&quot;ReVeRsE&quot;) ➞ &quot;eSrEvEr&quot;\n",
        "\n",
        "reverse(&quot;Radar&quot;) ➞ &quot;RADAr&quot;"
      ],
      "metadata": {
        "id": "xk1XpHBsz_ZQ"
      }
    },
    {
      "cell_type": "code",
      "source": [
        "def reverse(string):\n",
        "    print(f'{string} ➞ {string[::-1].swapcase()}')\n",
        "\n",
        "reverse('Hello World')\n",
        "reverse(\"ReVeRsE\")\n",
        "reverse(\"Radar\")"
      ],
      "metadata": {
        "colab": {
          "base_uri": "https://localhost:8080/"
        },
        "id": "4tWFgH3E0GTu",
        "outputId": "0d9d690e-728e-4148-888f-ebbcea851395"
      },
      "execution_count": 2,
      "outputs": [
        {
          "output_type": "stream",
          "name": "stdout",
          "text": [
            "Hello World ➞ DLROw OLLEh\n",
            "ReVeRsE ➞ eSrEvEr\n",
            "Radar ➞ RADAr\n"
          ]
        }
      ]
    },
    {
      "cell_type": "markdown",
      "source": [
        "**Question 3**\n",
        "\n",
        "You can assign variables from lists like this:\n",
        "\n",
        "lst = [1, 2, 3, 4, 5, 6]\n",
        "\n",
        "first = lst[0]\n",
        "\n",
        "middle = lst[1:-1]\n",
        "\n",
        "last = lst[-1]\n",
        "\n",
        "print(first) ➞ outputs 1\n",
        "\n",
        "print(middle) ➞ outputs [2, 3, 4, 5]\n",
        "\n",
        "print(last) ➞ outputs 6\n",
        "\n",
        "With Python 3, you can assign variables from lists in a much more succinct way.\n",
        "Create\n",
        "variables first, middle and last from the given list using destructuring assignment\n",
        "(check the Resources tab for some examples), where:\n",
        "\n",
        "first ➞ 1\n",
        "\n",
        "middle ➞ [2, 3, 4, 5]\n",
        "\n",
        "last ➞ 6\n",
        "\n",
        "Your task is to unpack the list writeyourcodehere into three variables, being first,\n",
        "middle, and last, with middle being everything in between the first and last element. Then\n",
        "print all three variables."
      ],
      "metadata": {
        "id": "aQ-YOq6M0Usi"
      }
    },
    {
      "cell_type": "code",
      "source": [
        "first, *middle, last = [1,2,3,4,5,6]\n",
        "print(f'first ➞ {first}')\n",
        "print(f'middle ➞ {middle}')\n",
        "print(f'last ➞ {last}')"
      ],
      "metadata": {
        "colab": {
          "base_uri": "https://localhost:8080/"
        },
        "id": "ianfFrDX0f-k",
        "outputId": "eb052d49-4515-45a6-faa9-35a628f5d9bf"
      },
      "execution_count": 3,
      "outputs": [
        {
          "output_type": "stream",
          "name": "stdout",
          "text": [
            "first ➞ 1\n",
            "middle ➞ [2, 3, 4, 5]\n",
            "last ➞ 6\n"
          ]
        }
      ]
    },
    {
      "cell_type": "markdown",
      "source": [
        "**Question 4**\n",
        "\n",
        "Write a function that calculates the factorial of a number recursively.\n",
        "\n",
        "Examples\n",
        "\n",
        "factorial(5) ➞ 120\n",
        "\n",
        "factorial(3) ➞ 6\n",
        "\n",
        "factorial(1) ➞ 1\n",
        "\n",
        "factorial(0) ➞ 1"
      ],
      "metadata": {
        "id": "EbxJfjgL0t4o"
      }
    },
    {
      "cell_type": "code",
      "source": [
        "def fact(n):\n",
        "    if n==0:\n",
        "        return 1\n",
        "    return n * fact(n-1)\n",
        "\n",
        "print(f'factorial(5) ➞ {fact(5)}')\n",
        "print(f'factorial(3) ➞ {fact(3)}')\n",
        "print(f'factorial(1) ➞ {fact(1)}')\n",
        "print(f'factorial(0) ➞ {fact(0)}')"
      ],
      "metadata": {
        "colab": {
          "base_uri": "https://localhost:8080/"
        },
        "id": "CA0stW9_00WK",
        "outputId": "982d6f5c-a128-48d1-fb63-8a1c03bc3545"
      },
      "execution_count": 4,
      "outputs": [
        {
          "output_type": "stream",
          "name": "stdout",
          "text": [
            "factorial(5) ➞ 120\n",
            "factorial(3) ➞ 6\n",
            "factorial(1) ➞ 1\n",
            "factorial(0) ➞ 1\n"
          ]
        }
      ]
    },
    {
      "cell_type": "markdown",
      "source": [
        "**Question 5**\n",
        "\n",
        "Write a function that moves all elements of one type to the end of the list.\n",
        "\n",
        "Examples\n",
        "\n",
        "move_to_end([1, 3, 2, 4, 4, 1], 1) ➞ [3, 2, 4, 4, 1, 1]\n",
        "\n",
        "Move all the 1s to the end of the array.\n",
        "\n",
        "move_to_end([7, 8, 9, 1, 2, 3, 4], 9) ➞ [7, 8, 1, 2, 3, 4, 9]\n",
        "\n",
        "move_to_end([&quot;a&quot;, &quot;a&quot;, &quot;a&quot;, &quot;b&quot;], &quot;a&quot;) ➞ [&quot;b&quot;, &quot;a&quot;, &quot;a&quot;, &quot;a&quot;]\n"
      ],
      "metadata": {
        "id": "m2jSPxn-0_4V"
      }
    },
    {
      "cell_type": "code",
      "source": [
        "def MoveToEnd(list,num):\n",
        "    first_end = []\n",
        "    second_end = []\n",
        "    for ele in list:\n",
        "        if ele == num:\n",
        "            second_end.append(ele)\n",
        "        else:\n",
        "            first_end.append(ele)\n",
        "    first_end.extend(second_end)\n",
        "    return first_end\n",
        "\n",
        "print(f'move_to_end([1, 3, 2, 4, 4, 1], 1) ➞ {MoveToEnd([1, 3, 2, 4, 4, 1], 1)}')\n",
        "print(f'move_to_end([7, 8, 9, 1, 2, 3, 4], 9) ➞ {MoveToEnd([7, 8, 9, 1, 2, 3, 4], 9)}')\n",
        "print(f'move_to_end([\"a\", \"a\", \"a\", \"b\"], \"a\") ➞ {MoveToEnd([\"a\", \"a\", \"a\", \"b\"], \"a\")}')"
      ],
      "metadata": {
        "colab": {
          "base_uri": "https://localhost:8080/"
        },
        "id": "DSWoH2Sc1Jx_",
        "outputId": "669171bf-5898-4639-92c2-5de1b5589f08"
      },
      "execution_count": 5,
      "outputs": [
        {
          "output_type": "stream",
          "name": "stdout",
          "text": [
            "move_to_end([1, 3, 2, 4, 4, 1], 1) ➞ [3, 2, 4, 4, 1, 1]\n",
            "move_to_end([7, 8, 9, 1, 2, 3, 4], 9) ➞ [7, 8, 1, 2, 3, 4, 9]\n",
            "move_to_end([\"a\", \"a\", \"a\", \"b\"], \"a\") ➞ ['b', 'a', 'a', 'a']\n"
          ]
        }
      ]
    },
    {
      "cell_type": "code",
      "source": [],
      "metadata": {
        "id": "KL8Le7Gb0_Ja"
      },
      "execution_count": null,
      "outputs": []
    }
  ]
}