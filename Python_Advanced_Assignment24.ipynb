{
  "nbformat": 4,
  "nbformat_minor": 0,
  "metadata": {
    "colab": {
      "provenance": [],
      "authorship_tag": "ABX9TyP3SoV8cPLElPQb+FZyNjZM",
      "include_colab_link": true
    },
    "kernelspec": {
      "name": "python3",
      "display_name": "Python 3"
    },
    "language_info": {
      "name": "python"
    }
  },
  "cells": [
    {
      "cell_type": "markdown",
      "metadata": {
        "id": "view-in-github",
        "colab_type": "text"
      },
      "source": [
        "<a href=\"https://colab.research.google.com/github/Sathyakaarthi/Bootcamp-assignments-2022-2023/blob/main/Python_Advanced_Assignment24.ipynb\" target=\"_parent\"><img src=\"https://colab.research.google.com/assets/colab-badge.svg\" alt=\"Open In Colab\"/></a>"
      ]
    },
    {
      "cell_type": "markdown",
      "source": [
        "**1. Is it permissible to use several import statements to import the same module? What would the goal be? Can you think of a situation where it would be beneficial?**\n",
        "\n",
        "*Ans:*\n",
        "\n",
        "Yes, it is permissible to use several import statements to import the same module. It is used in case when we have to import multiple functions from same module."
      ],
      "metadata": {
        "id": "dlhCUViM4fYf"
      }
    },
    {
      "cell_type": "markdown",
      "source": [
        "**2. What are some of a module's characteristics? (Name at least one.)**\n",
        "\n",
        "*Ans:*\n",
        "\n",
        "Some of a module's characteristics are:\n",
        "\n",
        "* __ name __ : It returns the name of the module\n",
        "* __ doc __ : It denotes the documentation string line written in a module code.\n",
        "* __ file __ : It holds the name and path of the module file from which it is loaded\n",
        "* __ dict __ : It return a dictionary object of module attributes, functions and other definitions and their respective values"
      ],
      "metadata": {
        "id": "taZCy4Wn4nGn"
      }
    },
    {
      "cell_type": "markdown",
      "source": [
        "**3. Circular importing, such as when two modules import each other, can lead to dependencies and bugs that aren't visible. How can you go about creating a program that avoids mutual importing?**\n",
        "\n",
        "*Ans:**\n",
        "\n",
        "* Circular importing means importing the two modules in each other. If suppose we are wokring in MOD1.py file and it is importing some function say F2() from some other module say MOD2.PY file or we can do vice-versa. What will happen is: This will give an import error.\n",
        "\n",
        "* This is because when we import F2() function from module MOD2.py, then this will execute MOD2.py file. And in MOD2.py file there is an another statement of importing MOD1.py module.\n",
        "\n",
        "* This will result in endless loop. To avoid this error just do one thingWe can use if __name__ == '__main__'\n",
        "\n",
        "* In the function, you can't directly refer to the function in the program. The addition of this sentence avoids the endless loop of the program ."
      ],
      "metadata": {
        "id": "03fBB55P5FRo"
      }
    },
    {
      "cell_type": "markdown",
      "source": [
        "**4. Why is __ all __ in Python?**\n",
        "\n",
        "*Ans:*\n",
        "\n",
        "It provides list of all modules present in a library."
      ],
      "metadata": {
        "id": "DkCXY8DG5S8z"
      }
    },
    {
      "cell_type": "markdown",
      "source": [
        "**5. In what situation is it useful to refer to the __ name __ attribute or the string __ main __?**\n",
        "\n",
        "*Ans:*\n",
        "\n",
        "* During the time of execution of the code if we want to refer the module in which we are working on then we uses name attribute.\n",
        "\n",
        "* In that case it will return the module in which we are working on. Suppose if that moudle is being imported from some other module then name will have the name of that moudle from where the current module has been imported.\n",
        "\n",
        "* The current module in which we are working is refer to the string __ main __."
      ],
      "metadata": {
        "id": "y2eaP9kK5dF_"
      }
    },
    {
      "cell_type": "markdown",
      "source": [
        "**6. What are some of the benefits of attaching a program counter to the RPN interpreter\n",
        "application, which interprets an RPN script line by line?**\n",
        "\n",
        "*Ans:*\n",
        "\n",
        "* Reverse Polish notation (RPN) is a method for conveying mathematical expressions without the use of separators such as brackets and parentheses.\n",
        "\n",
        "* In this notation, the operators follow their operands, hence removing the need for brackets to define evaluation priority.\n",
        "\n",
        "* The operation is read from left to right but execution is done every time an operator is reached, and always using the last two numbers as the operands."
      ],
      "metadata": {
        "id": "COThYKGp6ELK"
      }
    },
    {
      "cell_type": "markdown",
      "source": [
        "**7. What are the minimum expressions or statements (or both) that you'd need to render a basic\n",
        "programming language like RPN primitive but complete— that is, capable of carrying out any\n",
        "computerised task theoretically possible?**\n",
        "\n",
        "*Ans:*\n",
        "\n",
        "To create a minimal but complete programming language, like Reverse Polish Notation (RPN), you would need the following expressions or statements:\n",
        "\n",
        "**Number literals:** These allow you to represent numeric values in your language. For example: 1, 2.5, 3.14159.\n",
        "\n",
        "**Arithmetic operations:** Basic arithmetic operations like addition, subtraction, multiplication, and division. For example: +, -, *, /.\n",
        "\n",
        "**Stack operations:** Since RPN uses a stack-based approach, you need stack operations to manipulate the stack. These include pushing values onto the stack, popping values from the stack, and swapping values on the stack. For example: PUSH, POP, SWAP.\n",
        "\n",
        "**Control flow:** Conditional statements and loops allow you to control the flow of execution in your program. For example: IF, ELSE, ENDIF, WHILE, ENDWHILE.\n",
        "\n",
        "**Variables:** The ability to assign values to variables and retrieve their values. For example: SET, GET.\n",
        "\n",
        "**Input/output operations:** Basic input and output operations to interact with the user or external devices. For example: PRINT, READ.\n"
      ],
      "metadata": {
        "id": "fpzeCU_K6k02"
      }
    },
    {
      "cell_type": "code",
      "execution_count": null,
      "metadata": {
        "id": "Vc0HLmOX4YXp"
      },
      "outputs": [],
      "source": []
    }
  ]
}