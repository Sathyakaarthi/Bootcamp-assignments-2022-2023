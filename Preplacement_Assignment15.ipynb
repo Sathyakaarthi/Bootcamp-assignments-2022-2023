{
  "nbformat": 4,
  "nbformat_minor": 0,
  "metadata": {
    "colab": {
      "provenance": [],
      "authorship_tag": "ABX9TyPZWJ2naK0kPoiRyjFvYvfN",
      "include_colab_link": true
    },
    "kernelspec": {
      "name": "python3",
      "display_name": "Python 3"
    },
    "language_info": {
      "name": "python"
    }
  },
  "cells": [
    {
      "cell_type": "markdown",
      "metadata": {
        "id": "view-in-github",
        "colab_type": "text"
      },
      "source": [
        "<a href=\"https://colab.research.google.com/github/Sathyakaarthi/Bootcamp-assignments-2022-2023/blob/main/Preplacement_Assignment15.ipynb\" target=\"_parent\"><img src=\"https://colab.research.google.com/assets/colab-badge.svg\" alt=\"Open In Colab\"/></a>"
      ]
    },
    {
      "cell_type": "markdown",
      "source": [
        "**Question 1**"
      ],
      "metadata": {
        "id": "L1W4l5sw9vFw"
      }
    },
    {
      "cell_type": "code",
      "source": [
        "def NextGreaterElement(arr):\n",
        "    stack = []\n",
        "    result = [-1] * len(arr)\n",
        "\n",
        "    for i in range(len(arr) - 1, -1, -1):\n",
        "        while stack and stack[-1] <= arr[i]:\n",
        "            stack.pop()\n",
        "\n",
        "        if stack:\n",
        "            result[i] = stack[-1]\n",
        "\n",
        "        stack.append(arr[i])\n",
        "\n",
        "    return result\n",
        "\n",
        "arr = [1, 3, 2, 4]\n",
        "next_greater = NextGreaterElement(arr)\n",
        "print(\"Next Greater Elements:\")\n",
        "for i in range(len(arr)):\n",
        "    print( next_greater[i])"
      ],
      "metadata": {
        "colab": {
          "base_uri": "https://localhost:8080/"
        },
        "id": "plqlV6SW9xuC",
        "outputId": "799ae009-ef82-4ab2-8078-325897550dac"
      },
      "execution_count": null,
      "outputs": [
        {
          "output_type": "stream",
          "name": "stdout",
          "text": [
            "Next Greater Elements:\n",
            "3\n",
            "4\n",
            "4\n",
            "-1\n"
          ]
        }
      ]
    },
    {
      "cell_type": "markdown",
      "source": [
        "**Question 2**"
      ],
      "metadata": {
        "id": "CeVoWj1j-v6G"
      }
    },
    {
      "cell_type": "code",
      "source": [
        "def NearestSmallerElement(arr):\n",
        "    stack = []\n",
        "    result = []\n",
        "\n",
        "    for i in range(len(arr)):\n",
        "        while stack and stack[-1] >= arr[i]:\n",
        "            stack.pop()\n",
        "\n",
        "        if stack:\n",
        "            result.append(stack[-1])\n",
        "        else:\n",
        "            result.append(-1)\n",
        "\n",
        "        stack.append(arr[i])\n",
        "\n",
        "    return result\n",
        "\n",
        "arr = [1, 6, 2]\n",
        "nearest_smaller = NearestSmallerElement(arr)\n",
        "print(\"Nearest Smaller Elements:\")\n",
        "for i in range(len(arr)):\n",
        "    print(nearest_smaller[i])\n"
      ],
      "metadata": {
        "colab": {
          "base_uri": "https://localhost:8080/"
        },
        "id": "sa-WjPr1-x0N",
        "outputId": "129bede9-dbd4-44e9-ddbf-e86af0ec02db"
      },
      "execution_count": null,
      "outputs": [
        {
          "output_type": "stream",
          "name": "stdout",
          "text": [
            "Nearest Smaller Elements:\n",
            "-1\n",
            "1\n",
            "1\n"
          ]
        }
      ]
    },
    {
      "cell_type": "markdown",
      "source": [
        "**Question 4**"
      ],
      "metadata": {
        "id": "pJRtj57cC2E9"
      }
    },
    {
      "cell_type": "code",
      "source": [
        "def reverse_stack(stack):\n",
        "    if len(stack) > 0:\n",
        "        top = stack.pop()\n",
        "        reverse_stack(stack)\n",
        "        insert_at_bottom(stack, top)\n",
        "\n",
        "def insert_at_bottom(stack, item):\n",
        "    if len(stack) == 0:\n",
        "        stack.append(item)\n",
        "    else:\n",
        "        top = stack.pop()\n",
        "        insert_at_bottom(stack, item)\n",
        "        stack.append(top)\n",
        "\n",
        "stack = [3,2,1,7,6]\n",
        "print(\"Original stack:\", stack)\n",
        "reverse_stack(stack)\n",
        "print(\"Reversed stack:\", stack)\n"
      ],
      "metadata": {
        "colab": {
          "base_uri": "https://localhost:8080/"
        },
        "id": "JMXAMBjNC5PX",
        "outputId": "80dfe354-1f49-463d-973b-959666c18b29"
      },
      "execution_count": 1,
      "outputs": [
        {
          "output_type": "stream",
          "name": "stdout",
          "text": [
            "Original stack: [3, 2, 1, 7, 6]\n",
            "Reversed stack: [6, 7, 1, 2, 3]\n"
          ]
        }
      ]
    },
    {
      "cell_type": "markdown",
      "source": [
        "**Question 5**"
      ],
      "metadata": {
        "id": "7vPEe0A4B1WM"
      }
    },
    {
      "cell_type": "code",
      "source": [
        "def reverse_string(s):\n",
        "    stack = []\n",
        "    reversed_str = \"\"\n",
        "\n",
        "    for char in s:\n",
        "        stack.append(char)\n",
        "\n",
        "    while len(stack) > 0:\n",
        "        reversed_str += stack.pop()\n",
        "\n",
        "    return reversed_str\n",
        "\n",
        "s = \"GeeksforGeeks\"\n",
        "reversed_string = reverse_string(s)\n",
        "print(reversed_string)"
      ],
      "metadata": {
        "colab": {
          "base_uri": "https://localhost:8080/"
        },
        "id": "Z1-iRnIPB3JB",
        "outputId": "4f9c7af5-eade-4557-eacb-b0fb331b2b3c"
      },
      "execution_count": 6,
      "outputs": [
        {
          "output_type": "stream",
          "name": "stdout",
          "text": [
            "skeeGrofskeeG\n"
          ]
        }
      ]
    },
    {
      "cell_type": "markdown",
      "source": [
        "**Question 6**"
      ],
      "metadata": {
        "id": "TCw0YHbvEPP0"
      }
    },
    {
      "cell_type": "code",
      "source": [
        "def evaluate_postfix(expression):\n",
        "    stack = []\n",
        "\n",
        "    for char in expression:\n",
        "        if char.isdigit():\n",
        "            stack.append(int(char))\n",
        "        else:\n",
        "            operand2 = stack.pop()\n",
        "            operand1 = stack.pop()\n",
        "\n",
        "            if char == '+':\n",
        "                result = operand1 + operand2\n",
        "            elif char == '-':\n",
        "                result = operand1 - operand2\n",
        "            elif char == '*':\n",
        "                result = operand1 * operand2\n",
        "            elif char == '/':\n",
        "                result = operand1 / operand2\n",
        "            stack.append(result)\n",
        "\n",
        "    return stack.pop()\n",
        "\n",
        "postfix_expression = \"231*+9-\"\n",
        "result = evaluate_postfix(postfix_expression)\n",
        "print(result)\n",
        "postfix_expression = \"123+*8-\"\n",
        "result = evaluate_postfix(postfix_expression)\n",
        "print(result)\n"
      ],
      "metadata": {
        "colab": {
          "base_uri": "https://localhost:8080/"
        },
        "id": "MCtjTBUpERot",
        "outputId": "82780c97-b6c3-4010-baa2-9175415d6cfb"
      },
      "execution_count": 11,
      "outputs": [
        {
          "output_type": "stream",
          "name": "stdout",
          "text": [
            "-4\n",
            "-3\n"
          ]
        }
      ]
    },
    {
      "cell_type": "markdown",
      "source": [
        "**Question 7**"
      ],
      "metadata": {
        "id": "YAFi4vPrFFED"
      }
    },
    {
      "cell_type": "code",
      "source": [
        "class MinStack:\n",
        "\n",
        "    def __init__(self):\n",
        "        self.s = []\n",
        "\n",
        "    class Node:\n",
        "        def __init__(self, val, Min):\n",
        "            self.val = val\n",
        "            self.min = Min\n",
        "\n",
        "    def push(self, x):\n",
        "        if not self.s:\n",
        "            self.s.append(self.Node(x, x))\n",
        "        else:\n",
        "            Min = min(self.s[-1].min, x)\n",
        "            self.s.append(self.Node(x, Min))\n",
        "\n",
        "    def pop(self):\n",
        "        return self.s.pop().val\n",
        "\n",
        "    def top(self):\n",
        "        return self.s[-1].val\n",
        "\n",
        "    def getMin(self):\n",
        "        return self.s[-1].min\n",
        "\n",
        "s = MinStack()\n",
        "\n",
        "# Function calls\n",
        "s.push(-2)\n",
        "s.push(0)\n",
        "s.push(3)\n",
        "print(s.getMin())\n",
        "print(s.pop())\n",
        "print(s.pop())\n",
        "print(s.getMin())"
      ],
      "metadata": {
        "colab": {
          "base_uri": "https://localhost:8080/"
        },
        "id": "T19VMa7JHwV2",
        "outputId": "409551c3-d4fe-4340-bc44-0b94e26f2500"
      },
      "execution_count": 16,
      "outputs": [
        {
          "output_type": "stream",
          "name": "stdout",
          "text": [
            "-2\n",
            "3\n",
            "0\n",
            "-2\n"
          ]
        }
      ]
    },
    {
      "cell_type": "markdown",
      "source": [
        "**Question 8**"
      ],
      "metadata": {
        "id": "UKZx0NL3I8h0"
      }
    },
    {
      "cell_type": "code",
      "source": [
        "def trap_water(arr):\n",
        "    n = len(arr)\n",
        "    left = 0\n",
        "    right = n - 1\n",
        "    left_max = right_max = water = 0\n",
        "\n",
        "    while left < right:\n",
        "        if arr[left] < arr[right]:\n",
        "            if arr[left] > left_max:\n",
        "                left_max = arr[left]\n",
        "            else:\n",
        "                water += left_max - arr[left]\n",
        "            left += 1\n",
        "        else:\n",
        "            if arr[right] > right_max:\n",
        "                right_max = arr[right]\n",
        "            else:\n",
        "                water += right_max - arr[right]\n",
        "            right -= 1\n",
        "\n",
        "    return water\n",
        "elevation_map = [0, 1, 0, 2, 1, 0, 1, 3, 2, 1, 2, 1]\n",
        "water_trapped = trap_water(elevation_map)\n",
        "print(\"Water trapped:\", water_trapped)\n",
        "elevation_map = [4,2,0,3,2,5]\n",
        "water_trapped = trap_water(elevation_map)\n",
        "print(\"Water trapped:\", water_trapped)"
      ],
      "metadata": {
        "colab": {
          "base_uri": "https://localhost:8080/"
        },
        "id": "4jyv-uJtI_Lv",
        "outputId": "2e2d541b-a975-4756-b3c5-60cd85f1812d"
      },
      "execution_count": 18,
      "outputs": [
        {
          "output_type": "stream",
          "name": "stdout",
          "text": [
            "Water trapped: 6\n",
            "Water trapped: 9\n"
          ]
        }
      ]
    }
  ]
}