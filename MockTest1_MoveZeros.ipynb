{
  "nbformat": 4,
  "nbformat_minor": 0,
  "metadata": {
    "colab": {
      "provenance": [],
      "authorship_tag": "ABX9TyNUMMg3qSUFdinDlVe0OeqE",
      "include_colab_link": true
    },
    "kernelspec": {
      "name": "python3",
      "display_name": "Python 3"
    },
    "language_info": {
      "name": "python"
    }
  },
  "cells": [
    {
      "cell_type": "markdown",
      "metadata": {
        "id": "view-in-github",
        "colab_type": "text"
      },
      "source": [
        "<a href=\"https://colab.research.google.com/github/Sathyakaarthi/Bootcamp-assignments-2022-2023/blob/main/MockTest1_MoveZeros.ipynb\" target=\"_parent\"><img src=\"https://colab.research.google.com/assets/colab-badge.svg\" alt=\"Open In Colab\"/></a>"
      ]
    },
    {
      "cell_type": "markdown",
      "source": [
        "**Move Zeros**"
      ],
      "metadata": {
        "id": "iAa8CPvz2m7I"
      }
    },
    {
      "cell_type": "code",
      "execution_count": 3,
      "metadata": {
        "colab": {
          "base_uri": "https://localhost:8080/"
        },
        "id": "266_Icjr194J",
        "outputId": "0fc61a19-b627-4130-ef11-7e57fafad72c"
      },
      "outputs": [
        {
          "output_type": "stream",
          "name": "stdout",
          "text": [
            "[1, 3, 12, 0, 0]\n",
            "[0]\n"
          ]
        }
      ],
      "source": [
        "def moveZeros(nums):\n",
        "    insert_position = 0\n",
        "    \n",
        "    for num in nums:\n",
        "        if num != 0:\n",
        "            nums[insert_position] = num\n",
        "            insert_position += 1\n",
        "    \n",
        "    while insert_position < len(nums):\n",
        "        nums[insert_position] = 0\n",
        "        insert_position += 1\n",
        "    \n",
        "    return nums\n",
        "nums1 = [0, 1, 0, 3, 12]\n",
        "result = moveZeros(nums1)\n",
        "print(result)\n",
        "nums2 = [0]\n",
        "result = moveZeros(nums2)\n",
        "print(result)"
      ]
    }
  ]
}