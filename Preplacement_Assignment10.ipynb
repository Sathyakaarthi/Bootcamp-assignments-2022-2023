{
  "nbformat": 4,
  "nbformat_minor": 0,
  "metadata": {
    "colab": {
      "provenance": [],
      "authorship_tag": "ABX9TyPTi/YJVtVYUzYdf2sxZ4zl",
      "include_colab_link": true
    },
    "kernelspec": {
      "name": "python3",
      "display_name": "Python 3"
    },
    "language_info": {
      "name": "python"
    }
  },
  "cells": [
    {
      "cell_type": "markdown",
      "metadata": {
        "id": "view-in-github",
        "colab_type": "text"
      },
      "source": [
        "<a href=\"https://colab.research.google.com/github/Sathyakaarthi/Bootcamp-assignments-2022-2023/blob/main/Preplacement_Assignment10.ipynb\" target=\"_parent\"><img src=\"https://colab.research.google.com/assets/colab-badge.svg\" alt=\"Open In Colab\"/></a>"
      ]
    },
    {
      "cell_type": "markdown",
      "source": [
        "**Question 1:**"
      ],
      "metadata": {
        "id": "t4obq7LEE11L"
      }
    },
    {
      "cell_type": "code",
      "execution_count": 5,
      "metadata": {
        "colab": {
          "base_uri": "https://localhost:8080/"
        },
        "id": "JhfPDq34Ce28",
        "outputId": "ee6c7ecd-8918-462b-d03f-fb2084f7d3df"
      },
      "outputs": [
        {
          "output_type": "stream",
          "name": "stdout",
          "text": [
            "27 is power of three :  True\n",
            "0 is power of three :  False\n",
            "-1 is power of three :  False\n"
          ]
        }
      ],
      "source": [
        "def isPowerOfThree(n):\n",
        "    if n <= 0:\n",
        "        return False\n",
        "    while n % 3 == 0:\n",
        "        n //= 3\n",
        "    return n == 1\n",
        "n = 27\n",
        "result = isPowerOfThree(n)\n",
        "print (\"27 is power of three : \", result)\n",
        "n = 0\n",
        "result = isPowerOfThree(n)\n",
        "print (\"0 is power of three : \", result)\n",
        "n = -1\n",
        "result = isPowerOfThree(n)\n",
        "print (\"-1 is power of three : \", result)"
      ]
    },
    {
      "cell_type": "markdown",
      "source": [
        "**Question 2**"
      ],
      "metadata": {
        "id": "GX-PiF3CGZus"
      }
    },
    {
      "cell_type": "code",
      "source": [
        "def lastNumRemaining(n):\n",
        "    if n == 1:\n",
        "        return 1\n",
        "    return 2 * (n // 2 + 1 - lastNumRemaining(n // 2))\n",
        "\n",
        "n = 9\n",
        "result = lastNumRemaining(n)\n",
        "print (result)\n",
        "print(lastNumRemaining(1)) \n"
      ],
      "metadata": {
        "colab": {
          "base_uri": "https://localhost:8080/"
        },
        "id": "tZDyONXpGcoP",
        "outputId": "a63974ab-3aed-44c8-ebb1-55ade896ba29"
      },
      "execution_count": 12,
      "outputs": [
        {
          "output_type": "stream",
          "name": "stdout",
          "text": [
            "6\n",
            "1\n"
          ]
        }
      ]
    },
    {
      "cell_type": "markdown",
      "source": [
        "**Question 3**"
      ],
      "metadata": {
        "id": "xZD-aqiOH3oI"
      }
    },
    {
      "cell_type": "code",
      "source": [
        "def print_subsets(str, subset=\"\"):\n",
        "    if len(str) == 0:\n",
        "        print(subset)\n",
        "        return\n",
        "    print_subsets(str[1:], subset + str[0])\n",
        "    print_subsets(str[1:], subset)\n",
        "\n",
        "input_str = \"abc\"\n",
        "print(\"Subsets of\", input_str + \":\")\n",
        "print_subsets (input_str)\n",
        "input_str = \"abcd\"\n",
        "print(\"Subsets of\", input_str + \":\")\n",
        "print_subsets (input_str)\n"
      ],
      "metadata": {
        "colab": {
          "base_uri": "https://localhost:8080/"
        },
        "id": "dw1wrEx7H5XH",
        "outputId": "63ff4481-192c-48d5-a40e-e2267ff4bf9c"
      },
      "execution_count": 16,
      "outputs": [
        {
          "output_type": "stream",
          "name": "stdout",
          "text": [
            "Subsets of abc:\n",
            "abc\n",
            "ab\n",
            "ac\n",
            "a\n",
            "bc\n",
            "b\n",
            "c\n",
            "\n",
            "Subsets of abcd:\n",
            "abcd\n",
            "abc\n",
            "abd\n",
            "ab\n",
            "acd\n",
            "ac\n",
            "ad\n",
            "a\n",
            "bcd\n",
            "bc\n",
            "bd\n",
            "b\n",
            "cd\n",
            "c\n",
            "d\n",
            "\n"
          ]
        }
      ]
    },
    {
      "cell_type": "markdown",
      "source": [
        "**Question 4**"
      ],
      "metadata": {
        "id": "xZBNItYDJshu"
      }
    },
    {
      "cell_type": "code",
      "source": [
        "def str_length(s):\n",
        "    if s == '':\n",
        "        return 0\n",
        "    else:\n",
        "        return 1 + str_length(s[1:])\n",
        "\n",
        "# Example usage:\n",
        "string = \"abcd\"\n",
        "length = str_length(string)\n",
        "print(\"Length of the string:\", length)\n",
        "string = \"GEEKSFORGEEKS\"\n",
        "length = str_length(string)\n",
        "print(\"Length of the string:\", length)\n"
      ],
      "metadata": {
        "colab": {
          "base_uri": "https://localhost:8080/"
        },
        "id": "1yYwmwlUJui6",
        "outputId": "b8aeffa0-ceb9-47e0-eced-5722dd5a60cf"
      },
      "execution_count": 19,
      "outputs": [
        {
          "output_type": "stream",
          "name": "stdout",
          "text": [
            "Length of the string: 4\n",
            "Length of the string: 13\n"
          ]
        }
      ]
    },
    {
      "cell_type": "markdown",
      "source": [
        "**Question 5**"
      ],
      "metadata": {
        "id": "qy5neoT1KCWm"
      }
    },
    {
      "cell_type": "code",
      "source": [
        "def count_contiguous_substrings(s):\n",
        "    if len(s) < 2:\n",
        "        return 0\n",
        "    elif s[0] == s[-1]:\n",
        "        return 1 + count_contiguous_substrings(s[:-1]) + count_contiguous_substrings(s[1:])\n",
        "    else:\n",
        "        return count_contiguous_substrings(s[:-1]) + count_contiguous_substrings(s[1:])\n",
        "\n",
        "string = \"abccba\"\n",
        "count = count_contiguous_substrings(string)\n",
        "print(\"Count of contiguous substrings:\", count)\n",
        "string = \"aba\"\n",
        "count = count_contiguous_substrings(string)\n",
        "print(\"Count of contiguous substrings:\", count)"
      ],
      "metadata": {
        "colab": {
          "base_uri": "https://localhost:8080/"
        },
        "id": "tF5rCc8QPDD6",
        "outputId": "eeea8f3e-c810-4df2-dac7-20d0906b37e3"
      },
      "execution_count": 36,
      "outputs": [
        {
          "output_type": "stream",
          "name": "stdout",
          "text": [
            "Count of contiguous substrings: 9\n",
            "Count of contiguous substrings: 1\n"
          ]
        }
      ]
    },
    {
      "cell_type": "code",
      "source": [
        "def CheckEquality(s):\n",
        "    return (ord(s[0]) == ord(s[len(s) - 1]))\n",
        " \n",
        "def countSubstrWithEqualEnds(s):\n",
        "    result = 0\n",
        "    n = len(s)\n",
        " \n",
        "    for i in range(n):\n",
        " \n",
        "        for j in range(1,n-i+1):\n",
        " \n",
        "             if (CheckEquality(s[i:i+j])):\n",
        "                result+=1\n",
        " \n",
        "    return result\n",
        " \n",
        "s = \"abcab\"\n",
        "print(countSubstrWithEqualEnds(s))\n",
        "s = \"aba\"\n",
        "print(countSubstrWithEqualEnds(s))\n",
        " "
      ],
      "metadata": {
        "colab": {
          "base_uri": "https://localhost:8080/"
        },
        "id": "Iyw3hCxjRXNT",
        "outputId": "364f3e0c-9f9e-49dd-f81c-15fe930b45c9"
      },
      "execution_count": 40,
      "outputs": [
        {
          "output_type": "stream",
          "name": "stdout",
          "text": [
            "7\n",
            "4\n"
          ]
        }
      ]
    },
    {
      "cell_type": "markdown",
      "source": [
        "**Question 6**"
      ],
      "metadata": {
        "id": "1HbP8mpCLmRb"
      }
    },
    {
      "cell_type": "code",
      "source": [
        "def tower_of_hanoi(n, source, auxiliary, destination):\n",
        "    if n == 1:\n",
        "        print(\"Move disk 1 from rod\", source, \"to rod\", destination)\n",
        "        return 1\n",
        "    else:\n",
        "        moves = 0\n",
        "        moves += tower_of_hanoi(n-1, source, destination, auxiliary)\n",
        "        print(\"Move disk\", n, \"from rod\", source, \"to rod\", destination)\n",
        "        moves += 1\n",
        "        moves += tower_of_hanoi(n-1, auxiliary, source, destination)\n",
        "        return moves\n",
        "\n",
        "n = 3\n",
        "total_moves = tower_of_hanoi(n, 1, 2, 3)\n",
        "print(\"Total moves:\", total_moves)\n",
        "n = 2\n",
        "total_moves = tower_of_hanoi(n, 1, 2, 3)\n",
        "print(\"Total moves:\", total_moves)\n"
      ],
      "metadata": {
        "colab": {
          "base_uri": "https://localhost:8080/"
        },
        "id": "Gthd6grfLoXL",
        "outputId": "d1de4038-c89a-484b-990d-7302fbc59d10"
      },
      "execution_count": 28,
      "outputs": [
        {
          "output_type": "stream",
          "name": "stdout",
          "text": [
            "Move disk 1 from rod 1 to rod 3\n",
            "Move disk 2 from rod 1 to rod 2\n",
            "Move disk 1 from rod 3 to rod 2\n",
            "Move disk 3 from rod 1 to rod 3\n",
            "Move disk 1 from rod 2 to rod 1\n",
            "Move disk 2 from rod 2 to rod 3\n",
            "Move disk 1 from rod 1 to rod 3\n",
            "Total moves: 7\n",
            "Move disk 1 from rod 1 to rod 2\n",
            "Move disk 2 from rod 1 to rod 3\n",
            "Move disk 1 from rod 2 to rod 3\n",
            "Total moves: 3\n"
          ]
        }
      ]
    },
    {
      "cell_type": "markdown",
      "source": [
        "**Question 7**"
      ],
      "metadata": {
        "id": "Qb09-rXlMdlC"
      }
    },
    {
      "cell_type": "code",
      "source": [
        "def permute_string(s, left, right):\n",
        "    if left == right:\n",
        "        print(''.join(s))\n",
        "    else:\n",
        "        for i in range(left, right + 1):\n",
        "            s[left], s[i] = s[i], s[left] # Swap characters\n",
        "            permute_string(s, left + 1, right) # Recursively permute remaining characters\n",
        "            s[left], s[i] = s[i], s[left] # Backtrack (restore original order)\n",
        "\n",
        "string = \"cd\"\n",
        "n = len(string)\n",
        "print(\"Permutaions of 'cd' : \")\n",
        "permute_string(list(string), 0, n - 1)\n",
        "string = \"abb\"\n",
        "n = len(string)\n",
        "print(\"Permutaions of 'abb' : \")\n",
        "permute_string(list(string), 0, n - 1)"
      ],
      "metadata": {
        "colab": {
          "base_uri": "https://localhost:8080/"
        },
        "id": "UD4dY1O4MfsO",
        "outputId": "55088234-8438-4c3d-9452-fa177d4e27f2"
      },
      "execution_count": 32,
      "outputs": [
        {
          "output_type": "stream",
          "name": "stdout",
          "text": [
            "Permutaions of 'cd' : \n",
            "cd\n",
            "dc\n",
            "Permutaions of 'abb' : \n",
            "abb\n",
            "abb\n",
            "bab\n",
            "bba\n",
            "bba\n",
            "bab\n"
          ]
        }
      ]
    },
    {
      "cell_type": "markdown",
      "source": [
        "**Question 8**"
      ],
      "metadata": {
        "id": "uGig82jgN7on"
      }
    },
    {
      "cell_type": "code",
      "source": [
        "def count_consonants(string):\n",
        "    consonants = \"bcdfghjklmnpqrstvwxyzBCDFGHJKLMNPQRSTVWXYZ\"\n",
        "    count = 0\n",
        "    for char in string:\n",
        "        if char in consonants:\n",
        "            count += 1\n",
        "    return count\n",
        "\n",
        "# Example usage:\n",
        "string = \" abc de\"\n",
        "consonant_count = count_consonants(string)\n",
        "print(\"Total number of consonants:\", consonant_count)\n",
        "string = \" geeksforgeeks portal\"\n",
        "consonant_count = count_consonants(string)\n",
        "print(\"Total number of consonants:\", consonant_count)\n"
      ],
      "metadata": {
        "colab": {
          "base_uri": "https://localhost:8080/"
        },
        "id": "w6mDqfeKN9sX",
        "outputId": "19424c2a-2de7-4094-813b-7796cb38f4ed"
      },
      "execution_count": 34,
      "outputs": [
        {
          "output_type": "stream",
          "name": "stdout",
          "text": [
            "Total number of consonants: 3\n",
            "Total number of consonants: 12\n"
          ]
        }
      ]
    }
  ]
}