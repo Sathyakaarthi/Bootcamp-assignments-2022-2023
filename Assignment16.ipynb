{
  "nbformat": 4,
  "nbformat_minor": 0,
  "metadata": {
    "colab": {
      "provenance": [],
      "authorship_tag": "ABX9TyMS/mt0GpBYdCYgP0rkzOc2",
      "include_colab_link": true
    },
    "kernelspec": {
      "name": "python3",
      "display_name": "Python 3"
    },
    "language_info": {
      "name": "python"
    }
  },
  "cells": [
    {
      "cell_type": "markdown",
      "metadata": {
        "id": "view-in-github",
        "colab_type": "text"
      },
      "source": [
        "<a href=\"https://colab.research.google.com/github/Sathyakaarthi/Bootcamp-assignments-2022-2023/blob/main/Assignment16.ipynb\" target=\"_parent\"><img src=\"https://colab.research.google.com/assets/colab-badge.svg\" alt=\"Open In Colab\"/></a>"
      ]
    },
    {
      "cell_type": "markdown",
      "source": [
        "**1. Create a list called years_list, starting with the year of your birth, and each year thereafter until the year of your fifth birthday. For example, if you were born in 1980. the list would be years_list = [1980, 1981, 1982, 1983, 1984, 1985].**"
      ],
      "metadata": {
        "id": "Fid6wrVOJn3D"
      }
    },
    {
      "cell_type": "code",
      "source": [
        "years_list = [i for i in range(1986,1986+6)]\n",
        "print(years_list)\n"
      ],
      "metadata": {
        "colab": {
          "base_uri": "https://localhost:8080/"
        },
        "id": "H6MJCSraJsHR",
        "outputId": "9e5f037b-f6cc-4f41-b558-c46b06ae073d"
      },
      "execution_count": 29,
      "outputs": [
        {
          "output_type": "stream",
          "name": "stdout",
          "text": [
            "[1986, 1987, 1988, 1989, 1990, 1991]\n"
          ]
        }
      ]
    },
    {
      "cell_type": "markdown",
      "source": [
        "**2. In which year in years_list was your third birthday? Remember, you were 0 years of age for your first year.**"
      ],
      "metadata": {
        "id": "0LwDc6FeKOkH"
      }
    },
    {
      "cell_type": "code",
      "execution_count": 30,
      "metadata": {
        "colab": {
          "base_uri": "https://localhost:8080/"
        },
        "id": "3Ujs44YrIhN4",
        "outputId": "dd5f9358-90ef-4240-b9b8-68eccab0a19e"
      },
      "outputs": [
        {
          "output_type": "stream",
          "name": "stdout",
          "text": [
            "My third birthday was in the year:  1989\n"
          ]
        }
      ],
      "source": [
        "print(\"My third birthday was in the year: \", years_list[3])"
      ]
    },
    {
      "cell_type": "markdown",
      "source": [
        "**3.In the years list, which year were you the oldest?**"
      ],
      "metadata": {
        "id": "jK3lc33nKlVk"
      }
    },
    {
      "cell_type": "code",
      "source": [
        "max(years_list)"
      ],
      "metadata": {
        "colab": {
          "base_uri": "https://localhost:8080/"
        },
        "id": "K9rFnSqeKqfP",
        "outputId": "dcbae110-b156-4b43-c979-6f781c5017c0"
      },
      "execution_count": 31,
      "outputs": [
        {
          "output_type": "execute_result",
          "data": {
            "text/plain": [
              "1991"
            ]
          },
          "metadata": {},
          "execution_count": 31
        }
      ]
    },
    {
      "cell_type": "markdown",
      "source": [
        "**4. Make a list called things with these three strings as elements: \"mozzarella\", \"cinderella\", \"salmonella\".**"
      ],
      "metadata": {
        "id": "oWhACG2gKz0g"
      }
    },
    {
      "cell_type": "code",
      "source": [
        "things = ['mozzarella', 'cinderella', 'salmonella']\n",
        "things"
      ],
      "metadata": {
        "colab": {
          "base_uri": "https://localhost:8080/"
        },
        "id": "h4dKNWLeK4Fi",
        "outputId": "6735b8dd-b512-47a2-cdb4-2ce608452039"
      },
      "execution_count": 32,
      "outputs": [
        {
          "output_type": "execute_result",
          "data": {
            "text/plain": [
              "['mozzarella', 'cinderella', 'salmonella']"
            ]
          },
          "metadata": {},
          "execution_count": 32
        }
      ]
    },
    {
      "cell_type": "markdown",
      "source": [
        "**5. Capitalize the element in things that refers to a person and then print the list. Did it change the element in the list?**"
      ],
      "metadata": {
        "id": "OAE1Kcs4MnDL"
      }
    },
    {
      "cell_type": "code",
      "source": [
        "for i in range(len(things)):\n",
        "    if things[i] == 'cinderella':\n",
        "        things[i] = things[i].capitalize()\n",
        "print(things)\n"
      ],
      "metadata": {
        "colab": {
          "base_uri": "https://localhost:8080/"
        },
        "id": "ok4cRqYPMsiO",
        "outputId": "b94cef5d-79e7-4c7e-a85d-c85456489934"
      },
      "execution_count": 33,
      "outputs": [
        {
          "output_type": "stream",
          "name": "stdout",
          "text": [
            "['mozzarella', 'Cinderella', 'salmonella']\n"
          ]
        }
      ]
    },
    {
      "cell_type": "markdown",
      "source": [
        "**6. Make a surprise list with the elements \"Groucho,\" \"Chico,\" and \"Harpo.\"**"
      ],
      "metadata": {
        "id": "YUca0H7iOap3"
      }
    },
    {
      "cell_type": "code",
      "source": [
        "surprise_list = ['Groucho', 'Chico', 'Harpo']\n",
        "surprise_list"
      ],
      "metadata": {
        "colab": {
          "base_uri": "https://localhost:8080/"
        },
        "id": "_jHw1NTsOd1h",
        "outputId": "922b5278-8306-4517-9c09-e6e553b90a86"
      },
      "execution_count": 34,
      "outputs": [
        {
          "output_type": "execute_result",
          "data": {
            "text/plain": [
              "['Groucho', 'Chico', 'Harpo']"
            ]
          },
          "metadata": {},
          "execution_count": 34
        }
      ]
    },
    {
      "cell_type": "markdown",
      "source": [
        "**7. Lowercase the last element of the surprise list, reverse it, and then capitalize it.**"
      ],
      "metadata": {
        "id": "Xa-0PYlIO7ni"
      }
    },
    {
      "cell_type": "code",
      "source": [
        "print(surprise_list[-1].lower())\n"
      ],
      "metadata": {
        "colab": {
          "base_uri": "https://localhost:8080/"
        },
        "id": "ci44wbuFROu2",
        "outputId": "29428639-7816-4050-fcb1-d11ba300bf78"
      },
      "execution_count": 41,
      "outputs": [
        {
          "output_type": "stream",
          "name": "stdout",
          "text": [
            "harpo\n"
          ]
        }
      ]
    },
    {
      "cell_type": "code",
      "source": [
        "print(surprise_list[-1].lower()[::-1])"
      ],
      "metadata": {
        "colab": {
          "base_uri": "https://localhost:8080/"
        },
        "id": "3_spfIhKSYPu",
        "outputId": "631860b2-2640-418b-cb40-b9e2271db866"
      },
      "execution_count": 42,
      "outputs": [
        {
          "output_type": "stream",
          "name": "stdout",
          "text": [
            "oprah\n"
          ]
        }
      ]
    },
    {
      "cell_type": "code",
      "source": [
        "print(surprise_list[-1].lower()[::-1].capitalize())"
      ],
      "metadata": {
        "colab": {
          "base_uri": "https://localhost:8080/"
        },
        "id": "-bq4QfLqSh1R",
        "outputId": "b7d7f0ee-192a-4b66-c5a9-f914a3c783dc"
      },
      "execution_count": 43,
      "outputs": [
        {
          "output_type": "stream",
          "name": "stdout",
          "text": [
            "Oprah\n"
          ]
        }
      ]
    },
    {
      "cell_type": "markdown",
      "source": [
        "**8. Make an English-to-French dictionary called e2f and print it. Here are your starter words: dog is chien, cat is chat, and walrus is morse.**"
      ],
      "metadata": {
        "id": "wDlRt7b9SzA0"
      }
    },
    {
      "cell_type": "code",
      "source": [
        "e2f = {'dog':'chien','cat':'chat','walrus':'morse'}\n",
        "e2f\n"
      ],
      "metadata": {
        "colab": {
          "base_uri": "https://localhost:8080/"
        },
        "id": "X5AObJbCS1Dv",
        "outputId": "37b6eb42-e0b3-4ad6-e43b-dcccf888f6ed"
      },
      "execution_count": 44,
      "outputs": [
        {
          "output_type": "execute_result",
          "data": {
            "text/plain": [
              "{'dog': 'chien', 'cat': 'chat', 'walrus': 'morse'}"
            ]
          },
          "metadata": {},
          "execution_count": 44
        }
      ]
    },
    {
      "cell_type": "markdown",
      "source": [
        "**9. Write the French word for walrus in your three-word dictionary e2f.**\n"
      ],
      "metadata": {
        "id": "DTjSgXkrTJoy"
      }
    },
    {
      "cell_type": "code",
      "source": [
        "print (e2f.get('walrus'))"
      ],
      "metadata": {
        "colab": {
          "base_uri": "https://localhost:8080/"
        },
        "id": "zHssYwdETRx7",
        "outputId": "4e4aeea0-024c-4235-9abd-c22a19c8e0d9"
      },
      "execution_count": 50,
      "outputs": [
        {
          "output_type": "stream",
          "name": "stdout",
          "text": [
            "morse\n"
          ]
        }
      ]
    },
    {
      "cell_type": "markdown",
      "source": [
        "**10. Make a French-to-English dictionary called f2e from e2f. Use the items method.**\n"
      ],
      "metadata": {
        "id": "2zipQ_FKUu60"
      }
    },
    {
      "cell_type": "code",
      "source": [
        "f2e = dict((key,value) for value,key in e2f.items())\n",
        "f2e"
      ],
      "metadata": {
        "colab": {
          "base_uri": "https://localhost:8080/"
        },
        "id": "btv7C7hHVAs_",
        "outputId": "ee972e57-af69-43d9-a6f6-788ce76a3938"
      },
      "execution_count": 51,
      "outputs": [
        {
          "output_type": "execute_result",
          "data": {
            "text/plain": [
              "{'chien': 'dog', 'chat': 'cat', 'morse': 'walrus'}"
            ]
          },
          "metadata": {},
          "execution_count": 51
        }
      ]
    },
    {
      "cell_type": "markdown",
      "source": [
        "**11. Print the English version of the French word chien using f2e.**"
      ],
      "metadata": {
        "id": "pWGa5RFNVKho"
      }
    },
    {
      "cell_type": "code",
      "source": [
        "print(\"The English version of the Frech word chien is\", f2e.get('chien'))\n"
      ],
      "metadata": {
        "colab": {
          "base_uri": "https://localhost:8080/"
        },
        "id": "aeQkbhaCVREr",
        "outputId": "beb63e14-87b5-448b-f6de-cd5f7bf02532"
      },
      "execution_count": 55,
      "outputs": [
        {
          "output_type": "stream",
          "name": "stdout",
          "text": [
            "The English version of the Frech word chien is dog\n"
          ]
        }
      ]
    },
    {
      "cell_type": "markdown",
      "source": [
        "**12. Make and print a set of English words from the keys in e2f.**"
      ],
      "metadata": {
        "id": "DgmpuBiXVvLh"
      }
    },
    {
      "cell_type": "code",
      "source": [
        "print(list(e2f.keys()))\n"
      ],
      "metadata": {
        "colab": {
          "base_uri": "https://localhost:8080/"
        },
        "id": "RVTVfbm8V2GT",
        "outputId": "0ec0340d-fc2a-497e-e3d0-ea4747323ebb"
      },
      "execution_count": 56,
      "outputs": [
        {
          "output_type": "stream",
          "name": "stdout",
          "text": [
            "['dog', 'cat', 'walrus']\n"
          ]
        }
      ]
    },
    {
      "cell_type": "markdown",
      "source": [
        "**13. Make a multilevel dictionary called life. Use these strings for the topmost keys: 'animals', 'plants', and 'other'. Make the 'animals' key refer to another dictionary with the keys 'cats', 'octopi', and 'emus'. Make the 'cats' key refer to a list of strings with the values 'Henri', 'Grumpy', and 'Lucy'. Make all the other keys refer to empty dictionaries.\"**"
      ],
      "metadata": {
        "id": "u7tNuBiyWDp8"
      }
    },
    {
      "cell_type": "code",
      "source": [
        "life = {\n",
        "    'animals':{\n",
        "        'cats':['Henri','Grumpy','Lucy'],\n",
        "        'octopi':{},\n",
        "        'emus':{}\n",
        "    },\n",
        "    'plants':{},\n",
        "    'other':{}\n",
        "}\n",
        "print(life)"
      ],
      "metadata": {
        "colab": {
          "base_uri": "https://localhost:8080/"
        },
        "id": "tT1jP4tHWluK",
        "outputId": "f27ac105-c751-4588-87c5-d7277103669f"
      },
      "execution_count": 57,
      "outputs": [
        {
          "output_type": "stream",
          "name": "stdout",
          "text": [
            "{'animals': {'cats': ['Henri', 'Grumpy', 'Lucy'], 'octopi': {}, 'emus': {}}, 'plants': {}, 'other': {}}\n"
          ]
        }
      ]
    },
    {
      "cell_type": "markdown",
      "source": [
        "**14. Print the top-level keys of life.**"
      ],
      "metadata": {
        "id": "tuZPJ2QQW0HA"
      }
    },
    {
      "cell_type": "code",
      "source": [
        "print(list(life.keys()))\n"
      ],
      "metadata": {
        "colab": {
          "base_uri": "https://localhost:8080/"
        },
        "id": "E9vl63JkXBS4",
        "outputId": "ddc739cc-630f-467f-80ee-5c894d79de1e"
      },
      "execution_count": 58,
      "outputs": [
        {
          "output_type": "stream",
          "name": "stdout",
          "text": [
            "['animals', 'plants', 'other']\n"
          ]
        }
      ]
    },
    {
      "cell_type": "markdown",
      "source": [
        "**15. Print the keys for life['animals'].**"
      ],
      "metadata": {
        "id": "KWp-FC8aXI5Y"
      }
    },
    {
      "cell_type": "code",
      "source": [
        "print(list(life['animals'].keys()))\n"
      ],
      "metadata": {
        "colab": {
          "base_uri": "https://localhost:8080/"
        },
        "id": "i-MEu4CrXLge",
        "outputId": "afa2235e-2565-4b3f-b743-b6ade67402a9"
      },
      "execution_count": 59,
      "outputs": [
        {
          "output_type": "stream",
          "name": "stdout",
          "text": [
            "['cats', 'octopi', 'emus']\n"
          ]
        }
      ]
    },
    {
      "cell_type": "markdown",
      "source": [
        "**16. Print the values for life['animals']['cats']**"
      ],
      "metadata": {
        "id": "UjbYqOQWXTbF"
      }
    },
    {
      "cell_type": "code",
      "source": [
        "print(life['animals']['cats'])\n"
      ],
      "metadata": {
        "colab": {
          "base_uri": "https://localhost:8080/"
        },
        "id": "_QrcL1dxXWAk",
        "outputId": "85ca8f7b-73ef-4d9e-faa7-4f73ad18574f"
      },
      "execution_count": 60,
      "outputs": [
        {
          "output_type": "stream",
          "name": "stdout",
          "text": [
            "['Henri', 'Grumpy', 'Lucy']\n"
          ]
        }
      ]
    },
    {
      "cell_type": "markdown",
      "source": [],
      "metadata": {
        "id": "jtB0RlutXb_S"
      }
    }
  ]
}