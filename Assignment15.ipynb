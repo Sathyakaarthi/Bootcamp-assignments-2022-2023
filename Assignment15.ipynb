{
  "nbformat": 4,
  "nbformat_minor": 0,
  "metadata": {
    "colab": {
      "provenance": [],
      "authorship_tag": "ABX9TyPMk1sTc/sRwnN9JDLiVeJL",
      "include_colab_link": true
    },
    "kernelspec": {
      "name": "python3",
      "display_name": "Python 3"
    },
    "language_info": {
      "name": "python"
    }
  },
  "cells": [
    {
      "cell_type": "markdown",
      "metadata": {
        "id": "view-in-github",
        "colab_type": "text"
      },
      "source": [
        "<a href=\"https://colab.research.google.com/github/Sathyakaarthi/Bootcamp-assignments-2022-2023/blob/main/Assignment15.ipynb\" target=\"_parent\"><img src=\"https://colab.research.google.com/assets/colab-badge.svg\" alt=\"Open In Colab\"/></a>"
      ]
    },
    {
      "cell_type": "code",
      "execution_count": null,
      "metadata": {
        "id": "-NsxYlxhnaKQ"
      },
      "outputs": [],
      "source": []
    },
    {
      "cell_type": "markdown",
      "source": [
        "**1. How many seconds are in an hour? Use the interactive interpreter as a calculator and multiply the number of seconds in a minute (60) by the number of minutes in an hour (also 60).**\n",
        "\n"
      ],
      "metadata": {
        "id": "WXh-MrL6na4C"
      }
    },
    {
      "cell_type": "code",
      "source": [
        "print (\"no. of seconds in an hour =\", 60*60)"
      ],
      "metadata": {
        "colab": {
          "base_uri": "https://localhost:8080/"
        },
        "id": "eC9PMON5n3GO",
        "outputId": "1f37a8d2-6590-465e-b5de-4cbf00b971b2"
      },
      "execution_count": 6,
      "outputs": [
        {
          "output_type": "stream",
          "name": "stdout",
          "text": [
            "no. of seconds in an hour = 3600\n"
          ]
        }
      ]
    },
    {
      "cell_type": "markdown",
      "source": [
        "**2. Assign the result from the previous task (seconds in an hour) to a variable called seconds_per_hour.**\n",
        "\n"
      ],
      "metadata": {
        "id": "fyqFYGHWozHm"
      }
    },
    {
      "cell_type": "code",
      "source": [
        "seconds_per_hour = 3600\n",
        "print (seconds_per_hour)\n"
      ],
      "metadata": {
        "colab": {
          "base_uri": "https://localhost:8080/"
        },
        "id": "qiJbBWeBpCOZ",
        "outputId": "b76f6f8b-f475-40de-c97d-3b1194a54b0e"
      },
      "execution_count": 11,
      "outputs": [
        {
          "output_type": "stream",
          "name": "stdout",
          "text": [
            "3600\n"
          ]
        }
      ]
    },
    {
      "cell_type": "markdown",
      "source": [
        "**3. How many seconds do you think there are in a day? Make use of the variables seconds per hour and minutes per hour.**\n",
        "\n",
        "\n"
      ],
      "metadata": {
        "id": "gAaZ82zwpuf5"
      }
    },
    {
      "cell_type": "code",
      "source": [
        "minutes_per_hour = 60\n",
        "seconds_per_hour = minutes_per_hour*60\n",
        "print(\"Seconds in a hour is : \", seconds_per_hour)\n",
        "\n",
        "seconds_per_hour*24\n"
      ],
      "metadata": {
        "colab": {
          "base_uri": "https://localhost:8080/"
        },
        "id": "fC6Xjgiuq2z1",
        "outputId": "8cf8fcbc-e4aa-4a24-cafd-f8b8dd5ff4d0"
      },
      "execution_count": 21,
      "outputs": [
        {
          "output_type": "stream",
          "name": "stdout",
          "text": [
            "Seconds in a hour is :  3600\n"
          ]
        },
        {
          "output_type": "execute_result",
          "data": {
            "text/plain": [
              "86400"
            ]
          },
          "metadata": {},
          "execution_count": 21
        }
      ]
    },
    {
      "cell_type": "markdown",
      "source": [
        "**4. Calculate seconds per day again, but this time save the result in a variable called seconds_per_day**\n",
        "\n"
      ],
      "metadata": {
        "id": "MA4U14lHsAKd"
      }
    },
    {
      "cell_type": "code",
      "source": [
        "seconds_per_day = seconds_per_hour*24\n",
        "print(\"Seconds in a day is : \", seconds_per_day)"
      ],
      "metadata": {
        "colab": {
          "base_uri": "https://localhost:8080/"
        },
        "id": "HkzKR8T9scDG",
        "outputId": "9916d0c3-2c65-4021-abdd-8daf96714579"
      },
      "execution_count": 22,
      "outputs": [
        {
          "output_type": "stream",
          "name": "stdout",
          "text": [
            "Seconds in a day is :  86400\n"
          ]
        }
      ]
    },
    {
      "cell_type": "markdown",
      "source": [
        "**5. Divide seconds_per_day by seconds_per_hour. Use floating-point (/) division.**\n",
        "\n",
        "\n"
      ],
      "metadata": {
        "id": "SZanR3PHsjgP"
      }
    },
    {
      "cell_type": "code",
      "source": [
        "seconds_per_day / seconds_per_hour\n"
      ],
      "metadata": {
        "colab": {
          "base_uri": "https://localhost:8080/"
        },
        "id": "4EOuk7F-s0lr",
        "outputId": "1782cfdb-cac3-4e78-bd6d-4f6c3b066a42"
      },
      "execution_count": 23,
      "outputs": [
        {
          "output_type": "execute_result",
          "data": {
            "text/plain": [
              "24.0"
            ]
          },
          "metadata": {},
          "execution_count": 23
        }
      ]
    },
    {
      "cell_type": "markdown",
      "source": [
        "**6. Divide seconds_per_day by seconds_per_hour, using integer (//) division. Did this number agree with the floating-point value from the previous question, aside from the final .0?**\n",
        "\n"
      ],
      "metadata": {
        "id": "aEaQKTyatCYo"
      }
    },
    {
      "cell_type": "code",
      "source": [
        "seconds_per_day // seconds_per_hour # The output number 24 agree with the floating-point value from the previous question, aside from the final .0\n"
      ],
      "metadata": {
        "colab": {
          "base_uri": "https://localhost:8080/"
        },
        "id": "TS-j1hL5tBq8",
        "outputId": "78809ca6-c9f9-47a0-f2d7-5f4a58dcb1c3"
      },
      "execution_count": 25,
      "outputs": [
        {
          "output_type": "execute_result",
          "data": {
            "text/plain": [
              "24"
            ]
          },
          "metadata": {},
          "execution_count": 25
        }
      ]
    },
    {
      "cell_type": "markdown",
      "source": [
        "**7. Write a generator, genPrimes, that returns the sequence of prime numbers on successive calls to its next() method: 2, 3, 5, 7, 11, ...**\n",
        "\n"
      ],
      "metadata": {
        "id": "FpSRBMb7tlzr"
      }
    },
    {
      "cell_type": "code",
      "source": [
        "def genPrimes():\n",
        "    \n",
        "    prime_no = [ 2, 3, 5, 7, 11 ]\n",
        "    \n",
        "    def isPrimeNumber(n):\n",
        "        if n in prime_no:\n",
        "            return True\n",
        "        \n",
        "        for element in prime_no:\n",
        "            if n % element == 0:\n",
        "                return False\n",
        "                \n",
        "        prime_no.append(n)\n",
        "        return True\n",
        "    num = 1\n",
        "    while True:\n",
        "        num += 1\n",
        "        if isPrimeNumber(num):\n",
        "            next = num\n",
        "            yield next\n",
        "            num = next\n",
        "PrimeNumber = genPrimes()\n",
        "print(\"The prime numbers are: \")\n",
        "\n",
        "for i in range(100):\n",
        "    print(PrimeNumber.__next__())"
      ],
      "metadata": {
        "colab": {
          "base_uri": "https://localhost:8080/"
        },
        "id": "dupjxQUxtN-j",
        "outputId": "8625ceb1-218f-48be-9042-f67bb7e76585"
      },
      "execution_count": 29,
      "outputs": [
        {
          "output_type": "stream",
          "name": "stdout",
          "text": [
            "The prime numbers are: \n",
            "2\n",
            "3\n",
            "5\n",
            "7\n",
            "11\n",
            "13\n",
            "17\n",
            "19\n",
            "23\n",
            "29\n",
            "31\n",
            "37\n",
            "41\n",
            "43\n",
            "47\n",
            "53\n",
            "59\n",
            "61\n",
            "67\n",
            "71\n",
            "73\n",
            "79\n",
            "83\n",
            "89\n",
            "97\n",
            "101\n",
            "103\n",
            "107\n",
            "109\n",
            "113\n",
            "127\n",
            "131\n",
            "137\n",
            "139\n",
            "149\n",
            "151\n",
            "157\n",
            "163\n",
            "167\n",
            "173\n",
            "179\n",
            "181\n",
            "191\n",
            "193\n",
            "197\n",
            "199\n",
            "211\n",
            "223\n",
            "227\n",
            "229\n",
            "233\n",
            "239\n",
            "241\n",
            "251\n",
            "257\n",
            "263\n",
            "269\n",
            "271\n",
            "277\n",
            "281\n",
            "283\n",
            "293\n",
            "307\n",
            "311\n",
            "313\n",
            "317\n",
            "331\n",
            "337\n",
            "347\n",
            "349\n",
            "353\n",
            "359\n",
            "367\n",
            "373\n",
            "379\n",
            "383\n",
            "389\n",
            "397\n",
            "401\n",
            "409\n",
            "419\n",
            "421\n",
            "431\n",
            "433\n",
            "439\n",
            "443\n",
            "449\n",
            "457\n",
            "461\n",
            "463\n",
            "467\n",
            "479\n",
            "487\n",
            "491\n",
            "499\n",
            "503\n",
            "509\n",
            "521\n",
            "523\n",
            "541\n"
          ]
        }
      ]
    },
    {
      "cell_type": "markdown",
      "source": [],
      "metadata": {
        "id": "ldy7ZmAbtA4Y"
      }
    }
  ]
}