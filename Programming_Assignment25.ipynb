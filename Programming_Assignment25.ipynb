{
  "nbformat": 4,
  "nbformat_minor": 0,
  "metadata": {
    "colab": {
      "provenance": [],
      "authorship_tag": "ABX9TyOkC9toxBtm0h/09DmLz4wS",
      "include_colab_link": true
    },
    "kernelspec": {
      "name": "python3",
      "display_name": "Python 3"
    },
    "language_info": {
      "name": "python"
    }
  },
  "cells": [
    {
      "cell_type": "markdown",
      "metadata": {
        "id": "view-in-github",
        "colab_type": "text"
      },
      "source": [
        "<a href=\"https://colab.research.google.com/github/Sathyakaarthi/Bootcamp-assignments-2022-2023/blob/main/Programming_Assignment25.ipynb\" target=\"_parent\"><img src=\"https://colab.research.google.com/assets/colab-badge.svg\" alt=\"Open In Colab\"/></a>"
      ]
    },
    {
      "cell_type": "markdown",
      "source": [
        "**Question 1**\n",
        "\n",
        "Create a function that takes three integer arguments (a, b, c) and returns the amount of integers which are of equal value.\n",
        "\n",
        "Examples:\n",
        "\n",
        "equal(3, 4, 3) ➞ 2\n",
        "\n",
        "equal(1, 1, 1) ➞ 3\n",
        "\n",
        "equal(3, 4, 1) ➞ 0\n",
        "\n",
        "Notes:\n",
        "Your function must return 0, 2 or 3."
      ],
      "metadata": {
        "id": "nlEaFSwkLe7N"
      }
    },
    {
      "cell_type": "code",
      "execution_count": 2,
      "metadata": {
        "colab": {
          "base_uri": "https://localhost:8080/"
        },
        "id": "pz8fn3rbLaqF",
        "outputId": "02ea81bc-1099-4913-d659-c2a3d6104987"
      },
      "outputs": [
        {
          "output_type": "stream",
          "name": "stdout",
          "text": [
            "(3, 4, 3) ➞ 2\n",
            "(1, 1, 1) ➞ 3\n",
            "(3, 4, 1) ➞ 0\n"
          ]
        }
      ],
      "source": [
        "def equal(a,b,c):\n",
        "    if a==b==c:\n",
        "        print(f'{a,b,c} ➞ {3}')\n",
        "    elif a==b or a==c:\n",
        "        print(f'{a,b,c} ➞ {2}')\n",
        "    else:\n",
        "        print(f'{a,b,c} ➞ {0}')\n",
        "\n",
        "equal(3, 4, 3)\n",
        "equal(1, 1, 1)\n",
        "equal(3, 4, 1)"
      ]
    },
    {
      "cell_type": "markdown",
      "source": [
        "**Question 2**\n",
        "\n",
        "Write a function that converts a dictionary into a list of keys-values tuples.\n",
        "\n",
        "Examples:\n",
        "\n",
        "dict_to_list({ \"D\": 1, \"B\": 2, \"C\": 3 }) ➞ [(\"B\", 2), (\"C\", 3), (\"D\", 1)]\n",
        "\n",
        "dict_to_list({ \"likes\": 2, \"dislikes\": 3, \"followers\": 10 }) ➞ [(\"dislikes\", 3), (\"followers\", 10), (\"likes\", 2)]\n",
        "\n",
        "Notes:\n",
        "Return the elements in the list in alphabetical order."
      ],
      "metadata": {
        "id": "R8mAdWJfMFea"
      }
    },
    {
      "cell_type": "code",
      "source": [
        "def dict_to_list(in_dict):\n",
        "    out_list = []\n",
        "    for keys,values in in_dict.items():\n",
        "        out_list.append((keys,values))\n",
        "    print(f'{in_dict} ➞ {out_list}')\n",
        "\n",
        "dict_to_list({\"D\": 1,\"B\": 2,\"C\": 3})\n",
        "dict_to_list({\"likes\": 2,\"dislikes\": 3,\"followers\": 10})"
      ],
      "metadata": {
        "colab": {
          "base_uri": "https://localhost:8080/"
        },
        "id": "9-HYvVJkMTsF",
        "outputId": "70a14fd9-d1be-4d2c-90e4-169bff240c40"
      },
      "execution_count": 3,
      "outputs": [
        {
          "output_type": "stream",
          "name": "stdout",
          "text": [
            "{'D': 1, 'B': 2, 'C': 3} ➞ [('D', 1), ('B', 2), ('C', 3)]\n",
            "{'likes': 2, 'dislikes': 3, 'followers': 10} ➞ [('likes', 2), ('dislikes', 3), ('followers', 10)]\n"
          ]
        }
      ]
    },
    {
      "cell_type": "markdown",
      "source": [
        "**Question 3**\n",
        "\n",
        "Write a function that creates a dictionary with each (key, value) pair being the (lower case, upper case) versions of a letter, respectively.\n",
        "\n",
        "Examples:\n",
        "\n",
        "mapping([\"p\", \"s\"]) ➞ { \"p\": \"P\", \"s\": \"S\" }\n",
        "\n",
        "mapping([\"a\", \"b\", \"c\"]) ➞ { \"a\": \"A\", \"b\": \"B\", \"c\": \"C\" }\n",
        "\n",
        "mapping([\"a\", \"v\", \"y\", \"z\"]) ➞ { \"a\": \"A\", \"v\": \"V\", \"y\": \"Y\", \"z\": \"Z\" }\n",
        "\n",
        "Notes:\n",
        "\n",
        "All of the letters in the input list will always be lowercase."
      ],
      "metadata": {
        "id": "Yk06H0FcMcGo"
      }
    },
    {
      "cell_type": "code",
      "source": [
        "def mapping(in_list):\n",
        "    out_dict = {}\n",
        "    for ele in in_list:\n",
        "        out_dict[ele] = ele.upper()\n",
        "    print(f'{in_list} ➞ {out_dict}')\n",
        "\n",
        "mapping([\"p\", \"s\"])\n",
        "mapping([\"a\", \"b\", \"c\"])\n",
        "mapping([\"a\", \"v\", \"y\", \"z\"])"
      ],
      "metadata": {
        "colab": {
          "base_uri": "https://localhost:8080/"
        },
        "id": "M_jymCFXMljb",
        "outputId": "2f4f692e-493a-43f4-8d30-14c8c6e0b39a"
      },
      "execution_count": 4,
      "outputs": [
        {
          "output_type": "stream",
          "name": "stdout",
          "text": [
            "['p', 's'] ➞ {'p': 'P', 's': 'S'}\n",
            "['a', 'b', 'c'] ➞ {'a': 'A', 'b': 'B', 'c': 'C'}\n",
            "['a', 'v', 'y', 'z'] ➞ {'a': 'A', 'v': 'V', 'y': 'Y', 'z': 'Z'}\n"
          ]
        }
      ]
    },
    {
      "cell_type": "markdown",
      "source": [
        "**Question 4**\n",
        "\n",
        "Write a function, that replaces all vowels in a string with a specified vowel.\n",
        "\n",
        "Examples:\n",
        "\n",
        "vow_replace(\"apples and bananas\", \"u\") ➞ \"upplus und bununus\"\n",
        "\n",
        "vow_replace(\"cheese casserole\", \"o\") ➞ \"chooso cossorolo\"\n",
        "\n",
        "vow_replace(\"stuffed jalapeno poppers\", \"e\") ➞ \"steffed jelepene peppers\"\n",
        "\n",
        "Notes:\n",
        "\n",
        "All words will be lowercase. Y is not considered a vowel."
      ],
      "metadata": {
        "id": "kxfoTULuMq4v"
      }
    },
    {
      "cell_type": "code",
      "source": [
        "def vow_replace(in_string,vow_char):\n",
        "    vowels = ['a','e','i','o','u']\n",
        "    out_string = ''\n",
        "    for ele in in_string:\n",
        "        if ele in vowels:\n",
        "            out_string += vow_char\n",
        "        else:\n",
        "            out_string += ele\n",
        "    print(f'{in_string} ➞ {out_string}')\n",
        "\n",
        "vow_replace(\"apples and bananas\", \"u\")\n",
        "vow_replace(\"cheese casserole\", \"o\")\n",
        "vow_replace(\"stuffed jalapeno poppers\", \"e\")"
      ],
      "metadata": {
        "colab": {
          "base_uri": "https://localhost:8080/"
        },
        "id": "YuPHiAdmMyRl",
        "outputId": "ddb26cf1-0fd5-4133-cec2-13e5a9bc3969"
      },
      "execution_count": 5,
      "outputs": [
        {
          "output_type": "stream",
          "name": "stdout",
          "text": [
            "apples and bananas ➞ upplus und bununus\n",
            "cheese casserole ➞ chooso cossorolo\n",
            "stuffed jalapeno poppers ➞ steffed jelepene peppers\n"
          ]
        }
      ]
    },
    {
      "cell_type": "markdown",
      "source": [
        "**Question 5**\n",
        "\n",
        "Create a function that takes a string as input and capitalizes a letter if its ASCII code is even and returns its lower case version if its ASCII code is odd.\n",
        "\n",
        "Examples:\n",
        "\n",
        "ascii_capitalize(\"to be or not to be!\") ➞ \"To Be oR NoT To Be!\"\n",
        "\n",
        "ascii_capitalize(\"THE LITTLE MERMAID\") ➞ \"THe LiTTLe meRmaiD\"\n",
        "\n",
        "ascii_capitalize(\"Oh what a beautiful morning.\") ➞ \"oH wHaT a BeauTiFuL moRNiNg.\""
      ],
      "metadata": {
        "id": "WDubfOjdM5lU"
      }
    },
    {
      "cell_type": "code",
      "source": [
        "def ascii_capitalize(in_string):\n",
        "    out_string = ''\n",
        "    for ele in in_string.lower():\n",
        "        if (ord(ele)%2 == 0):\n",
        "            out_string += ele.upper()\n",
        "        else:\n",
        "            out_string += ele\n",
        "    print(f'{in_string} ➞ {out_string}')\n",
        "\n",
        "ascii_capitalize(\"to be or not to be!\")\n",
        "ascii_capitalize(\"THE LITTLE MERMAID\")\n",
        "ascii_capitalize(\"Oh what a beautiful morning.\")"
      ],
      "metadata": {
        "colab": {
          "base_uri": "https://localhost:8080/"
        },
        "id": "3CxXzUKuNCBa",
        "outputId": "8db2e2b5-73bb-417c-e636-ab7c9573e3a8"
      },
      "execution_count": 6,
      "outputs": [
        {
          "output_type": "stream",
          "name": "stdout",
          "text": [
            "to be or not to be! ➞ To Be oR NoT To Be!\n",
            "THE LITTLE MERMAID ➞ THe LiTTLe meRmaiD\n",
            "Oh what a beautiful morning. ➞ oH wHaT a BeauTiFuL moRNiNg.\n"
          ]
        }
      ]
    }
  ]
}