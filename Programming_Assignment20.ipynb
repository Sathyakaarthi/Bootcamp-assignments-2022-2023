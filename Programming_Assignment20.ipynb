{
  "nbformat": 4,
  "nbformat_minor": 0,
  "metadata": {
    "colab": {
      "provenance": [],
      "authorship_tag": "ABX9TyO+N2MPuAgcJVHMLod8NuvZ",
      "include_colab_link": true
    },
    "kernelspec": {
      "name": "python3",
      "display_name": "Python 3"
    },
    "language_info": {
      "name": "python"
    }
  },
  "cells": [
    {
      "cell_type": "markdown",
      "metadata": {
        "id": "view-in-github",
        "colab_type": "text"
      },
      "source": [
        "<a href=\"https://colab.research.google.com/github/Sathyakaarthi/Bootcamp-assignments-2022-2023/blob/main/Programming_Assignment20.ipynb\" target=\"_parent\"><img src=\"https://colab.research.google.com/assets/colab-badge.svg\" alt=\"Open In Colab\"/></a>"
      ]
    },
    {
      "cell_type": "markdown",
      "source": [
        "**Question 1**\n",
        "\n",
        "Create a function that takes a list of strings and integers, and filters out the list so that it\n",
        "returns a list of integers only.\n",
        "\n",
        "Examples\n",
        "\n",
        "filter_list([1, 2, 3, &quot;a&quot;, &quot;b&quot;, 4]) ➞ [1, 2, 3, 4]\n",
        "\n",
        "filter_list([&quot;A&quot;, 0, &quot;Edabit&quot;, 1729, &quot;Python&quot;, &quot;1729&quot;]) ➞ [0, 1729]\n",
        "\n",
        "filter_list([&quot;Nothing&quot;, &quot;here&quot;]) ➞ []"
      ],
      "metadata": {
        "id": "dlYU5cfn63VP"
      }
    },
    {
      "cell_type": "code",
      "execution_count": 13,
      "metadata": {
        "colab": {
          "base_uri": "https://localhost:8080/"
        },
        "id": "TBOGnc3962dT",
        "outputId": "016437cd-ccbd-4ee6-fde9-ff4a313e3754"
      },
      "outputs": [
        {
          "output_type": "stream",
          "name": "stdout",
          "text": [
            "filter_list ([1, 2, 3, 'a', 'b', 4]) ➞ [1, 2, 3, 4]\n",
            "filter_list (['A', 0, 'Edabit', 1729, 'Python', '1729']) ➞ [0, 1729]\n",
            "filter_list (['Nothing', 'here']) ➞ []\n"
          ]
        }
      ],
      "source": [
        "def FilterList(in_list):\n",
        "    out_list = []\n",
        "    for ele in in_list:\n",
        "        if type(ele) == int:\n",
        "            out_list.append(ele)\n",
        "    print(f'filter_list ({in_list}) ➞ {out_list}')\n",
        "\n",
        "FilterList([1, 2, 3, \"a\", \"b\", 4])\n",
        "FilterList([\"A\", 0, \"Edabit\", 1729, \"Python\", \"1729\"])\n",
        "FilterList([\"Nothing\", \"here\"])\n",
        "\n"
      ]
    },
    {
      "cell_type": "markdown",
      "source": [
        "**Question 2**\n",
        "\n",
        "Given a list of numbers, create a function which returns the list but with each element&#39;s\n",
        "index in the list added to itself. This means you add 0 to the number at index 0, add 1 to the\n",
        "number at index 1, etc...\n",
        "\n",
        "Examples\n",
        "\n",
        "add_indexes([0, 0, 0, 0, 0]) ➞ [0, 1, 2, 3, 4]\n",
        "\n",
        "add_indexes([1, 2, 3, 4, 5]) ➞ [1, 3, 5, 7, 9]\n",
        "\n",
        "add_indexes([5, 4, 3, 2, 1]) ➞ [5, 5, 5, 5, 5]"
      ],
      "metadata": {
        "id": "mej7FU_F8TiZ"
      }
    },
    {
      "cell_type": "code",
      "source": [
        "def add_indexes(in_list):\n",
        "    out_list = []\n",
        "    for ele in range(len(in_list)):\n",
        "        out_list.append(ele+in_list[ele])\n",
        "    print(f'add_indexes ({in_list}) ➞ {out_list}')\n",
        "\n",
        "add_indexes([0, 0, 0, 0, 0])\n",
        "add_indexes([1, 2, 3, 4, 5])\n",
        "add_indexes([5, 4, 3, 2, 1])"
      ],
      "metadata": {
        "colab": {
          "base_uri": "https://localhost:8080/"
        },
        "id": "LTiPJuF78XXd",
        "outputId": "64c536a4-90f8-47fb-a802-8309a90c0c4f"
      },
      "execution_count": 12,
      "outputs": [
        {
          "output_type": "stream",
          "name": "stdout",
          "text": [
            "add_indexes ([0, 0, 0, 0, 0]) ➞ [0, 1, 2, 3, 4]\n",
            "add_indexes ([1, 2, 3, 4, 5]) ➞ [1, 3, 5, 7, 9]\n",
            "add_indexes ([5, 4, 3, 2, 1]) ➞ [5, 5, 5, 5, 5]\n"
          ]
        }
      ]
    },
    {
      "cell_type": "markdown",
      "source": [
        "**Question 3**\n",
        "\n",
        "Create a function that takes the height and radius of a cone as arguments and returns the\n",
        "volume of the cone rounded to the nearest hundredth. See the resources tab for the formula.\n",
        "\n",
        "\n",
        "Examples\n",
        "\n",
        "cone_volume(3, 2) ➞ 12.57\n",
        "\n",
        "cone_volume(15, 6) ➞ 565.49\n",
        "\n",
        "cone_volume(18, 0) ➞ 0"
      ],
      "metadata": {
        "id": "04_lY9tR8buL"
      }
    },
    {
      "cell_type": "code",
      "source": [
        "import math\n",
        "\n",
        "def cone_volume(height, radius):\n",
        "    output = ((math.pi)*pow(radius,2))*(height/3)\n",
        "    print(f'cone_volume{(height, radius)} ➞ {output:.2f}')\n",
        "\n",
        "cone_volume(3,2)\n",
        "cone_volume(15,6)\n",
        "cone_volume(18,0)"
      ],
      "metadata": {
        "colab": {
          "base_uri": "https://localhost:8080/"
        },
        "id": "KvaqnvYS8j0w",
        "outputId": "ebd2b18b-c36b-4137-a08f-8d5d016b54e8"
      },
      "execution_count": 7,
      "outputs": [
        {
          "output_type": "stream",
          "name": "stdout",
          "text": [
            "cone_volume(3, 2) ➞ 12.57\n",
            "cone_volume(15, 6) ➞ 565.49\n",
            "cone_volume(18, 0) ➞ 0.00\n"
          ]
        }
      ]
    },
    {
      "cell_type": "markdown",
      "source": [
        "**Question 4**\n",
        "\n",
        "This Triangular Number Sequence is generated from a pattern of dots that form a triangle.\n",
        "\n",
        "The first 5 numbers of the sequence, or dots, are:\n",
        "1, 3, 6, 10, 15\n",
        "\n",
        "This means that the first triangle has just one dot, the second one has three dots, the third one\n",
        "has 6 dots and so on.\n",
        "\n",
        "Write a function that gives the number of dots with its corresponding triangle number of the\n",
        "sequence.\n",
        "\n",
        "Examples\n",
        "\n",
        "triangle(1) ➞ 1\n",
        "\n",
        "triangle(6) ➞ 21\n",
        "\n",
        "triangle(215) ➞ 23220"
      ],
      "metadata": {
        "id": "csLBb_JU9DlZ"
      }
    },
    {
      "cell_type": "code",
      "source": [
        "def triangle(num):\n",
        "    print(f'Triangle ({(num)}) ➞ {int((num)*((num+1)/2))}')\n",
        "\n",
        "triangle(1)\n",
        "triangle(6)\n",
        "triangle(215)"
      ],
      "metadata": {
        "colab": {
          "base_uri": "https://localhost:8080/"
        },
        "id": "HPlanMTt9eAX",
        "outputId": "f9164d60-21e2-424b-c866-74ea9bfeac4f"
      },
      "execution_count": 10,
      "outputs": [
        {
          "output_type": "stream",
          "name": "stdout",
          "text": [
            "Triangle (1) ➞ 1\n",
            "Triangle (6) ➞ 21\n",
            "Triangle (215) ➞ 23220\n"
          ]
        }
      ]
    },
    {
      "cell_type": "markdown",
      "source": [
        "**Question 5**\n",
        "\n",
        "Create a function that takes a list of numbers between 1 and 10 (excluding one number) and\n",
        "returns the missing number.\n",
        "\n",
        "Examples\n",
        "\n",
        "missing_num([1, 2, 3, 4, 6, 7, 8, 9, 10]) ➞ 5\n",
        "\n",
        "missing_num([7, 2, 3, 6, 5, 9, 1, 4, 8]) ➞ 10\n",
        "\n",
        "missing_num([10, 5, 1, 2, 4, 6, 8, 3, 9]) ➞ 7"
      ],
      "metadata": {
        "id": "1XE1mYJ_9va7"
      }
    },
    {
      "cell_type": "code",
      "source": [
        "def missing_num(in_list):\n",
        "    for i in range(1,11):\n",
        "        if i not in in_list:\n",
        "            print(f'missing_num ({in_list}) ➞ {i}')\n",
        "\n",
        "missing_num([1, 2, 3, 4, 6, 7, 8, 9, 10])\n",
        "missing_num([7, 2, 3, 6, 5, 9, 1, 4, 8])\n",
        "missing_num([10, 5, 1, 2, 4, 6, 8, 3, 9])"
      ],
      "metadata": {
        "colab": {
          "base_uri": "https://localhost:8080/"
        },
        "id": "5h2uZexk91U3",
        "outputId": "488467a1-bc3f-427d-956b-0c530bf9ba41"
      },
      "execution_count": 11,
      "outputs": [
        {
          "output_type": "stream",
          "name": "stdout",
          "text": [
            "missing_num ([1, 2, 3, 4, 6, 7, 8, 9, 10]) ➞ 5\n",
            "missing_num ([7, 2, 3, 6, 5, 9, 1, 4, 8]) ➞ 10\n",
            "missing_num ([10, 5, 1, 2, 4, 6, 8, 3, 9]) ➞ 7\n"
          ]
        }
      ]
    }
  ]
}