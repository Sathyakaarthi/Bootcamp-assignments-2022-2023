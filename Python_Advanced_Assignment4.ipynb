{
  "nbformat": 4,
  "nbformat_minor": 0,
  "metadata": {
    "colab": {
      "provenance": [],
      "authorship_tag": "ABX9TyOCQttQmFbrpYft1vK1vERp",
      "include_colab_link": true
    },
    "kernelspec": {
      "name": "python3",
      "display_name": "Python 3"
    },
    "language_info": {
      "name": "python"
    }
  },
  "cells": [
    {
      "cell_type": "markdown",
      "metadata": {
        "id": "view-in-github",
        "colab_type": "text"
      },
      "source": [
        "<a href=\"https://colab.research.google.com/github/Sathyakaarthi/Bootcamp-assignments-2022-2023/blob/main/Python_Advanced_Assignment4.ipynb\" target=\"_parent\"><img src=\"https://colab.research.google.com/assets/colab-badge.svg\" alt=\"Open In Colab\"/></a>"
      ]
    },
    {
      "cell_type": "markdown",
      "source": [
        "**1. Which two operator overloading methods can you use in your classes to support iteration?**\n",
        "\n",
        "*Ans:*\n",
        "\n",
        "* The __iter__ returns the iterator object and is implicitly called at the start of loops.\n",
        "* The __next__ method returns the next value and is implicitly called at each loop increment."
      ],
      "metadata": {
        "id": "btOXtESsDsv-"
      }
    },
    {
      "cell_type": "code",
      "execution_count": 1,
      "metadata": {
        "colab": {
          "base_uri": "https://localhost:8080/"
        },
        "id": "j7MlCjgPDrzw",
        "outputId": "29a6a9f9-b472-4333-fc49-faf118d7af2d"
      },
      "outputs": [
        {
          "output_type": "stream",
          "name": "stdout",
          "text": [
            "5\n",
            "6\n",
            "7\n",
            "8\n",
            "9\n",
            "10\n",
            "11\n",
            "12\n",
            "13\n",
            "14\n",
            "15\n"
          ]
        }
      ],
      "source": [
        "class Counter:\n",
        "    def __init__(self, low, high):\n",
        "        self.current = low\n",
        "        self.high = high\n",
        "\n",
        "    def __iter__(self):\n",
        "        return self\n",
        "\n",
        "    def __next__(self):\n",
        "        if self.current > self.high:\n",
        "            raise StopIteration\n",
        "        else:\n",
        "            self.current += 1\n",
        "            return self.current - 1\n",
        "\n",
        "\n",
        "for num in Counter(5, 15):\n",
        "    print(num)"
      ]
    },
    {
      "cell_type": "markdown",
      "source": [
        "**2. In what contexts do the two operator overloading methods manage printing?**\n",
        "\n",
        "*Ans:*\n",
        "\n",
        " **_str _ ** and  **_ repr _**  are two operator overloading methods that manage printing.\n",
        "\n",
        " *  str() returns a user-friendly version of an object.\n",
        " * The repr() method returns a developer-friendly string representation of an object.\n",
        "\n",
        " * When you call str() on an object, it calls the special method __str__ of the object.\n",
        " *  And when you call repr() on an object, it calls the special method __repr__ of the object.\n",
        " * Also, when you call print() on an object, it calls __str__ method of the object. If __str__ is not implemented, the __repr__ is called as a fallback."
      ],
      "metadata": {
        "id": "aGJgs66yEMTH"
      }
    },
    {
      "cell_type": "code",
      "source": [
        "import datetime\n",
        "today = datetime.datetime.now()\n",
        "print(str(today))\n",
        "print(repr(today))"
      ],
      "metadata": {
        "colab": {
          "base_uri": "https://localhost:8080/"
        },
        "id": "39oBqRk4F1Pa",
        "outputId": "502afaba-2e68-4410-834b-d122edd5adf4"
      },
      "execution_count": 2,
      "outputs": [
        {
          "output_type": "stream",
          "name": "stdout",
          "text": [
            "2023-07-12 03:13:59.585075\n",
            "datetime.datetime(2023, 7, 12, 3, 13, 59, 585075)\n"
          ]
        }
      ]
    },
    {
      "cell_type": "markdown",
      "source": [
        "**3. In a class, how do you intercept slice operations?**\n",
        "\n",
        "*Ans:*\n",
        "\n",
        "* The **_ getitem _** method is used for accessing list items, array elements, dictionary entries etc. slice is a constructor in Python that creates slice object to represent set of indices that the range(start, stop, step) specifies.\n",
        "\n",
        "* **_ getitem _** method can be implement in a class, and the behavior of slicing can be defined inside it."
      ],
      "metadata": {
        "id": "fqXFdIJiGKUK"
      }
    },
    {
      "cell_type": "code",
      "source": [
        "sliced ='abcde'.__getitem__(slice(0, 2, 1))\n",
        "print(sliced)"
      ],
      "metadata": {
        "colab": {
          "base_uri": "https://localhost:8080/"
        },
        "id": "OwUG0EGpG1kZ",
        "outputId": "756cf58c-3356-4ffe-ec05-044c43da4744"
      },
      "execution_count": 3,
      "outputs": [
        {
          "output_type": "stream",
          "name": "stdout",
          "text": [
            "ab\n"
          ]
        }
      ]
    },
    {
      "cell_type": "markdown",
      "source": [
        "**4. In a class, how do you capture in-place addition?**\n",
        "\n",
        "*Ans:*\n",
        "\n",
        "To use the in-place addition operator += on custom objects, you need to define the _ iadd _() method that takes two arguments self and other, updates the first argument self with the result of the addition, and returns the updated object."
      ],
      "metadata": {
        "id": "9dQv6I4lG4nK"
      }
    },
    {
      "cell_type": "code",
      "source": [
        "class Data:\n",
        "    def __init__(self, data):\n",
        "        self.data = data\n",
        "    def __iadd__(self, other):\n",
        "        self.data += other.data\n",
        "        return self\n",
        "x = Data(40)\n",
        "y = Data(2)\n",
        "x += y\n",
        "print(x.data)"
      ],
      "metadata": {
        "colab": {
          "base_uri": "https://localhost:8080/"
        },
        "id": "0Gmc8RrGHaOM",
        "outputId": "4d6405f8-27cc-4e7a-82c7-b7fca7959129"
      },
      "execution_count": 4,
      "outputs": [
        {
          "output_type": "stream",
          "name": "stdout",
          "text": [
            "42\n"
          ]
        }
      ]
    },
    {
      "cell_type": "markdown",
      "source": [
        "**5. When is it appropriate to use operator overloading?**\n",
        "\n",
        "*Ans:*\n",
        "\n",
        "Operator overloading is used when we want to use an operator other than its normal operation to have different meaning according to the context required in user defined function."
      ],
      "metadata": {
        "id": "5X4BSiV_Hhpd"
      }
    }
  ]
}