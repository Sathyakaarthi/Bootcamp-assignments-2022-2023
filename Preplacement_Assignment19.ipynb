{
  "nbformat": 4,
  "nbformat_minor": 0,
  "metadata": {
    "colab": {
      "provenance": [],
      "authorship_tag": "ABX9TyPOnybZd7PpkjzapSRSeePQ",
      "include_colab_link": true
    },
    "kernelspec": {
      "name": "python3",
      "display_name": "Python 3"
    },
    "language_info": {
      "name": "python"
    }
  },
  "cells": [
    {
      "cell_type": "markdown",
      "metadata": {
        "id": "view-in-github",
        "colab_type": "text"
      },
      "source": [
        "<a href=\"https://colab.research.google.com/github/Sathyakaarthi/Bootcamp-assignments-2022-2023/blob/main/Preplacement_Assignment19.ipynb\" target=\"_parent\"><img src=\"https://colab.research.google.com/assets/colab-badge.svg\" alt=\"Open In Colab\"/></a>"
      ]
    },
    {
      "cell_type": "markdown",
      "source": [
        "**Question 1**"
      ],
      "metadata": {
        "id": "nSiWllE70U76"
      }
    },
    {
      "cell_type": "code",
      "source": [
        "class Node:\n",
        "\n",
        "    def __init__(self, x):\n",
        "\n",
        "        self.data = x\n",
        "        self.next = None\n",
        "\n",
        "def printList(node):\n",
        "\n",
        "    while (node != None):\n",
        "        print(node.data,\n",
        "              end=\" \")\n",
        "        node = node.next\n",
        "\n",
        "def mergeKLists(arr, last):\n",
        "    for i in range(1, last + 1):\n",
        "        while (True):\n",
        "            head_0 = arr[0]\n",
        "            head_i = arr[i]\n",
        "            if (head_i == None):\n",
        "                break\n",
        "            if (head_0.data >=\n",
        "                    head_i.data):\n",
        "                arr[i] = head_i.next\n",
        "                head_i.next = head_0\n",
        "                arr[0] = head_i\n",
        "            else:\n",
        "                while (head_0.next != None):\n",
        "                    if (head_0.next.data >=\n",
        "                            head_i.data):\n",
        "                        arr[i] = head_i.next\n",
        "                        head_i.next = head_0.next\n",
        "                        head_0.next = head_i\n",
        "                        break\n",
        "                    head_0 = head_0.next\n",
        "                    if (head_0.next == None):\n",
        "                        arr[i] = head_i.next\n",
        "                        head_i.next = None\n",
        "                        head_0.next = head_i\n",
        "                        head_0.next.next = None\n",
        "                        break\n",
        "    return arr[0]\n",
        "if __name__ == '__main__':\n",
        "\n",
        "    k = 3\n",
        "    n = 4\n",
        "    arr = [None for i in range(k)]\n",
        "\n",
        "    arr[0] = Node(1)\n",
        "    arr[0].next = Node(4)\n",
        "    arr[0].next.next = Node(5)\n",
        "\n",
        "    arr[1] = Node(1)\n",
        "    arr[1].next = Node(3)\n",
        "    arr[1].next.next = Node(4)\n",
        "\n",
        "    arr[2] = Node(2)\n",
        "    arr[2].next = Node(6)\n",
        "    head = mergeKLists(arr, k - 1)\n",
        "    printList(head)\n",
        ""
      ],
      "metadata": {
        "colab": {
          "base_uri": "https://localhost:8080/"
        },
        "id": "hVoXouaB1S5y",
        "outputId": "c640ed65-7d89-41c6-dc41-68ed67c4078a"
      },
      "execution_count": 7,
      "outputs": [
        {
          "output_type": "stream",
          "name": "stdout",
          "text": [
            "1 1 2 3 4 4 5 6 "
          ]
        }
      ]
    },
    {
      "cell_type": "markdown",
      "source": [
        "**Question 2**"
      ],
      "metadata": {
        "id": "PRbk5J3k2QhP"
      }
    },
    {
      "cell_type": "code",
      "source": [
        "def LowerArray(arr, countSmaller, n):\n",
        "    for i in range(n):\n",
        "        countSmaller[i] = 0\n",
        "\n",
        "    for i in range(n):\n",
        "        for j in range(i + 1, n):\n",
        "            if (arr[j] < arr[i]):\n",
        "                countSmaller[i] += 1\n",
        "\n",
        "def printArray(arr, size):\n",
        "    for i in range(size):\n",
        "        print(arr[i], end=\" \")\n",
        "    print()\n",
        "arr = [5,2,6,1]\n",
        "n = len(arr)\n",
        "low = [0]*n\n",
        "LowerArray(arr, low, n)\n",
        "printArray(low, n)\n",
        "\n",
        "arr = [-1]\n",
        "n = len(arr)\n",
        "low = [0]*n\n",
        "LowerArray(arr, low, n)\n",
        "printArray(low, n)\n",
        "\n",
        "arr = [-1,-1]\n",
        "n = len(arr)\n",
        "low = [0]*n\n",
        "LowerArray(arr, low, n)\n",
        "printArray(low, n)"
      ],
      "metadata": {
        "colab": {
          "base_uri": "https://localhost:8080/"
        },
        "id": "dQsoA3w_2kI8",
        "outputId": "d8af0f7d-be33-4b7f-e427-40fcfc3fc9ab"
      },
      "execution_count": 12,
      "outputs": [
        {
          "output_type": "stream",
          "name": "stdout",
          "text": [
            "2 1 1 0 \n",
            "0 \n",
            "0 0 \n"
          ]
        }
      ]
    },
    {
      "cell_type": "markdown",
      "source": [
        "**Question 3**"
      ],
      "metadata": {
        "id": "VeltlikW3HeE"
      }
    },
    {
      "cell_type": "code",
      "source": [
        "def printArray(arr, N):\n",
        "    for i in range(N):\n",
        "        print(arr[i], end = ' ')\n",
        "def sortArray(arr, N):\n",
        "\n",
        "    i = 0\n",
        "    while i < N:\n",
        "\n",
        "        if arr[i] == i + 1:\n",
        "            i += 1\n",
        "        else:\n",
        "\n",
        "            temp1 = arr[i]\n",
        "            temp2 = arr[arr[i] - 1]\n",
        "            arr[i] = temp2\n",
        "            arr[temp1 - 1] = temp1\n",
        "\n",
        "if __name__=='__main__':\n",
        "\n",
        "    arr = [5, 3, 2, 1, 4]\n",
        "    N = len(arr)\n",
        "    sortArray(arr, N)\n",
        "    printArray(arr, N)"
      ],
      "metadata": {
        "colab": {
          "base_uri": "https://localhost:8080/"
        },
        "id": "8kafgQ4_3KhL",
        "outputId": "85b5d5d9-750a-4696-c0eb-a020392ace0a"
      },
      "execution_count": 18,
      "outputs": [
        {
          "output_type": "stream",
          "name": "stdout",
          "text": [
            "1 2 3 4 5 "
          ]
        }
      ]
    },
    {
      "cell_type": "markdown",
      "source": [
        "**Question 4**"
      ],
      "metadata": {
        "id": "Wf9Jrv5S39ww"
      }
    },
    {
      "cell_type": "code",
      "source": [
        "def ZerosToEnd(arr, n):\n",
        "    count = 0\n",
        "\n",
        "    for i in range(n):\n",
        "        if arr[i] != 0:\n",
        "\n",
        "            arr[count] = arr[i]\n",
        "            count+=1\n",
        "    while count < n:\n",
        "        arr[count] = 0\n",
        "        count += 1\n",
        "arr = [1, 2, 0, 4, 3, 0, 5, 0]\n",
        "n = len(arr)\n",
        "ZerosToEnd(arr, n)\n",
        "print(\"Array after pushing all zeros to the end:\")\n",
        "print(arr)\n",
        "\n",
        "arr = [1, 2, 0, 0, 0, 3, 6]\n",
        "n = len(arr)\n",
        "ZerosToEnd(arr, n)\n",
        "print(\"Array after pushing all zeros to the end:\")\n",
        "print(arr)"
      ],
      "metadata": {
        "colab": {
          "base_uri": "https://localhost:8080/"
        },
        "id": "vIjuCa934Lty",
        "outputId": "5a14313b-7195-4877-ff95-aa10f8b43e31"
      },
      "execution_count": 23,
      "outputs": [
        {
          "output_type": "stream",
          "name": "stdout",
          "text": [
            "Array after pushing all zeros to the end:\n",
            "[1, 2, 4, 3, 5, 0, 0, 0]\n",
            "Array after pushing all zeros to the end:\n",
            "[1, 2, 3, 6, 0, 0, 0]\n"
          ]
        }
      ]
    },
    {
      "cell_type": "markdown",
      "source": [
        "**Question 5**"
      ],
      "metadata": {
        "id": "t8KXZA0i4_U-"
      }
    },
    {
      "cell_type": "code",
      "source": [
        "def rightRotate(arr, n, outOfPlace, cur):\n",
        "    temp = arr[cur]\n",
        "    for i in range(cur, outOfPlace, -1):\n",
        "        arr[i] = arr[i - 1]\n",
        "    arr[outOfPlace] = temp\n",
        "    return arr\n",
        "\n",
        "def rearrange(arr, n):\n",
        "    outOfPlace = -1\n",
        "    for index in range(n):\n",
        "        if(outOfPlace >= 0):\n",
        "            if((arr[index] >= 0 and arr[outOfPlace] < 0) or\n",
        "               (arr[index] < 0 and arr[outOfPlace] >= 0)):\n",
        "                arr = rightRotate(arr, n, outOfPlace, index)\n",
        "                if(index-outOfPlace > 2):\n",
        "                    outOfPlace += 2\n",
        "                else:\n",
        "                    outOfPlace = - 1\n",
        "\n",
        "        if(outOfPlace == -1):\n",
        "\n",
        "            # conditions for A[index] to\n",
        "            # be in out of place\n",
        "            if((arr[index] >= 0 and index % 2 == 0) or\n",
        "               (arr[index] < 0 and index % 2 == 1)):\n",
        "                outOfPlace = index\n",
        "    return arr\n",
        "\n",
        "arr = [1, 2, 3, -4, -1, 4]\n",
        "print(\"Given Array is:\")\n",
        "print(arr)\n",
        "print(\"Rearranged array is:\")\n",
        "print(rearrange(arr, len(arr)))\n",
        "\n",
        "arr = [-5, -2, 5, 2, 4, 7, 1, 8, 0, -8]\n",
        "print(\"Given Array is:\")\n",
        "print(arr)\n",
        "print(\"Rearranged array is:\")\n",
        "print(rearrange(arr, len(arr)))"
      ],
      "metadata": {
        "colab": {
          "base_uri": "https://localhost:8080/"
        },
        "id": "S-BRF2fJ5Tle",
        "outputId": "9541f48a-704b-4c2d-bbaf-12f4da8bb555"
      },
      "execution_count": 27,
      "outputs": [
        {
          "output_type": "stream",
          "name": "stdout",
          "text": [
            "Given Array is:\n",
            "[1, 2, 3, -4, -1, 4]\n",
            "Rearranged array is:\n",
            "[-4, 1, -1, 2, 3, 4]\n",
            "Given Array is:\n",
            "[-5, -2, 5, 2, 4, 7, 1, 8, 0, -8]\n",
            "Rearranged array is:\n",
            "[-5, 5, -2, 2, -8, 4, 7, 1, 8, 0]\n"
          ]
        }
      ]
    },
    {
      "cell_type": "markdown",
      "source": [
        "**Question 6**"
      ],
      "metadata": {
        "id": "ErVqwLkX6Els"
      }
    },
    {
      "cell_type": "code",
      "source": [
        "\n",
        "def mergeArrays(arr1, arr2, n1, n2, arr3):\n",
        "    i = 0\n",
        "    j = 0\n",
        "    k = 0\n",
        "\n",
        "    while(i < n1):\n",
        "        arr3[k] = arr1[i]\n",
        "        k += 1\n",
        "        i += 1\n",
        "    while(j < n2):\n",
        "        arr3[k] = arr2[j]\n",
        "        k += 1\n",
        "        j += 1\n",
        "    arr3.sort()\n",
        "if __name__ == '__main__':\n",
        "    arr1 = [1, 3, 5, 7]\n",
        "    n1 = len(arr1)\n",
        "    arr2 = [2, 4, 6, 8]\n",
        "    n2 = len(arr2)\n",
        "    arr3 = [0 for i in range(n1+n2)]\n",
        "    mergeArrays(arr1, arr2, n1, n2, arr3)\n",
        "    print (\"Array 1 : \",arr1)\n",
        "    print ( \"Array 2 : \",arr2)\n",
        "    print(\"Array after merging\")\n",
        "    for i in range(n1 + n2):\n",
        "        print(arr3[i], end=\" \")\n",
        "\n",
        "    arr1 = [5, 8, 9]\n",
        "    n1 = len(arr1)\n",
        "    arr2 = [4, 7, 8]\n",
        "    n2 = len(arr2)\n",
        "    arr3 = [0 for i in range(n1+n2)]\n",
        "    mergeArrays(arr1, arr2, n1, n2, arr3)\n",
        "    print (\"Array 1 : \",arr1)\n",
        "    print ( \"Array 2 : \",arr2)\n",
        "    print(\"Array after merging\")\n",
        "    for i in range(n1 + n2):\n",
        "        print(arr3[i], end=\" \")\n",
        ""
      ],
      "metadata": {
        "colab": {
          "base_uri": "https://localhost:8080/"
        },
        "id": "hcN_cY8e6HI2",
        "outputId": "69a8521d-49f6-494e-e707-bc04eb30cf25"
      },
      "execution_count": 37,
      "outputs": [
        {
          "output_type": "stream",
          "name": "stdout",
          "text": [
            "Array 1 :  [1, 3, 5, 7]\n",
            "Array 2 :  [2, 4, 6, 8]\n",
            "Array after merging\n",
            "1 2 3 4 5 6 7 8 Array 1 :  [5, 8, 9]\n",
            "Array 2 :  [4, 7, 8]\n",
            "Array after merging\n",
            "4 5 7 8 8 9 "
          ]
        }
      ]
    },
    {
      "cell_type": "markdown",
      "source": [
        "**Question 7**"
      ],
      "metadata": {
        "id": "KOIvc6DM7rjh"
      }
    },
    {
      "cell_type": "code",
      "source": [
        "def Intersection(lst1, lst2):\n",
        "    return set(lst1).intersection(lst2)\n",
        "\n",
        "lst1 = [1, 2, 2, 1]\n",
        "lst2 = [2, 2]\n",
        "print(Intersection(lst1, lst2))\n",
        "\n",
        "lst1 = [4,9,5]\n",
        "lst2 = [9,4,9,8,4]\n",
        "print(Intersection(lst1, lst2))"
      ],
      "metadata": {
        "colab": {
          "base_uri": "https://localhost:8080/"
        },
        "id": "zyAhAU8X9E7F",
        "outputId": "4aaf25d8-3eb4-4263-df74-e8d43a18f2c7"
      },
      "execution_count": 42,
      "outputs": [
        {
          "output_type": "stream",
          "name": "stdout",
          "text": [
            "{2}\n",
            "{9, 4}\n"
          ]
        }
      ]
    },
    {
      "cell_type": "markdown",
      "source": [
        "**Question 8**"
      ],
      "metadata": {
        "id": "EjAb-38k_Ihk"
      }
    },
    {
      "cell_type": "code",
      "source": [
        "def intersection(lst1, lst2):\n",
        "    lst3 = [value for value in lst1 if value in lst2]\n",
        "    return lst3\n",
        "lst1 = [1, 2, 2, 1]\n",
        "lst2 = [2, 2]\n",
        "print(intersection(lst1, lst2))\n",
        "\n",
        "lst1 = [4, 9, 5]\n",
        "lst2 = [9, 4, 9, 8, 4]\n",
        "print(intersection(lst1, lst2))"
      ],
      "metadata": {
        "colab": {
          "base_uri": "https://localhost:8080/"
        },
        "id": "o3axbiP2_Ko8",
        "outputId": "eb39fcd7-98f3-4335-98c9-930414bf1d09"
      },
      "execution_count": 46,
      "outputs": [
        {
          "output_type": "stream",
          "name": "stdout",
          "text": [
            "[2, 2]\n",
            "[4, 9]\n"
          ]
        }
      ]
    }
  ]
}