{
  "nbformat": 4,
  "nbformat_minor": 0,
  "metadata": {
    "colab": {
      "provenance": [],
      "authorship_tag": "ABX9TyMn8fCY7kUB74Ag2iQvJZq+",
      "include_colab_link": true
    },
    "kernelspec": {
      "name": "python3",
      "display_name": "Python 3"
    },
    "language_info": {
      "name": "python"
    }
  },
  "cells": [
    {
      "cell_type": "markdown",
      "metadata": {
        "id": "view-in-github",
        "colab_type": "text"
      },
      "source": [
        "<a href=\"https://colab.research.google.com/github/Sathyakaarthi/Bootcamp-assignments-2022-2023/blob/main/Python_Advanced_Assignment8.ipynb\" target=\"_parent\"><img src=\"https://colab.research.google.com/assets/colab-badge.svg\" alt=\"Open In Colab\"/></a>"
      ]
    },
    {
      "cell_type": "markdown",
      "source": [
        "**1. What are the two latest user-defined exception constraints in Python 3.X?**\n",
        "\n",
        "*Ans:*\n",
        "\n",
        "**raise** and **assert** are the two latest user-defined exception constraints in Python 3.X"
      ],
      "metadata": {
        "id": "Wcx8eAFNUFYv"
      }
    },
    {
      "cell_type": "markdown",
      "source": [
        "**2. How are class-based exceptions that have been raised matched to handlers?**\n",
        "\n",
        "*Ans:*\n",
        "\n",
        "Users can define custom exceptions by creating a new class. This exception class has to be derived, either directly or indirectly from built-in Exception class. This new exception class like other exceptions can be raised using the **raise** statement with an optional error message."
      ],
      "metadata": {
        "id": "uRG91OL-UYxR"
      }
    },
    {
      "cell_type": "markdown",
      "source": [
        "**3. Describe two methods for attaching context information to exception artefacts.**\n",
        "\n",
        "*Ans:*\n",
        "\n",
        "The **process()** method of LoggerAdapter is where the contextual information is added to the logging output. its passes the message and keyword arguments of the logging call, and it passes back modified versions of these to use in the call to the underlying logger.\n",
        "\n",
        "Other method that can be used is **exception()**, Logs a messgae with level ERROR on this logger. The arguments are interpreted as for **debug()**. Exception info is added to the logging message."
      ],
      "metadata": {
        "id": "NinRD4EGUykT"
      }
    },
    {
      "cell_type": "markdown",
      "source": [
        "**4. Describe two methods for specifying the text of an exception object&#39;s error message.**\n",
        "\n",
        "*Ans:*\n",
        "\n",
        "* **raise** and **assert** are two methods for specifying the text of an exception object's error message.\n",
        "\n",
        "* **raise** statement is used to trigger explicit exception, if certain condition is not as per requirement of programmer. It helps in triggering exception as per need of programmer and logic.\n",
        "\n",
        "* There are few assertions that programmer always want to be True to avoid code failure. This type of requirment is fullfilled by **assert** statement. This statement takes a Boolean Condition output of which if True, further program executes. if output of assert statement is False it raises an **Assertion Error**."
      ],
      "metadata": {
        "id": "652np2QIVLBg"
      }
    },
    {
      "cell_type": "markdown",
      "source": [
        "**5. Why do you no longer use string-based exceptions?**\n",
        "\n",
        "*Ans:*\n",
        "\n",
        "String-based Exceptions doesn't inherit from Exceptions. so plain exceptions catch all exceptions and not only system."
      ],
      "metadata": {
        "id": "C8eBemngVqsD"
      }
    },
    {
      "cell_type": "code",
      "execution_count": null,
      "metadata": {
        "id": "f5Bg2FS8UBDh"
      },
      "outputs": [],
      "source": []
    }
  ]
}