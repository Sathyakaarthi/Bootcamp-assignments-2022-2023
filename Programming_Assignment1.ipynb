{
  "nbformat": 4,
  "nbformat_minor": 0,
  "metadata": {
    "colab": {
      "provenance": [],
      "authorship_tag": "ABX9TyO+tTgz6KN2qhAkwk1PVhcf",
      "include_colab_link": true
    },
    "kernelspec": {
      "name": "python3",
      "display_name": "Python 3"
    },
    "language_info": {
      "name": "python"
    }
  },
  "cells": [
    {
      "cell_type": "markdown",
      "metadata": {
        "id": "view-in-github",
        "colab_type": "text"
      },
      "source": [
        "<a href=\"https://colab.research.google.com/github/Sathyakaarthi/Bootcamp-assignments-2022-2023/blob/main/Programming_Assignment1.ipynb\" target=\"_parent\"><img src=\"https://colab.research.google.com/assets/colab-badge.svg\" alt=\"Open In Colab\"/></a>"
      ]
    },
    {
      "cell_type": "markdown",
      "source": [
        "**1.Write a Python program to print 'Hello Python' ?**"
      ],
      "metadata": {
        "id": "NKvxFXSmfPeZ"
      }
    },
    {
      "cell_type": "code",
      "source": [
        "print (\"Hello Python\")"
      ],
      "metadata": {
        "colab": {
          "base_uri": "https://localhost:8080/"
        },
        "id": "ZKnQZiJmfSK4",
        "outputId": "36985d4d-1949-49ba-fb4d-2010d2bf7ffa"
      },
      "execution_count": 1,
      "outputs": [
        {
          "output_type": "stream",
          "name": "stdout",
          "text": [
            "Hello Python\n"
          ]
        }
      ]
    },
    {
      "cell_type": "markdown",
      "source": [
        "**2.Write a Python program to do arithmetic operations addition and division ?**"
      ],
      "metadata": {
        "id": "xv8xIZamiPMe"
      }
    },
    {
      "cell_type": "code",
      "source": [
        "a = int(input(\"Enter 1st number = \"))\n",
        "b = int(input(\"Enter the 2nd number = \"))\n",
        "c = a + b\n",
        "d = a / b\n",
        "print (\"The output of ({} + {}) = {}\".format(a,b,c))\n",
        "print (\"The output of ({} / {}) = {}\".format(a,b,d))\n",
        "\n",
        "\n"
      ],
      "metadata": {
        "colab": {
          "base_uri": "https://localhost:8080/"
        },
        "id": "L13JuV-Likhc",
        "outputId": "9b0ac989-b418-4f22-fb31-ac33646688ac"
      },
      "execution_count": 7,
      "outputs": [
        {
          "output_type": "stream",
          "name": "stdout",
          "text": [
            "Enter 1st number = 36\n",
            "Enter the 2nd number = 56\n",
            "The output of (36 + 56) = 92\n",
            "The output of (36 / 56) = 0.6428571428571429\n"
          ]
        }
      ]
    },
    {
      "cell_type": "markdown",
      "source": [
        "**3.Write a Python program to do arithmetic operations addition and division ?**"
      ],
      "metadata": {
        "id": "6eu9PzWwfdMt"
      }
    },
    {
      "cell_type": "code",
      "source": [
        "height = int(input(\"Enter the height of the triangle = \"))\n",
        "base = int(input(\"Enter the base of the triangle = \"))\n",
        "Area = (height*base)/2\n",
        "print (\"Area of triangle of base {} and height {} = {}\".format(base, height, Area))\n"
      ],
      "metadata": {
        "colab": {
          "base_uri": "https://localhost:8080/"
        },
        "id": "bTt8zsS4fhnr",
        "outputId": "d984715b-4297-4ba4-c289-5ae2a70b269f"
      },
      "execution_count": 3,
      "outputs": [
        {
          "output_type": "stream",
          "name": "stdout",
          "text": [
            "Enter the height of the triangle = 8\n",
            "Enter the base of the triangle = 10\n",
            "Area of triangle of base 10 and height 8 = 40.0\n"
          ]
        }
      ]
    },
    {
      "cell_type": "markdown",
      "source": [
        "**4.Write a Python program to swap two variables ?**"
      ],
      "metadata": {
        "id": "2b5613p8mdAo"
      }
    },
    {
      "cell_type": "code",
      "source": [
        "n1 = int(input(\"Enter the first number: \"))\n",
        "n2 = int(input(\"Enter the second number: \"))\n",
        "\n",
        "def swapNumbers(a,b):\n",
        "    temp = a\n",
        "    a = b\n",
        "    b = temp\n",
        "    return a,b\n",
        "\n",
        "print('Values before swapping : ',n1, n2)\n",
        "n1, n2 = swapNumbers(n1, n2)\n",
        "print('Values after swapping :  ',n1, n2)"
      ],
      "metadata": {
        "colab": {
          "base_uri": "https://localhost:8080/"
        },
        "id": "0LYhtC5-mkqz",
        "outputId": "ecc290bf-61f0-4bcd-97c0-3ef3555afe5d"
      },
      "execution_count": 1,
      "outputs": [
        {
          "output_type": "stream",
          "name": "stdout",
          "text": [
            "Enter the first number: 23\n",
            "Enter the second number: 45\n",
            "Values before swapping :  23 45\n",
            "Values after swapping :   45 23\n"
          ]
        }
      ]
    },
    {
      "cell_type": "markdown",
      "source": [
        "**5.Write a Python program to generate a random number ?**"
      ],
      "metadata": {
        "id": "OAdD0fkioyAV"
      }
    },
    {
      "cell_type": "code",
      "source": [
        "from random import randint\n",
        "\n",
        "def generateRandomNumber(start=0, end=100000):\n",
        "    print('Random number :',randint(start,end))\n",
        "\n",
        "\n",
        "generateRandomNumber() # random numbers without arguments    \n",
        "\n",
        "  \n",
        "generateRandomNumber(0,100) # random numbers with arguments    "
      ],
      "metadata": {
        "colab": {
          "base_uri": "https://localhost:8080/"
        },
        "id": "lRAwwlPiozmz",
        "outputId": "7836c7c5-94fe-4796-b5b2-2dce9ed15c68"
      },
      "execution_count": 2,
      "outputs": [
        {
          "output_type": "stream",
          "name": "stdout",
          "text": [
            "Random number : 32044\n",
            "Random number : 94\n"
          ]
        }
      ]
    },
    {
      "cell_type": "markdown",
      "source": [],
      "metadata": {
        "id": "9QlNLSRCpwke"
      }
    }
  ]
}