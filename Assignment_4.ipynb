{
  "nbformat": 4,
  "nbformat_minor": 0,
  "metadata": {
    "colab": {
      "provenance": [],
      "authorship_tag": "ABX9TyNFJvNPp1eKKHAqeep07c/A",
      "include_colab_link": true
    },
    "kernelspec": {
      "name": "python3",
      "display_name": "Python 3"
    },
    "language_info": {
      "name": "python"
    }
  },
  "cells": [
    {
      "cell_type": "markdown",
      "metadata": {
        "id": "view-in-github",
        "colab_type": "text"
      },
      "source": [
        "<a href=\"https://colab.research.google.com/github/Sathyakaarthi/Bootcamp-assignments-2022-2023/blob/main/Assignment_4.ipynb\" target=\"_parent\"><img src=\"https://colab.research.google.com/assets/colab-badge.svg\" alt=\"Open In Colab\"/></a>"
      ]
    },
    {
      "cell_type": "markdown",
      "source": [
        "**1. What exactly is [ ]?**\n",
        "\n",
        "\n",
        "\n",
        "```\n",
        "# This is formatted as code\n",
        "```\n",
        "\n",
        "*Solution:*\n",
        "\n",
        "[ ] is the empty list value, which is a list value that contains no items."
      ],
      "metadata": {
        "id": "xLKk6TKD5nwn"
      }
    },
    {
      "cell_type": "markdown",
      "source": [
        "**2. In a list of values stored in a variable called spam, how would you assign the value 'hello' as the third value? (Assume [2, 4, 6, 8, 10] are in spam.)**\n",
        "\n",
        "*Solution:*\n",
        "\n",
        "spam[2] = 'hello'"
      ],
      "metadata": {
        "id": "-L-54DHM6ae7"
      }
    },
    {
      "cell_type": "code",
      "source": [
        "spam = [2, 4, 6, 8, 10]\n",
        "spam[2] = 'hello' \n",
        "spam"
      ],
      "metadata": {
        "colab": {
          "base_uri": "https://localhost:8080/"
        },
        "id": "v-p_16lW6uz2",
        "outputId": "c249c77a-f42e-4d04-bdb6-ae9054e9ba97"
      },
      "execution_count": 1,
      "outputs": [
        {
          "output_type": "execute_result",
          "data": {
            "text/plain": [
              "[2, 4, 'hello', 8, 10]"
            ]
          },
          "metadata": {},
          "execution_count": 1
        }
      ]
    },
    {
      "cell_type": "markdown",
      "source": [
        "**Let's pretend the spam includes the list ['a', 'b', 'c', 'd'] for the next three queries.**\n",
        "\n"
      ],
      "metadata": {
        "id": "SW2smFr97PDV"
      }
    },
    {
      "cell_type": "markdown",
      "source": [
        "**3. What is the value of spam[int(int('3' * 2) / 11)]?**\n",
        "\n",
        "*Solution:*"
      ],
      "metadata": {
        "id": "GarExPT275-E"
      }
    },
    {
      "cell_type": "code",
      "source": [
        "spam = ['a', 'b', 'c', 'd']\n",
        "spam[int(int('3' * 2) / 11)]"
      ],
      "metadata": {
        "colab": {
          "base_uri": "https://localhost:8080/",
          "height": 36
        },
        "id": "6Hpl-UM475Go",
        "outputId": "a9068119-4dfc-4547-98d4-a07ce69f85db"
      },
      "execution_count": 3,
      "outputs": [
        {
          "output_type": "execute_result",
          "data": {
            "text/plain": [
              "'d'"
            ],
            "application/vnd.google.colaboratory.intrinsic+json": {
              "type": "string"
            }
          },
          "metadata": {},
          "execution_count": 3
        }
      ]
    },
    {
      "cell_type": "markdown",
      "source": [
        "**4. What is the value of spam[-1]?**\n",
        "\n",
        "*Solution:*"
      ],
      "metadata": {
        "id": "qBoJCXEt8l3X"
      }
    },
    {
      "cell_type": "code",
      "source": [
        "spam = ['a', 'b', 'c', 'd']\n",
        "spam[-1]\n"
      ],
      "metadata": {
        "colab": {
          "base_uri": "https://localhost:8080/",
          "height": 36
        },
        "id": "eHSh0scq8tsY",
        "outputId": "e27cf96c-cc68-416d-ca96-4f766b2b08d0"
      },
      "execution_count": 4,
      "outputs": [
        {
          "output_type": "execute_result",
          "data": {
            "text/plain": [
              "'d'"
            ],
            "application/vnd.google.colaboratory.intrinsic+json": {
              "type": "string"
            }
          },
          "metadata": {},
          "execution_count": 4
        }
      ]
    },
    {
      "cell_type": "markdown",
      "source": [
        "**What is the value of spam[:2]?**\n",
        "\n",
        "*Solution:*"
      ],
      "metadata": {
        "id": "nH9s8tWz86VA"
      }
    },
    {
      "cell_type": "code",
      "source": [
        "spam = ['a', 'b', 'c', 'd']\n",
        "spam[:2]"
      ],
      "metadata": {
        "colab": {
          "base_uri": "https://localhost:8080/"
        },
        "id": "SBvqFBAQ8_Wa",
        "outputId": "5ae9353a-8d9b-4dac-ace6-c2d062cbca17"
      },
      "execution_count": 5,
      "outputs": [
        {
          "output_type": "execute_result",
          "data": {
            "text/plain": [
              "['a', 'b']"
            ]
          },
          "metadata": {},
          "execution_count": 5
        }
      ]
    },
    {
      "cell_type": "markdown",
      "source": [
        "**Let's pretend bacon has the list [3.14, 'cat', 11, 'cat', True] for the next three questions.**"
      ],
      "metadata": {
        "id": "j7KAiagR9JHl"
      }
    },
    {
      "cell_type": "markdown",
      "source": [
        "**6. What is the value of bacon.index('cat')?**\n",
        "\n",
        "*Solution*"
      ],
      "metadata": {
        "id": "eXY1BGRE9MlH"
      }
    },
    {
      "cell_type": "code",
      "source": [
        "bacon = [3.14, 'cat', 11, 'cat', True]\n",
        "bacon.index('cat')"
      ],
      "metadata": {
        "colab": {
          "base_uri": "https://localhost:8080/"
        },
        "id": "cufODNX49U1C",
        "outputId": "024ab5c9-2c17-4a1b-c909-a6cd8bd24458"
      },
      "execution_count": 6,
      "outputs": [
        {
          "output_type": "execute_result",
          "data": {
            "text/plain": [
              "1"
            ]
          },
          "metadata": {},
          "execution_count": 6
        }
      ]
    },
    {
      "cell_type": "markdown",
      "source": [
        "**7. What does bacon.append(99) change the look of the list value in bacon?**\n",
        "\n",
        "*Solution*\n"
      ],
      "metadata": {
        "id": "AkkKLLVC9ilw"
      }
    },
    {
      "cell_type": "code",
      "source": [
        "bacon = [3.14, 'cat', 11, 'cat', True]\n",
        "bacon.append(99)\n",
        "bacon"
      ],
      "metadata": {
        "colab": {
          "base_uri": "https://localhost:8080/"
        },
        "id": "3d2N7Q6p9_2D",
        "outputId": "a8b3a94a-5e43-49e6-bddb-1a5a2843980a"
      },
      "execution_count": 10,
      "outputs": [
        {
          "output_type": "execute_result",
          "data": {
            "text/plain": [
              "[3.14, 'cat', 11, 'cat', True, 99]"
            ]
          },
          "metadata": {},
          "execution_count": 10
        }
      ]
    },
    {
      "cell_type": "markdown",
      "source": [
        "**8. How does bacon.remove('cat') change the look of the list meaning in bacon?**\n",
        "\n",
        "*Solution*"
      ],
      "metadata": {
        "id": "E9pkn6aC-JIp"
      }
    },
    {
      "cell_type": "code",
      "source": [
        "bacon = [3.14, 'cat', 11, 'cat', True]\n",
        "bacon.remove('cat') \n",
        "bacon\n",
        "\n"
      ],
      "metadata": {
        "colab": {
          "base_uri": "https://localhost:8080/"
        },
        "id": "4Zq6-g70-OaE",
        "outputId": "bf701d78-a9ff-4b67-e71e-218805669571"
      },
      "execution_count": 13,
      "outputs": [
        {
          "output_type": "execute_result",
          "data": {
            "text/plain": [
              "[3.14, 11, 'cat', True]"
            ]
          },
          "metadata": {},
          "execution_count": 13
        }
      ]
    },
    {
      "cell_type": "markdown",
      "source": [
        "**9. What are the list concatenation and list replication operators?**\n",
        "\n",
        "*Solution*\n",
        "\n",
        "* The operator for list concatenation is +\n",
        "\n",
        "* The operator for replication is *."
      ],
      "metadata": {
        "id": "kFJr32F2qdID"
      }
    },
    {
      "cell_type": "markdown",
      "source": [
        "**10. What is difference between the list methods append() and insert()?**\n",
        "\n",
        "*Solution*\n",
        "\n",
        "* **append()** will add values only to the end of a list \n",
        "* **insert()** can add them anywhere in the list.\n",
        "\n"
      ],
      "metadata": {
        "id": "gPz41X9RrO3F"
      }
    },
    {
      "cell_type": "markdown",
      "source": [
        "**11. What are the two methods for removing items from a list?**\n",
        "\n",
        "*Solution*\n",
        "\n",
        "The **del** statement and the **remove()** list method are two methods to remove values from a list.\n",
        "\n"
      ],
      "metadata": {
        "id": "_Qkv15vPrqSu"
      }
    },
    {
      "cell_type": "markdown",
      "source": [
        "**12. Describe how list values and string values are identical.**\n",
        "\n",
        "*Solution*\n",
        "\n",
        "Both lists and strings can be passed to len(), have indexes and slices, be used in for loops, be concatenated or replicated, and be used with the in and not in operators."
      ],
      "metadata": {
        "id": "XfgvpGxf4PTU"
      }
    },
    {
      "cell_type": "markdown",
      "source": [
        "**13. What's the difference between tuples and lists?**\n",
        "\n",
        "*Solution*\n",
        "\n",
        "***Lists***\n",
        "\n",
        "* Lists are mutable; they can have values added, removed, or changed.\n",
        "* Lists use the square brackets [ ]\n",
        "\n",
        "***Tuples***\n",
        "\n",
        "* Tuples are immutable; they cannot be changed at all. \n",
        "* Tuples are written using parentheses( )"
      ],
      "metadata": {
        "id": "KgwO8SUb4g4a"
      }
    },
    {
      "cell_type": "markdown",
      "source": [
        "**14. How do you type a tuple value that only contains the integer 42?**\n",
        "\n",
        "*Solution*\n"
      ],
      "metadata": {
        "id": "XUIkSix76GsK"
      }
    },
    {
      "cell_type": "code",
      "source": [
        "(42)"
      ],
      "metadata": {
        "colab": {
          "base_uri": "https://localhost:8080/"
        },
        "id": "HbcZoiHA6Tku",
        "outputId": "fe587bb0-649e-43ab-cbab-cb33ef432481"
      },
      "execution_count": 2,
      "outputs": [
        {
          "output_type": "execute_result",
          "data": {
            "text/plain": [
              "42"
            ]
          },
          "metadata": {},
          "execution_count": 2
        }
      ]
    },
    {
      "cell_type": "markdown",
      "source": [
        "**15. How do you get a list value's tuple form? How do you get a tuple value's list form?**\n",
        "\n",
        "*Solution*\n",
        "\n",
        "The tuple() and list() functions, respectively"
      ],
      "metadata": {
        "id": "G_w4Cc4n6ks5"
      }
    },
    {
      "cell_type": "markdown",
      "source": [
        "**16. Variables that \"contain\" list values are not necessarily lists themselves. Instead, what do they contain**\n",
        "\n",
        "*Solution*\n",
        "\n",
        "They contain references to list values rather than list values themselves."
      ],
      "metadata": {
        "id": "U7ypn0k96161"
      }
    },
    {
      "cell_type": "markdown",
      "source": [
        "**17. How do you distinguish between copy.copy() and copy.deepcopy()?**\n",
        "\n",
        "*Solution*\n",
        "\n",
        "The **copy.copy()** function will do a shallow copy of a list, while the **copy.deepcopy()** function will do a deep copy of a list. That is, only copy.deepcopy() will duplicate any lists inside the list."
      ],
      "metadata": {
        "id": "qChc5LQ87Vbi"
      }
    }
  ]
}