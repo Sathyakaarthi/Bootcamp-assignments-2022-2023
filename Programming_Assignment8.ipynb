{
  "nbformat": 4,
  "nbformat_minor": 0,
  "metadata": {
    "colab": {
      "provenance": [],
      "authorship_tag": "ABX9TyN/NHr/E/B6aZ+7VJj5Z5FZ",
      "include_colab_link": true
    },
    "kernelspec": {
      "name": "python3",
      "display_name": "Python 3"
    },
    "language_info": {
      "name": "python"
    }
  },
  "cells": [
    {
      "cell_type": "markdown",
      "metadata": {
        "id": "view-in-github",
        "colab_type": "text"
      },
      "source": [
        "<a href=\"https://colab.research.google.com/github/Sathyakaarthi/Bootcamp-assignments-2022-2023/blob/main/Programming_Assignment8.ipynb\" target=\"_parent\"><img src=\"https://colab.research.google.com/assets/colab-badge.svg\" alt=\"Open In Colab\"/></a>"
      ]
    },
    {
      "cell_type": "markdown",
      "source": [
        "**1. Write a Python Program to Add two Matrices?**"
      ],
      "metadata": {
        "id": "c3-P1sunZujT"
      }
    },
    {
      "cell_type": "code",
      "source": [
        "X = [[14,6,3],\n",
        "    [4 ,8,3],\n",
        "    [7 ,12,9]]\n",
        "\n",
        "Y = [[5,8,1],\n",
        "    [6,5,7],\n",
        "    [3,5,8]]\n",
        "\n",
        "result = [[0,0,0],\n",
        "         [0,0,0],\n",
        "         [0,0,0]]\n",
        "print (\"Matrix after adding 2 matrices:\")\n",
        "for i in range(len(X)):\n",
        "   for j in range(len(X[0])):\n",
        "       result[i][j] = X[i][j] + Y[i][j]\n",
        "\n",
        "for z in result:\n",
        "   print(z)"
      ],
      "metadata": {
        "colab": {
          "base_uri": "https://localhost:8080/"
        },
        "id": "RAUShw2wZx3C",
        "outputId": "93edbd49-302e-41cc-b4c7-b100827ea02b"
      },
      "execution_count": 4,
      "outputs": [
        {
          "output_type": "stream",
          "name": "stdout",
          "text": [
            "Matrix after adding 2 matrices:\n",
            "[19, 14, 4]\n",
            "[10, 13, 10]\n",
            "[10, 17, 17]\n"
          ]
        }
      ]
    },
    {
      "cell_type": "markdown",
      "source": [
        "**2. Write a Python Program to Multiply two Matrices?**"
      ],
      "metadata": {
        "id": "Srk8WbdrapgC"
      }
    },
    {
      "cell_type": "code",
      "source": [
        "X = [[14,6,3],\n",
        "    [4 ,8,3],\n",
        "    [7 ,12,9]]\n",
        "\n",
        "Y = [[5,8,1],\n",
        "    [6,5,7],\n",
        "    [3,5,8]]\n",
        "\n",
        "result = [[0,0,0],\n",
        "         [0,0,0],\n",
        "         [0,0,0]]\n",
        "print (\"Matrix after multiplying 2 matrices:\")\n",
        "\n",
        "for i in range(len(X)):\n",
        "   for j in range(len(X[0])):\n",
        "       result[i][j] = X[i][j] * Y[i][j]\n",
        "\n",
        "for r in result:\n",
        "   print(r)"
      ],
      "metadata": {
        "colab": {
          "base_uri": "https://localhost:8080/"
        },
        "id": "YvTIxWCRatSu",
        "outputId": "9178a607-b4e0-4ac0-8a35-baa21fe08ecf"
      },
      "execution_count": 6,
      "outputs": [
        {
          "output_type": "stream",
          "name": "stdout",
          "text": [
            "Matrix after multiplying 2 matrices:\n",
            "[70, 48, 3]\n",
            "[24, 40, 21]\n",
            "[21, 60, 72]\n"
          ]
        }
      ]
    },
    {
      "cell_type": "markdown",
      "source": [
        "**3. Write a Python Program to transpose a Matrix?**"
      ],
      "metadata": {
        "id": "5jyyRNDcbdfT"
      }
    },
    {
      "cell_type": "code",
      "source": [
        "matrix = [ [2,3],[4,5],[7,8]]\n",
        "\n",
        "for n in matrix:\n",
        "    print(n)\n",
        "\n",
        "transpose = [ [matrix[j][i] for j in range(len(matrix))] for i in range(len(matrix[0]))]\n",
        "print(\"Matrix after transpose: \")\n",
        "\n",
        "for x in transpose:\n",
        "    print(x)"
      ],
      "metadata": {
        "colab": {
          "base_uri": "https://localhost:8080/"
        },
        "id": "SeyXkStnbfj8",
        "outputId": "ca216b18-6d16-4b5a-be98-49a8a3f42608"
      },
      "execution_count": 7,
      "outputs": [
        {
          "output_type": "stream",
          "name": "stdout",
          "text": [
            "[2, 3]\n",
            "[4, 5]\n",
            "[7, 8]\n",
            "Matrix after transpose: \n",
            "[2, 4, 7]\n",
            "[3, 5, 8]\n"
          ]
        }
      ]
    },
    {
      "cell_type": "markdown",
      "source": [
        "**4. Write a Python Program to sort Words in an Alphabatical Order?**"
      ],
      "metadata": {
        "id": "nvplRKC2cdX5"
      }
    },
    {
      "cell_type": "code",
      "source": [
        "s = input(\"Enter a string: \")\n",
        "words = s.split()\n",
        "words.sort()\n",
        "print (\"Words after sorting in ascending order:\")\n",
        "for w in words:\n",
        "   print(w)"
      ],
      "metadata": {
        "colab": {
          "base_uri": "https://localhost:8080/"
        },
        "id": "Bj_-4QoNcg6N",
        "outputId": "4e394c39-e0f9-4457-e269-655a341c02e2"
      },
      "execution_count": 8,
      "outputs": [
        {
          "output_type": "stream",
          "name": "stdout",
          "text": [
            "Enter a string: this is my eighth programming assignment\n",
            "Words after sorting in ascending order:\n",
            "assignment\n",
            "eighth\n",
            "is\n",
            "my\n",
            "programming\n",
            "this\n"
          ]
        }
      ]
    },
    {
      "cell_type": "markdown",
      "source": [
        "**5. Write a Python Program to remove Punctuations From a String?**"
      ],
      "metadata": {
        "id": "ZDjQevTHdbdD"
      }
    },
    {
      "cell_type": "code",
      "source": [
        "\n",
        "punctuations = '''!()-[]{};:'\"\\,<>./?@#$%^&*_~'''\n",
        "\n",
        "str = input(\"Enter a string: \")\n",
        "\n",
        "no_punc = \"\"\n",
        "print(\"After removing punctuations:\")\n",
        "for char in str:\n",
        "   if char not in punctuations:\n",
        "       no_punc = no_punc + char\n",
        "\n",
        "print(no_punc)"
      ],
      "metadata": {
        "colab": {
          "base_uri": "https://localhost:8080/"
        },
        "id": "YS7qO2rDdf5d",
        "outputId": "5e27c849-478c-41b8-e54b-bd482c460a07"
      },
      "execution_count": 11,
      "outputs": [
        {
          "output_type": "stream",
          "name": "stdout",
          "text": [
            "Enter a string: She said, \"I'm doing my assignments\".\n",
            "After removing punctuations:\n",
            "She said Im doing my assignments\n"
          ]
        }
      ]
    },
    {
      "cell_type": "code",
      "execution_count": null,
      "metadata": {
        "id": "iwG2Gd7jZpbw"
      },
      "outputs": [],
      "source": []
    }
  ]
}