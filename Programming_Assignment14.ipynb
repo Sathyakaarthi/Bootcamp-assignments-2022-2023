{
  "nbformat": 4,
  "nbformat_minor": 0,
  "metadata": {
    "colab": {
      "provenance": [],
      "authorship_tag": "ABX9TyNHFMhDS4KBOGPL8EX4mVuk",
      "include_colab_link": true
    },
    "kernelspec": {
      "name": "python3",
      "display_name": "Python 3"
    },
    "language_info": {
      "name": "python"
    }
  },
  "cells": [
    {
      "cell_type": "markdown",
      "metadata": {
        "id": "view-in-github",
        "colab_type": "text"
      },
      "source": [
        "<a href=\"https://colab.research.google.com/github/Sathyakaarthi/Bootcamp-assignments-2022-2023/blob/main/Programming_Assignment14.ipynb\" target=\"_parent\"><img src=\"https://colab.research.google.com/assets/colab-badge.svg\" alt=\"Open In Colab\"/></a>"
      ]
    },
    {
      "cell_type": "markdown",
      "source": [
        "**Question 1**\n",
        "\n",
        "Define a class with a generator which can iterate the numbers, which are divisible by 7, between a given range 0 and n."
      ],
      "metadata": {
        "id": "eE3aiVj0jAvP"
      }
    },
    {
      "cell_type": "code",
      "source": [
        "def gen(n):\n",
        "\n",
        "  for i in range(0,n):\n",
        "    if i % 7 == 0:\n",
        "      print(i)\n",
        "n = int(input(\"Enter the value of n : \"))\n",
        "gen(n)"
      ],
      "metadata": {
        "colab": {
          "base_uri": "https://localhost:8080/"
        },
        "id": "e2vQihzTjctA",
        "outputId": "803853a3-1378-49c7-d19c-4767c2722ac4"
      },
      "execution_count": 3,
      "outputs": [
        {
          "output_type": "stream",
          "name": "stdout",
          "text": [
            "Enter the value of n : 56\n",
            "0\n",
            "7\n",
            "14\n",
            "21\n",
            "28\n",
            "35\n",
            "42\n",
            "49\n"
          ]
        }
      ]
    },
    {
      "cell_type": "markdown",
      "source": [
        "**Question 2**\n",
        "\n",
        "Write a program to compute the frequency of the words from the input. The output should output after sorting the key alphanumerically.\n",
        "\n",
        "Suppose the following input is supplied to the program:\n",
        "\n",
        "New to Python or choosing between Python 2 and Python 3? Read Python 2 or Python 3.\n",
        "Then, the output should be:\n",
        "\n",
        "2:2 3.:1 3?:1 New:1 Python:5 Read:1 and:1 between:1 choosing:1 or:2 to:1"
      ],
      "metadata": {
        "id": "FlOk1r_Zj4pD"
      }
    },
    {
      "cell_type": "code",
      "source": [
        "def CheckFrequency():\n",
        "    in_string = input(\"Enter the Input String: \")\n",
        "    frequency = {}\n",
        "    for ele in in_string.split(\" \"):\n",
        "        if(frequency.get(ele) == None):\n",
        "            frequency[ele] = 1\n",
        "        else:\n",
        "            frequency[ele] += 1\n",
        "    for ele in sorted(frequency):\n",
        "        print(f'{ele}:{frequency[ele]}',end=\" \")\n",
        "CheckFrequency()"
      ],
      "metadata": {
        "colab": {
          "base_uri": "https://localhost:8080/"
        },
        "id": "PAU7eAIakIOW",
        "outputId": "ce3a6bdf-b946-4572-d63f-eec47b6a2b8b"
      },
      "execution_count": 5,
      "outputs": [
        {
          "output_type": "stream",
          "name": "stdout",
          "text": [
            "Enter the Input String: New to Python or choosing between Python 2 and Python 3? Read Python 2 or Python 3\n",
            "2:2 3:1 3?:1 New:1 Python:5 Read:1 and:1 between:1 choosing:1 or:2 to:1 "
          ]
        }
      ]
    },
    {
      "cell_type": "markdown",
      "source": [
        "**Question 3**\n",
        "\n",
        "Define a class Person and its two child classes: Male and Female. All classes have a method &quot;getGender&quot; which can print &quot;Male&quot; for Male class and &quot;Female&quot; for Female\n",
        "class."
      ],
      "metadata": {
        "id": "EZk_JLw8lBOU"
      }
    },
    {
      "cell_type": "code",
      "source": [
        "\n",
        "class Person(object):\n",
        "    def getGender( self ):\n",
        "        return \"None\"\n",
        "\n",
        "class Male( Person ):\n",
        "    def getGender( self ):\n",
        "        return \"Male\"\n",
        "\n",
        "class Female( Person ):\n",
        "    def getGender( self ):\n",
        "        return \"Female\"\n",
        "\n",
        "ob_male = Male()\n",
        "ob_female= Female()\n",
        "print(ob_male.getGender())\n",
        "print(ob_female.getGender())"
      ],
      "metadata": {
        "colab": {
          "base_uri": "https://localhost:8080/"
        },
        "id": "sF044eYwlK4H",
        "outputId": "ce3399aa-be14-4baf-bcfb-e2abe9135281"
      },
      "execution_count": 6,
      "outputs": [
        {
          "output_type": "stream",
          "name": "stdout",
          "text": [
            "Male\n",
            "Female\n"
          ]
        }
      ]
    },
    {
      "cell_type": "markdown",
      "source": [
        "**Question 4**\n",
        "\n",
        "Please write a program to generate all sentences where subject is in [&quot;I&quot;, &quot;You&quot;] and verb is in [&quot;Play&quot;, &quot;Love&quot;] and the object is in [&quot;Hockey&quot;,&quot;Football&quot;]."
      ],
      "metadata": {
        "id": "LuqyQC_GlQrb"
      }
    },
    {
      "cell_type": "code",
      "source": [
        "def GenerateSentences():\n",
        "    subject = ['I','You']\n",
        "    verb = ['Play','Love']\n",
        "    object = ['Hockey','Football']\n",
        "    for s in subject:\n",
        "        for vb in verb:\n",
        "            for ob in object:\n",
        "                print(f'{s} {vb} {ob}')\n",
        "\n",
        "GenerateSentences()"
      ],
      "metadata": {
        "colab": {
          "base_uri": "https://localhost:8080/"
        },
        "id": "HCCuU95tlXUE",
        "outputId": "2f89e970-ded6-46a3-a23b-0738286efef9"
      },
      "execution_count": 7,
      "outputs": [
        {
          "output_type": "stream",
          "name": "stdout",
          "text": [
            "I Play Hockey\n",
            "I Play Football\n",
            "I Love Hockey\n",
            "I Love Football\n",
            "You Play Hockey\n",
            "You Play Football\n",
            "You Love Hockey\n",
            "You Love Football\n"
          ]
        }
      ]
    },
    {
      "cell_type": "markdown",
      "source": [
        "**Question 5**\n",
        "\n",
        "5.Please write a program to compress and decompress the string \"hello world!hello world!hello world!hello world!\""
      ],
      "metadata": {
        "id": "aZXj23NSlmU_"
      }
    },
    {
      "cell_type": "code",
      "source": [
        "\n",
        "def compress(in_string):\n",
        "    output = in_string[0]\n",
        "    count = 1\n",
        "    for ele in range(len(in_string)-1):\n",
        "        if in_string[ele] == in_string[ele+1]:\n",
        "            count +=1\n",
        "        else:\n",
        "            if count > 1:\n",
        "                output += str(count)\n",
        "            output += in_string[ele+1]\n",
        "            count = 1\n",
        "    if count > 1:\n",
        "        output += str(count)\n",
        "    print(output)\n",
        "\n",
        "\n",
        "def decompress(in_string):\n",
        "    output = ''\n",
        "    for ele in range(len(in_string)):\n",
        "        if in_string[ele].isdigit():\n",
        "            output += output[-1]*(int(in_string[ele])-1)\n",
        "        else:\n",
        "            output += in_string[ele]\n",
        "    print(output)\n",
        "\n",
        "\n",
        "compress(\"hello world!hello world!hello world!hello world!\")\n",
        "decompress(\"hel2o world!hel2o world!hel2o world!hel2o world!\")\n"
      ],
      "metadata": {
        "colab": {
          "base_uri": "https://localhost:8080/"
        },
        "id": "qSmXwEoklrkf",
        "outputId": "aa828ca5-a9f0-429a-ebad-6c32e4277998"
      },
      "execution_count": 8,
      "outputs": [
        {
          "output_type": "stream",
          "name": "stdout",
          "text": [
            "hel2o world!hel2o world!hel2o world!hel2o world!\n",
            "hello world!hello world!hello world!hello world!\n"
          ]
        }
      ]
    },
    {
      "cell_type": "markdown",
      "source": [
        "**Question 6**\n",
        "\n",
        "Please write a binary search function which searches an item in a sorted list. The function should return the index of element to be searched in the list."
      ],
      "metadata": {
        "id": "5oq0vPVMl_zb"
      }
    },
    {
      "cell_type": "code",
      "source": [
        "my_list = [2, 4, 6, 8, 10, 12, 14, 16, 18, 20]\n",
        "target = 12\n",
        "\n",
        "result = binary_search(my_list, target)\n",
        "if result != -1:\n",
        "    print(f\"Element found at index {result}\")\n",
        "else:\n",
        "    print(\"Element not found\")"
      ],
      "metadata": {
        "colab": {
          "base_uri": "https://localhost:8080/"
        },
        "id": "g11Do017m5Pm",
        "outputId": "240dfcb5-4b80-49a7-e3ea-af3290853512"
      },
      "execution_count": 12,
      "outputs": [
        {
          "output_type": "stream",
          "name": "stdout",
          "text": [
            "Element found at index 5\n"
          ]
        }
      ]
    }
  ]
}