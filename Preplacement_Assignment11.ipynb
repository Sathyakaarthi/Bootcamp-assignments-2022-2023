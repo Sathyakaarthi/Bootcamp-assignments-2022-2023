{
  "nbformat": 4,
  "nbformat_minor": 0,
  "metadata": {
    "colab": {
      "provenance": [],
      "authorship_tag": "ABX9TyN6hKRG+GlKSWXbTj03CFRq",
      "include_colab_link": true
    },
    "kernelspec": {
      "name": "python3",
      "display_name": "Python 3"
    },
    "language_info": {
      "name": "python"
    }
  },
  "cells": [
    {
      "cell_type": "markdown",
      "metadata": {
        "id": "view-in-github",
        "colab_type": "text"
      },
      "source": [
        "<a href=\"https://colab.research.google.com/github/Sathyakaarthi/Bootcamp-assignments-2022-2023/blob/main/Preplacement_Assignment11.ipynb\" target=\"_parent\"><img src=\"https://colab.research.google.com/assets/colab-badge.svg\" alt=\"Open In Colab\"/></a>"
      ]
    },
    {
      "cell_type": "code",
      "execution_count": null,
      "metadata": {
        "id": "dQI6JcZ-6eu0"
      },
      "outputs": [],
      "source": []
    },
    {
      "cell_type": "markdown",
      "source": [
        "**Question 1:**"
      ],
      "metadata": {
        "id": "imI6qOSn7BdB"
      }
    },
    {
      "cell_type": "code",
      "source": [
        "def Sqrt(x):\n",
        "\n",
        "    if (x == 0 or x == 1):\n",
        "        return x\n",
        "\n",
        "    i = 1\n",
        "    result = 1\n",
        "    while (result <= x):\n",
        "\n",
        "        i += 1\n",
        "        result = i * i\n",
        "\n",
        "    return i - 1\n",
        "\n",
        "x = 4\n",
        "print(\"Squareroot of 4 is : \")\n",
        "print(Sqrt(x))\n",
        "x = 8\n",
        "print(\"Squareroot of 8 is : \")\n",
        "print(Sqrt(x))"
      ],
      "metadata": {
        "colab": {
          "base_uri": "https://localhost:8080/"
        },
        "id": "y5v0uaKF7D1y",
        "outputId": "15af7480-7457-4a59-c4f8-81721e9627a6"
      },
      "execution_count": 5,
      "outputs": [
        {
          "output_type": "stream",
          "name": "stdout",
          "text": [
            "Squareroot of 4 is : \n",
            "2\n",
            "Squareroot of 8 is : \n",
            "2\n"
          ]
        }
      ]
    },
    {
      "cell_type": "markdown",
      "source": [
        "**Question 2**"
      ],
      "metadata": {
        "id": "rkJJrHgM8Hho"
      }
    },
    {
      "cell_type": "code",
      "source": [
        "def findPeak(nums, n) :\n",
        "\n",
        "    if (n == 1) :\n",
        "      return 0\n",
        "    if (nums[0] >= nums[1]) :\n",
        "        return 0\n",
        "    if (nums[n - 1] >= nums[n - 2]) :\n",
        "        return n - 1\n",
        "\n",
        "    for i in range(1, n - 1) :\n",
        "          if (nums[i] >= nums[i - 1] and nums[i] >= nums[i + 1]) :\n",
        "            return i\n",
        "\n",
        "nums = [1,2,3,1]\n",
        "n = len(nums)\n",
        "print(\"Index of the peak point is\", findPeak(nums, n))\n",
        "nums = [1,2,1,3,5,6,4]\n",
        "n = len(nums)\n",
        "print(\"Index of the peak point is\", findPeak(nums, n))\n",
        ""
      ],
      "metadata": {
        "colab": {
          "base_uri": "https://localhost:8080/"
        },
        "id": "aukQXTox8Jx6",
        "outputId": "75f8d367-be3c-4e12-fc29-f828a2ba1109"
      },
      "execution_count": 10,
      "outputs": [
        {
          "output_type": "stream",
          "name": "stdout",
          "text": [
            "Index of the peak point is 2\n",
            "Index of the peak point is 1\n"
          ]
        }
      ]
    },
    {
      "cell_type": "markdown",
      "source": [
        "**Question 3**"
      ],
      "metadata": {
        "id": "_h-Kh1S9-gMf"
      }
    },
    {
      "cell_type": "code",
      "source": [
        "\n",
        "\n",
        "def MissingNumber(nums):\n",
        "    n = len(nums)\n",
        "    missingnum = n\n",
        "\n",
        "    for i in range(n):\n",
        "        missingnum ^= i ^ nums[i]\n",
        "\n",
        "    return missingnum\n",
        "\n",
        "nums = [3, 0, 1]\n",
        "print(\"The nmissing number in {} is : {}\".format(nums, MissingNumber(nums)))\n",
        "nums = [0,1]\n",
        "print(\"The nmissing number in {} is : {}\".format(nums, MissingNumber(nums)))\n",
        "nums = [9,6,4,2,3,5,7,0,1]\n",
        "print(\"The nmissing number in {} is : {}\".format(nums, MissingNumber(nums)))\n"
      ],
      "metadata": {
        "colab": {
          "base_uri": "https://localhost:8080/"
        },
        "id": "ZSxcg-Nm_L4q",
        "outputId": "3fc90fc7-162c-41d8-df28-c6becf3d45b5"
      },
      "execution_count": 18,
      "outputs": [
        {
          "output_type": "stream",
          "name": "stdout",
          "text": [
            "The nmissing number in [3, 0, 1] is : 2\n",
            "The nmissing number in [0, 1] is : 2\n",
            "The nmissing number in [9, 6, 4, 2, 3, 5, 7, 0, 1] is : 8\n"
          ]
        }
      ]
    },
    {
      "cell_type": "markdown",
      "source": [
        "**Question 4**"
      ],
      "metadata": {
        "id": "2WcpFhi-BJig"
      }
    },
    {
      "cell_type": "code",
      "source": [
        "def Duplicate(nums):\n",
        "    slow = nums[0]\n",
        "    fast = nums[0]\n",
        "    while True:\n",
        "        slow = nums[slow]\n",
        "        fast = nums[nums[fast]]\n",
        "        if slow == fast:\n",
        "            break\n",
        "    slow = nums[0]\n",
        "    while slow != fast:\n",
        "        slow = nums[slow]\n",
        "        fast = nums[fast]\n",
        "    return slow\n",
        "nums = [1, 3, 4, 2, 2]\n",
        "print(\"Repeated number in the array {} is : {}\".format(nums,Duplicate(nums)))\n",
        "nums = [3,1,3,4,2]\n",
        "print(\"Repeated number in the array {} is : {}\".format(nums,Duplicate(nums)))"
      ],
      "metadata": {
        "colab": {
          "base_uri": "https://localhost:8080/"
        },
        "id": "CIRZt_dYBNSB",
        "outputId": "21f1140a-f1ff-4362-8635-e613153cad5e"
      },
      "execution_count": 23,
      "outputs": [
        {
          "output_type": "stream",
          "name": "stdout",
          "text": [
            "Repeated number in the array [1, 3, 4, 2, 2] is : 2\n",
            "Repeated number in the array [3, 1, 3, 4, 2] is : 3\n"
          ]
        }
      ]
    },
    {
      "cell_type": "markdown",
      "source": [
        "**Question 5**"
      ],
      "metadata": {
        "id": "eJBG2Vm8C-LC"
      }
    },
    {
      "cell_type": "code",
      "source": [
        "def intersection(nums1, nums2):\n",
        "    set1 = set(nums1)\n",
        "    set2 = set(nums2)\n",
        "    intersection_set = set1.intersection(set2)\n",
        "    return list(intersection_set)\n",
        "\n",
        "nums1 = [1, 2, 2, 1]\n",
        "nums2 = [2, 2]\n",
        "print(\"Intersection of {} and {} is : {}\".format(nums1,nums2,intersection(nums1, nums2)))"
      ],
      "metadata": {
        "colab": {
          "base_uri": "https://localhost:8080/"
        },
        "id": "-9Jsb43kDBIw",
        "outputId": "8f5a71bc-0250-4ef4-e428-1f5e929bedc4"
      },
      "execution_count": 26,
      "outputs": [
        {
          "output_type": "stream",
          "name": "stdout",
          "text": [
            "Intersection of [1, 2, 2, 1] and [2, 2] is : [2]\n"
          ]
        }
      ]
    },
    {
      "cell_type": "markdown",
      "source": [
        "**Question 6**"
      ],
      "metadata": {
        "id": "y_QRr-HkEHCH"
      }
    },
    {
      "cell_type": "code",
      "source": [
        "def findMin(nums):\n",
        "    left = 0\n",
        "    right = len(nums) - 1\n",
        "\n",
        "    while left < right:\n",
        "        mid = left + (right - left) // 2\n",
        "\n",
        "        if nums[mid] > nums[right]:\n",
        "            left = mid + 1\n",
        "        else:\n",
        "            right = mid\n",
        "\n",
        "    return nums[left]\n",
        "\n",
        "nums = [3,4,5,1,2]\n",
        "print(\"Minimum element of the array {} is {}\".format(nums,findMin(nums)))\n",
        "nums = [4, 5, 6, 7, 0, 1, 2]\n",
        "print(\"Minimum element of the array {} is {}\".format(nums,findMin(nums)))\n",
        "nums = [11,13,15,17]\n",
        "print(\"Minimum element of the array {} is {}\".format(nums,findMin(nums)))\n"
      ],
      "metadata": {
        "colab": {
          "base_uri": "https://localhost:8080/"
        },
        "id": "exDRbHHoEKAf",
        "outputId": "7d9f94b5-0870-4bde-dfe0-1d729e6d9d4e"
      },
      "execution_count": 32,
      "outputs": [
        {
          "output_type": "stream",
          "name": "stdout",
          "text": [
            "Minimum element of the array [3, 4, 5, 1, 2] is 1\n",
            "Minimum element of the array [4, 5, 6, 7, 0, 1, 2] is 0\n",
            "Minimum element of the array [11, 13, 15, 17] is 11\n"
          ]
        }
      ]
    },
    {
      "cell_type": "markdown",
      "source": [
        "**Question 7**"
      ],
      "metadata": {
        "id": "gZQv12-JF75a"
      }
    },
    {
      "cell_type": "code",
      "source": [
        "def SearchRange(nums, target):\n",
        "    left = Leftmost(nums, target)\n",
        "    right = Rightmost(nums, target)\n",
        "    return [left, right]\n",
        "\n",
        "def Leftmost(nums, target):\n",
        "    left = 0\n",
        "    right = len(nums) - 1\n",
        "    index = -1\n",
        "\n",
        "    while left <= right:\n",
        "        mid = left + (right - left) // 2\n",
        "\n",
        "        if nums[mid] >= target:\n",
        "            right = mid - 1\n",
        "        else:\n",
        "            left = mid + 1\n",
        "\n",
        "        if nums[mid] == target:\n",
        "            index = mid\n",
        "\n",
        "    return index\n",
        "\n",
        "def Rightmost(nums, target):\n",
        "    left = 0\n",
        "    right = len(nums) - 1\n",
        "    index = -1\n",
        "\n",
        "    while left <= right:\n",
        "        mid = left + (right - left) // 2\n",
        "\n",
        "        if nums[mid] <= target:\n",
        "            left = mid + 1\n",
        "        else:\n",
        "            right = mid - 1\n",
        "\n",
        "        if nums[mid] == target:\n",
        "            index = mid\n",
        "\n",
        "    return index\n",
        "\n",
        "nums = [5, 7, 7, 8, 8, 10]\n",
        "target = 8\n",
        "print(SearchRange(nums, target))\n",
        "nums = [5,7,7,8,8,10]\n",
        "target = 6\n",
        "print(SearchRange(nums, target))\n",
        "nums = []\n",
        "target = 0\n",
        "print(SearchRange(nums, target))\n"
      ],
      "metadata": {
        "colab": {
          "base_uri": "https://localhost:8080/"
        },
        "id": "dX7Yq-fcGAsY",
        "outputId": "115075e9-b4c4-41ff-a61b-79193ac79521"
      },
      "execution_count": 37,
      "outputs": [
        {
          "output_type": "stream",
          "name": "stdout",
          "text": [
            "[3, 4]\n",
            "[-1, -1]\n",
            "[-1, -1]\n"
          ]
        }
      ]
    },
    {
      "cell_type": "markdown",
      "source": [
        "**Question 8**"
      ],
      "metadata": {
        "id": "w9BSu3zwHtNS"
      }
    },
    {
      "cell_type": "code",
      "source": [
        "def intersect(nums1, nums2):\n",
        "    count1 = {}\n",
        "    result = []\n",
        "\n",
        "    for num in nums1:\n",
        "        count1[num] = count1.get(num, 0) + 1\n",
        "\n",
        "    for num in nums2:\n",
        "        if num in count1 and count1[num] > 0:\n",
        "            result.append(num)\n",
        "            count1[num] -= 1\n",
        "\n",
        "    return result\n",
        "\n",
        "nums1 = [1, 2, 2, 1]\n",
        "nums2 = [2, 2]\n",
        "print(intersect(nums1, nums2))\n"
      ],
      "metadata": {
        "colab": {
          "base_uri": "https://localhost:8080/"
        },
        "id": "8XN8w54pHwFp",
        "outputId": "17565367-ed06-4a1e-a4ac-6d399a48f43a"
      },
      "execution_count": 40,
      "outputs": [
        {
          "output_type": "stream",
          "name": "stdout",
          "text": [
            "[2, 2]\n"
          ]
        }
      ]
    }
  ]
}