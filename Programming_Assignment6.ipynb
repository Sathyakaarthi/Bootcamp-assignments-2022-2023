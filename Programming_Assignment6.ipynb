{
  "nbformat": 4,
  "nbformat_minor": 0,
  "metadata": {
    "colab": {
      "provenance": [],
      "authorship_tag": "ABX9TyNmbFQaj9/EbX0WJTjfTWlg",
      "include_colab_link": true
    },
    "kernelspec": {
      "name": "python3",
      "display_name": "Python 3"
    },
    "language_info": {
      "name": "python"
    }
  },
  "cells": [
    {
      "cell_type": "markdown",
      "metadata": {
        "id": "view-in-github",
        "colab_type": "text"
      },
      "source": [
        "<a href=\"https://colab.research.google.com/github/Sathyakaarthi/Bootcamp-assignments-2022-2023/blob/main/Programming_Assignment6.ipynb\" target=\"_parent\"><img src=\"https://colab.research.google.com/assets/colab-badge.svg\" alt=\"Open In Colab\"/></a>"
      ]
    },
    {
      "cell_type": "code",
      "execution_count": null,
      "metadata": {
        "id": "oZZC31PiC55u"
      },
      "outputs": [],
      "source": []
    },
    {
      "cell_type": "markdown",
      "source": [
        "**1. Write a Python Program to Display Fibonacci Sequence using Recursion?**"
      ],
      "metadata": {
        "id": "vTBCr1jrEWNU"
      }
    },
    {
      "cell_type": "code",
      "source": [
        "def recurfib(n):\n",
        "    if n<=1:\n",
        "        return n\n",
        "    else:\n",
        "        return recurfib(n-1) + recurfib(n-2)\n",
        "\n",
        "num = int(input(\"Enter a number : \"))\n",
        "\n",
        "if num <=0:\n",
        "    print(\"Please enter a positive number\")\n",
        "\n",
        "else:\n",
        "    for i in range(num):\n",
        "        print(recurfib(i) , end=\" \")"
      ],
      "metadata": {
        "colab": {
          "base_uri": "https://localhost:8080/"
        },
        "id": "KBvO67dJEbfk",
        "outputId": "b5a079e8-738e-46b3-bf64-c7d09c121811"
      },
      "execution_count": 2,
      "outputs": [
        {
          "output_type": "stream",
          "name": "stdout",
          "text": [
            "Enter a number : 9\n",
            "0 1 1 2 3 5 8 13 21 "
          ]
        }
      ]
    },
    {
      "cell_type": "markdown",
      "source": [
        "**2. Write a Python Program to Find Factorial of a Number using Recursion ?**"
      ],
      "metadata": {
        "id": "40rQe_E5E7xX"
      }
    },
    {
      "cell_type": "code",
      "source": [
        "def fact(n):\n",
        "    if (n < 1):\n",
        "        return 1\n",
        "    else:\n",
        "        return n*fact(n-1)\n",
        "n = int(input('Enter a number: '))\n",
        "value = fact(n)\n",
        "print(f'The Factorial of {n} is {value}')"
      ],
      "metadata": {
        "colab": {
          "base_uri": "https://localhost:8080/"
        },
        "id": "k1UDU-BSFDEY",
        "outputId": "d3902fde-8d70-4c7d-906b-8d00b605039d"
      },
      "execution_count": 4,
      "outputs": [
        {
          "output_type": "stream",
          "name": "stdout",
          "text": [
            "Enter a number: 5\n",
            "The Factorial of 5 is 120\n"
          ]
        }
      ]
    },
    {
      "cell_type": "markdown",
      "source": [
        "**3. Write a Python Program to Calculate your Body Mass Index?**"
      ],
      "metadata": {
        "id": "UO_IRWT3FoTi"
      }
    },
    {
      "cell_type": "code",
      "source": [
        "height = float(input(\"Enter the height in cm: \"))  \n",
        "weight = float(input(\"Enter the weight in kg: \"))  \n",
        "\n",
        "BMI = weight / (height/100)**2  \n",
        "\n",
        "print(\"Your Body Mass Index is\", BMI)  \n",
        "\n",
        "if BMI <= 18.5:  \n",
        "    print(\"You are underweight.\")  \n",
        "elif BMI <= 24.9:  \n",
        "    print(\"You are healthy.\")  \n",
        "elif BMI <= 29.9:  \n",
        "    print(\"You are over weight.\")  \n",
        "else:  \n",
        "    print(\"You are obese.\")  "
      ],
      "metadata": {
        "colab": {
          "base_uri": "https://localhost:8080/"
        },
        "id": "QVZbSxCWFuWs",
        "outputId": "abf54fee-9f37-44b9-b7e1-340da111c83e"
      },
      "execution_count": 7,
      "outputs": [
        {
          "output_type": "stream",
          "name": "stdout",
          "text": [
            "Enter the height in cm: 155\n",
            "Enter the weight in kg: 55\n",
            "Your Body Mass Index is 22.892819979188342\n",
            "You are healthy.\n"
          ]
        }
      ]
    },
    {
      "cell_type": "markdown",
      "source": [
        "**4. Write a Python Program to Calculate the Natural Logarithm of any Number?**"
      ],
      "metadata": {
        "id": "rXhhNYgoIDHY"
      }
    },
    {
      "cell_type": "code",
      "source": [
        "import math\n",
        "\n",
        "n = int(input(\"Enter the number: \"))\n",
        "\n",
        "nat_log = math.log(n)\n",
        "\n",
        "print(\"Log of {} is {}\".format(n, nat_log))"
      ],
      "metadata": {
        "colab": {
          "base_uri": "https://localhost:8080/"
        },
        "id": "DN59ArvSIGls",
        "outputId": "cd71882d-4eb3-4f7e-d9d7-2d824fb3c7cb"
      },
      "execution_count": 8,
      "outputs": [
        {
          "output_type": "stream",
          "name": "stdout",
          "text": [
            "Enter the number: 22\n",
            "Log of 22 is 3.091042453358316\n"
          ]
        }
      ]
    },
    {
      "cell_type": "markdown",
      "source": [
        "**5. Write a Python Program for Cube sum of first n Natural Numbers?**"
      ],
      "metadata": {
        "id": "ss4kqjBBIpgR"
      }
    },
    {
      "cell_type": "code",
      "source": [
        "def CubeSum(n):\n",
        "    sum=0\n",
        "    for i in range(n+1):\n",
        "        sum+=i**3\n",
        "    return sum\n",
        "n = int(input(\"enter a number: \"))\n",
        "print(\"sum of cubes of first {} natural numbers: \".format(n),CubeSum(n))"
      ],
      "metadata": {
        "colab": {
          "base_uri": "https://localhost:8080/"
        },
        "id": "y48rSrJ6IuqV",
        "outputId": "ea16984d-ae66-4d65-a310-67decd5f0fb6"
      },
      "execution_count": 10,
      "outputs": [
        {
          "output_type": "stream",
          "name": "stdout",
          "text": [
            "enter a number: 6\n",
            "sum of cubes of first 6 natural numbers:  441\n"
          ]
        }
      ]
    }
  ]
}