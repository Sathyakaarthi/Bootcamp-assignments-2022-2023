{
  "nbformat": 4,
  "nbformat_minor": 0,
  "metadata": {
    "colab": {
      "provenance": [],
      "authorship_tag": "ABX9TyMXihvA7kNEzEsEjKOpCk8D",
      "include_colab_link": true
    },
    "kernelspec": {
      "name": "python3",
      "display_name": "Python 3"
    },
    "language_info": {
      "name": "python"
    }
  },
  "cells": [
    {
      "cell_type": "markdown",
      "metadata": {
        "id": "view-in-github",
        "colab_type": "text"
      },
      "source": [
        "<a href=\"https://colab.research.google.com/github/Sathyakaarthi/Bootcamp-assignments-2022-2023/blob/main/Python_Advanced_Assignment1.ipynb\" target=\"_parent\"><img src=\"https://colab.research.google.com/assets/colab-badge.svg\" alt=\"Open In Colab\"/></a>"
      ]
    },
    {
      "cell_type": "markdown",
      "source": [
        "**Q1. What is the purpose of Python's OOP?**\n",
        "\n",
        "*Ans:*\n",
        "\n",
        "* Object-oriented Programming (OOPs) is a programming paradigm that uses objects and classes in programming.\n",
        "\n",
        "* It aims to implement real-world entities like inheritance, polymorphisms, encapsulation, etc. in the programming.\n",
        "\n",
        "* The main concept of OOPs is to bind the data and the functions that work on that together as a single unit so that no other part of the code can access this data.\n",
        "\n",
        "* Object-Oriented Programming makes the program easy to understand as well as efficient.\n",
        "\n",
        "* Since the class is sharable, the code can be reused.\n",
        "\n",
        "* Data is safe and secure with data abstraction.\n",
        "\n",
        "* Polymorphism allows the same interface for different objects, so programmers can write efficient code."
      ],
      "metadata": {
        "id": "7SNze49jcBpf"
      }
    },
    {
      "cell_type": "markdown",
      "source": [
        "**Q2. Where does an inheritance search look for an attribute?**\n",
        "\n",
        "*Ans*\n",
        "\n",
        "An inheritance search looks for an attribute first in the instance object, then in the class the instance was created from, then in all higher superclasses, progressing from left to right (by default). The search stops at the first place the attribute is found."
      ],
      "metadata": {
        "id": "2ESd5rQydVC-"
      }
    },
    {
      "cell_type": "markdown",
      "source": [
        "**Q3. How do you distinguish between a class object and an instance object?**\n",
        "\n",
        "*Ans*\n",
        "\n",
        "*   * Class objects represent the class itself.\n",
        "    * while instance objects represent individual instances of the class.\n",
        "\n",
        "*   * Class objects can have class-level attributes and methods that are shared among all instances of the class.\n",
        "    * while instance objects have their own set of attributes and methods that are independent of other.\n",
        "*   * A class is a type of blueprint that you can use to make objects.\n",
        "    * A concrete 'thing' that you constructed using a certain class is an object, which is an instance of a class."
      ],
      "metadata": {
        "id": "luNpy0agepxW"
      }
    },
    {
      "cell_type": "markdown",
      "source": [
        "**Q4. What makes the first argument in a class’s method function special?**\n",
        "\n",
        "*Ans*\n",
        "\n",
        "* The calling process is automatic while the receiving process is not (its explicit).\n",
        "\n",
        "* This is the reason the first parameter of a function in class must be the object itself. Writing this parameter as **self** is merely a convention. It is not a keyword and has no special meaning in Python.\n",
        "\n",
        "* **cls** is the first argument for class methods which refers to the class itself."
      ],
      "metadata": {
        "id": "5wCkEDIigFlJ"
      }
    },
    {
      "cell_type": "markdown",
      "source": [
        "**Q5. What is the purpose of the init method?**\n",
        "\n",
        "*Ans*\n",
        "\n",
        "In Python, ___init__ ___ is a special method known as the constructor. It is automatically called when a new instance (object) of a class is created. The __init_ __ method allows you to initialize the attributes (variables) of an object."
      ],
      "metadata": {
        "id": "Ybk0S6_xiBvP"
      }
    },
    {
      "cell_type": "markdown",
      "source": [
        "**Q6. What is the process for creating a class instance?**\n",
        "\n",
        "*Ans*\n",
        "\n",
        "To create instances of a class, you call the class using class name and pass in whatever arguments its __init__ method accepts."
      ],
      "metadata": {
        "id": "9uaJ3tuNjfd8"
      }
    },
    {
      "cell_type": "markdown",
      "source": [
        "**Q7. What is the process for creating a class?**\n",
        "\n",
        "*Ans*\n",
        "\n",
        "\n",
        "\n",
        "1. Classes are created using class keyword.\n",
        "2. A colon (:) is used after the class name.\n",
        "3. The class is made up of attributes (data) and methods (functions).\n",
        "4. Attributes that apply to the whole class are defined first and are called class attributes.\n",
        "5. Attributes can be accessed using the dot (.) operator via objects.\n",
        "\n",
        "Example: class add:\n"
      ],
      "metadata": {
        "id": "ND_Wo42ej7mO"
      }
    },
    {
      "cell_type": "markdown",
      "source": [
        "**Q8. How would you define the superclasses of a class?**\n",
        "\n",
        "*Ans*\n",
        "\n",
        "* The class from which a class inherits is called the parent or superclass.\n",
        "\n",
        "* A class which inherits from a superclass is called a subclass, also called heir class or child class.\n",
        "\n",
        "* Superclasses are sometimes called ancestors."
      ],
      "metadata": {
        "id": "0oCqk7r5rSs-"
      }
    }
  ]
}