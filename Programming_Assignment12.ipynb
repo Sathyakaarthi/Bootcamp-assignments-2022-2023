{
  "nbformat": 4,
  "nbformat_minor": 0,
  "metadata": {
    "colab": {
      "provenance": [],
      "authorship_tag": "ABX9TyMCUG15trl7nWsxRJtiiExH",
      "include_colab_link": true
    },
    "kernelspec": {
      "name": "python3",
      "display_name": "Python 3"
    },
    "language_info": {
      "name": "python"
    }
  },
  "cells": [
    {
      "cell_type": "markdown",
      "metadata": {
        "id": "view-in-github",
        "colab_type": "text"
      },
      "source": [
        "<a href=\"https://colab.research.google.com/github/Sathyakaarthi/Bootcamp-assignments-2022-2023/blob/main/Programming_Assignment12.ipynb\" target=\"_parent\"><img src=\"https://colab.research.google.com/assets/colab-badge.svg\" alt=\"Open In Colab\"/></a>"
      ]
    },
    {
      "cell_type": "markdown",
      "source": [
        "**Question 1**\n",
        "\n",
        "Write a Python program to Extract Unique values dictionary values?"
      ],
      "metadata": {
        "id": "nPFeQygmMLgs"
      }
    },
    {
      "cell_type": "code",
      "execution_count": 2,
      "metadata": {
        "colab": {
          "base_uri": "https://localhost:8080/"
        },
        "id": "AWcG-lFCLfiY",
        "outputId": "609fbdfa-4177-48ac-9e76-a42b0824cfee"
      },
      "outputs": [
        {
          "output_type": "stream",
          "name": "stdout",
          "text": [
            "unique values are: {64, 1, 66, 3, 0, 4, 7, 8, 45, 47, 17, 81, 21}\n"
          ]
        }
      ],
      "source": [
        "dict = {'a' : [3, 64, 17, 66],\n",
        "             'b' : [1, 21, 47, 45],\n",
        "             'c' : [0, 17, 7, 81],\n",
        "             'd' : [3, 3, 4,8]}\n",
        "\n",
        "unique_val = set([ele for val in dict.values() for ele in val])\n",
        "print(\"unique values are: {}\".format(unique_val))"
      ]
    },
    {
      "cell_type": "markdown",
      "source": [
        "**Question 2**\n",
        "\n",
        "Write a Python program to find the sum of all items in a dictionary?"
      ],
      "metadata": {
        "id": "nZNt2092M2b8"
      }
    },
    {
      "cell_type": "code",
      "source": [
        "dict = {'Cows':25,'Cats':20,'Dogs':36,'Rabbits':40,'Horses':76}\n",
        "print('Total number of animals: ',sum(dict.values()))"
      ],
      "metadata": {
        "colab": {
          "base_uri": "https://localhost:8080/"
        },
        "id": "U6AXPjY2M-TU",
        "outputId": "463fed34-1337-445a-ce8b-02ffd50a6a56"
      },
      "execution_count": 4,
      "outputs": [
        {
          "output_type": "stream",
          "name": "stdout",
          "text": [
            "Total number of animals:  197\n"
          ]
        }
      ]
    },
    {
      "cell_type": "markdown",
      "source": [
        "**Question 3**\n",
        "\n",
        "Write a Python program to Merging two Dictionaries?"
      ],
      "metadata": {
        "id": "MMc1RBr9N8uV"
      }
    },
    {
      "cell_type": "code",
      "source": [
        "Product_name = {'Name':'Fruits'}\n",
        "Fruits_name = {'Fruits name':['Mango','Apple', 'Orange']}\n",
        "Product_name.update(Fruits_name)\n",
        "print(Product_name)"
      ],
      "metadata": {
        "colab": {
          "base_uri": "https://localhost:8080/"
        },
        "id": "i6BMUf7GOCCX",
        "outputId": "d5a6f658-e755-423e-f3e4-41c6eac487b1"
      },
      "execution_count": 8,
      "outputs": [
        {
          "output_type": "stream",
          "name": "stdout",
          "text": [
            "{'Name': 'Fruits', 'Fruits name': ['Mango', 'Apple', 'Orange']}\n"
          ]
        }
      ]
    },
    {
      "cell_type": "markdown",
      "source": [
        "**Question 4**\n",
        "\n",
        "Write a Python program to convert key-values list to flat dictionary?"
      ],
      "metadata": {
        "id": "U8zMGcJvQIUx"
      }
    },
    {
      "cell_type": "code",
      "source": [
        "def convert_to_flat_dict(key_value_list):\n",
        "    flat_dict = {}\n",
        "    for pair in key_value_list:\n",
        "        if len(pair) != 2:\n",
        "            raise ValueError(\"Each pair in the list must have exactly two elements: a key and a value.\")\n",
        "        key, value = pair\n",
        "        if isinstance(key, str):\n",
        "            flat_dict[key] = value\n",
        "        else:\n",
        "            raise TypeError(\"Keys must be of string type.\")\n",
        "    return flat_dict\n",
        "\n",
        "key_values = [(\"a\", \"10\"), (\"b\", \"20\"), (\"c\", \"30\")]\n",
        "flat_dictionary = convert_to_flat_dict(key_values)\n",
        "print(flat_dictionary)\n"
      ],
      "metadata": {
        "colab": {
          "base_uri": "https://localhost:8080/"
        },
        "id": "H_rVZvtaSdRc",
        "outputId": "be2db4e5-f37f-4b2a-f7c3-fbd3cc9adb90"
      },
      "execution_count": 17,
      "outputs": [
        {
          "output_type": "stream",
          "name": "stdout",
          "text": [
            "{'a': '10', 'b': '20', 'c': '30'}\n"
          ]
        }
      ]
    },
    {
      "cell_type": "markdown",
      "source": [
        "**Question 5**\n",
        "\n",
        "Write a Python program to insertion at the beginning in OrderedDict?"
      ],
      "metadata": {
        "id": "58JMUxclTPEu"
      }
    },
    {
      "cell_type": "code",
      "source": [
        "from collections import OrderedDict\n",
        "\n",
        "inordered_dict = OrderedDict([('Monday', '2'), ('Tuesday', '3')])\n",
        "inordered_dict.update({'Sunday':'1'})\n",
        "inordered_dict.move_to_end('Sunday', last = False)\n",
        "print (\"Ordered Dictionary  : \" + str(inordered_dict))"
      ],
      "metadata": {
        "colab": {
          "base_uri": "https://localhost:8080/"
        },
        "id": "x_Un2h0PTT0j",
        "outputId": "f4dbb285-24da-430d-feea-e8ff7e08cd9f"
      },
      "execution_count": 19,
      "outputs": [
        {
          "output_type": "stream",
          "name": "stdout",
          "text": [
            "Ordered Dictionary  : OrderedDict([('Sunday', '1'), ('Monday', '2'), ('Tuesday', '3')])\n"
          ]
        }
      ]
    },
    {
      "cell_type": "markdown",
      "source": [
        "**Question 6**\n",
        "\n",
        "Write a Python program to check order of character in string using OrderedDict()?"
      ],
      "metadata": {
        "id": "qn6qd-zMT6h9"
      }
    },
    {
      "cell_type": "code",
      "source": [
        "from bisect import bisect_left, insort_left\n",
        "\n",
        "class OrderedCharList:\n",
        "    def __init__(self):\n",
        "        self.chars = []\n",
        "\n",
        "    def insert(self, char):\n",
        "        insort_left(self.chars, char)\n",
        "\n",
        "    def is_ordered(self, string):\n",
        "        index = -1\n",
        "        for char in string:\n",
        "            new_index = bisect_left(self.chars, char, index + 1)\n",
        "            if new_index == len(self.chars) or self.chars[new_index] != char:\n",
        "                return False\n",
        "            index = new_index\n",
        "        return True\n",
        "\n",
        "\n",
        "ordered_list = OrderedCharList()\n",
        "\n",
        "ordered_list.insert('a')\n",
        "ordered_list.insert('c')\n",
        "ordered_list.insert('b')\n",
        "ordered_list.insert('d')\n",
        "ordered_list.insert('e')\n",
        "\n",
        "string_to_check = \"abcd\"\n",
        "is_ordered = ordered_list.is_ordered(string_to_check)\n",
        "if is_ordered:\n",
        "    print(f\"The characters in '{string_to_check}' are in the desired order.\")\n",
        "else:\n",
        "    print(f\"The characters in '{string_to_check}' are not in the desired order.\")\n",
        "\n",
        "string_to_check = \"acbed\"\n",
        "is_ordered = ordered_list.is_ordered(string_to_check)\n",
        "if is_ordered:\n",
        "    print(f\"The characters in '{string_to_check}' are in the desired order.\")\n",
        "else:\n",
        "    print(f\"The characters in '{string_to_check}' are not in the desired order.\")"
      ],
      "metadata": {
        "colab": {
          "base_uri": "https://localhost:8080/"
        },
        "id": "rjtNiNHMUi3p",
        "outputId": "940f2e65-2e8c-4147-9187-3edb55786b52"
      },
      "execution_count": 25,
      "outputs": [
        {
          "output_type": "stream",
          "name": "stdout",
          "text": [
            "The characters in 'abcd' are in the desired order.\n",
            "The characters in 'acbed' are not in the desired order.\n"
          ]
        }
      ]
    },
    {
      "cell_type": "markdown",
      "source": [
        "**Question 7**\n",
        "\n",
        "Write a Python program to sort Python Dictionaries by Key or Value?"
      ],
      "metadata": {
        "id": "E2TeaKAYWHgD"
      }
    },
    {
      "cell_type": "code",
      "source": [
        "dict= {4:5 ,7:8 ,4:3 ,6:9 ,9:5}\n",
        "print(sorted(dict.keys()))\n",
        "print(sorted(dict.items()))\n",
        "print(sorted(dict.values()))"
      ],
      "metadata": {
        "colab": {
          "base_uri": "https://localhost:8080/"
        },
        "id": "jhxtSwNwXk5E",
        "outputId": "a8a51a50-2f19-49fc-8985-4a8ea8272d06"
      },
      "execution_count": 33,
      "outputs": [
        {
          "output_type": "stream",
          "name": "stdout",
          "text": [
            "[4, 6, 7, 9]\n",
            "[(4, 3), (6, 9), (7, 8), (9, 5)]\n",
            "[3, 5, 8, 9]\n"
          ]
        }
      ]
    }
  ]
}