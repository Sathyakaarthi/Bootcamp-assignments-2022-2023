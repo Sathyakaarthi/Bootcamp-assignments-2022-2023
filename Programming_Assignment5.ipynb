{
  "nbformat": 4,
  "nbformat_minor": 0,
  "metadata": {
    "colab": {
      "provenance": [],
      "authorship_tag": "ABX9TyPE886wSaX8VBDtkNnOdG7Y",
      "include_colab_link": true
    },
    "kernelspec": {
      "name": "python3",
      "display_name": "Python 3"
    },
    "language_info": {
      "name": "python"
    }
  },
  "cells": [
    {
      "cell_type": "markdown",
      "metadata": {
        "id": "view-in-github",
        "colab_type": "text"
      },
      "source": [
        "<a href=\"https://colab.research.google.com/github/Sathyakaarthi/Bootcamp-assignments-2022-2023/blob/main/Programming_Assignment5.ipynb\" target=\"_parent\"><img src=\"https://colab.research.google.com/assets/colab-badge.svg\" alt=\"Open In Colab\"/></a>"
      ]
    },
    {
      "cell_type": "markdown",
      "source": [
        "**1. Write a Python Program to find LCM ?**"
      ],
      "metadata": {
        "id": "66iN78lJ37Bo"
      }
    },
    {
      "cell_type": "code",
      "source": [
        "x = int(input(\"Enter the 1st number : \"))\n",
        "y = int(input(\"Enter the 2nd number : \"))\n",
        "\n",
        "if x > y:\n",
        "    big = x\n",
        "else:\n",
        "    big = y\n",
        "    \n",
        "while(True):\n",
        "    if big % x == 0 and big % y == 0 :\n",
        "        lcm = big\n",
        "        break\n",
        "    big += 1\n",
        "    \n",
        "print(\"The LCM of {} and {} = {}\".format(x,y,lcm))"
      ],
      "metadata": {
        "colab": {
          "base_uri": "https://localhost:8080/"
        },
        "id": "ptmDoM7S39FO",
        "outputId": "03af911c-b81d-4f8d-faf8-349f09115fa4"
      },
      "execution_count": 2,
      "outputs": [
        {
          "output_type": "stream",
          "name": "stdout",
          "text": [
            "Enter the 1st number : 24\n",
            "Enter the 2nd number : 32\n",
            "The LCM of 24 and 32 = 96\n"
          ]
        }
      ]
    },
    {
      "cell_type": "markdown",
      "source": [
        "**2. Write a Python Program to find HCF ?**"
      ],
      "metadata": {
        "id": "n8gNMIjC4bZU"
      }
    },
    {
      "cell_type": "code",
      "source": [
        "x = int(input(\"Enter the 1st number : \"))\n",
        "y = int(input(\"Enter the 2nd number : \"))\n",
        "\n",
        "# big no\n",
        "if x < y:\n",
        "    small = x\n",
        "else:\n",
        "    small = y\n",
        "hcf = 0   \n",
        "for i in range(1, small + 1):\n",
        "    if x % i == 0 and y % i == 0 :\n",
        "        hcf = i\n",
        "    \n",
        "print(\"The HCM of {} and {} = {}\".format(x,y,hcf))"
      ],
      "metadata": {
        "colab": {
          "base_uri": "https://localhost:8080/"
        },
        "id": "AWXpaQAs4maL",
        "outputId": "101f683d-d0e4-445c-8df8-59226b17e8ed"
      },
      "execution_count": 3,
      "outputs": [
        {
          "output_type": "stream",
          "name": "stdout",
          "text": [
            "Enter the 1st number : 24\n",
            "Enter the 2nd number : 32\n",
            "The HCM of 24 and 32 = 8\n"
          ]
        }
      ]
    },
    {
      "cell_type": "markdown",
      "source": [
        "**3. Write a Python Program to Convert Decimal to Binary, Octal and Hexadecimal ?**"
      ],
      "metadata": {
        "id": "MfXTQ79N48vn"
      }
    },
    {
      "cell_type": "code",
      "source": [
        "num = int(input(\"Enter a number :\"))\n",
        "\n",
        "print(num, \"in binary : \", bin(num))\n",
        "print(num, \"in Octal : \", oct(num))\n",
        "print(num, \"in Hexadecimal : \",hex(num))"
      ],
      "metadata": {
        "colab": {
          "base_uri": "https://localhost:8080/"
        },
        "id": "b5ZqEuU55AI7",
        "outputId": "67614dca-4cdb-45df-d77f-4331b91effc0"
      },
      "execution_count": 5,
      "outputs": [
        {
          "output_type": "stream",
          "name": "stdout",
          "text": [
            "Enter a number :45\n",
            "45 in binary :  0b101101\n",
            "45 in Octal :  0o55\n",
            "45 in Hexadecimal :  0x2d\n"
          ]
        }
      ]
    },
    {
      "cell_type": "markdown",
      "source": [
        "**4. Write a Python Program to Find the ASCII value of a Character ?**"
      ],
      "metadata": {
        "id": "WnNuv3uG5VzO"
      }
    },
    {
      "cell_type": "code",
      "source": [
        "str = input(\"Enter a Character : \")\n",
        "print(\"ASCII value of {} is {}\".format(str,ord(str)))"
      ],
      "metadata": {
        "colab": {
          "base_uri": "https://localhost:8080/"
        },
        "id": "jziv-6Jb5cLT",
        "outputId": "074beee4-2b93-411c-b63c-0bf304e58769"
      },
      "execution_count": 6,
      "outputs": [
        {
          "output_type": "stream",
          "name": "stdout",
          "text": [
            "Enter a Character : s\n",
            "ASCII value of s is 115\n"
          ]
        }
      ]
    },
    {
      "cell_type": "markdown",
      "source": [
        "**5. Write a Python Program to Make a Simple Calculator with 4 Basic Mathematical operations ?**"
      ],
      "metadata": {
        "id": "XkwLQUOt5sLl"
      }
    },
    {
      "cell_type": "code",
      "execution_count": 9,
      "metadata": {
        "colab": {
          "base_uri": "https://localhost:8080/"
        },
        "id": "H73ihaTl3tsy",
        "outputId": "b0c594d0-67db-4acf-d745-db41255022d0"
      },
      "outputs": [
        {
          "name": "stdout",
          "output_type": "stream",
          "text": [
            "Select operation.\n",
            "1.Add\n",
            "2.Subtract\n",
            "3.Multiply\n",
            "4.Divide\n",
            "Enter choice(1/2/3/4): 2\n",
            "Enter first number: 23\n",
            "Enter second number: 11\n",
            "23.0 - 11.0 = 12.0\n",
            "Let's continue (yes/no): yes\n",
            "Enter choice(1/2/3/4): 3\n",
            "Enter first number: 21\n",
            "Enter second number: 32\n",
            "21.0 * 32.0 = 672.0\n",
            "Let's continue (yes/no): no\n"
          ]
        }
      ],
      "source": [
        "def add(x, y):\n",
        "    return x + y\n",
        "\n",
        "def subtract(x, y):\n",
        "    return x - y\n",
        "\n",
        "def multiply(x, y):\n",
        "    return x * y\n",
        "\n",
        "def divide(x, y):\n",
        "    return x / y\n",
        "\n",
        "print(\"Select operation.\")\n",
        "print(\"1.Add\")\n",
        "print(\"2.Subtract\")\n",
        "print(\"3.Multiply\")\n",
        "print(\"4.Divide\")\n",
        "\n",
        "while True:\n",
        "    choice = input(\"Enter choice(1/2/3/4): \")\n",
        "\n",
        "    if choice in ('1', '2', '3', '4'):\n",
        "        try:\n",
        "            num1 = float(input(\"Enter first number: \"))\n",
        "            num2 = float(input(\"Enter second number: \"))\n",
        "        except ValueError:\n",
        "            print(\"Invalid input. Please enter a number.\")\n",
        "            continue\n",
        "\n",
        "        if choice == '1':\n",
        "            print(num1, \"+\", num2, \"=\", add(num1, num2))\n",
        "\n",
        "        elif choice == '2':\n",
        "            print(num1, \"-\", num2, \"=\", subtract(num1, num2))\n",
        "\n",
        "        elif choice == '3':\n",
        "            print(num1, \"*\", num2, \"=\", multiply(num1, num2))\n",
        "\n",
        "        elif choice == '4':\n",
        "            print(num1, \"/\", num2, \"=\", divide(num1, num2))\n",
        "        \n",
        "        next_calculation = input(\"Let's continue (yes/no): \")\n",
        "        if next_calculation == \"no\":\n",
        "          break\n",
        "    else:\n",
        "        print(\"Invalid Input\")\n"
      ]
    }
  ]
}