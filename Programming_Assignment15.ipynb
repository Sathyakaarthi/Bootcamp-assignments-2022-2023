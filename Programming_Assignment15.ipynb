{
  "nbformat": 4,
  "nbformat_minor": 0,
  "metadata": {
    "colab": {
      "provenance": [],
      "authorship_tag": "ABX9TyMalG/mpleE4TWy0TDI+MAR",
      "include_colab_link": true
    },
    "kernelspec": {
      "name": "python3",
      "display_name": "Python 3"
    },
    "language_info": {
      "name": "python"
    }
  },
  "cells": [
    {
      "cell_type": "markdown",
      "metadata": {
        "id": "view-in-github",
        "colab_type": "text"
      },
      "source": [
        "<a href=\"https://colab.research.google.com/github/Sathyakaarthi/Bootcamp-assignments-2022-2023/blob/main/Programming_Assignment15.ipynb\" target=\"_parent\"><img src=\"https://colab.research.google.com/assets/colab-badge.svg\" alt=\"Open In Colab\"/></a>"
      ]
    },
    {
      "cell_type": "markdown",
      "source": [
        "**Question 1**\n",
        "\n",
        "Please write a program using generator to print the numbers which can be divisible by 5 and 7 between 0 and n in comma separated form while n is input by console.\n",
        "\n",
        "Example:\n",
        "\n",
        "If the following n is given as input to the program: 100\n",
        "\n",
        "Then, the output of the program should be: 0,35,70"
      ],
      "metadata": {
        "id": "eXUPAu_fnrwy"
      }
    },
    {
      "cell_type": "code",
      "execution_count": 1,
      "metadata": {
        "colab": {
          "base_uri": "https://localhost:8080/"
        },
        "id": "k7efJJzsnfMm",
        "outputId": "a5d914c3-e241-4dcd-df7e-15e2445f1219"
      },
      "outputs": [
        {
          "output_type": "stream",
          "name": "stdout",
          "text": [
            "enter the value of n : 100\n",
            "0,35,70\n"
          ]
        }
      ],
      "source": [
        "\n",
        "def getno(n):\n",
        "    i = 0\n",
        "    while i < n:\n",
        "        j = i\n",
        "        i += 1\n",
        "        if j % 7 == 0 and j % 5 == 0:\n",
        "            yield j\n",
        "n = int(input('enter the value of n : '))\n",
        "num =[]\n",
        "for i in getno(n):\n",
        "    num.append(str(i))\n",
        "\n",
        "print(','.join(num))"
      ]
    },
    {
      "cell_type": "markdown",
      "source": [
        "**Question 2**\n",
        "\n",
        "Please write a program using generator to print the even numbers between 0 and n in comma separated form while n is input by console ?\n",
        "\n",
        "Example:\n",
        "\n",
        "If the following n is given as input to the program: 10\n",
        "\n",
        "Then, the output of the program should be: 0,2,4,6,8,10"
      ],
      "metadata": {
        "id": "YPqEVREYoEb-"
      }
    },
    {
      "cell_type": "code",
      "source": [
        "def GenEvenNumbers(in_num):\n",
        "    for ele in range(in_num+1):\n",
        "        if ele%2 == 0:\n",
        "            yield ele\n",
        "n = int(input('enter the value of n : '))\n",
        "for ele in GenEvenNumbers(n):\n",
        "    print(ele,end=' ')"
      ],
      "metadata": {
        "colab": {
          "base_uri": "https://localhost:8080/"
        },
        "id": "7KyqDw93ooep",
        "outputId": "2f7fcac3-73eb-4d99-9ad0-d67c0a30bc24"
      },
      "execution_count": 4,
      "outputs": [
        {
          "output_type": "stream",
          "name": "stdout",
          "text": [
            "enter the value of n : 10\n",
            "0 2 4 6 8 10 "
          ]
        }
      ]
    },
    {
      "cell_type": "markdown",
      "source": [
        "**Question 3**\n",
        "\n",
        "The Fibonacci Sequence is computed based on the following formula below, Please write a program using list comprehension to print the Fibonacci Sequence in comma separated form with a given n input by console.\n",
        "\n",
        "f(n)=0 if n=0 f(n)=1 if n=1 f(n)=f(n-1)+f(n-2) if n>1"
      ],
      "metadata": {
        "id": "9DJdXJHDojX-"
      }
    },
    {
      "cell_type": "code",
      "source": [
        "def fib(n):\n",
        "    if n == 0:\n",
        "            return 0\n",
        "    elif n == 1:\n",
        "            return 1\n",
        "    else:\n",
        "            return fib(n-1)+fib(n-2)\n",
        "n=int(input('Enter a number :'))\n",
        "values = [str(fib(x)) for x in range(0, n+1)]\n",
        "print(\",\".join(values))\n",
        ""
      ],
      "metadata": {
        "colab": {
          "base_uri": "https://localhost:8080/"
        },
        "id": "CGGDU7uKpCxq",
        "outputId": "f55032ba-98b5-4fa0-9bc9-73193a99ad40"
      },
      "execution_count": 6,
      "outputs": [
        {
          "output_type": "stream",
          "name": "stdout",
          "text": [
            "Enter a number :7\n",
            "0,1,1,2,3,5,8,13\n"
          ]
        }
      ]
    },
    {
      "cell_type": "markdown",
      "source": [
        "**Question 4**\n",
        "\n",
        "Assuming that we have some email addresses in the \"username@companyname.com\" format, please write program to print the user name of a given email address. Both user names and company names are composed of letters only.\n",
        "\n",
        "Example:\n",
        "\n",
        "If the following email address is given as input to the program: john@google.com\n",
        "\n",
        "Then, the output of the program should be: john"
      ],
      "metadata": {
        "id": "FW255kHgpX6r"
      }
    },
    {
      "cell_type": "code",
      "source": [
        "email = input(\"Enter the email address : \").split('@')\n",
        "company = str(email[1]).split('.')\n",
        "print(\"User name : \",email[0])\n",
        "print(\"Company name : \",company[0])"
      ],
      "metadata": {
        "colab": {
          "base_uri": "https://localhost:8080/"
        },
        "id": "BXvsxsoPqIaz",
        "outputId": "60ad32ff-11e9-485a-ad58-b9bad5c76ecb"
      },
      "execution_count": 10,
      "outputs": [
        {
          "output_type": "stream",
          "name": "stdout",
          "text": [
            "Enter the email address : john@google.com\n",
            "User name :  john\n",
            "Company name :  google\n"
          ]
        }
      ]
    },
    {
      "cell_type": "markdown",
      "source": [
        "**Question 5**\n",
        "\n",
        "Define a class named Shape and its subclass Square. The Square class has an init function which takes a length as argument. Both classes have a area function which can print the area of the shape where Shape's area is 0 by default.\n"
      ],
      "metadata": {
        "id": "nr7Auu6LqPXj"
      }
    },
    {
      "cell_type": "code",
      "source": [
        "class Shape:\n",
        "    def area(self):\n",
        "        return 0\n",
        "\n",
        "class Square(Shape):\n",
        "    def __init__(self, length):\n",
        "        self.length = length\n",
        "    def area(self):\n",
        "        return self.length*self.length\n",
        "\n",
        "square = Square(20)\n",
        "print(square.area())"
      ],
      "metadata": {
        "colab": {
          "base_uri": "https://localhost:8080/"
        },
        "id": "dPLODRljqnIc",
        "outputId": "74319e26-bd40-41d2-cac3-7f08c29af228"
      },
      "execution_count": 13,
      "outputs": [
        {
          "output_type": "stream",
          "name": "stdout",
          "text": [
            "400\n"
          ]
        }
      ]
    }
  ]
}