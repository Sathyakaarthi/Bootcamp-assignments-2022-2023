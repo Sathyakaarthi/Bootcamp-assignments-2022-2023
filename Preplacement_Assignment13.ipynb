{
  "nbformat": 4,
  "nbformat_minor": 0,
  "metadata": {
    "colab": {
      "provenance": [],
      "authorship_tag": "ABX9TyNZQsfv96f9KNnMzHle1bSM",
      "include_colab_link": true
    },
    "kernelspec": {
      "name": "python3",
      "display_name": "Python 3"
    },
    "language_info": {
      "name": "python"
    }
  },
  "cells": [
    {
      "cell_type": "markdown",
      "metadata": {
        "id": "view-in-github",
        "colab_type": "text"
      },
      "source": [
        "<a href=\"https://colab.research.google.com/github/Sathyakaarthi/Bootcamp-assignments-2022-2023/blob/main/Preplacement_Assignment13.ipynb\" target=\"_parent\"><img src=\"https://colab.research.google.com/assets/colab-badge.svg\" alt=\"Open In Colab\"/></a>"
      ]
    },
    {
      "cell_type": "markdown",
      "source": [
        "\n",
        "**Question 1**"
      ],
      "metadata": {
        "id": "G8l9N5g4CVu6"
      }
    },
    {
      "cell_type": "code",
      "execution_count": 2,
      "metadata": {
        "colab": {
          "base_uri": "https://localhost:8080/"
        },
        "id": "ibVXmXQ_CUkk",
        "outputId": "83ed125f-9164-4041-cd33-9224a787385a"
      },
      "outputs": [
        {
          "output_type": "stream",
          "name": "stdout",
          "text": [
            "First List:  5 -> 2 -> 3 -> 8 ->  \n",
            "Second List:  1 -> 7 -> 4 -> 5 ->  \n",
            "New List:  5 -> 7 -> 4 -> 8 ->  \n"
          ]
        }
      ],
      "source": [
        "class Node:\n",
        "\n",
        "    def __init__(self, data):\n",
        "        self.data = data\n",
        "        self.next = None\n",
        "\n",
        "def insert(root, item):\n",
        "\n",
        "    temp = Node(0)\n",
        "    temp.data = item\n",
        "    temp.next = None\n",
        "\n",
        "    if (root == None):\n",
        "        root = temp\n",
        "    else :\n",
        "        ptr = root\n",
        "        while (ptr.next != None):\n",
        "            ptr = ptr.next\n",
        "\n",
        "        ptr.next = temp\n",
        "\n",
        "    return root\n",
        "def newList(root1, root2):\n",
        "\n",
        "    ptr1 = root1\n",
        "    ptr2 = root2\n",
        "\n",
        "    root = None\n",
        "    while (ptr1 != None) :\n",
        "        temp = Node(0)\n",
        "        temp.next = None\n",
        "\n",
        "        # Compare for greater node\n",
        "        if (ptr1.data < ptr2.data):\n",
        "            temp.data = ptr2.data\n",
        "        else:\n",
        "            temp.data = ptr1.data\n",
        "\n",
        "        if (root == None):\n",
        "            root = temp\n",
        "        else :\n",
        "            ptr = root\n",
        "            while (ptr.next != None):\n",
        "                ptr = ptr.next\n",
        "\n",
        "            ptr.next = temp\n",
        "\n",
        "        ptr1 = ptr1.next\n",
        "        ptr2 = ptr2.next\n",
        "\n",
        "    return root\n",
        "\n",
        "def display(root):\n",
        "\n",
        "    while (root != None) :\n",
        "        print(root.data, \"->\", end = \" \")\n",
        "        root = root.next\n",
        "    print(\" \");\n",
        "\n",
        "if __name__=='__main__':\n",
        "\n",
        "    root1 = None\n",
        "    root2 = None\n",
        "    root = None\n",
        "\n",
        "    # First linked list\n",
        "    root1 = insert(root1, 5)\n",
        "    root1 = insert(root1, 2)\n",
        "    root1 = insert(root1, 3)\n",
        "    root1 = insert(root1, 8)\n",
        "\n",
        "    print(\"First List: \", end = \" \")\n",
        "    display(root1)\n",
        "\n",
        "    root2 = insert(root2, 1)\n",
        "    root2 = insert(root2, 7)\n",
        "    root2 = insert(root2, 4)\n",
        "    root2 = insert(root2, 5)\n",
        "\n",
        "    print(\"Second List: \", end = \" \")\n",
        "    display(root2)\n",
        "\n",
        "    root = newList(root1, root2)\n",
        "    print(\"New List: \", end = \" \")\n",
        "    display(root)"
      ]
    },
    {
      "cell_type": "markdown",
      "source": [
        "**Question 2**"
      ],
      "metadata": {
        "id": "ZTvTam4HCrhP"
      }
    },
    {
      "cell_type": "code",
      "source": [
        "class Node:\n",
        "\n",
        "    def __init__(self, data):\n",
        "        self.data = data\n",
        "        self.next = None\n",
        "\n",
        "class LinkedList:\n",
        "\n",
        "    def __init__(self):\n",
        "        self.head = None\n",
        "\n",
        "    def push(self, new_data):\n",
        "        new_node = Node(new_data)\n",
        "        new_node.next = self.head\n",
        "        self.head = new_node\n",
        "\n",
        "    def deleteNode(self, key):\n",
        "\n",
        "        temp = self.head\n",
        "\n",
        "        if (temp is not None):\n",
        "            if (temp.data == key):\n",
        "                self.head = temp.next\n",
        "                temp = None\n",
        "                return\n",
        "\n",
        "\n",
        "        while(temp is not None):\n",
        "            if temp.data == key:\n",
        "                break\n",
        "            prev = temp\n",
        "            temp = temp.next\n",
        "\n",
        "        if(temp == None):\n",
        "            return\n",
        "\n",
        "        prev.next = temp.next\n",
        "\n",
        "        temp = None\n",
        "\n",
        "\n",
        "    def printList(self):\n",
        "        temp = self.head\n",
        "        while(temp):\n",
        "            print(temp.data , end = ' ')\n",
        "            temp = temp.next\n",
        "\n",
        "    def removeDuplicates(self):\n",
        "        temp = self.head\n",
        "        if temp is None:\n",
        "            return\n",
        "        while temp.next is not None:\n",
        "            if temp.data == temp.next.data:\n",
        "                new = temp.next.next\n",
        "                temp.next = None\n",
        "                temp.next = new\n",
        "            else:\n",
        "                temp = temp.next\n",
        "        return self.head\n",
        "\n",
        "llist = LinkedList()\n",
        "\n",
        "llist.push(20)\n",
        "llist.push(13)\n",
        "llist.push(13)\n",
        "llist.push(11)\n",
        "llist.push(11)\n",
        "llist.push(11)\n",
        "print (\"Created Linked List: \")\n",
        "llist.printList()\n",
        "print()\n",
        "print(\"Linked List after removing\",\n",
        "      \"duplicate elements:\")\n",
        "llist.removeDuplicates()\n",
        "llist.printList()"
      ],
      "metadata": {
        "colab": {
          "base_uri": "https://localhost:8080/"
        },
        "id": "DKiZPrRjCtcs",
        "outputId": "674653aa-d2c3-47bf-c251-9b8f73af9875"
      },
      "execution_count": 4,
      "outputs": [
        {
          "output_type": "stream",
          "name": "stdout",
          "text": [
            "Created Linked List: \n",
            "11 11 11 13 13 20 \n",
            "Linked List after removing duplicate elements:\n",
            "11 13 20 "
          ]
        }
      ]
    },
    {
      "cell_type": "markdown",
      "source": [
        "**Question 3**"
      ],
      "metadata": {
        "id": "7Mn0-PUZDPwW"
      }
    },
    {
      "cell_type": "code",
      "source": [
        "class Node:\n",
        "\n",
        "    def __init__(self, data):\n",
        "        self.data = data\n",
        "        self.next = None\n",
        "\n",
        "\n",
        "class LinkedList:\n",
        "\n",
        "    def __init__(self):\n",
        "        self.head = None\n",
        "\n",
        "    def reverse(self, head, k):\n",
        "\n",
        "        if head == None:\n",
        "          return None\n",
        "        current = head\n",
        "        next = None\n",
        "        prev = None\n",
        "        count = 0\n",
        "\n",
        "        while(current is not None and count < k):\n",
        "            next = current.next\n",
        "            current.next = prev\n",
        "            prev = current\n",
        "            current = next\n",
        "            count += 1\n",
        "\n",
        "\n",
        "        if next is not None:\n",
        "            head.next = self.reverse(next, k)\n",
        "\n",
        "        return prev\n",
        "\n",
        "    def push(self, new_data):\n",
        "        new_node = Node(new_data)\n",
        "        new_node.next = self.head\n",
        "        self.head = new_node\n",
        "\n",
        "    def printList(self):\n",
        "        temp = self.head\n",
        "        while(temp):\n",
        "            print(temp.data,end=' ')\n",
        "            temp = temp.next\n",
        "\n",
        "llist = LinkedList()\n",
        "llist.push(8)\n",
        "llist.push(7)\n",
        "llist.push(6)\n",
        "llist.push(5)\n",
        "llist.push(4)\n",
        "llist.push(2)\n",
        "llist.push(2)\n",
        "llist.push(1)\n",
        "\n",
        "print(\"Given linked list\")\n",
        "llist.printList()\n",
        "llist.head = llist.reverse(llist.head, 4)\n",
        "\n",
        "print (\"\\nReversed Linked list\")\n",
        "llist.printList()"
      ],
      "metadata": {
        "colab": {
          "base_uri": "https://localhost:8080/"
        },
        "id": "cYvEpCvQDXxn",
        "outputId": "555f0620-c3c2-4896-8220-5b34526e7330"
      },
      "execution_count": 12,
      "outputs": [
        {
          "output_type": "stream",
          "name": "stdout",
          "text": [
            "Given linked list\n",
            "1 2 2 4 5 6 7 8 \n",
            "Reversed Linked list\n",
            "4 2 2 1 8 7 6 5 "
          ]
        }
      ]
    },
    {
      "cell_type": "markdown",
      "source": [
        "**Question 4**"
      ],
      "metadata": {
        "id": "QnCYX09oFpwY"
      }
    },
    {
      "cell_type": "code",
      "source": [
        "import math\n",
        "\n",
        "class Node:\n",
        "    def __init__(self, data):\n",
        "        self.data = data\n",
        "        self.next = None\n",
        "\n",
        "\n",
        "def kAltReverse(head, k) :\n",
        "    current = head\n",
        "    next = None\n",
        "    prev = None\n",
        "    count = 0\n",
        "\n",
        "    while (current != None and count < k) :\n",
        "        next = current.next\n",
        "        current.next = prev\n",
        "        prev = current\n",
        "        current = next\n",
        "        count = count + 1;\n",
        "\n",
        "\n",
        "    if(head != None):\n",
        "        head.next = current\n",
        "\n",
        "\n",
        "    count = 0\n",
        "    while(count < k - 1 and current != None ):\n",
        "        current = current.next\n",
        "        count = count + 1\n",
        "\n",
        "\n",
        "    if(current != None):\n",
        "        current.next = kAltReverse(current.next, k)\n",
        "\n",
        "\n",
        "    return prev\n",
        "\n",
        "\n",
        "def push(head_ref, new_data):\n",
        "\n",
        "    new_node = Node(new_data)\n",
        "\n",
        "    new_node.next = head_ref\n",
        "\n",
        "    head_ref = new_node\n",
        "\n",
        "    return head_ref\n",
        "\n",
        "def printList(node):\n",
        "    count = 0\n",
        "    while(node != None):\n",
        "        print(node.data, end = \" \")\n",
        "        node = node.next\n",
        "        count = count + 1\n",
        "\n",
        "if __name__=='__main__':\n",
        "\n",
        "    head = None\n",
        "\n",
        "    for i in range(9, 0, -1):\n",
        "        head = push(head, i)\n",
        "\n",
        "    print(\"Given linked list \")\n",
        "    printList(head)\n",
        "    head = kAltReverse(head, 3)\n",
        "\n",
        "    print(\"\\n Modified Linked list\")\n",
        "    printList(head)"
      ],
      "metadata": {
        "colab": {
          "base_uri": "https://localhost:8080/"
        },
        "id": "i8c2CqahF-eD",
        "outputId": "1937cfc1-6e92-40c9-f1cb-826bcf1a4a23"
      },
      "execution_count": 17,
      "outputs": [
        {
          "output_type": "stream",
          "name": "stdout",
          "text": [
            "Given linked list \n",
            "1 2 3 4 5 6 7 8 9 \n",
            " Modified Linked list\n",
            "3 2 1 4 5 6 9 8 7 "
          ]
        }
      ]
    },
    {
      "cell_type": "markdown",
      "source": [
        "**Question 5**"
      ],
      "metadata": {
        "id": "xvhZ2_xoG3zN"
      }
    },
    {
      "cell_type": "code",
      "source": [
        "class Node:\n",
        "\n",
        "\n",
        "    def __init__(self, data):\n",
        "        self.data = data\n",
        "        self.next = None\n",
        "\n",
        "def deleteLast(head, key):\n",
        "\n",
        "    x = None\n",
        "\n",
        "    temp = head\n",
        "    while (temp != None):\n",
        "\n",
        "\n",
        "        if (temp.key == key) :\n",
        "            x = temp\n",
        "\n",
        "        temp = temp.next\n",
        "\n",
        "    if (x != None):\n",
        "\n",
        "        x.key = x.next.key\n",
        "\n",
        "        temp = x.next\n",
        "        x.next = x.next.next\n",
        "\n",
        "    return head\n",
        "\n",
        "def newNode(key):\n",
        "\n",
        "    temp = Node(0)\n",
        "    temp.key = key\n",
        "    temp.next = None\n",
        "    return temp\n",
        "\n",
        "def printList(node):\n",
        "    while (node != None):\n",
        "\n",
        "        print (node.key, end = \" \")\n",
        "        node = node.next\n",
        "\n",
        "if __name__=='__main__':\n",
        "\n",
        "    head = newNode(1)\n",
        "    head.next = newNode(2)\n",
        "    head.next.next = newNode(3)\n",
        "    head.next.next.next = newNode(5)\n",
        "    head.next.next.next.next = newNode(2)\n",
        "    head.next.next.next.next.next = newNode(10)\n",
        "\n",
        "    print(\"Created Linked List: \")\n",
        "    printList(head)\n",
        "    deleteLast(head, 2)\n",
        "\n",
        "    print(\"\\nLinked List after Deletion : \")\n",
        "    printList(head)"
      ],
      "metadata": {
        "colab": {
          "base_uri": "https://localhost:8080/"
        },
        "id": "_knYPjj5G57F",
        "outputId": "19387286-886f-495f-ee34-85c091702455"
      },
      "execution_count": 22,
      "outputs": [
        {
          "output_type": "stream",
          "name": "stdout",
          "text": [
            "Created Linked List: \n",
            "1 2 3 5 2 10 \n",
            "Linked List after Deletion : \n",
            "1 2 3 5 10 "
          ]
        }
      ]
    },
    {
      "cell_type": "markdown",
      "source": [
        "**Question 6**"
      ],
      "metadata": {
        "id": "LTD9HzLiIYRQ"
      }
    },
    {
      "cell_type": "code",
      "source": [
        "class Node:\n",
        "    def __init__(self, data):\n",
        "        self.data = data\n",
        "        self.next = None\n",
        "\n",
        "class LinkedList:\n",
        "    def __init__(self):\n",
        "        self.head = None\n",
        "\n",
        "    def printList(self):\n",
        "        temp = self.head\n",
        "        while temp:\n",
        "            print(temp.data, end=\" \")\n",
        "            temp = temp.next\n",
        "\n",
        "    def addToList(self, newData):\n",
        "        newNode = Node(newData)\n",
        "        if self.head is None:\n",
        "            self.head = newNode\n",
        "            return\n",
        "\n",
        "        last = self.head\n",
        "        while last.next:\n",
        "            last = last.next\n",
        "\n",
        "        last.next = newNode\n",
        "\n",
        "def mergeLists(headA, headB):\n",
        "\n",
        "    dummyNode = Node(0)\n",
        "\n",
        "    tail = dummyNode\n",
        "    while True:\n",
        "\n",
        "        if headA is None:\n",
        "            tail.next = headB\n",
        "            break\n",
        "        if headB is None:\n",
        "            tail.next = headA\n",
        "            break\n",
        "\n",
        "        if headA.data <= headB.data:\n",
        "            tail.next = headA\n",
        "            headA = headA.next\n",
        "        else:\n",
        "            tail.next = headB\n",
        "            headB = headB.next\n",
        "\n",
        "        tail = tail.next\n",
        "    return dummyNode.next\n",
        "\n",
        "\n",
        "listA = LinkedList()\n",
        "listB = LinkedList()\n",
        "\n",
        "listA.addToList(5)\n",
        "listA.addToList(10)\n",
        "listA.addToList(15)\n",
        "\n",
        "listB.addToList(2)\n",
        "listB.addToList(3)\n",
        "listB.addToList(20)\n",
        "listA.head = mergeLists(listA.head, listB.head)\n",
        "\n",
        "print(\"Merged Linked List is:\")\n",
        "listA.printList()"
      ],
      "metadata": {
        "colab": {
          "base_uri": "https://localhost:8080/"
        },
        "id": "oiC9S8dVIawU",
        "outputId": "30114be0-5a03-4769-8217-2da6a455b7eb"
      },
      "execution_count": 24,
      "outputs": [
        {
          "output_type": "stream",
          "name": "stdout",
          "text": [
            "Merged Linked List is:\n",
            "2 3 5 10 15 20 "
          ]
        }
      ]
    },
    {
      "cell_type": "markdown",
      "source": [
        "**Question 7**"
      ],
      "metadata": {
        "id": "Q7S7Vo24JMOD"
      }
    },
    {
      "cell_type": "code",
      "source": [
        "class Node:\n",
        "    def __init__(self, data):\n",
        "        self.data = data\n",
        "        self.next = None\n",
        "        self.prev = None\n",
        "\n",
        "class DoublyLinkedList:\n",
        "    def __init__(self):\n",
        "        self.head = None\n",
        "\n",
        "    def reverseUsingStacks(self):\n",
        "        stack = []\n",
        "        temp = self.head\n",
        "        while temp is not None:\n",
        "            stack.append(temp.data)\n",
        "            temp = temp.next\n",
        "\n",
        "        temp = self.head\n",
        "        while temp is not None:\n",
        "            temp.data = stack.pop()\n",
        "            temp = temp.next\n",
        "\n",
        "    def push(self, new_data):\n",
        "        new_node = Node(new_data)\n",
        "        new_node.next = self.head\n",
        "\n",
        "        if self.head is not None:\n",
        "            self.head.prev = new_node\n",
        "\n",
        "        self.head = new_node\n",
        "\n",
        "    def printList(self, node):\n",
        "        while(node is not None):\n",
        "            print(node.data)\n",
        "            node = node. next\n",
        "\n",
        "dll = DoublyLinkedList()\n",
        "dll.push(2)\n",
        "dll.push(4)\n",
        "dll.push(8)\n",
        "dll.push(10)\n",
        "\n",
        "print(\"original doubly-linked list\")\n",
        "dll.printList(dll.head)\n",
        "\n",
        "dll.reverseUsingStacks()\n",
        "\n",
        "print(\"Reversed doubly-linked list\")\n",
        "dll.printList(dll.head)"
      ],
      "metadata": {
        "colab": {
          "base_uri": "https://localhost:8080/"
        },
        "id": "iEGvSWS2KMnH",
        "outputId": "debd7c59-e7a3-4f7c-fa6a-9b71e6dbb70f"
      },
      "execution_count": 29,
      "outputs": [
        {
          "output_type": "stream",
          "name": "stdout",
          "text": [
            "original doubly-linked list\n",
            "10\n",
            "8\n",
            "4\n",
            "2\n",
            "Reversed doubly-linked list\n",
            "2\n",
            "4\n",
            "8\n",
            "10\n"
          ]
        }
      ]
    },
    {
      "cell_type": "markdown",
      "source": [
        "**Question 8**"
      ],
      "metadata": {
        "id": "g9mMRAdMK9co"
      }
    },
    {
      "cell_type": "code",
      "source": [
        "class Node:\n",
        "\n",
        "    def __init__(self, data):\n",
        "        self.data = data\n",
        "        self.next = None\n",
        "        self.prev = None\n",
        "\n",
        "def deleteNode(head_ref, del_):\n",
        "\n",
        "    if (head_ref == None or del_ == None):\n",
        "        return\n",
        "\n",
        "    if (head_ref == del_):\n",
        "        head_ref = del_.next\n",
        "\n",
        "    if (del_.next != None):\n",
        "        del_.next.prev = del_.prev\n",
        "\n",
        "    if (del_.prev != None):\n",
        "        del_.prev.next = del_.next\n",
        "\n",
        "    return head_ref\n",
        "\n",
        "def deleteNodeAtGivenPos(head_ref,n):\n",
        "\n",
        "    # if list in None or invalid position is given\n",
        "    if (head_ref == None or n <= 0):\n",
        "        return\n",
        "\n",
        "    current = head_ref\n",
        "    i = 1\n",
        "\n",
        "    while ( current != None and i < n ):\n",
        "        current = current.next\n",
        "        i = i + 1\n",
        "    if (current == None):\n",
        "        return\n",
        "\n",
        "    deleteNode(head_ref, current)\n",
        "\n",
        "    return head_ref\n",
        "\n",
        "def push(head_ref, new_data):\n",
        "\n",
        "    new_node = Node(0)\n",
        "\n",
        "    new_node.data = new_data\n",
        "    new_node.prev = None\n",
        "    new_node.next = (head_ref)\n",
        "    if ((head_ref) != None):\n",
        "        (head_ref).prev = new_node\n",
        "\n",
        "    (head_ref) = new_node\n",
        "\n",
        "    return head_ref\n",
        "def printList(head):\n",
        "\n",
        "    while (head != None) :\n",
        "        print( head.data ,end= \" \")\n",
        "        head = head.next\n",
        "\n",
        "head = None\n",
        "head = push(head, 9)\n",
        "head = push(head, 2)\n",
        "head = push(head, 5)\n",
        "head = push(head, 1)\n",
        "\n",
        "print(\"Doubly linked list before deletion:\")\n",
        "printList(head)\n",
        "\n",
        "n = 3\n",
        "head = deleteNodeAtGivenPos(head, n)\n",
        "\n",
        "print(\"\\nDoubly linked list after deletion:\")\n",
        "printList(head)\n",
        "\n"
      ],
      "metadata": {
        "colab": {
          "base_uri": "https://localhost:8080/"
        },
        "id": "ov6mGgLtK_rL",
        "outputId": "d1b916ed-3e7e-48e0-8559-bb0619f7c29a"
      },
      "execution_count": 36,
      "outputs": [
        {
          "output_type": "stream",
          "name": "stdout",
          "text": [
            "Doubly linked list before deletion:\n",
            "1 5 2 9 \n",
            "Doubly linked list after deletion:\n",
            "1 5 9 "
          ]
        }
      ]
    }
  ]
}