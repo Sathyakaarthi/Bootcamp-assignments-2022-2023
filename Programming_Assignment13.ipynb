{
  "nbformat": 4,
  "nbformat_minor": 0,
  "metadata": {
    "colab": {
      "provenance": [],
      "authorship_tag": "ABX9TyNYgjsH5sYgN0wBFoy1C7jO",
      "include_colab_link": true
    },
    "kernelspec": {
      "name": "python3",
      "display_name": "Python 3"
    },
    "language_info": {
      "name": "python"
    }
  },
  "cells": [
    {
      "cell_type": "markdown",
      "metadata": {
        "id": "view-in-github",
        "colab_type": "text"
      },
      "source": [
        "<a href=\"https://colab.research.google.com/github/Sathyakaarthi/Bootcamp-assignments-2022-2023/blob/main/Programming_Assignment13.ipynb\" target=\"_parent\"><img src=\"https://colab.research.google.com/assets/colab-badge.svg\" alt=\"Open In Colab\"/></a>"
      ]
    },
    {
      "cell_type": "markdown",
      "source": [
        "**Question 1**\n",
        "\n",
        "Write a program that calculates and prints the value according to the given formula:\n",
        "\n",
        "Q = Square root of [(2 * C * D)/H]\n",
        "\n",
        "Following are the fixed values of C and H:\n",
        "\n",
        "C is 50. H is 30.\n",
        "\n",
        "D is the variable whose values should be input to your program in a comma-separated sequence.\n",
        "\n",
        "Example: Let us assume the following comma separated input sequence is given to the program:100,150,180\n",
        "\n",
        "The output of the program should be: 18,22,24"
      ],
      "metadata": {
        "id": "oCeISgDdY3ST"
      }
    },
    {
      "cell_type": "code",
      "execution_count": 1,
      "metadata": {
        "colab": {
          "base_uri": "https://localhost:8080/"
        },
        "id": "Uz6RpuhSY2mD",
        "outputId": "ed338971-4033-46b9-8782-533704918f62"
      },
      "outputs": [
        {
          "output_type": "stream",
          "name": "stdout",
          "text": [
            "Provide D in with comma separated: 100, 150, 180\n",
            "18,22,24\n"
          ]
        }
      ],
      "source": [
        "import math\n",
        "\n",
        "values = input(\"Provide D in with comma separated: \")\n",
        "values = values.split(',')\n",
        "\n",
        "final = []\n",
        "\n",
        "for D in values:\n",
        "    A = round(math.sqrt(2 * 50 * int(D) / 30))\n",
        "    final.append(str(A))\n",
        "\n",
        "print(','.join(final))"
      ]
    },
    {
      "cell_type": "markdown",
      "source": [
        "**Question 2**\n",
        "\n",
        "Write a program which takes 2 digits, X,Y as input and generates a 2-dimensional array. The element value in the i-th row and j-th column of the array should be i*j.\n",
        "Note: i=0,1.., X-1; j=0,1,¡Y-1.\n",
        "Example: Suppose the following inputs are given to the program: 3,5\n",
        "Then, the output of the program should be:[[0, 0, 0, 0, 0], [0, 1, 2, 3, 4], [0, 2, 4, 6, 8]]"
      ],
      "metadata": {
        "id": "giRzBMA6ZWWc"
      }
    },
    {
      "cell_type": "code",
      "source": [
        "import array as arr\n",
        "def GenArray():\n",
        "    x = int(input('Enter the no. of rows:'))\n",
        "    y = int(input('Enter the no. of columns:'))\n",
        "    out_array = []\n",
        "    for ele in range(x):\n",
        "        out_array.insert(x,[])\n",
        "        for sub_ele in range(y):\n",
        "            out_array[ele].append(ele*sub_ele)\n",
        "    print(out_array)\n",
        "\n",
        "GenArray()"
      ],
      "metadata": {
        "colab": {
          "base_uri": "https://localhost:8080/"
        },
        "id": "7Q6swVMXZhxc",
        "outputId": "8e370a10-0d40-4332-c359-c25791d3c3e9"
      },
      "execution_count": 3,
      "outputs": [
        {
          "output_type": "stream",
          "name": "stdout",
          "text": [
            "Enter the no. of rows:3\n",
            "Enter the no. of columns:5\n",
            "[[0, 0, 0, 0, 0], [0, 1, 2, 3, 4], [0, 2, 4, 6, 8]]\n"
          ]
        }
      ]
    },
    {
      "cell_type": "markdown",
      "source": [
        "**Question 3**\n",
        "\n",
        "Write a program that accepts a comma separated sequence of words as input and prints the words in a comma-separated sequence after sorting them alphabetically ?\n",
        "\n",
        "Suppose the following input is supplied to the program: without,hello,bag,world\n",
        "\n",
        "Then, the output should be: bag,hello,without,world"
      ],
      "metadata": {
        "id": "sRjRJ0kHZ7NR"
      }
    },
    {
      "cell_type": "code",
      "source": [
        "def SortString():\n",
        "    ip_string = input(\"Enter the Input String: \")\n",
        "    op_string = ','.join(sorted(ip_string.split(',')))\n",
        "    print(f'Output after sorting alphabetically: {op_string}')\n",
        "\n",
        "SortString()"
      ],
      "metadata": {
        "colab": {
          "base_uri": "https://localhost:8080/"
        },
        "id": "Kd-_exrWaHwC",
        "outputId": "981f964e-a95e-4fdd-a437-2922242e7942"
      },
      "execution_count": 5,
      "outputs": [
        {
          "output_type": "stream",
          "name": "stdout",
          "text": [
            "Enter the Input String: without,hello,bag,world\n",
            "Output after sorting alphabetically: bag,hello,without,world\n"
          ]
        }
      ]
    },
    {
      "cell_type": "markdown",
      "source": [
        "**Question 4**\n",
        "\n",
        "Write a program that accepts a sequence of whitespace separated words as input and prints the words after removing all duplicate words and sorting them alphanumerically.\n",
        "\n",
        "Suppose the following input is supplied to the program: hello world and practice makes perfect and hello world again\n",
        "\n",
        "Then, the output should be: again and hello makes perfect practice world"
      ],
      "metadata": {
        "id": "54GtPGdoanl_"
      }
    },
    {
      "cell_type": "code",
      "source": [
        "def SortAlphaNumerically():\n",
        "    in_string = input(\"Enter the Input String: \")\n",
        "    out_string = ' '.join(sorted(sorted(list(set(in_string.split(\" \"))))))\n",
        "    print(f'Output String: {out_string}')\n",
        "\n",
        "SortAlphaNumerically()"
      ],
      "metadata": {
        "colab": {
          "base_uri": "https://localhost:8080/"
        },
        "id": "puP05X4aau0V",
        "outputId": "574c0a35-40cc-4714-8aa5-cdaaca39fed0"
      },
      "execution_count": 7,
      "outputs": [
        {
          "output_type": "stream",
          "name": "stdout",
          "text": [
            "Enter the Input String: hello world and practice makes perfect and hello world again\n",
            "Output String: again and hello makes perfect practice world\n"
          ]
        }
      ]
    },
    {
      "cell_type": "markdown",
      "source": [
        "**Question 5**\n",
        "\n",
        "Write a program that accepts a sentence and calculate the number of letters and digits.\n",
        "\n",
        "Suppose the following input is supplied to the program: hello world! 123\n",
        "\n",
        "Then, the output should be:\n",
        "\n",
        "LETTERS 10\n",
        "\n",
        "DIGITS 3"
      ],
      "metadata": {
        "id": "JvMY2YnPbNSh"
      }
    },
    {
      "cell_type": "code",
      "source": [
        "def CountLetterAndDigits():\n",
        "    in_string = input(\"Enter the Input String: \")\n",
        "    lettersList = 'ABCDEFGHIJKLMNOPQRSTUVWXYZabcdefghijklmnopqrstuvwxyz'\n",
        "    digitsList = '0123456789'\n",
        "    letters = 0\n",
        "    digits = 0\n",
        "    for ele in in_string:\n",
        "        if ele in lettersList:\n",
        "            letters += 1\n",
        "        if ele in digitsList:\n",
        "            digits += 1\n",
        "    print(f'No. of letters: {letters} \\nNo. of digits: {digits}')\n",
        "\n",
        "CountLetterAndDigits()"
      ],
      "metadata": {
        "colab": {
          "base_uri": "https://localhost:8080/"
        },
        "id": "wRu1AYpJbUoU",
        "outputId": "967e88a0-82bd-4484-e67b-d111e1a22785"
      },
      "execution_count": 9,
      "outputs": [
        {
          "output_type": "stream",
          "name": "stdout",
          "text": [
            "Enter the Input String: hello world! 123\n",
            "No. of letters: 10 \n",
            "No. of digits: 3\n"
          ]
        }
      ]
    },
    {
      "cell_type": "markdown",
      "source": [
        "**Question 6**\n",
        "\n",
        "A website requires the users to input username and password to register. Write a program to check the validity of password input by users.\n",
        "Following are the criteria for checking the password:\n",
        "\n",
        "\n",
        "At least 1 letter between [a-z]\n",
        "\n",
        "At least 1 number between [0-9]\n",
        "\n",
        "At least 1 letter between [A-Z]\n",
        "\n",
        "At least 1 character from [$#@]\n",
        "\n",
        "Minimum length of transaction password: 6\n",
        "\n",
        "Maximum length of transaction password: 12\n",
        "\n",
        "Your program should accept a sequence of comma separated passwords and will check them according to the above criteria. Passwords that match the criteria are to be printed, each separated by a comma.\n",
        "\n",
        "Example:\n",
        "\n",
        "If the following passwords are given as input to the program: ABd1234@1,a F1#,2w3E*,2We3345\n",
        "\n",
        "Then, the output of the program should be:ABd1234@1"
      ],
      "metadata": {
        "id": "MmMsznolbt3k"
      }
    },
    {
      "cell_type": "code",
      "source": [
        "def CheckPassword():\n",
        "    in_string = input(\"Enter the Input String: \")\n",
        "    small_list = \"abcdefghijklmnopqrstuvwxyz\"\n",
        "    cap_list = \"ABCDEFGHIJKLMNOPQRSTUVWXYZ\"\n",
        "    num_list = \"0123456789\"\n",
        "    special_list = \"$#@\"\n",
        "    for ele in in_string.split(\",\"):\n",
        "        if len(ele) <= 12 and len(ele) >=6 :\n",
        "            if any(i.isupper() for i in ele):\n",
        "                if any(i.islower() for i in ele):\n",
        "                    if any(i for i in ele if i in special_list):\n",
        "                        print(ele)\n",
        "\n",
        "CheckPassword()"
      ],
      "metadata": {
        "colab": {
          "base_uri": "https://localhost:8080/"
        },
        "id": "1KmHHcNab5Ps",
        "outputId": "20a6ce13-1b4d-478e-9539-21b533cb64bc"
      },
      "execution_count": 10,
      "outputs": [
        {
          "output_type": "stream",
          "name": "stdout",
          "text": [
            "Enter the Input String: ABd1234@1,a F1#,2w3E*,2We3345\n",
            "ABd1234@1\n"
          ]
        }
      ]
    }
  ]
}