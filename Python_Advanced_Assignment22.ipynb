{
  "nbformat": 4,
  "nbformat_minor": 0,
  "metadata": {
    "colab": {
      "provenance": [],
      "authorship_tag": "ABX9TyO5fmGQaIBYyJdDsjqQOxwj",
      "include_colab_link": true
    },
    "kernelspec": {
      "name": "python3",
      "display_name": "Python 3"
    },
    "language_info": {
      "name": "python"
    }
  },
  "cells": [
    {
      "cell_type": "markdown",
      "metadata": {
        "id": "view-in-github",
        "colab_type": "text"
      },
      "source": [
        "<a href=\"https://colab.research.google.com/github/Sathyakaarthi/Bootcamp-assignments-2022-2023/blob/main/Python_Advanced_Assignment22.ipynb\" target=\"_parent\"><img src=\"https://colab.research.google.com/assets/colab-badge.svg\" alt=\"Open In Colab\"/></a>"
      ]
    },
    {
      "cell_type": "markdown",
      "source": [
        "**1. What are the benefits of the built-in array package, if any?**\n",
        "\n",
        "*Ans:*\n",
        "\n",
        "Arrays represent multiple data items of the same type using a single name. In arrays, the elements can be accessed randomly by using the index number. Arrays allocate memory in contiguous memory locations for all its elements. Hence there is no chance of extra memory being allocated in case of arrays. This avoids memory overflow or shortage of memory in arrays."
      ],
      "metadata": {
        "id": "kxrT7zSuvi3C"
      }
    },
    {
      "cell_type": "markdown",
      "source": [
        "**2. What are some of the array package's limitations ?**\n",
        "\n",
        "*Ans:*\n",
        "\n",
        "* The number of elements to be stored in an array should be known in advance. An array is a static structure. Once declared the size of the array cannot be modified. The memory which is allocated to it cannot be increased or decreased.\n",
        "\n",
        "* Insertion and deletion are quite difficult in an array as the elements are stored in consecutive memory locations and the shifting operation is costly.\n",
        "\n",
        "* Allocating more memory than the requirement leads to wastage of memory space and less allocation of memory also leads to a problem."
      ],
      "metadata": {
        "id": "jWmAcDnvvpK8"
      }
    },
    {
      "cell_type": "markdown",
      "source": [
        "**3. Describe the main differences between the array and numpy packages ?**\n",
        "\n",
        "*Ans:*\n",
        "\n",
        "* The **array** package doesn't provide any help with numerical calculation with the items insdie it in number form while **Numpy** give you a wide variety of numerical operations.\n",
        "\n",
        "* An **array** is a single dimensional entity which hold the numerical data, while **numpy** can have more than 1 dimension.\n",
        "\n",
        "* In case of **array**, item can be accessed by its index position and it is easy task while in **numpy** item is accessed by its column and row index, which makes it slightly time taking. Same goes with appending operation.\n",
        "\n",
        "* In case of **array** we do not form a tabular structure, while in **numpy** it forms a tabular structure"
      ],
      "metadata": {
        "id": "nw0-01Mjvy5z"
      }
    },
    {
      "cell_type": "markdown",
      "source": [
        "**4.  Explain the distinctions between the empty, ones, and zeros functions ?**\n",
        "\n",
        "*Ans:*\n",
        "\n",
        "* **Empty function:** An empty function is a function that does not contain any statement within its body. If you try to write a function definition without any statement in python ,it will return an error. To avoid this, we use pass statement. pass is a special statement in Python that does nothing. It only works as a dummy statement.\n",
        "\n",
        "* **Ones:** This function returns a new array of given shape and data type, where the element's value is 1.\n",
        "* **Zeros:** This function returns a new array of given shape and data type, where the element's value is 0."
      ],
      "metadata": {
        "id": "hlnEaDsTwj2i"
      }
    },
    {
      "cell_type": "markdown",
      "source": [
        "**5. In the fromfunction function, which is used to construct new arrays, what is the role of the callable argument ?**\n",
        "\n",
        "*Ans:*\n",
        "\n",
        "Its function is to execute the function over each coordinate and the resulting array. The function is called with N parameters, where N is the rank of shape. Each parameter represents the coordinates of the array varying along a specific axis."
      ],
      "metadata": {
        "id": "VTDxlwZ2zt1S"
      }
    },
    {
      "cell_type": "markdown",
      "source": [
        "**6. What happens when a numpy array is combined with a single-value operand (a scalar, such as an int or a floating-point value) through addition, as in the expression A + n ?**\n",
        "\n",
        "*Ans:*\n",
        "\n",
        " If any scaler value such as integer is added to the numpy array then all the elements inside the array will add that value in it."
      ],
      "metadata": {
        "id": "CAgfmDbOzzvW"
      }
    },
    {
      "cell_type": "markdown",
      "source": [
        "**7. Can array-to-scalar operations use combined operation-assign operators (such as += or *=)? What is the outcome?**\n",
        "\n",
        "*Ans:*\n",
        "\n",
        " It will carry out provided operation on all elements of array."
      ],
      "metadata": {
        "id": "zq1XlX070Dpk"
      }
    },
    {
      "cell_type": "markdown",
      "source": [
        "**8. Does a numpy array contain fixed-length strings? What happens if you allocate a longer string to one of these arrays ?**\n",
        "\n",
        "*Ans:*\n",
        "\n",
        " * Yes, it is possible that we can include a string of fixed length in numpy array. The dtype of any numpy array containing string values is the maximum length of any string present in the array.Once set, it will only be able to store new string having length not more than the maximum length at the time of the creation.\n",
        "\n",
        " * If we try to reassign some another string value having length greater than the maximum length of the existing elements, it simply discards all the values beyond the maximum length accept upto those values which are under the limit."
      ],
      "metadata": {
        "id": "FKborhLL0PML"
      }
    },
    {
      "cell_type": "markdown",
      "source": [
        "**9. What happens when you combine two numpy arrays using an operation like addition (+) or multiplication (*)? What are the conditions for combining two numpy arrays ?**\n",
        "\n",
        "*Ans:*\n",
        "\n",
        "It will simply add or multiply element to element at same position."
      ],
      "metadata": {
        "id": "CjdaOQz60dkr"
      }
    },
    {
      "cell_type": "markdown",
      "source": [
        "**10. What is the best way to use a Boolean array to mask another array ?**\n",
        "\n",
        "*Ans:*\n",
        "\n",
        "The best way to use a Boolean array to mask another array is by Using **masked_where** of numpy package"
      ],
      "metadata": {
        "id": "DP4F0mcH0mJ6"
      }
    },
    {
      "cell_type": "markdown",
      "source": [
        "**11. What are three different ways to get the standard deviation of a wide collection of data using both standard Python and its packages? Sort the three of them by how quickly they execute ?**\n",
        "\n",
        "*Ans:*\n",
        "\n",
        "**np.std** and math package can be used individually."
      ],
      "metadata": {
        "id": "XgTWrsBF0yEp"
      }
    },
    {
      "cell_type": "markdown",
      "source": [
        "**12. What is the dimensionality of a Boolean mask-generated array ?**\n",
        "\n",
        "*Ans:*\n",
        "\n",
        "It will have same dimensionality as input array."
      ],
      "metadata": {
        "id": "V9_lgDHU0-qf"
      }
    },
    {
      "cell_type": "code",
      "execution_count": null,
      "metadata": {
        "id": "-HTsqx_Rve3N"
      },
      "outputs": [],
      "source": []
    }
  ]
}