{
  "nbformat": 4,
  "nbformat_minor": 0,
  "metadata": {
    "colab": {
      "provenance": [],
      "authorship_tag": "ABX9TyOqLJPwOjBaPfYE7E1paxKk",
      "include_colab_link": true
    },
    "kernelspec": {
      "name": "python3",
      "display_name": "Python 3"
    },
    "language_info": {
      "name": "python"
    }
  },
  "cells": [
    {
      "cell_type": "markdown",
      "metadata": {
        "id": "view-in-github",
        "colab_type": "text"
      },
      "source": [
        "<a href=\"https://colab.research.google.com/github/Sathyakaarthi/Bootcamp-assignments-2022-2023/blob/main/Preplacement_Assignment23.ipynb\" target=\"_parent\"><img src=\"https://colab.research.google.com/assets/colab-badge.svg\" alt=\"Open In Colab\"/></a>"
      ]
    },
    {
      "cell_type": "markdown",
      "source": [
        "**Question 1**"
      ],
      "metadata": {
        "id": "DGVJCBOCN2av"
      }
    },
    {
      "cell_type": "code",
      "execution_count": 2,
      "metadata": {
        "colab": {
          "base_uri": "https://localhost:8080/"
        },
        "id": "r6pztsiXNha4",
        "outputId": "94bcc99b-1e96-4a02-b301-ecbb1e4057d1"
      },
      "outputs": [
        {
          "output_type": "stream",
          "name": "stdout",
          "text": [
            "3\n"
          ]
        }
      ],
      "source": [
        "def findDepthRec(tree, n, index) :\n",
        "\n",
        "    if (index[0] >= n or tree[index[0]] == 'l'):\n",
        "        return 0\n",
        "    index[0] += 1\n",
        "    left = findDepthRec(tree, n, index)\n",
        "    index[0] += 1\n",
        "    right = findDepthRec(tree, n, index)\n",
        "    return (max(left, right) + 1)\n",
        "def findDepth(tree, n) :\n",
        "\n",
        "    index = [0]\n",
        "    return findDepthRec(tree, n, index)\n",
        "if __name__ == '__main__':\n",
        "    tree= \"nlnnlll\"\n",
        "    n = len(tree)\n",
        "\n",
        "    print(findDepth(tree, n))"
      ]
    },
    {
      "cell_type": "markdown",
      "source": [
        "**Question 2**"
      ],
      "metadata": {
        "id": "4OtPIytPOWrm"
      }
    },
    {
      "cell_type": "code",
      "source": [
        "class Node:\n",
        "    def __init__(self, data):\n",
        "        self.data = data\n",
        "        self.left = None\n",
        "        self.right = None\n",
        "def leftViewUtil(root, level, max_level):\n",
        "    if root is None:\n",
        "        return\n",
        "    if (max_level[0] < level):\n",
        "        print (root.data, end = \" \")\n",
        "        max_level[0] = level\n",
        "    leftViewUtil(root.left, level + 1, max_level)\n",
        "    leftViewUtil(root.right, level + 1, max_level)\n",
        "def leftView(root):\n",
        "    max_level = [0]\n",
        "    leftViewUtil(root, 1, max_level)\n",
        "if __name__ == '__main__':\n",
        "    root = Node(4)\n",
        "    root.left = Node(5)\n",
        "    root.right = Node(2)\n",
        "    root.right.right = Node(1)\n",
        "    root.right.left = Node(3)\n",
        "    root.right.left.left = Node(6)\n",
        "    root.right.left.right = Node(7)\n",
        "\n",
        "    leftView(root)\n",
        ""
      ],
      "metadata": {
        "colab": {
          "base_uri": "https://localhost:8080/"
        },
        "id": "w-e7s3XJOYyY",
        "outputId": "896b1753-8aec-4682-d6de-93720924440d"
      },
      "execution_count": 5,
      "outputs": [
        {
          "output_type": "stream",
          "name": "stdout",
          "text": [
            "4 5 3 6 "
          ]
        }
      ]
    },
    {
      "cell_type": "markdown",
      "source": [
        "**Question 3**"
      ],
      "metadata": {
        "id": "sBw1dg1wPv0J"
      }
    },
    {
      "cell_type": "code",
      "source": [
        "class Node:\n",
        "    def __init__(self, item):\n",
        "        self.data = item\n",
        "        self.left = None\n",
        "        self.right = None\n",
        "\n",
        "def rightViewUtil(root, level, max_level):\n",
        "    if root is None:\n",
        "        return\n",
        "    if (max_level[0] < level):\n",
        "        print (\"%d   \" % (root.data))\n",
        "        max_level[0] = level\n",
        "    rightViewUtil(root.right, level+1, max_level)\n",
        "    rightViewUtil(root.left, level+1, max_level)\n",
        "def rightView(root):\n",
        "    max_level = [0]\n",
        "    rightViewUtil(root, 1, max_level)\n",
        "root = Node(1)\n",
        "root.left = Node(2)\n",
        "root.right = Node(3)\n",
        "root.left.left = Node(4)\n",
        "root.left.right = Node(5)\n",
        "root.right.left = Node(6)\n",
        "root.right.right = Node(7)\n",
        "root.right.left.right = Node(8)\n",
        "\n",
        "rightView(root)"
      ],
      "metadata": {
        "colab": {
          "base_uri": "https://localhost:8080/"
        },
        "id": "cRVUvGEbPyPh",
        "outputId": "152bb13f-31c1-48bb-ed1b-7922698f92a6"
      },
      "execution_count": 9,
      "outputs": [
        {
          "output_type": "stream",
          "name": "stdout",
          "text": [
            "1   \n",
            "3   \n",
            "7   \n",
            "8   \n"
          ]
        }
      ]
    },
    {
      "cell_type": "markdown",
      "source": [
        "**Question 4**"
      ],
      "metadata": {
        "id": "L2drVmh-QbSI"
      }
    },
    {
      "cell_type": "code",
      "source": [
        "from collections import deque\n",
        "class Node:\n",
        "\n",
        "    def __init__(self, key):\n",
        "\n",
        "        self.data = key\n",
        "        self.hd = float('inf')\n",
        "        self.left = None\n",
        "        self.right = None\n",
        "def bottomView(root):\n",
        "\n",
        "    if (root == None):\n",
        "        return\n",
        "    hd = 0\n",
        "    min_hd, max_hd = 0, 0\n",
        "\n",
        "    hd_dict = dict()\n",
        "    q = deque()\n",
        "    root.hd = hd\n",
        "    q.append(root)\n",
        "    while q:\n",
        "        curr_node = q.popleft()\n",
        "        hd = curr_node.hd\n",
        "        min_hd = min(min_hd, hd)\n",
        "        max_hd = max(max_hd, hd)\n",
        "        hd_dict[hd] = curr_node.data\n",
        "        if curr_node.left:\n",
        "            curr_node.left.hd = hd - 1\n",
        "            q.append(curr_node.left)\n",
        "        if curr_node.right:\n",
        "            curr_node.right.hd = hd + 1\n",
        "            q.append(curr_node.right)\n",
        "    for i in range(min_hd, max_hd+1):\n",
        "        print(hd_dict[i], end = ' ')\n",
        "if __name__=='__main__':\n",
        "\n",
        "    root = Node(20)\n",
        "    root.left = Node(8)\n",
        "    root.right = Node(22)\n",
        "    root.left.left = Node(5)\n",
        "    root.left.right = Node(3)\n",
        "    root.right.left = Node(4)\n",
        "    root.right.right = Node(25)\n",
        "    root.left.right.left = Node(10)\n",
        "    root.left.right.right = Node(14)\n",
        "\n",
        "    print(\"Bottom view of the given binary tree :\")\n",
        "\n",
        "    bottomView(root)"
      ],
      "metadata": {
        "colab": {
          "base_uri": "https://localhost:8080/"
        },
        "id": "CPT7OniWQddp",
        "outputId": "244cddad-ed31-4103-91ac-7b8eeac0f1ff"
      },
      "execution_count": 11,
      "outputs": [
        {
          "output_type": "stream",
          "name": "stdout",
          "text": [
            "Bottom view of the given binary tree :\n",
            "5 10 4 14 25 "
          ]
        }
      ]
    }
  ]
}