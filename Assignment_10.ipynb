{
  "nbformat": 4,
  "nbformat_minor": 0,
  "metadata": {
    "colab": {
      "provenance": [],
      "authorship_tag": "ABX9TyP52Zc2L8piA3tGs3mE6ctf",
      "include_colab_link": true
    },
    "kernelspec": {
      "name": "python3",
      "display_name": "Python 3"
    },
    "language_info": {
      "name": "python"
    }
  },
  "cells": [
    {
      "cell_type": "markdown",
      "metadata": {
        "id": "view-in-github",
        "colab_type": "text"
      },
      "source": [
        "<a href=\"https://colab.research.google.com/github/Sathyakaarthi/Bootcamp-assignments-2022-2023/blob/main/Assignment_10.ipynb\" target=\"_parent\"><img src=\"https://colab.research.google.com/assets/colab-badge.svg\" alt=\"Open In Colab\"/></a>"
      ]
    },
    {
      "cell_type": "markdown",
      "source": [
        "**1. How do you distinguish between shutil.copy() and shutil.copytree()?**\n",
        "\n",
        "*Ans:*\n",
        "\n",
        "* ***shutil. copy()*** will copy a single file.\n",
        "* ***shutil. copytree()*** will copy an entire folder and every folder and file contained in it.\n",
        "\n"
      ],
      "metadata": {
        "id": "bJN6sPwhPpl0"
      }
    },
    {
      "cell_type": "markdown",
      "source": [
        "**2. What function is used to rename files?**\n",
        "\n",
        "*Ans:*\n",
        "\n",
        "shutil.move() will rename files.\n",
        "\n",
        "\n",
        "\n"
      ],
      "metadata": {
        "id": "F3TAMtteQIt4"
      }
    },
    {
      "cell_type": "markdown",
      "source": [
        "**3. What is the difference between the delete functions in the send2trash and shutil modules?**\n",
        "\n",
        "*Ans:*\n",
        "\n",
        "* The ***send2trash*** will move a file or folder to the recycle bin.\n",
        "* ***shutil.rmtree()*** will permanently delete files and folders.\n"
      ],
      "metadata": {
        "id": "y1fKVxqUQ59c"
      }
    },
    {
      "cell_type": "markdown",
      "source": [
        "**4. ZipFile objects have a close() method just like File objects’ close() method. What ZipFile method is equivalent to File objects’ open() method?**\n",
        "\n",
        "*Ans:*\n",
        "\n",
        "The zipfile. ZipFile() function is equivalent to the open() function; the first argument is the filename, and the second argument is the mode to open the ZIP file.\n",
        "\n"
      ],
      "metadata": {
        "id": "Dlu5XG8QRlKa"
      }
    },
    {
      "cell_type": "markdown",
      "source": [
        "**5. Create a programme that searches a folder tree for files with a certain file extension (such as .pdf or .jpg). Copy these files from whatever location they are in to a new folder.**"
      ],
      "metadata": {
        "id": "S5ZIrCCAR6Sp"
      }
    },
    {
      "cell_type": "code",
      "execution_count": 1,
      "metadata": {
        "colab": {
          "base_uri": "https://localhost:8080/"
        },
        "id": "TqQwA5DNPXp1",
        "outputId": "f95dd5e2-7c59-4100-9dc3-b3ce61137729"
      },
      "outputs": [
        {
          "output_type": "stream",
          "name": "stdout",
          "text": [
            "Looking in /content/randomFolder for files with extensions of .php, .py\n"
          ]
        }
      ],
      "source": [
        "import os, shutil\n",
        "\n",
        "def selectiveCopy(folder, extensions, destFolder):\n",
        "    folder = os.path.abspath(folder)\n",
        "    destFolder = os.path.abspath(destFolder)\n",
        "    print('Looking in', folder, 'for files with extensions of', ', '.join(extensions))\n",
        "    for foldername, subfolders, filenames in os.walk(folder):\n",
        "        for filename in filenames:\n",
        "            name, extension = os.path.splitext(filename)\n",
        "            if extension in extensions:\n",
        "                fileAbsPath = foldername + os.path.sep + filename\n",
        "                print('Coping', fileAbsPath, 'to', destFolder)\n",
        "                shutil.copy(fileAbsPath, destFolder)\n",
        "\n",
        "extensions = ['.php', '.py']\n",
        "folder = 'randomFolder'\n",
        "destFolder = 'selectiveFolder'\n",
        "selectiveCopy(folder, extensions, destFolder)"
      ]
    },
    {
      "cell_type": "markdown",
      "source": [],
      "metadata": {
        "id": "CBPRQeJZPo7s"
      }
    }
  ]
}