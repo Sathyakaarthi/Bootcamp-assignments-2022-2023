{
  "nbformat": 4,
  "nbformat_minor": 0,
  "metadata": {
    "colab": {
      "provenance": [],
      "authorship_tag": "ABX9TyP1h0llSKYPpIvtYxVyO0Ri",
      "include_colab_link": true
    },
    "kernelspec": {
      "name": "python3",
      "display_name": "Python 3"
    },
    "language_info": {
      "name": "python"
    }
  },
  "cells": [
    {
      "cell_type": "markdown",
      "metadata": {
        "id": "view-in-github",
        "colab_type": "text"
      },
      "source": [
        "<a href=\"https://colab.research.google.com/github/Sathyakaarthi/Bootcamp-assignments-2022-2023/blob/main/Array_Assignment3.ipynb\" target=\"_parent\"><img src=\"https://colab.research.google.com/assets/colab-badge.svg\" alt=\"Open In Colab\"/></a>"
      ]
    },
    {
      "cell_type": "markdown",
      "source": [
        "**Question 1:**"
      ],
      "metadata": {
        "id": "G5RxyZ_Mkv7H"
      }
    },
    {
      "cell_type": "code",
      "source": [
        "def threeSumClosest(nums, target):\n",
        "    nums.sort() \n",
        "    n = len(nums)\n",
        "    closest_sum = float('inf')\n",
        "\n",
        "    for i in range(n - 2):\n",
        "        left = i + 1\n",
        "        right = n - 1\n",
        "\n",
        "        while left < right:\n",
        "            current_sum = nums[i] + nums[left] + nums[right]\n",
        "            if current_sum == target:\n",
        "                return target\n",
        "\n",
        "            if abs(current_sum - target) < abs(closest_sum - target):\n",
        "                closest_sum = current_sum\n",
        "\n",
        "            if current_sum < target:\n",
        "                left += 1\n",
        "            else:\n",
        "                right -= 1\n",
        "\n",
        "    return closest_sum\n",
        "nums = [-1, 2, 1, -4]\n",
        "target = 1\n",
        "result = threeSumClosest(nums, target)\n",
        "print(result) \n",
        "\n"
      ],
      "metadata": {
        "colab": {
          "base_uri": "https://localhost:8080/"
        },
        "id": "JQCm7-Q7kzNs",
        "outputId": "7a95d452-f61f-45b0-d3db-8898b8e00d8c"
      },
      "execution_count": 10,
      "outputs": [
        {
          "output_type": "stream",
          "name": "stdout",
          "text": [
            "2\n"
          ]
        }
      ]
    },
    {
      "cell_type": "markdown",
      "source": [
        "**Question 2**"
      ],
      "metadata": {
        "id": "B3YrJhzOqo0v"
      }
    },
    {
      "cell_type": "code",
      "source": [
        "def four_sum(nums, target):\n",
        "    nums.sort() \n",
        "    n = len(nums)\n",
        "    quadruplets = []\n",
        "\n",
        "    for i in range(n - 3):\n",
        "        # Skip duplicate values for i\n",
        "        if i > 0 and nums[i] == nums[i - 1]:\n",
        "            continue\n",
        "\n",
        "        for j in range(i + 1, n - 2):\n",
        "            # Skip duplicate values for j\n",
        "            if j > i + 1 and nums[j] == nums[j - 1]:\n",
        "                continue\n",
        "\n",
        "            left = j + 1\n",
        "            right = n - 1\n",
        "\n",
        "            while left < right:\n",
        "                current_sum = nums[i] + nums[j] + nums[left] + nums[right]\n",
        "\n",
        "                if current_sum == target:\n",
        "                    quadruplets.append([nums[i], nums[j], nums[left], nums[right]])\n",
        "\n",
        "                    while left < right and nums[left] == nums[left + 1]:\n",
        "                        left += 1\n",
        "                    while left < right and nums[right] == nums[right - 1]:\n",
        "                        right -= 1\n",
        "\n",
        "                    left += 1\n",
        "                    right -= 1\n",
        "                elif current_sum < target:\n",
        "                    left += 1\n",
        "                else:\n",
        "                    right -= 1\n",
        "\n",
        "    return quadruplets\n",
        "nums = [1, 0, -1, 0, -2, 2]\n",
        "target = 0\n",
        "result = four_sum(nums, target)\n",
        "print(result) \n",
        "\n"
      ],
      "metadata": {
        "colab": {
          "base_uri": "https://localhost:8080/"
        },
        "id": "hIi3S0k1qabG",
        "outputId": "cde7834d-bf3b-478e-d16e-794378c198ef"
      },
      "execution_count": 11,
      "outputs": [
        {
          "output_type": "stream",
          "name": "stdout",
          "text": [
            "[[-2, -1, 1, 2], [-2, 0, 0, 2], [-1, 0, 0, 1]]\n"
          ]
        }
      ]
    },
    {
      "cell_type": "markdown",
      "source": [
        "**Question 3:**"
      ],
      "metadata": {
        "id": "hpT52_Bwqtef"
      }
    },
    {
      "cell_type": "code",
      "source": [
        "import itertools\n",
        "\n",
        "def permute(nums):\n",
        "    return list(itertools.permutations(nums))\n",
        "nums = [1, 2, 3]\n",
        "result = permute(nums)\n",
        "print(result)"
      ],
      "metadata": {
        "colab": {
          "base_uri": "https://localhost:8080/"
        },
        "id": "ug4cg5SZq4vB",
        "outputId": "48d15a05-bf17-4c2e-eba7-2fb2ed0e50f1"
      },
      "execution_count": 12,
      "outputs": [
        {
          "output_type": "stream",
          "name": "stdout",
          "text": [
            "[(1, 2, 3), (1, 3, 2), (2, 1, 3), (2, 3, 1), (3, 1, 2), (3, 2, 1)]\n"
          ]
        }
      ]
    },
    {
      "cell_type": "markdown",
      "source": [
        "**Question 4:**"
      ],
      "metadata": {
        "id": "MVNaf9Tgs7qq"
      }
    },
    {
      "cell_type": "code",
      "source": [
        "def search_insert(nums, target):\n",
        "    left = 0\n",
        "    right = len(nums) - 1\n",
        "\n",
        "    while left <= right:\n",
        "        mid = left + (right - left) // 2\n",
        "\n",
        "        if nums[mid] == target:\n",
        "            return mid\n",
        "        elif nums[mid] < target:\n",
        "            left = mid + 1\n",
        "        else:\n",
        "            right = mid - 1\n",
        "\n",
        "    return left\n",
        "nums = [1, 3, 5, 6]\n",
        "target = 5\n",
        "result = search_insert(nums, target)\n",
        "print(result)\n"
      ],
      "metadata": {
        "colab": {
          "base_uri": "https://localhost:8080/"
        },
        "id": "_8EyopHWs-Qw",
        "outputId": "2c909ae4-45f5-41b0-872b-d2475a93c070"
      },
      "execution_count": 15,
      "outputs": [
        {
          "output_type": "stream",
          "name": "stdout",
          "text": [
            "2\n"
          ]
        }
      ]
    },
    {
      "cell_type": "markdown",
      "source": [
        "**Question 5:**"
      ],
      "metadata": {
        "id": "9PD0MbwDwI2y"
      }
    },
    {
      "cell_type": "code",
      "source": [
        "def plusOne(digits):\n",
        "    n = len(digits)\n",
        "    \n",
        "    digits[n-1] += 1\n",
        "    carry = digits[n-1] // 10\n",
        "    digits[n-1] %= 10\n",
        "    \n",
        "    for i in range(n-2, -1, -1):\n",
        "        if carry == 1:\n",
        "            digits[i] += 1\n",
        "            carry = digits[i] // 10\n",
        "            digits[i] %= 10\n",
        "    \n",
        "  \n",
        "    if carry == 1:\n",
        "        digits.insert(0, carry)\n",
        "    \n",
        "    return digits\n",
        "digits = [1, 2, 9]\n",
        "result = plusOne(digits)\n",
        "print(result) "
      ],
      "metadata": {
        "colab": {
          "base_uri": "https://localhost:8080/"
        },
        "id": "4k3C6lBvwhOL",
        "outputId": "de7a861e-9166-4987-f43f-e97d2024c409"
      },
      "execution_count": 18,
      "outputs": [
        {
          "output_type": "stream",
          "name": "stdout",
          "text": [
            "[1, 3, 0]\n"
          ]
        }
      ]
    },
    {
      "cell_type": "markdown",
      "source": [
        "**Question 6:**"
      ],
      "metadata": {
        "id": "M6ExPcouwt8e"
      }
    },
    {
      "cell_type": "code",
      "source": [
        "def singleNumber(nums):\n",
        "    result = 0\n",
        "\n",
        "    for num in nums:\n",
        "        result ^= num\n",
        "\n",
        "    return result\n",
        "nums = [2, 2, 1]\n",
        "result = singleNumber(nums)\n",
        "print(result) "
      ],
      "metadata": {
        "colab": {
          "base_uri": "https://localhost:8080/"
        },
        "id": "6935sSuEww2J",
        "outputId": "8e6302ec-0afe-41fe-d8f3-47db32fd50d1"
      },
      "execution_count": 19,
      "outputs": [
        {
          "output_type": "stream",
          "name": "stdout",
          "text": [
            "1\n"
          ]
        }
      ]
    },
    {
      "cell_type": "markdown",
      "source": [
        "**Question 7:**"
      ],
      "metadata": {
        "id": "ieA_4-_qze-s"
      }
    },
    {
      "cell_type": "code",
      "source": [
        "def findMissRanges(nums, lower, upper):\n",
        "    miss_ranges = []\n",
        "    \n",
        "    def addRange(start, end):\n",
        "        if start == end:\n",
        "            miss_ranges.append(str(start))\n",
        "        else:\n",
        "            miss_ranges.append(str(start) + \",\" + str(end))\n",
        "    \n",
        "    if nums[0] > lower:\n",
        "        addRange(lower, nums[0] - 1)\n",
        "    \n",
        "    for i in range(1, len(nums)):\n",
        "        if nums[i] - nums[i-1] > 1:\n",
        "            addRange(nums[i-1] + 1, nums[i] - 1)\n",
        "    \n",
        "    if nums[-1] < upper:\n",
        "        addRange(nums[-1] + 1, upper)\n",
        "    \n",
        "    return miss_ranges\n",
        "nums = [0, 1, 3, 50, 75]\n",
        "lower = 0\n",
        "upper = 99\n",
        "result = findMissRanges(nums, lower, upper)\n",
        "print(result) "
      ],
      "metadata": {
        "colab": {
          "base_uri": "https://localhost:8080/"
        },
        "id": "By5SKFhazjfy",
        "outputId": "74c80a4e-dd06-413e-e8dd-49d3748e95c7"
      },
      "execution_count": 22,
      "outputs": [
        {
          "output_type": "stream",
          "name": "stdout",
          "text": [
            "['2', '4,49', '51,74', '76,99']\n"
          ]
        }
      ]
    },
    {
      "cell_type": "markdown",
      "source": [
        "**Question 8:**"
      ],
      "metadata": {
        "id": "vcEigmQm1vH9"
      }
    },
    {
      "cell_type": "code",
      "source": [
        "def can_attend_meetings(intervals):\n",
        "    intervals.sort(key=lambda x: x[0]) \n",
        "    \n",
        "    for i in range(1, len(intervals)):\n",
        "        if intervals[i][0] < intervals[i-1][1]:\n",
        "            return False \n",
        "    \n",
        "    return True \n",
        "intervals = [[0, 30], [5, 10], [15, 20]]\n",
        "result = can_attend_meetings(intervals)\n",
        "print(result) "
      ],
      "metadata": {
        "colab": {
          "base_uri": "https://localhost:8080/"
        },
        "id": "xVXrmsZm1ygr",
        "outputId": "a642a51f-da40-43cd-e7e9-e8a8f4eabcde"
      },
      "execution_count": 24,
      "outputs": [
        {
          "output_type": "stream",
          "name": "stdout",
          "text": [
            "False\n"
          ]
        }
      ]
    }
  ]
}