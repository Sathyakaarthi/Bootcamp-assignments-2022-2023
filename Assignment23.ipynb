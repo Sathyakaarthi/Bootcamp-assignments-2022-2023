{
  "nbformat": 4,
  "nbformat_minor": 0,
  "metadata": {
    "colab": {
      "provenance": [],
      "authorship_tag": "ABX9TyPCuyM0ughK2+SZgGuLdz6W",
      "include_colab_link": true
    },
    "kernelspec": {
      "name": "python3",
      "display_name": "Python 3"
    },
    "language_info": {
      "name": "python"
    }
  },
  "cells": [
    {
      "cell_type": "markdown",
      "metadata": {
        "id": "view-in-github",
        "colab_type": "text"
      },
      "source": [
        "<a href=\"https://colab.research.google.com/github/Sathyakaarthi/Bootcamp-assignments-2022-2023/blob/main/Assignment23.ipynb\" target=\"_parent\"><img src=\"https://colab.research.google.com/assets/colab-badge.svg\" alt=\"Open In Colab\"/></a>"
      ]
    },
    {
      "cell_type": "markdown",
      "source": [
        "**1. What is the result of the code, and why?**\n",
        "\n",
        "\\>>> def func(a, b=6, c=8):\n",
        "\n",
        "print(a, b, c)\n",
        "\n",
        "\\>>> func(1, 2)"
      ],
      "metadata": {
        "id": "hB8k6jfuK-Ce"
      }
    },
    {
      "cell_type": "code",
      "source": [
        "def func(a,b=6,c=8):\n",
        "    print(a,b,c)\n",
        "func(1,2)"
      ],
      "metadata": {
        "colab": {
          "base_uri": "https://localhost:8080/"
        },
        "id": "9zOvYZwLLH7r",
        "outputId": "fe4126da-7392-4f90-e1cf-aee7a51410e9"
      },
      "execution_count": 1,
      "outputs": [
        {
          "output_type": "stream",
          "name": "stdout",
          "text": [
            "1 2 8\n"
          ]
        }
      ]
    },
    {
      "cell_type": "markdown",
      "source": [
        "func() takes two values, that is 1 and 2 for a and b respectively, but the func() is defined to take 3 values, as in func() we pass only two values, the third value comes from the default value, that is c = 8.\n",
        "\n"
      ],
      "metadata": {
        "id": "Pyure37MLmt0"
      }
    },
    {
      "cell_type": "markdown",
      "source": [
        "**2. What is the result of this code, and why?**\n",
        "\n",
        "\\>>> def func(a, b, c=5):\n",
        "\n",
        "print(a, b, c)\n",
        "\n",
        "\\>>> func(1, c=3, b=2)"
      ],
      "metadata": {
        "id": "B_3QJ7dlLxhS"
      }
    },
    {
      "cell_type": "code",
      "source": [
        "def func(a, b, c=5):\n",
        "    print(a, b, c)\n",
        "func(1, c=3, b=2)"
      ],
      "metadata": {
        "colab": {
          "base_uri": "https://localhost:8080/"
        },
        "id": "Eexyeg3TMIz2",
        "outputId": "727a950e-fe28-4508-d5b8-15b3f1118f9c"
      },
      "execution_count": 2,
      "outputs": [
        {
          "output_type": "stream",
          "name": "stdout",
          "text": [
            "1 2 3\n"
          ]
        }
      ]
    },
    {
      "cell_type": "markdown",
      "source": [
        " The func() takes three values, that is 1 , c= 3 snd b = 2 respectively, the func() is defined to take 3 values, as in func() we pass three values, the default values gets overwritten, and we get the newly passed values."
      ],
      "metadata": {
        "id": "JtXAKfbyMX57"
      }
    },
    {
      "cell_type": "markdown",
      "source": [
        "**3. How about this code: what is its result, and why?**\n",
        "\n",
        "\\>>> def func(a, *pargs):\n",
        "\n",
        "print(a, pargs)\n",
        "\n",
        "\\>>> func(1, 2, 3)"
      ],
      "metadata": {
        "id": "KcQyCYbbMuZw"
      }
    },
    {
      "cell_type": "code",
      "source": [
        "def func(a, *pargs):\n",
        "    print(a,pargs)\n",
        "func(1,2,3)\n"
      ],
      "metadata": {
        "colab": {
          "base_uri": "https://localhost:8080/"
        },
        "id": "e0R54HXyM3L7",
        "outputId": "739a3a14-deb6-4910-939a-1fc6dae34d22"
      },
      "execution_count": 3,
      "outputs": [
        {
          "output_type": "stream",
          "name": "stdout",
          "text": [
            "1 (2, 3)\n"
          ]
        }
      ]
    },
    {
      "cell_type": "markdown",
      "source": [
        "*pargs in function definitions in python is used to pass a variable number of arguments to a function. It is used to pass a non-key worded, variable-length argument list.\n",
        "\n",
        "This format is used when we are not sure about the no of arguments to be passed to a function. all the values under this argument will be stored in a tuple."
      ],
      "metadata": {
        "id": "KWGaUCi2NjQB"
      }
    },
    {
      "cell_type": "markdown",
      "source": [
        "**4. What does this code print, and why?**\n",
        "\n",
        "\\>>> def func(a, **kargs):\n",
        "\n",
        "print(a, kargs)\n",
        "\n",
        "\\>>> func(a=1, c=3, b=2)\n",
        "\n"
      ],
      "metadata": {
        "id": "pQAJPN6CNv71"
      }
    },
    {
      "cell_type": "code",
      "source": [
        "def func(a,**kargs):\n",
        "    print(a,kargs)\n",
        "func(a=1,c=3,b=2)"
      ],
      "metadata": {
        "colab": {
          "base_uri": "https://localhost:8080/"
        },
        "id": "GsWh7pcwN-lZ",
        "outputId": "d93e4a61-c97d-4536-9c1c-cfa6d777c15b"
      },
      "execution_count": 4,
      "outputs": [
        {
          "output_type": "stream",
          "name": "stdout",
          "text": [
            "1 {'c': 3, 'b': 2}\n"
          ]
        }
      ]
    },
    {
      "cell_type": "markdown",
      "source": [
        "**Kargs stands for variable length keyword arguments. this format is used when we want pass key value pairs as input to a function. All these key value pairs will be stored in a dictionary."
      ],
      "metadata": {
        "id": "Cbm4xSstOOjD"
      }
    },
    {
      "cell_type": "markdown",
      "source": [
        "**5. What gets printed by this, and explain?**\n",
        "\n",
        "\\>>> def func(a, b, c=8, d=5): print(a, b, c, d)\n",
        "\n",
        "\\>>> func(1, *(5, 6))"
      ],
      "metadata": {
        "id": "eX9lYsuVOVKM"
      }
    },
    {
      "cell_type": "code",
      "source": [
        "def func(a,b,c=8,d=5):\n",
        "    print(a,b,c,d)\n",
        "func(1,*(5,6))"
      ],
      "metadata": {
        "colab": {
          "base_uri": "https://localhost:8080/"
        },
        "id": "8ULPGbQvO7KO",
        "outputId": "66c299d7-ad29-423d-9bcd-f2e5f86dfa53"
      },
      "execution_count": 5,
      "outputs": [
        {
          "output_type": "stream",
          "name": "stdout",
          "text": [
            "1 5 6 5\n"
          ]
        }
      ]
    },
    {
      "cell_type": "markdown",
      "source": [
        "The value for a is provided explicitly whereas for arguments b and c, the function will expand the *(5,6) and consider the value of b as 5 and value of c as 6. since the default value of d is provided in function declaration d value will be 5. However it is recommended to use the feature of positional arguments at the end."
      ],
      "metadata": {
        "id": "jvbUvkjbO80R"
      }
    },
    {
      "cell_type": "markdown",
      "source": [
        "**6. what is the result of this, and explain?**\n",
        "\n",
        "\\>>> def func(a, b, c): a = 2; b[0] = 'x'; c['a'] = 'y'\n",
        "\n",
        "\\>>> l=1; m=[1]; n={'a':0}\n",
        "\n",
        "\\>>> func(l, m, n)\n",
        "\n",
        "\\>>> l, m, n"
      ],
      "metadata": {
        "id": "BG4sgiwxPLch"
      }
    },
    {
      "cell_type": "code",
      "source": [
        "def func(a, b, c): a = 2; b[0] = 'x'; c['a'] = 'y'\n",
        "l=1; m=[1]; n={'a':0}\n",
        "func(l, m, n)\n",
        "l,m,n"
      ],
      "metadata": {
        "colab": {
          "base_uri": "https://localhost:8080/"
        },
        "id": "oCTdYxUKPX7n",
        "outputId": "59b49468-4f80-4c04-ac9b-63e8d7edb490"
      },
      "execution_count": 6,
      "outputs": [
        {
          "output_type": "execute_result",
          "data": {
            "text/plain": [
              "(1, ['x'], {'a': 'y'})"
            ]
          },
          "metadata": {},
          "execution_count": 6
        }
      ]
    },
    {
      "cell_type": "markdown",
      "source": [
        "When l,m,n are provided as inputs to the function. its modifies the values of l,m,n and sets the value of l=2 ,m=['x'] and n={'a':'y'}"
      ],
      "metadata": {
        "id": "sBtPKx_6Pvd2"
      }
    }
  ]
}