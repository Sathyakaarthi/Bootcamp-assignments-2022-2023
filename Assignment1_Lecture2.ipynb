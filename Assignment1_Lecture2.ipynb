{
  "nbformat": 4,
  "nbformat_minor": 0,
  "metadata": {
    "colab": {
      "provenance": [],
      "authorship_tag": "ABX9TyOSKHrfpX7f2vTvAow4Jv4Y",
      "include_colab_link": true
    },
    "kernelspec": {
      "name": "python3",
      "display_name": "Python 3"
    },
    "language_info": {
      "name": "python"
    }
  },
  "cells": [
    {
      "cell_type": "markdown",
      "metadata": {
        "id": "view-in-github",
        "colab_type": "text"
      },
      "source": [
        "<a href=\"https://colab.research.google.com/github/Sathyakaarthi/Bootcamp-assignments-2022-2023/blob/main/Assignment1_Lecture2.ipynb\" target=\"_parent\"><img src=\"https://colab.research.google.com/assets/colab-badge.svg\" alt=\"Open In Colab\"/></a>"
      ]
    },
    {
      "cell_type": "markdown",
      "source": [
        "**1. Write a Python program to reverse a string without using any built-in string reversal functions.**"
      ],
      "metadata": {
        "id": "CEsKYv2CollN"
      }
    },
    {
      "cell_type": "code",
      "source": [
        "#user-defined function\n",
        "def findReverse(string):\n",
        "   #find reverse of string using 'while' loop\n",
        "   i = string\n",
        "   reverse = ''\n",
        "   while(len(i) > 0):\n",
        "      if(len(i) > 0):\n",
        "         a = i[-1]\n",
        "         i = i[:-1]\n",
        "         reverse += a\n",
        "   return reverse\n",
        "# getting inputs\n",
        "string = input(\"Enter the string: \")\n",
        "\n",
        "# calling function\n",
        "reverse = findReverse(string)\n",
        "#display result\n",
        "print(\"The reversed string is\", reverse)"
      ],
      "metadata": {
        "colab": {
          "base_uri": "https://localhost:8080/"
        },
        "id": "k5EcbbxronWZ",
        "outputId": "9e613e70-788d-46d1-aeca-84c8307b4b26"
      },
      "execution_count": 2,
      "outputs": [
        {
          "output_type": "stream",
          "name": "stdout",
          "text": [
            "Enter the string: Python\n",
            "The reversed string is nohtyP\n"
          ]
        }
      ]
    },
    {
      "cell_type": "markdown",
      "source": [
        "**2. Implement a function to check if a given string is a palindrome.**"
      ],
      "metadata": {
        "id": "MxPRN-p7pMao"
      }
    },
    {
      "cell_type": "code",
      "source": [
        "#defining function\n",
        "def is_Palindrome(string):\n",
        "    # checking whether the given string is palindrome or not\n",
        "    if (string == string[::-1]):\n",
        "      return \"The given string is a palindrome.\"\n",
        "    else:\n",
        "      return \"The given string is not a palindrome.\"\n",
        "\n",
        "#Enter input string\n",
        "string = input (\"Enter the string:\")\n",
        "#printing the reversed string\n",
        "print (\"The reversed string is : \",string[::-1])\n",
        "# printing whether the given string is palindrome or not\n",
        "print(is_Palindrome(string))"
      ],
      "metadata": {
        "colab": {
          "base_uri": "https://localhost:8080/"
        },
        "id": "g3kWyJWEpof7",
        "outputId": "4419bae1-e13c-4b6d-8e23-b7292e85ae2f"
      },
      "execution_count": 7,
      "outputs": [
        {
          "output_type": "stream",
          "name": "stdout",
          "text": [
            "Enter the string:madam\n",
            "The reversed string is :  madam\n",
            "The given string is a palindrome.\n"
          ]
        }
      ]
    },
    {
      "cell_type": "markdown",
      "source": [
        "**3. Write a program to find the largest element in a given list.**"
      ],
      "metadata": {
        "id": "HC_8UULIri3D"
      }
    },
    {
      "cell_type": "code",
      "source": [
        "li = [] #declaration of list\n",
        "#Getting user input for getting number of elements in the list\n",
        "n = int(input(\"Enter the number of elements: \"))\n",
        "#Getting elements in the list using for loop\n",
        "for i in range(1, n+1):\n",
        "    elem = int(input(\"Enter the elements: \"))\n",
        "    li.append(elem)\n",
        "li.sort()\n",
        "# Printing the sorted list\n",
        "print(\"The sorted List: \",li)\n",
        "# Printing the maximum element\n",
        "print(\"Largest element is:\", max(li))"
      ],
      "metadata": {
        "colab": {
          "base_uri": "https://localhost:8080/"
        },
        "id": "zdraCQier7Ax",
        "outputId": "cd434d58-5b6c-4954-82b5-ec327d7385fb"
      },
      "execution_count": 11,
      "outputs": [
        {
          "output_type": "stream",
          "name": "stdout",
          "text": [
            "Enter the number of elements: 5\n",
            "Enter the elements: 65\n",
            "Enter the elements: 34\n",
            "Enter the elements: 98\n",
            "Enter the elements: 27\n",
            "Enter the elements: 74\n",
            "The sorted List:  [27, 34, 65, 74, 98]\n",
            "Largest element is: 98\n"
          ]
        }
      ]
    },
    {
      "cell_type": "markdown",
      "source": [
        "**4. Implement a function to count the occurrence of each element in a list.**"
      ],
      "metadata": {
        "id": "VB4voBFgxmoM"
      }
    },
    {
      "cell_type": "code",
      "source": [
        "#function for counting\n",
        "def count_occurrence(list, n):\n",
        "\n",
        "#counter variable\n",
        "    count=0\n",
        "    for i in list:\n",
        "        if(i==n):\n",
        "          #update counter variable\n",
        "            count=count+1\n",
        "    return count\n",
        "\n",
        "#input list\n",
        "li=[]\n",
        "n=int(input(\"Enter size of list \"))\n",
        "for i in range(0,n):\n",
        "    e=int(input(\"Enter element of list \"))\n",
        "    li.append(e)\n",
        "print(\"Original list: \",li)\n",
        "\n",
        "x=int(input(\"Enter element to be checked list: \"))\n",
        "\n",
        "#function call\n",
        "print(x,\" has occurred \",count_occurrence(li, x),\"times\")"
      ],
      "metadata": {
        "colab": {
          "base_uri": "https://localhost:8080/"
        },
        "id": "jjfUiyL8yi7l",
        "outputId": "eb4ab17b-b13b-4b59-d081-148da54f786a"
      },
      "execution_count": 13,
      "outputs": [
        {
          "output_type": "stream",
          "name": "stdout",
          "text": [
            "Enter size of list 8\n",
            "Enter element of list 23\n",
            "Enter element of list 54\n",
            "Enter element of list 23\n",
            "Enter element of list 76\n",
            "Enter element of list 23\n",
            "Enter element of list 87\n",
            "Enter element of list 54\n",
            "Enter element of list 88\n",
            "Original list:  [23, 54, 23, 76, 23, 87, 54, 88]\n",
            "Enter element to be checked list: 54\n",
            "54  has occurred  2 times\n"
          ]
        }
      ]
    },
    {
      "cell_type": "markdown",
      "source": [
        "**5. Write a Python program to find the second largest number in a list.**"
      ],
      "metadata": {
        "id": "uwD0FZNSyy3N"
      }
    },
    {
      "cell_type": "code",
      "source": [
        "li = [] #declaration of list\n",
        "#Getting user input for getting number of elements in the list\n",
        "n = int(input(\"Enter the number of elements: \"))\n",
        "#Getting elements in the list using for loop\n",
        "for i in range(1, n+1):\n",
        "    elem = int(input(\"Enter the elements: \"))\n",
        "    li.append(elem)\n",
        "#sorting elemetns in the list\n",
        "li.sort()\n",
        "# Printing the sorted list\n",
        "print(\"The sorted List: \",li)\n",
        "# Printing the second largest element in the list\n",
        "print(\"The second largest value of sorted list: \",li[n-2])"
      ],
      "metadata": {
        "colab": {
          "base_uri": "https://localhost:8080/"
        },
        "id": "Ss5vlhIQy4aL",
        "outputId": "57eaab45-871b-403b-f2d3-59df865fbae5"
      },
      "execution_count": 14,
      "outputs": [
        {
          "output_type": "stream",
          "name": "stdout",
          "text": [
            "Enter the number of elements: 5\n",
            "Enter the elements: 65\n",
            "Enter the elements: 34\n",
            "Enter the elements: 76\n",
            "Enter the elements: 87\n",
            "Enter the elements: 39\n",
            "The sorted List:  [34, 39, 65, 76, 87]\n",
            "The second largest value of sorted list:  76\n"
          ]
        }
      ]
    },
    {
      "cell_type": "markdown",
      "source": [
        "**6. Implement a function to remove duplicate elements from a list.**"
      ],
      "metadata": {
        "id": "airMldm5zAKf"
      }
    },
    {
      "cell_type": "code",
      "source": [
        "li = []\n",
        "n = int(input(\"Enter the number of elements: \"))\n",
        "#Getting elements in the list using for loop\n",
        "for i in range(1, n+1):\n",
        "    elem = input(\"Enter the elements: \")\n",
        "    li.append(elem)\n",
        "#defining function for removing duplicate elements\n",
        "def remove_dup(a):\n",
        "   i = 0\n",
        "   while i < len(a):\n",
        "      j = i + 1\n",
        "      while j < len(a):\n",
        "         if a[i] == a[j]:\n",
        "            del a[j]\n",
        "         else:\n",
        "            j += 1\n",
        "      i += 1\n",
        "# removing duplicate elements from the list\n",
        "remove_dup(li)\n",
        "print(\"Lists after duplicate elements from the list: \", li)\n"
      ],
      "metadata": {
        "colab": {
          "base_uri": "https://localhost:8080/"
        },
        "id": "B3tqgywjz4up",
        "outputId": "58204cf3-5799-4002-9008-17fadc146054"
      },
      "execution_count": 21,
      "outputs": [
        {
          "output_type": "stream",
          "name": "stdout",
          "text": [
            "Enter the number of elements: 5\n",
            "Enter the elements: rose\n",
            "Enter the elements: jasmine\n",
            "Enter the elements: rose\n",
            "Enter the elements: lilly\n",
            "Enter the elements: lavender\n",
            "Lists after duplicate elements from the list:  ['rose', 'jasmine', 'lilly', 'lavender']\n"
          ]
        }
      ]
    },
    {
      "cell_type": "markdown",
      "source": [
        "**7. Write a program to calculate the factorial of a given number.**"
      ],
      "metadata": {
        "id": "iNuN96ha1_fn"
      }
    },
    {
      "cell_type": "code",
      "source": [
        "n = int(input(\"Enter input number : \"))\n",
        "\n",
        "fact = 1\n",
        "if n < 0:\n",
        "    print(\"Factorial does not exist for negative numbers\")\n",
        "elif n == 0:\n",
        "    print(\"The factorial of 0 is 1\")\n",
        "else:\n",
        "    for i in range(1, n + 1):\n",
        "        fact = fact * i\n",
        "    print(\"The factorial of\", n, \"is\", fact)"
      ],
      "metadata": {
        "colab": {
          "base_uri": "https://localhost:8080/"
        },
        "id": "jH-YJIjQ2qB7",
        "outputId": "c7753f58-d0e7-49d2-c3e9-881f1a79f241"
      },
      "execution_count": 25,
      "outputs": [
        {
          "output_type": "stream",
          "name": "stdout",
          "text": [
            "Enter input number : 5\n",
            "The factorial of 5 is 120\n"
          ]
        }
      ]
    },
    {
      "cell_type": "markdown",
      "source": [
        "**8. Implement a function to check if a given number is prime.**"
      ],
      "metadata": {
        "id": "IbZ9AW6s20jn"
      }
    },
    {
      "cell_type": "code",
      "source": [
        "# To take input from the user\n",
        "num = int(input(\"Enter a number: \"))\n",
        "# define a flag variable\n",
        "flag = False\n",
        "\n",
        "if num == 1:\n",
        "    print(num, \"is not a prime number\")\n",
        "elif num > 1:\n",
        "    # check for factors using for loop\n",
        "    for i in range(2, num):\n",
        "        if (num % i) == 0:\n",
        "            # if factor is found, set flag to True\n",
        "            flag = True\n",
        "            # break out of loop\n",
        "            break\n",
        "\n",
        "    # check if flag is True\n",
        "    if flag:\n",
        "        print(num, \"is not a prime number\")\n",
        "    else:\n",
        "        print(num, \"is a prime number\")"
      ],
      "metadata": {
        "colab": {
          "base_uri": "https://localhost:8080/"
        },
        "id": "MnSjFk563tSl",
        "outputId": "316b4ddf-a011-4e94-9517-01f5cc665863"
      },
      "execution_count": 28,
      "outputs": [
        {
          "output_type": "stream",
          "name": "stdout",
          "text": [
            "Enter a number: 64\n",
            "64 is not a prime number\n"
          ]
        }
      ]
    },
    {
      "cell_type": "markdown",
      "source": [
        "**9. Write a Python program to sort a list of integers in ascending order.**"
      ],
      "metadata": {
        "id": "0ZDVtumR4dNg"
      }
    },
    {
      "cell_type": "code",
      "source": [
        "li = [] #declaration of list\n",
        "#Getting user input for getting number of elements in the list\n",
        "n = int(input(\"Enter the number of elements: \"))\n",
        "#Getting elements in the list using for loop\n",
        "for i in range(1, n+1):\n",
        "    elem = int(input(\"Enter the elements: \"))\n",
        "    li.append(elem)\n",
        "#sorting elemetns in the list\n",
        "li.sort()\n",
        "# Printing the sorted list\n",
        "print(\"The sorted Lis in ascending order: \",li)"
      ],
      "metadata": {
        "colab": {
          "base_uri": "https://localhost:8080/"
        },
        "id": "ZghpUoAp5lsl",
        "outputId": "53866f5b-77dc-4ef0-f956-c220b80b7326"
      },
      "execution_count": 32,
      "outputs": [
        {
          "output_type": "stream",
          "name": "stdout",
          "text": [
            "Enter the number of elements: 5\n",
            "Enter the elements: 78\n",
            "Enter the elements: 45\n",
            "Enter the elements: 98\n",
            "Enter the elements: 34\n",
            "Enter the elements: 90\n",
            "The sorted Lis in ascending order:  [34, 45, 78, 90, 98]\n"
          ]
        }
      ]
    },
    {
      "cell_type": "markdown",
      "source": [
        "**10. Implement a function to find the sum of all numbers in a list.**"
      ],
      "metadata": {
        "id": "ZIfqxyjp56_W"
      }
    },
    {
      "cell_type": "code",
      "source": [
        "li = [] #declaration of list\n",
        "#Getting user input for getting number of elements in the list\n",
        "n = int(input(\"Enter the number of elements: \"))\n",
        "#Getting elements in the list using for loop\n",
        "for i in range(1, n+1):\n",
        "    elem = int(input(\"Enter the elements: \"))\n",
        "    li.append(elem)\n",
        "#function to defining sum\n",
        "def sum(li):\n",
        "    total = 0\n",
        "    for x in li:\n",
        "        total += x\n",
        "    return total\n",
        "#Printing sum of elements\n",
        "print(\"Sum of elements: \", sum(li))"
      ],
      "metadata": {
        "colab": {
          "base_uri": "https://localhost:8080/"
        },
        "id": "yztBNtOU5-76",
        "outputId": "ce77dfe2-57ad-4c19-e9d0-73773078d167"
      },
      "execution_count": 36,
      "outputs": [
        {
          "output_type": "stream",
          "name": "stdout",
          "text": [
            "Enter the number of elements: 5\n",
            "Enter the elements: 76\n",
            "Enter the elements: 23\n",
            "Enter the elements: 87\n",
            "Enter the elements: 45\n",
            "Enter the elements: 98\n",
            "Sum of elements:  329\n"
          ]
        }
      ]
    },
    {
      "cell_type": "markdown",
      "source": [
        "**11. Write a program to find the common elements between two lists.**"
      ],
      "metadata": {
        "id": "CJTHeeLS67y-"
      }
    },
    {
      "cell_type": "code",
      "source": [
        "def common_elements(a, b):\n",
        "   seta = set(a)\n",
        "   setb = set(b)\n",
        "   if (seta & setb):\n",
        "      print(\"Common Element : \",seta & setb)\n",
        "   else:\n",
        "      print(\"No common elements\")\n",
        "\n",
        "A=list()\n",
        "n=int(input(\"Enter the size of the first list :\"))\n",
        "print(\"Enter the elements of first list :\")\n",
        "for i in range(int(n)):\n",
        "   k=int(input(\"\"))\n",
        "   A.append(k)\n",
        "B=list()\n",
        "n=int(input(\"Enter the size of the second list :\"))\n",
        "print(\"Enter the elements of second list :\")\n",
        "for i in range(int(n)):\n",
        "   k=int(input(\"\"))\n",
        "   B.append(k)\n",
        "common_elements(A,B)"
      ],
      "metadata": {
        "colab": {
          "base_uri": "https://localhost:8080/"
        },
        "id": "QVNTESs_7AcA",
        "outputId": "513cb8a3-8192-451a-92a3-df155e423436"
      },
      "execution_count": 39,
      "outputs": [
        {
          "output_type": "stream",
          "name": "stdout",
          "text": [
            "Enter the size of the first list :5\n",
            "Enter the elements of first list :\n",
            "54\n",
            "13\n",
            "65\n",
            "34\n",
            "87\n",
            "Enter the size of the second list :5\n",
            "Enter the elements of second list :\n",
            "43\n",
            "87\n",
            "54\n",
            "98\n",
            "66\n",
            "Common Element :  {54, 87}\n"
          ]
        }
      ]
    },
    {
      "cell_type": "markdown",
      "source": [
        "**12. Implement a function to check if a given string is an anagram of another string.**"
      ],
      "metadata": {
        "id": "VHXOZAjN8cFn"
      }
    },
    {
      "cell_type": "code",
      "source": [
        "def is_anagram(str1, str2):\n",
        "    if len(str1) != len(str2):\n",
        "        return False\n",
        "\n",
        "    if len(str1) == 1:\n",
        "        return str1 == str2\n",
        "\n",
        "    for i in range(len(str1)):\n",
        "        if str1[i] in str2:\n",
        "            remaining_chars = str2[:str2.index(str1[i])] + str2[str2.index(str1[i]) + 1:]\n",
        "            if is_anagram(str1[:i] + str1[i+1:], remaining_chars):\n",
        "                return True\n",
        "\n",
        "    return False\n",
        "\n",
        "# Test the function\n",
        "string1 = input(\"Enter the first string: \")\n",
        "string2 = input(\"Enter the second string: \")\n",
        "\n",
        "if is_anagram(string1, string2):\n",
        "    print(\"The strings are anagrams.\")\n",
        "else:\n",
        "    print(\"The strings are not anagrams.\")"
      ],
      "metadata": {
        "colab": {
          "base_uri": "https://localhost:8080/"
        },
        "id": "PLwDrh2F9_Zf",
        "outputId": "6f19a59e-c728-4a5b-abdb-74e4f7a8624e"
      },
      "execution_count": 41,
      "outputs": [
        {
          "output_type": "stream",
          "name": "stdout",
          "text": [
            "Enter the first string: teacher\n",
            "Enter the second string: hcaetre\n",
            "The strings are anagrams.\n"
          ]
        }
      ]
    },
    {
      "cell_type": "markdown",
      "source": [
        "**13. Write a Python program to generate all permutations of a given string.**"
      ],
      "metadata": {
        "id": "3xHp8tyy-W_9"
      }
    },
    {
      "cell_type": "code",
      "source": [
        "def permute(s, answer):\n",
        "    if (len(s) == 0):\n",
        "        print(answer, end = \"  \")\n",
        "        return\n",
        "\n",
        "    for i in range(len(s)):\n",
        "        ch = s[i]\n",
        "        left_substr = s[0:i]\n",
        "        right_substr = s[i + 1:]\n",
        "        rest = left_substr + right_substr\n",
        "        permute(rest, answer + ch)\n",
        "ans = \"\"\n",
        "s = input(\"Enter the string : \")\n",
        "print(\"All possible permutations of strings are : \")\n",
        "permute(s, ans)"
      ],
      "metadata": {
        "colab": {
          "base_uri": "https://localhost:8080/"
        },
        "id": "hnMWD90r-b5N",
        "outputId": "492e5a51-d297-4f91-cb94-07c6e60c0fe2"
      },
      "execution_count": 43,
      "outputs": [
        {
          "output_type": "stream",
          "name": "stdout",
          "text": [
            "Enter the string : XYZ\n",
            "All possible permutations of strings are : \n",
            "XYZ  XZY  YXZ  YZX  ZXY  ZYX  "
          ]
        }
      ]
    },
    {
      "cell_type": "markdown",
      "source": [
        "**14. Implement a function to calculate the Fibonacci sequence up to a given number of terms.**"
      ],
      "metadata": {
        "id": "nEG6KYAR_6BB"
      }
    },
    {
      "cell_type": "code",
      "source": [
        "def fibonacci_Series(Number):\n",
        "\tif Number == 0:\n",
        "\t\treturn 0\n",
        "\telif Number == 1:\n",
        "\t\treturn 1\n",
        "\telse:\n",
        "\t\treturn fibonacci_Series(Number - 1) + fibonacci_Series(Number - 2)\n",
        "n = int(input(\"Enter a number : \"))\n",
        "print(\"Fibonacci series of given number :\", end=' ')\n",
        "for n in range(0, n):\n",
        "\tprint(fibonacci_Series(n), end=' ')"
      ],
      "metadata": {
        "colab": {
          "base_uri": "https://localhost:8080/"
        },
        "id": "NkMIQX4vAAvD",
        "outputId": "6bc7ad5b-43a1-4598-aa9a-4ab32f77f780"
      },
      "execution_count": 45,
      "outputs": [
        {
          "output_type": "stream",
          "name": "stdout",
          "text": [
            "Enter a number : 7\n",
            "Fibonacci series of given number : 0 1 1 2 3 5 8 "
          ]
        }
      ]
    },
    {
      "cell_type": "markdown",
      "source": [
        "**15. Write a program to find the median of a list of numbers.**"
      ],
      "metadata": {
        "id": "2x5UMS71CZMi"
      }
    },
    {
      "cell_type": "code",
      "source": [
        "li = []\n",
        "n = int(input(\"Enter the number of elements: \"))\n",
        "for i in range(1, n+1):\n",
        "    elem = int(input(\"Enter the elements: \"))\n",
        "    li.append(elem)\n",
        "print (li)\n",
        "def median(li):\n",
        "    li.sort()\n",
        "    print (\"Sorted list : \", li)\n",
        "    l = len(li)\n",
        "\n",
        "    mid = (l-1)//2\n",
        "\n",
        "    if(l%2==0):\n",
        "        return (li[mid] + li[mid+1])/2\n",
        "    else:\n",
        "        return li[mid]\n",
        "\n",
        "print(\"Median of the given list = \", median(li))\n"
      ],
      "metadata": {
        "colab": {
          "base_uri": "https://localhost:8080/"
        },
        "id": "cJkOZh0kCd1G",
        "outputId": "411313bf-d2e6-4ce0-e040-eef5d7886e11"
      },
      "execution_count": 51,
      "outputs": [
        {
          "output_type": "stream",
          "name": "stdout",
          "text": [
            "Enter the number of elements: 5\n",
            "Enter the elements: 4\n",
            "Enter the elements: 7\n",
            "Enter the elements: 3\n",
            "Enter the elements: 9\n",
            "Enter the elements: 6\n",
            "[4, 7, 3, 9, 6]\n",
            "Sorted list :  [3, 4, 6, 7, 9]\n",
            "Median of the given list =  6\n"
          ]
        }
      ]
    },
    {
      "cell_type": "markdown",
      "source": [
        "**16. Implement a function to check if a given list is sorted in non-decreasing order.**"
      ],
      "metadata": {
        "id": "JSbV0teAUj3O"
      }
    },
    {
      "cell_type": "code",
      "source": [
        "def is_sorted(lst):\n",
        "    for i in range(len(lst) - 1):\n",
        "        if lst[i] > lst[i + 1]:\n",
        "            return False\n",
        "    return True\n",
        "my_list = [1, 2, 3, 4, 5]\n",
        "print(\"The list is in non-decreasing order\",is_sorted(my_list))\n",
        "my_list = [5, 3, 2, 1]\n",
        "print(\"The list is not in non-decreasing order\",is_sorted(my_list))"
      ],
      "metadata": {
        "colab": {
          "base_uri": "https://localhost:8080/"
        },
        "id": "itJbcvSdWJmX",
        "outputId": "fc628228-d64d-42fa-821e-8beeb97a36d5"
      },
      "execution_count": 2,
      "outputs": [
        {
          "output_type": "stream",
          "name": "stdout",
          "text": [
            "The list is in non-decreasing order True\n",
            "The list is not in non-decreasing order False\n"
          ]
        }
      ]
    },
    {
      "cell_type": "markdown",
      "source": [
        "**17. Write a Python program to find the intersection of two lists.**"
      ],
      "metadata": {
        "id": "JSd_FZG0YlK2"
      }
    },
    {
      "cell_type": "code",
      "source": [
        "def intersection(list1, list2):\n",
        "    list3 = [value for value in list1 if value in list2]\n",
        "    return list3\n",
        "list1 = [5, 7, 34, 56, 76, 12, 67]\n",
        "list2 = [9, 9, 74, 21, 34, 11, 63, 7]\n",
        "print(intersection(list1, list2))"
      ],
      "metadata": {
        "colab": {
          "base_uri": "https://localhost:8080/"
        },
        "id": "c52rNND_Y03p",
        "outputId": "06234f31-2f76-44f5-b7fa-6e5b32fb484c"
      },
      "execution_count": 4,
      "outputs": [
        {
          "output_type": "stream",
          "name": "stdout",
          "text": [
            "[7, 34]\n"
          ]
        }
      ]
    },
    {
      "cell_type": "markdown",
      "source": [
        "**18. Implement a function to find the maximum subarray sum in a given list.**"
      ],
      "metadata": {
        "id": "rrh9ty-mZsse"
      }
    },
    {
      "cell_type": "code",
      "source": [
        "from sys import maxsize\n",
        "def maximumSubarraySum(A,n):\n",
        "    maxSum = -100000001;\n",
        "    for i in range(0,n):\n",
        "        currSum=0\n",
        "        for j in range(i,n):\n",
        "            currSum += A[j]\n",
        "            maxSum=max(maxSum,currSum)\n",
        "\n",
        "    print (maxSum)\n",
        "\n",
        "a = [-2, -3, 4, -1, -2, 1, 5, -3]\n",
        "maximumSubarraySum(a,len(a))"
      ],
      "metadata": {
        "colab": {
          "base_uri": "https://localhost:8080/"
        },
        "id": "Btxg4v3NcKqH",
        "outputId": "f1e94b42-dfba-45ae-b5a9-1224da6101e3"
      },
      "execution_count": 8,
      "outputs": [
        {
          "output_type": "stream",
          "name": "stdout",
          "text": [
            "7\n"
          ]
        }
      ]
    },
    {
      "cell_type": "markdown",
      "source": [
        "**19. Write a program to remove all vowels from a given string.**"
      ],
      "metadata": {
        "id": "zw3-zcKbcf4g"
      }
    },
    {
      "cell_type": "code",
      "source": [
        "def rem_vowel(string):\n",
        "    vowels = ['a','e','i','o','u']\n",
        "    result = [letter for letter in string if letter.lower() not in vowels]\n",
        "    result = ''.join(result)\n",
        "    print(result)\n",
        "\n",
        "string = input(\"Enter the string : \")\n",
        "rem_vowel(string)\n",
        "string = input(\"Enter the string : \")\n",
        "rem_vowel(string)"
      ],
      "metadata": {
        "colab": {
          "base_uri": "https://localhost:8080/"
        },
        "id": "h-dubdExcjSr",
        "outputId": "d4de0851-3bee-4b63-913e-4fc7d0bb8b53"
      },
      "execution_count": 10,
      "outputs": [
        {
          "output_type": "stream",
          "name": "stdout",
          "text": [
            "Enter the string : I like python coding\n",
            " lk pythn cdng\n",
            "Enter the string : computer science\n",
            "cmptr scnc\n"
          ]
        }
      ]
    },
    {
      "cell_type": "markdown",
      "source": [
        "**20.  Implement a function to reverse the order of words in a given sentence.**"
      ],
      "metadata": {
        "id": "KrvBWcSyc-3b"
      }
    },
    {
      "cell_type": "code",
      "source": [
        "string = input(\"Enter a sentence: \")\n",
        "split_str = string.split(' ')\n",
        "reversed_str = reversed(split_str)\n",
        "final_str = ' '.join(reversed_str)\n",
        "print(\"Reversed string: \" , final_str)"
      ],
      "metadata": {
        "colab": {
          "base_uri": "https://localhost:8080/"
        },
        "id": "VczXMxWWdEYS",
        "outputId": "f68b2999-1517-4165-d471-36fbbe001efd"
      },
      "execution_count": 12,
      "outputs": [
        {
          "output_type": "stream",
          "name": "stdout",
          "text": [
            "Enter a sentence: I love Python coding\n",
            "Reversed string:  coding Python love I\n"
          ]
        }
      ]
    },
    {
      "cell_type": "markdown",
      "source": [
        "**21. Write a Python program to check if two strings are anagrams of each other.**"
      ],
      "metadata": {
        "id": "5ioJAT1beDrv"
      }
    },
    {
      "cell_type": "code",
      "source": [
        "def check_anagram(s1, s2):\n",
        "    if(sorted(s1)== sorted(s2)):\n",
        "        print(\"The strings are anagrams.\")\n",
        "    else:\n",
        "        print(\"The strings aren't anagrams.\")\n",
        "\n",
        "s1 = input (\"Enter a string: \")\n",
        "s2 = input (\"Enter a string: \")\n",
        "check_anagram(s1, s2)"
      ],
      "metadata": {
        "colab": {
          "base_uri": "https://localhost:8080/"
        },
        "id": "7KgFOSk1eX0R",
        "outputId": "0447251d-4d19-4c94-c525-6e2c2b62e3bd"
      },
      "execution_count": 13,
      "outputs": [
        {
          "output_type": "stream",
          "name": "stdout",
          "text": [
            "Enter a string: silent\n",
            "Enter a string: listen\n",
            "The strings are anagrams.\n"
          ]
        }
      ]
    },
    {
      "cell_type": "markdown",
      "source": [
        "**22. Implement a function to find the first non-repeating character in a string.**"
      ],
      "metadata": {
        "id": "4sqamb9regBS"
      }
    },
    {
      "cell_type": "code",
      "source": [
        "def first_non_repeating_char(string):\n",
        "    char_count = {}\n",
        "\n",
        "    for char in string:\n",
        "        if char in char_count:\n",
        "            char_count[char] += 1\n",
        "        else:\n",
        "            char_count[char] = 1\n",
        "    for char in string:\n",
        "        if char_count[char] == 1:\n",
        "            return char\n",
        "    return None\n",
        "input_string = \"aaabcdbccef\"\n",
        "result = first_non_repeating_char(input_string)\n",
        "print(\"First non-repeating character is : \", result)\n"
      ],
      "metadata": {
        "colab": {
          "base_uri": "https://localhost:8080/"
        },
        "id": "zgD8p2vpgTe9",
        "outputId": "75a0681f-a67b-457c-ba75-c967c9a0d4f5"
      },
      "execution_count": 15,
      "outputs": [
        {
          "output_type": "stream",
          "name": "stdout",
          "text": [
            "First non-repeating character is :  d\n"
          ]
        }
      ]
    },
    {
      "cell_type": "markdown",
      "source": [
        "**23. Write a program to find the prime factors of a given number.**"
      ],
      "metadata": {
        "id": "N6hkff48gn1z"
      }
    },
    {
      "cell_type": "code",
      "source": [
        "import math\n",
        "\n",
        "def find_prime_factors(n):\n",
        "    factors = []\n",
        "    while n % 2 == 0:\n",
        "        factors.append(2)\n",
        "        n = n // 2\n",
        "    for i in range(3, int(math.sqrt(n)) + 1, 2):\n",
        "        while n % i == 0:\n",
        "            factors.append(i)\n",
        "            n = n // i\n",
        "    if n > 2:\n",
        "        factors.append(n)\n",
        "\n",
        "    return factors\n",
        "number = int(input(\"Enter a number : \"))\n",
        "result = find_prime_factors(number)\n",
        "print(\"Prime factors of\", number, \"are:\", result)"
      ],
      "metadata": {
        "colab": {
          "base_uri": "https://localhost:8080/"
        },
        "id": "Fgk0TOPghlzN",
        "outputId": "c648913c-a6fd-477a-ab36-cdb7f96d586f"
      },
      "execution_count": 19,
      "outputs": [
        {
          "output_type": "stream",
          "name": "stdout",
          "text": [
            "Enter a number : 24\n",
            "Prime factors of 24 are: [2, 2, 2, 3]\n"
          ]
        }
      ]
    },
    {
      "cell_type": "markdown",
      "source": [
        "**24. Implement a function to check if a given number is a power of two.**"
      ],
      "metadata": {
        "id": "02NviB9Ch8vJ"
      }
    },
    {
      "cell_type": "code",
      "source": [
        "def pow_of_two(n):\n",
        "    if n <= 0:\n",
        "        return False\n",
        "    return (n & (n - 1)) == 0\n",
        "\n",
        "num = int(input(\"Enter a number: \"))\n",
        "if pow_of_two(num):\n",
        "    print(num, \"is a power of two.\")\n",
        "else:\n",
        "    print(num, \"is not a power of two.\")"
      ],
      "metadata": {
        "colab": {
          "base_uri": "https://localhost:8080/"
        },
        "id": "Phm1WdnejVu5",
        "outputId": "95f08128-484d-4498-8db6-5bbceba74445"
      },
      "execution_count": 24,
      "outputs": [
        {
          "output_type": "stream",
          "name": "stdout",
          "text": [
            "Enter a number: 32\n",
            "32 is a power of two.\n"
          ]
        }
      ]
    },
    {
      "cell_type": "markdown",
      "source": [
        "**25. Write a Python program to merge two sorted lists into a single sorted list.**"
      ],
      "metadata": {
        "id": "dIpzOCMyjn7z"
      }
    },
    {
      "cell_type": "code",
      "source": [
        "def unsortedarray (a, b, res, n, m):\n",
        "   a.sort()\n",
        "   b.sort()\n",
        "   i, j, k = 0, 0, 0\n",
        "   while (i < n and j < m):\n",
        "      if (a[i] <= b[j]):\n",
        "         res[k] = a[i]\n",
        "         i += 1\n",
        "         k += 1\n",
        "      else:\n",
        "         res[k] = b[j]\n",
        "         j += 1\n",
        "         k += 1\n",
        "   while (i < n):\n",
        "      res[k] = a[i]\n",
        "      i += 1\n",
        "      k += 1\n",
        "   while (j < m):\n",
        "      res[k] = b[j]\n",
        "      j += 1\n",
        "      k += 1\n",
        "A=list()\n",
        "n=int(input(\"Enter the size of the First List :\"))\n",
        "print(\"Enter the Element of First List :\")\n",
        "for i in range(int(n)):\n",
        "   k=int(input(\"\"))\n",
        "   A.append(k)\n",
        "B=list()\n",
        "m=int(input(\"Enter the size of the Second List :\"))\n",
        "print(\"Enter the Element of Second List :\")\n",
        "for i in range(int(n)):\n",
        "   k=int(input(\"\"))\n",
        "   B.append(k)\n",
        "# Final merge list\n",
        "result = [0 for i in range(n + m)]\n",
        "unsortedarray(A, B, result, n, m)\n",
        "print (\"Sorted merged list :\")\n",
        "for i in range(n + m):\n",
        "   print (result[i],)"
      ],
      "metadata": {
        "colab": {
          "base_uri": "https://localhost:8080/"
        },
        "id": "tQGGTfAejtbI",
        "outputId": "60955ee9-63ec-4eab-b33a-345b87d5410f"
      },
      "execution_count": 29,
      "outputs": [
        {
          "output_type": "stream",
          "name": "stdout",
          "text": [
            "Enter the size of the First List :5\n",
            "Enter the Element of First List :\n",
            "21\n",
            "43\n",
            "65\n",
            "18\n",
            "53\n",
            "Enter the size of the Second List :5\n",
            "Enter the Element of Second List :\n",
            "87\n",
            "23\n",
            "17\n",
            "34\n",
            "64\n",
            "Sorted merged list :\n",
            "17\n",
            "18\n",
            "21\n",
            "23\n",
            "34\n",
            "43\n",
            "53\n",
            "64\n",
            "65\n",
            "87\n"
          ]
        }
      ]
    },
    {
      "cell_type": "markdown",
      "source": [
        "**26. Implement a function to find the mode of a list of numbers.**"
      ],
      "metadata": {
        "id": "eibqxkd3k81_"
      }
    },
    {
      "cell_type": "code",
      "source": [
        "import collections\n",
        "num_list = [32, 43, 54, 43, 32, 32]\n",
        "print(\"The given list : \", num_list)\n",
        "data = collections.Counter(num_list)\n",
        "data_list = dict(data)\n",
        "print(data_list)\n",
        "max_value = max(list(data.values()))\n",
        "mode_val = [num for num, freq in data_list.items() if freq == max_value]\n",
        "if len(mode_val) == len(num_list):\n",
        "   print(\"No mode in the list\")\n",
        "else:\n",
        "   print(\"The Mode of the list is : \" + ', '.join(map(str, mode_val)))"
      ],
      "metadata": {
        "colab": {
          "base_uri": "https://localhost:8080/"
        },
        "id": "sl6bDgYtlv3o",
        "outputId": "248d09f1-aa05-4063-ced6-bfa987b03f6b"
      },
      "execution_count": 33,
      "outputs": [
        {
          "output_type": "stream",
          "name": "stdout",
          "text": [
            "The given list :  [32, 43, 54, 43, 32, 32]\n",
            "{32: 3, 43: 2, 54: 1}\n",
            "The Mode of the list is : 32\n"
          ]
        }
      ]
    },
    {
      "cell_type": "markdown",
      "source": [
        "**27. Write a program to find the greatest common divisor (GCD) of two numbers.**"
      ],
      "metadata": {
        "id": "QPujjI3WmWnE"
      }
    },
    {
      "cell_type": "code",
      "source": [
        "n1 = int(input(\"Enter the 1st number: \"))\n",
        "n2 = int(input(\"Enter the 2nd number: \"))\n",
        "i = 1\n",
        "while(i <= n1 and i <= n2):\n",
        "  if(n1 % i == 0 and n2 % i == 0):\n",
        "    gcd = i\n",
        "  i = i + 1\n",
        "print(\"GCD of {} and {} is : \".format(n1,n2) ,gcd)"
      ],
      "metadata": {
        "colab": {
          "base_uri": "https://localhost:8080/"
        },
        "id": "ainWiiEvmfgF",
        "outputId": "112844d5-6fad-4b5d-fc50-24b6fae6b53e"
      },
      "execution_count": 34,
      "outputs": [
        {
          "output_type": "stream",
          "name": "stdout",
          "text": [
            "Enter the 1st number: 24\n",
            "Enter the 2nd number: 56\n",
            "GCD of 24 and 56 is :  8\n"
          ]
        }
      ]
    },
    {
      "cell_type": "markdown",
      "source": [
        "**28.  Implement a function to calculate the square root of a given number.**"
      ],
      "metadata": {
        "id": "CokH-0olmlka"
      }
    },
    {
      "cell_type": "code",
      "source": [
        "num = float(input('Enter a number: '))\n",
        "\n",
        "num_sqrt = num ** 0.5\n",
        "print('The square root of %0.3f is %0.3f'%(num ,num_sqrt))"
      ],
      "metadata": {
        "colab": {
          "base_uri": "https://localhost:8080/"
        },
        "id": "lAvGm6qzmt5g",
        "outputId": "ca412bc3-bfa4-4a99-8834-4e1f3886bb5b"
      },
      "execution_count": 35,
      "outputs": [
        {
          "output_type": "stream",
          "name": "stdout",
          "text": [
            "Enter a number: 8\n",
            "The square root of 8.000 is 2.828\n"
          ]
        }
      ]
    },
    {
      "cell_type": "markdown",
      "source": [
        "**29. Write a Python program to check if a given string is a valid palindrome ignoring non-alphanumeric characters.**"
      ],
      "metadata": {
        "id": "y-0V5858m95D"
      }
    },
    {
      "cell_type": "code",
      "source": [
        "import re\n",
        "\n",
        "def is_valid_palindrome(s):\n",
        "    s = re.sub('[^a-zA-Z0-9]', '', s)\n",
        "    s = s.lower()\n",
        "    return s == s[::-1]\n",
        "\n",
        "string1 = \"A man, a plan, a canal, Panama!\"\n",
        "string2 = \"Hello, World!\"\n",
        "\n",
        "print(is_valid_palindrome(string1))\n",
        "print(is_valid_palindrome(string2))\n"
      ],
      "metadata": {
        "colab": {
          "base_uri": "https://localhost:8080/"
        },
        "id": "pOFvivykn0Q7",
        "outputId": "52184bc1-9a9a-46c5-c78c-a61911a7b216"
      },
      "execution_count": 39,
      "outputs": [
        {
          "output_type": "stream",
          "name": "stdout",
          "text": [
            "True\n",
            "False\n"
          ]
        }
      ]
    },
    {
      "cell_type": "markdown",
      "source": [
        "**30. Implement a function to find the minimum element in a rotated sorted list.**"
      ],
      "metadata": {
        "id": "Dif1sH6goCvY"
      }
    },
    {
      "cell_type": "code",
      "source": [
        "def find_minimum(nums):\n",
        "    left = 0\n",
        "    right = len(nums) - 1\n",
        "\n",
        "    while left < right:\n",
        "        mid = (left + right) // 2\n",
        "        if nums[mid] > nums[right]:\n",
        "            left = mid + 1\n",
        "        elif nums[mid] < nums[right]:\n",
        "            right = mid\n",
        "        else:\n",
        "            right -= 1\n",
        "    return nums[left]\n",
        "nums1 = [5, 6, 7, 1, 2, 3]\n",
        "nums2 = [7, 8, 9, 5, 6, 7]\n",
        "\n",
        "print(find_minimum(nums1))\n",
        "print(find_minimum(nums2))\n"
      ],
      "metadata": {
        "colab": {
          "base_uri": "https://localhost:8080/"
        },
        "id": "ffYZk_AWoG02",
        "outputId": "b21adf25-35d3-4012-c206-759c84285854"
      },
      "execution_count": 42,
      "outputs": [
        {
          "output_type": "stream",
          "name": "stdout",
          "text": [
            "1\n",
            "5\n"
          ]
        }
      ]
    },
    {
      "cell_type": "markdown",
      "source": [
        "**31. Write a program to find the sum of all even numbers in a list.**"
      ],
      "metadata": {
        "id": "DsXQ70op-ck8"
      }
    },
    {
      "cell_type": "code",
      "source": [
        "def sum_even_num(numbers):\n",
        "    total = 0\n",
        "    for num in numbers:\n",
        "        if num % 2 == 0:\n",
        "            total += num\n",
        "    return total\n",
        "\n",
        "my_list = [21, 32, 15, 65, 74, 83]\n",
        "result = sum_even_num(my_list)\n",
        "print(\"Sum of even numbers:\", result)"
      ],
      "metadata": {
        "colab": {
          "base_uri": "https://localhost:8080/"
        },
        "id": "4oJ5oAke_pDn",
        "outputId": "c65c051f-fdb4-4207-804a-bd943c07a948"
      },
      "execution_count": 43,
      "outputs": [
        {
          "output_type": "stream",
          "name": "stdout",
          "text": [
            "Sum of even numbers: 106\n"
          ]
        }
      ]
    },
    {
      "cell_type": "markdown",
      "source": [
        "**32. Implement a function to calculate the power of a number using recursion**"
      ],
      "metadata": {
        "id": "IxvJQx6FADxz"
      }
    },
    {
      "cell_type": "code",
      "source": [
        "def power(base,exp):\n",
        "    if(exp  == 1):\n",
        "        return(base)\n",
        "    if(exp!= 1):\n",
        "        return(base*power(base,exp-1))\n",
        "base = int(input(\"Enter the base value: \"))\n",
        "exp = int(input(\"Enter exponential value: \"))\n",
        "print(\"Result:\",power(base,exp))"
      ],
      "metadata": {
        "colab": {
          "base_uri": "https://localhost:8080/"
        },
        "id": "n2-ak70DAIkB",
        "outputId": "5124ccb1-764d-48d3-ab25-383b76dae437"
      },
      "execution_count": 44,
      "outputs": [
        {
          "output_type": "stream",
          "name": "stdout",
          "text": [
            "Enter the base value: 5\n",
            "Enter exponential value: 2\n",
            "Result: 25\n"
          ]
        }
      ]
    },
    {
      "cell_type": "markdown",
      "source": [
        "**33. Write a Python program to remove duplicates from a list while preserving the order.**"
      ],
      "metadata": {
        "id": "1Pdm8JhaAt2o"
      }
    },
    {
      "cell_type": "code",
      "source": [
        "def remove_duplicates(lst):\n",
        "    seen = set()\n",
        "    return [x for x in lst if not (x in seen or seen.add(x))]\n",
        "my_list = [10, 20, 30, 10, 40, 20, 50, 30]\n",
        "result = remove_duplicates(my_list)\n",
        "print(\"List without duplicates:\", result)"
      ],
      "metadata": {
        "colab": {
          "base_uri": "https://localhost:8080/"
        },
        "id": "gGPtLFvsB9QK",
        "outputId": "77572f91-e6d4-478e-e67b-7c9c78d6b9d9"
      },
      "execution_count": 47,
      "outputs": [
        {
          "output_type": "stream",
          "name": "stdout",
          "text": [
            "List without duplicates: [10, 20, 30, 40, 50]\n"
          ]
        }
      ]
    },
    {
      "cell_type": "markdown",
      "source": [
        "**34. Implement a function to find the longest common prefix among a list of strings.**"
      ],
      "metadata": {
        "id": "DId11n31CG0m"
      }
    },
    {
      "cell_type": "code",
      "source": [
        "def longestCommonPrefix(my_str):\n",
        "    if my_str == []:\n",
        "        return ''\n",
        "    if len(my_str) == 1:\n",
        "        return my_str[0]\n",
        "    my_str.sort()\n",
        "    shortest = my_str[0]\n",
        "    prefix = ''\n",
        "    for i in range(len(shortest)):\n",
        "        if my_str[len(my_str) - 1][i] == shortest[i]:\n",
        "            prefix += my_str[len(my_str) - 1][i]\n",
        "        else:\n",
        "            break\n",
        "    return prefix\n",
        "\n",
        "my_list_1 = ['car', 'carbon', 'vehicle']\n",
        "my_list_2 = ['car', 'cardomon', 'carbondioxide']\n",
        "print(longestCommonPrefix(my_list_1))\n",
        "print(longestCommonPrefix(my_list_2))"
      ],
      "metadata": {
        "colab": {
          "base_uri": "https://localhost:8080/"
        },
        "id": "aDKMayXSCL2A",
        "outputId": "e49db12b-7111-453e-a1e6-f31b43e3220c"
      },
      "execution_count": 49,
      "outputs": [
        {
          "output_type": "stream",
          "name": "stdout",
          "text": [
            "\n",
            "car\n"
          ]
        }
      ]
    },
    {
      "cell_type": "markdown",
      "source": [
        "**35. Write a program to check if a given number is a perfect square.**"
      ],
      "metadata": {
        "id": "R0VksNYVCjV3"
      }
    },
    {
      "cell_type": "code",
      "source": [
        "def isPerfectSquare(x):\n",
        "\n",
        "    #if x >= 0,\n",
        "    if(x >= 0):\n",
        "        sr = int(math.sqrt(x))\n",
        "        # sqrt function returns floating value so we have to convert it into integer\n",
        "        #return boolean T/F\n",
        "        return ((sr*sr) == x)\n",
        "    return false\n",
        "\n",
        "# Driver code\n",
        "\n",
        "\n",
        "x = int(input(\"Enter a number: \"))\n",
        "if (isPerfectSquare(x)):\n",
        "    print(\"Yes\")\n",
        "else:\n",
        "    print(\"No\")"
      ],
      "metadata": {
        "colab": {
          "base_uri": "https://localhost:8080/"
        },
        "id": "TylrsI3PCtsX",
        "outputId": "4d7908cb-ab22-4c72-ead8-273049e7d73b"
      },
      "execution_count": 51,
      "outputs": [
        {
          "output_type": "stream",
          "name": "stdout",
          "text": [
            "Enter a number: 25\n",
            "Yes\n"
          ]
        }
      ]
    },
    {
      "cell_type": "markdown",
      "source": [
        "**36. Implement a function to calculate the product of all elements in a list.**"
      ],
      "metadata": {
        "id": "kvswaYnsC60E"
      }
    },
    {
      "cell_type": "code",
      "source": [
        "\n",
        "def multiplyList(myList):\n",
        "    result = 1\n",
        "    for x in myList:\n",
        "        result = result * x\n",
        "    return result\n",
        "list1 = [4, 6, 7]\n",
        "list2 = [3, 2, 4]\n",
        "print(multiplyList(list1))\n",
        "print(multiplyList(list2))"
      ],
      "metadata": {
        "colab": {
          "base_uri": "https://localhost:8080/"
        },
        "id": "HMvRx1FEDAiR",
        "outputId": "5d8692f6-6726-4d38-bbae-9da2ed991cfa"
      },
      "execution_count": 53,
      "outputs": [
        {
          "output_type": "stream",
          "name": "stdout",
          "text": [
            "168\n",
            "24\n"
          ]
        }
      ]
    },
    {
      "cell_type": "markdown",
      "source": [
        "**37. Write a Python program to reverse the order of words in a sentence while preserving the word order.**"
      ],
      "metadata": {
        "id": "eIpJTPJ7DhkF"
      }
    },
    {
      "cell_type": "code",
      "source": [
        "string = \"I love Python coding\"\n",
        "s = string.split()[::-1]\n",
        "l = []\n",
        "for i in s:\n",
        "    l.append(i)\n",
        "print(\" \".join(l))"
      ],
      "metadata": {
        "colab": {
          "base_uri": "https://localhost:8080/"
        },
        "id": "IqpnuwrVEA20",
        "outputId": "aeb50061-2361-4195-b043-a5107e0c80a9"
      },
      "execution_count": 54,
      "outputs": [
        {
          "output_type": "stream",
          "name": "stdout",
          "text": [
            "coding Python love I\n"
          ]
        }
      ]
    },
    {
      "cell_type": "markdown",
      "source": [
        "**38. Implement a function to find the missing number in a given list of consecutive numbers.**"
      ],
      "metadata": {
        "id": "yaizCQDYEI6M"
      }
    },
    {
      "cell_type": "code",
      "source": [
        "def find_missing(lst):\n",
        "    max = lst[0]\n",
        "    for i in lst :\n",
        "      if i > max :\n",
        "        max= i\n",
        "\n",
        "    min = lst [0]\n",
        "    for i in lst :\n",
        "      if i < min:\n",
        "        min = i\n",
        "    missing = max+1\n",
        "    list1=[]\n",
        "\n",
        "    for _ in lst :\n",
        "\n",
        "        max = max -1\n",
        "        if max not in lst :\n",
        "          list1.append(max)\n",
        "\n",
        "    return list1\n",
        "lst = [1, 2, 4, 6, 7, 9, 10]\n",
        "print(find_missing(lst))"
      ],
      "metadata": {
        "colab": {
          "base_uri": "https://localhost:8080/"
        },
        "id": "du2AntZUEO-T",
        "outputId": "035ef069-6bce-447a-cfab-4671f2bdef7c"
      },
      "execution_count": 58,
      "outputs": [
        {
          "output_type": "stream",
          "name": "stdout",
          "text": [
            "[8, 5, 3]\n"
          ]
        }
      ]
    },
    {
      "cell_type": "markdown",
      "source": [
        "**39. Write a program to find the sum of digits of a given number.**"
      ],
      "metadata": {
        "id": "3T1lq4_sFUvj"
      }
    },
    {
      "cell_type": "code",
      "source": [
        "num = input(\"Enter Number: \")\n",
        "sum = 0\n",
        "\n",
        "for i in num:\n",
        "    sum = sum + int(i)\n",
        "\n",
        "print(sum)"
      ],
      "metadata": {
        "colab": {
          "base_uri": "https://localhost:8080/"
        },
        "id": "V64yU1eWFqAi",
        "outputId": "f98afcd3-f264-4d12-bda3-a9e21df1f40f"
      },
      "execution_count": 59,
      "outputs": [
        {
          "output_type": "stream",
          "name": "stdout",
          "text": [
            "Enter Number: 345\n",
            "12\n"
          ]
        }
      ]
    },
    {
      "cell_type": "markdown",
      "source": [
        "**40. Implement a function to check if a given string is a valid palindrome considering case sensitivity.**"
      ],
      "metadata": {
        "id": "uf7N3aXDFsh-"
      }
    },
    {
      "cell_type": "code",
      "source": [
        "my_str = 'MaDam'\n",
        "\n",
        "my_str = my_str.casefold()\n",
        "rev_str = reversed(my_str)\n",
        "if list(my_str) == list(rev_str):\n",
        "   print(\"The string is a palindrome.\")\n",
        "else:\n",
        "   print(\"The string is not a palindrome.\")"
      ],
      "metadata": {
        "colab": {
          "base_uri": "https://localhost:8080/"
        },
        "id": "c8H2mrL_FxJQ",
        "outputId": "a6fd20bd-9ce9-40f2-a6db-56cc5fdc9985"
      },
      "execution_count": 62,
      "outputs": [
        {
          "output_type": "stream",
          "name": "stdout",
          "text": [
            "The string is a palindrome.\n"
          ]
        }
      ]
    },
    {
      "cell_type": "markdown",
      "source": [
        "**41. Write a Python program to find the smallest missing positive integer in a list.**"
      ],
      "metadata": {
        "id": "N840ryBmGUDE"
      }
    },
    {
      "cell_type": "code",
      "source": [
        "def solution(A):\n",
        "\n",
        "    m = max(A)\n",
        "    if m < 1:\n",
        "\n",
        "        return 1\n",
        "    if len(A) == 1:\n",
        "\n",
        "        return 2 if A[0] == 1 else 1\n",
        "    l = [0] * m\n",
        "    for i in range(len(A)):\n",
        "        if A[i] > 0:\n",
        "            if l[A[i] - 1] != 1:\n",
        "\n",
        "                l[A[i] - 1] = 1\n",
        "    for i in range(len(l)):\n",
        "\n",
        "        if l[i] == 0:\n",
        "            return i + 1\n",
        "    return i + 2\n",
        "\n",
        "if __name__ == '__main__':\n",
        "    arr = [0, 10, 2, -10, 6]\n",
        "    print(solution(arr))"
      ],
      "metadata": {
        "colab": {
          "base_uri": "https://localhost:8080/"
        },
        "id": "UYep3usFHAW4",
        "outputId": "b585864c-3ea1-4fe6-ccd0-5e3bdf9acbbf"
      },
      "execution_count": 63,
      "outputs": [
        {
          "output_type": "stream",
          "name": "stdout",
          "text": [
            "1\n"
          ]
        }
      ]
    },
    {
      "cell_type": "markdown",
      "source": [
        "**42. Implement a function to find the longest palindrome substring in a given string.**"
      ],
      "metadata": {
        "id": "Nz9t0o0NHJlO"
      }
    },
    {
      "cell_type": "code",
      "source": [
        "def longest_palindrome(s):\n",
        "    if not s:\n",
        "        return \"\"\n",
        "\n",
        "    n = len(s)\n",
        "    start = end = 0\n",
        "    def expand_around_center(left, right):\n",
        "        while left >= 0 and right < n and s[left] == s[right]:\n",
        "            left -= 1\n",
        "            right += 1\n",
        "        return left + 1, right - 1\n",
        "\n",
        "    for i in range(n):\n",
        "        left, right = expand_around_center(i, i)\n",
        "        if right - left > end - start:\n",
        "            start, end = left, right\n",
        "        left, right = expand_around_center(i, i + 1)\n",
        "        if right - left > end - start:\n",
        "            start, end = left, right\n",
        "\n",
        "    return s[start:end + 1]\n",
        "\n",
        "\n",
        "string = \"Iusedradar\"\n",
        "longest_palindrome_substring = longest_palindrome(string)\n",
        "print(longest_palindrome_substring)"
      ],
      "metadata": {
        "colab": {
          "base_uri": "https://localhost:8080/"
        },
        "id": "XHqkPb56IRbb",
        "outputId": "57e7aa8a-0e71-4736-c561-103346cc6710"
      },
      "execution_count": 65,
      "outputs": [
        {
          "output_type": "stream",
          "name": "stdout",
          "text": [
            "radar\n"
          ]
        }
      ]
    },
    {
      "cell_type": "markdown",
      "source": [
        "**43. Write a program to find the number of occurrences of a given element in a list.**"
      ],
      "metadata": {
        "id": "1mDqs6y9IfJD"
      }
    },
    {
      "cell_type": "code",
      "source": [
        "\n",
        "\n",
        "def count(lst, x):\n",
        "    count = 0\n",
        "    for ele in lst:\n",
        "        if (ele == x):\n",
        "            count = count + 1\n",
        "    return count\n",
        "\n",
        "lst = [8, 5, 7, 5, 3, 4, 5]\n",
        "x = 5\n",
        "print('{} has occurred {} times'.format(x,count(lst, x)))"
      ],
      "metadata": {
        "colab": {
          "base_uri": "https://localhost:8080/"
        },
        "id": "VhZgnEeRJBI-",
        "outputId": "7248ad50-5f11-4024-ab2e-ccdc1c472cc0"
      },
      "execution_count": 67,
      "outputs": [
        {
          "output_type": "stream",
          "name": "stdout",
          "text": [
            "5 has occurred 3 times\n"
          ]
        }
      ]
    },
    {
      "cell_type": "markdown",
      "source": [
        "**44. Implement a function to check if a given number is a perfect number.**"
      ],
      "metadata": {
        "id": "MVDWKrxHJNOo"
      }
    },
    {
      "cell_type": "code",
      "source": [
        "def perfect_number(n):\n",
        "    sum = 0\n",
        "    for x in range(1, n):\n",
        "        if n % x == 0:\n",
        "            sum += x\n",
        "    return sum == n\n",
        "n = int(input(\"Enter a number: \"))\n",
        "print(perfect_number(n))"
      ],
      "metadata": {
        "colab": {
          "base_uri": "https://localhost:8080/"
        },
        "id": "dpaz9au_Jh-I",
        "outputId": "11d9b121-9e3c-4237-bfce-eeea4d8741dc"
      },
      "execution_count": 68,
      "outputs": [
        {
          "output_type": "stream",
          "name": "stdout",
          "text": [
            "Enter a number: 22\n",
            "False\n"
          ]
        }
      ]
    },
    {
      "cell_type": "markdown",
      "source": [
        "**45. Write a Python program to remove all duplicates from a string.**"
      ],
      "metadata": {
        "id": "ha7r-oXsJqy8"
      }
    },
    {
      "cell_type": "code",
      "source": [
        "from collections import OrderedDict\n",
        "\n",
        "def remove_duplicate(s):\n",
        "    return \"\".join(OrderedDict.fromkeys(s))\n",
        "s=\"Pythoncoding\"\n",
        "print(s)\n",
        "print(\"After removing duplicates: \",remove_duplicate(s))"
      ],
      "metadata": {
        "colab": {
          "base_uri": "https://localhost:8080/"
        },
        "id": "MlKwmnKUKIgu",
        "outputId": "efea135b-eb8e-4515-a404-22780172f292"
      },
      "execution_count": 72,
      "outputs": [
        {
          "output_type": "stream",
          "name": "stdout",
          "text": [
            "Pythoncoding\n",
            "After removing duplicates:  Pythoncdig\n"
          ]
        }
      ]
    },
    {
      "cell_type": "markdown",
      "source": [
        "**46. Implement a function to find the first missing positive number**"
      ],
      "metadata": {
        "id": "5HAwKjMRKO5O"
      }
    },
    {
      "cell_type": "code",
      "source": [
        "def first_missing_number(nums):\n",
        "    if len(nums) == 0:\n",
        "        return 1\n",
        "\n",
        "    nums.sort()\n",
        "    smallest_int_num = 0\n",
        "\n",
        "    for i in range(len(nums) - 1):\n",
        "\n",
        "        if nums[i] <= 0 or nums[i] == nums[i + 1]:\n",
        "            continue\n",
        "        else:\n",
        "            if nums[i + 1] - nums[i] != 1:\n",
        "                smallest_int_num = nums[i] + 1\n",
        "                return smallest_int_num\n",
        "    if smallest_int_num == 0:\n",
        "        smallest_int_num = nums[-1] + 1\n",
        "    return smallest_int_num\n",
        "\n",
        "print(first_missing_number([2, 3, 7, 6, 4, -3, -5, 8]))\n"
      ],
      "metadata": {
        "colab": {
          "base_uri": "https://localhost:8080/"
        },
        "id": "_ltFBWTnKrqn",
        "outputId": "79e95e68-72c9-432b-8e26-f01c8f1cd3e4"
      },
      "execution_count": 74,
      "outputs": [
        {
          "output_type": "stream",
          "name": "stdout",
          "text": [
            "5\n"
          ]
        }
      ]
    }
  ]
}