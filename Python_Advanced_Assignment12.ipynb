{
  "nbformat": 4,
  "nbformat_minor": 0,
  "metadata": {
    "colab": {
      "provenance": [],
      "authorship_tag": "ABX9TyNMsH4UE40ehg9WyAq5vs3b",
      "include_colab_link": true
    },
    "kernelspec": {
      "name": "python3",
      "display_name": "Python 3"
    },
    "language_info": {
      "name": "python"
    }
  },
  "cells": [
    {
      "cell_type": "markdown",
      "metadata": {
        "id": "view-in-github",
        "colab_type": "text"
      },
      "source": [
        "<a href=\"https://colab.research.google.com/github/Sathyakaarthi/Bootcamp-assignments-2022-2023/blob/main/Python_Advanced_Assignment12.ipynb\" target=\"_parent\"><img src=\"https://colab.research.google.com/assets/colab-badge.svg\" alt=\"Open In Colab\"/></a>"
      ]
    },
    {
      "cell_type": "markdown",
      "source": [
        "**1. Does assigning a value to a string's indexed character violate Python's string immutability ?**\n",
        "\n",
        "*Ans:*\n",
        "\n",
        "The string itself is immutable but the label can change. Assigning a new value to an existing variable is perfectly valid."
      ],
      "metadata": {
        "id": "hhGGplrujQId"
      }
    },
    {
      "cell_type": "markdown",
      "source": [
        "**2. Does using the += operator to concatenate strings violate Python's string immutability? Why or why not ?**\n",
        "\n",
        "*Ans:*\n",
        "\n",
        "**+=** operator is used to concatenate strings, it does not violate Python’s string immutability Property. Because doing so new creates a new association with data and variable. **E.g.** str_1=\"a\" and str_1+=\"b. effect of this statements to create string ab and reassign it to variable str_1, any string data is not actually modified."
      ],
      "metadata": {
        "id": "Gd_SAuh6jsv-"
      }
    },
    {
      "cell_type": "code",
      "execution_count": 1,
      "metadata": {
        "colab": {
          "base_uri": "https://localhost:8080/"
        },
        "id": "1SsQimhojJjW",
        "outputId": "d95400e3-3496-498c-fda3-f4cb3cd05702"
      },
      "outputs": [
        {
          "output_type": "stream",
          "name": "stdout",
          "text": [
            "140195663118064\n",
            "140195189004912\n"
          ]
        }
      ],
      "source": [
        "str_1 = 'a'\n",
        "print(id(str_1))\n",
        "str_1 += 'b'\n",
        "print(id(str_1))"
      ]
    },
    {
      "cell_type": "markdown",
      "source": [
        "**3. In Python, how many different ways are there to index a character?**\n",
        "\n",
        "*Ans:*\n",
        "\n",
        "* A Character in string can be indexed using string name followed by index number of character in square bracket.\n",
        "\n",
        "* **Positive Indexing** i.e. first index is 0 an so on, or **Negative Indexing** i.e. last letter is -1 and so on can be used to index a character"
      ],
      "metadata": {
        "id": "Q_p3oyt1kRiB"
      }
    },
    {
      "cell_type": "code",
      "source": [
        "in_string = \"I Love Python Coding\"\n",
        "print(in_string[9],in_string[10],in_string[2]) # Positive Indexing\n",
        "print(in_string[-1],in_string[-5],in_string[-2]) # Negative Indexing"
      ],
      "metadata": {
        "colab": {
          "base_uri": "https://localhost:8080/"
        },
        "id": "HmIBr_NlkokC",
        "outputId": "b6cec342-8bab-4380-b8d4-8c9397d781d0"
      },
      "execution_count": 2,
      "outputs": [
        {
          "output_type": "stream",
          "name": "stdout",
          "text": [
            "t h L\n",
            "g o n\n"
          ]
        }
      ]
    },
    {
      "cell_type": "markdown",
      "source": [
        "**4. What is the relationship between indexing and slicing?**\n",
        "\n",
        "*Ans:*\n",
        "\n",
        "We can access elements of sequence datatypes by using slicing and indexing. Indexing is used to obtaining individual element while slicing for sequence of elements."
      ],
      "metadata": {
        "id": "do0OddItkwcY"
      }
    },
    {
      "cell_type": "code",
      "source": [
        "in_string = \"I Love Python Coding\"\n",
        "print(in_string[1],in_string[3],in_string[5]) # Indexing\n",
        "print(in_string[1:15]) # Slicing"
      ],
      "metadata": {
        "colab": {
          "base_uri": "https://localhost:8080/"
        },
        "id": "5_1h5bPqk_GB",
        "outputId": "987a0256-40ee-4134-e2d0-ec2d16e91018"
      },
      "execution_count": 3,
      "outputs": [
        {
          "output_type": "stream",
          "name": "stdout",
          "text": [
            "  o e\n",
            " Love Python C\n"
          ]
        }
      ]
    },
    {
      "cell_type": "markdown",
      "source": [
        "**5. What is an indexed character's exact data type? What is the data form of a slicing-generated substring?**\n",
        "\n",
        "*Ans:*\n",
        "\n",
        " Indexed characters and sliced substrings have datatype String."
      ],
      "metadata": {
        "id": "pwdzGeOElI_H"
      }
    },
    {
      "cell_type": "code",
      "source": [
        "in_string = \"I Love Python Coding\"\n",
        "print(type(in_string[3]))\n",
        "print(type(in_string[1:10]))"
      ],
      "metadata": {
        "colab": {
          "base_uri": "https://localhost:8080/"
        },
        "id": "MOMfqKUmlQu6",
        "outputId": "2f0e9161-ada9-40e1-8703-fa7d324e3890"
      },
      "execution_count": 4,
      "outputs": [
        {
          "output_type": "stream",
          "name": "stdout",
          "text": [
            "<class 'str'>\n",
            "<class 'str'>\n"
          ]
        }
      ]
    },
    {
      "cell_type": "markdown",
      "source": [
        "**6. What is the relationship between string and character \"types\" in Python?**\n",
        "\n",
        "*Ans:*\n",
        "\n",
        "Object that contains sequence of character datatypes are called String."
      ],
      "metadata": {
        "id": "9UaLHnTGlbC5"
      }
    },
    {
      "cell_type": "markdown",
      "source": [
        "**7.  Identify at least two operators & one method that allow you to combine one or more smaller strings to create a larger string ?**\n",
        "\n",
        "*Ans:*\n",
        "\n",
        "+, += and * allow to combine one or more smaller strings to create a larger string. <string>.join(<sep>) method joins element of iterable type like list and tuple to get a combined string."
      ],
      "metadata": {
        "id": "kyY4Ay8tlogO"
      }
    },
    {
      "cell_type": "code",
      "source": [
        "in_string = 'iNeuron '\n",
        "in_string += 'Full Stack Data Science'\n",
        "print(in_string + ' FSDS')\n",
        "print('FSDS '*3)\n",
        "print(\" \".join(['I','N','E','U','R','O','N']))\n",
        "print(\" \".join(('I','N','E','U','R','O','N')).lower())"
      ],
      "metadata": {
        "colab": {
          "base_uri": "https://localhost:8080/"
        },
        "id": "xpd1Ere5mDcL",
        "outputId": "bd88f75e-2f18-433d-b712-e5cb60cc6d7e"
      },
      "execution_count": 5,
      "outputs": [
        {
          "output_type": "stream",
          "name": "stdout",
          "text": [
            "iNeuron Full Stack Data Science FSDS\n",
            "FSDS FSDS FSDS \n",
            "I N E U R O N\n",
            "i n e u r o n\n"
          ]
        }
      ]
    },
    {
      "cell_type": "markdown",
      "source": [
        "**8. What is the benefit of first checking the target string with in or not in before using the index method to find a substring ?**\n",
        "\n",
        "*Ans:*\n",
        "\n",
        "Checking the target string with in or not Operators before using the index method to find a substring just helps confirming availability of substring and thus avoid raising of ValueError."
      ],
      "metadata": {
        "id": "tYwYIm7ml4es"
      }
    },
    {
      "cell_type": "markdown",
      "source": [
        "**9. Which operators and built-in string methods produce simple Boolean (true/false) results?**\n",
        "\n",
        "*Ans:*\n",
        "\n",
        "The String Operators and built-in methods to Produce Simple Boolean (True/False) Results are:\n",
        "\n",
        "* in\n",
        "* not\n",
        "* <string>.isalpha()\n",
        "* <string>.isalnum()\n",
        "* <string>.isdecimal()\n",
        "* <string>.isdigit()\n",
        "* <string>.islower()\n",
        "* <string>.isnumeric()\n",
        "* <string>.isprintable()\n",
        "* <string>.isspace()\n",
        "* <string>.istitle()"
      ],
      "metadata": {
        "id": "UJpgTWCzmWvV"
      }
    }
  ]
}