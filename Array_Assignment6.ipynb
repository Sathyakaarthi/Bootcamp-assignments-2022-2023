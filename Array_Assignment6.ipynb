{
  "nbformat": 4,
  "nbformat_minor": 0,
  "metadata": {
    "colab": {
      "provenance": [],
      "authorship_tag": "ABX9TyPsGZohN4x/8gGVBikv6tzh",
      "include_colab_link": true
    },
    "kernelspec": {
      "name": "python3",
      "display_name": "Python 3"
    },
    "language_info": {
      "name": "python"
    }
  },
  "cells": [
    {
      "cell_type": "markdown",
      "metadata": {
        "id": "view-in-github",
        "colab_type": "text"
      },
      "source": [
        "<a href=\"https://colab.research.google.com/github/Sathyakaarthi/Bootcamp-assignments-2022-2023/blob/main/Array_Assignment6.ipynb\" target=\"_parent\"><img src=\"https://colab.research.google.com/assets/colab-badge.svg\" alt=\"Open In Colab\"/></a>"
      ]
    },
    {
      "cell_type": "markdown",
      "source": [
        "**Question 1:**"
      ],
      "metadata": {
        "id": "bhIj2gTn9gnI"
      }
    },
    {
      "cell_type": "code",
      "source": [
        "def ReconstructPermutation(s):\n",
        "    n = len(s)\n",
        "    perm = [0] * (n + 1)\n",
        "    low, high = 0, n\n",
        "\n",
        "    for i in range(n):\n",
        "        if s[i] == 'I':\n",
        "            perm[i] = low\n",
        "            low += 1\n",
        "        else:\n",
        "            perm[i] = high\n",
        "            high -= 1\n",
        "\n",
        "    perm[n] = low \n",
        "\n",
        "    return perm\n",
        "s = 'IDID'\n",
        "perm = ReconstructPermutation(s)\n",
        "print(perm)\n"
      ],
      "metadata": {
        "colab": {
          "base_uri": "https://localhost:8080/"
        },
        "id": "7BwdWnN09j02",
        "outputId": "57886084-ed6f-497f-a884-e12017144c61"
      },
      "execution_count": null,
      "outputs": [
        {
          "output_type": "stream",
          "name": "stdout",
          "text": [
            "[0, 4, 1, 3, 2]\n"
          ]
        }
      ]
    },
    {
      "cell_type": "markdown",
      "source": [
        "**Question 2:**"
      ],
      "metadata": {
        "id": "-8GPkL8-95bP"
      }
    },
    {
      "cell_type": "code",
      "source": [
        "def SearchMatrix(matrix, target):\n",
        "    m, n = len(matrix), len(matrix[0])\n",
        "    left, right = 0, m * n - 1\n",
        "\n",
        "    while left <= right:\n",
        "        mid = (left + right) // 2\n",
        "        row = mid // n\n",
        "        col = mid % n\n",
        "\n",
        "        if matrix[row][col] == target:\n",
        "            return True\n",
        "        elif matrix[row][col] < target:\n",
        "            left = mid + 1\n",
        "        else:\n",
        "            right = mid - 1\n",
        "\n",
        "    return False\n",
        "matrix = [\n",
        "    [1, 3, 5, 7],\n",
        "    [10, 11, 16, 20],\n",
        "    [23, 30, 34, 60]\n",
        "]\n",
        "target = 3\n",
        "\n",
        "output = SearchMatrix(matrix, target)\n",
        "print(output)"
      ],
      "metadata": {
        "colab": {
          "base_uri": "https://localhost:8080/"
        },
        "id": "4fzNzCMA97qd",
        "outputId": "2edfb944-366f-40f5-c699-c1d8fb298be1"
      },
      "execution_count": null,
      "outputs": [
        {
          "output_type": "stream",
          "name": "stdout",
          "text": [
            "True\n"
          ]
        }
      ]
    },
    {
      "cell_type": "markdown",
      "source": [
        "**Question 3:**"
      ],
      "metadata": {
        "id": "kpOwj9u0_E96"
      }
    },
    {
      "cell_type": "code",
      "source": [
        "def valid_mountain_array(arr):\n",
        "    n = len(arr)\n",
        "    if n < 3:\n",
        "        return False\n",
        "\n",
        "    i = 0\n",
        "\n",
        "    # Increasing phase\n",
        "    while i < n - 1 and arr[i] < arr[i + 1]:\n",
        "        i += 1\n",
        "\n",
        "    # Peak cannot be at the start or end\n",
        "    if i == 0 or i == n - 1:\n",
        "        return False\n",
        "\n",
        "    # Decreasing phase\n",
        "    while i < n - 1 and arr[i] > arr[i + 1]:\n",
        "        i += 1\n",
        "\n",
        "    return i == n - 1\n",
        "\n",
        "arr = [2, 1]\n",
        "is_mountain_array = valid_mountain_array(arr)\n",
        "print(is_mountain_array)"
      ],
      "metadata": {
        "colab": {
          "base_uri": "https://localhost:8080/"
        },
        "id": "cIQQgvFn_HRs",
        "outputId": "c7e4db6c-223d-429f-ab17-c64bf7d6a9b5"
      },
      "execution_count": null,
      "outputs": [
        {
          "output_type": "stream",
          "name": "stdout",
          "text": [
            "False\n"
          ]
        }
      ]
    },
    {
      "cell_type": "markdown",
      "source": [
        "**Question 4:**"
      ],
      "metadata": {
        "id": "Q3NqLVidABMR"
      }
    },
    {
      "cell_type": "code",
      "source": [
        "def find_max_length(nums):\n",
        "    max_length = 0\n",
        "    count = 0\n",
        "    count_dict = {0: -1}\n",
        "\n",
        "    for i in range(len(nums)):\n",
        "        if nums[i] == 0:\n",
        "            count -= 1\n",
        "        else:\n",
        "            count += 1\n",
        "\n",
        "        if count in count_dict:\n",
        "            max_length = max(max_length, i - count_dict[count])\n",
        "        else:\n",
        "            count_dict[count] = i\n",
        "\n",
        "    return max_length\n",
        "nums = [0, 1]\n",
        "max_length = find_max_length(nums)\n",
        "print(max_length)"
      ],
      "metadata": {
        "colab": {
          "base_uri": "https://localhost:8080/"
        },
        "id": "8FGIbRTaAD9-",
        "outputId": "43b75bc5-5b1f-4d68-c47a-0f8ce4a12082"
      },
      "execution_count": null,
      "outputs": [
        {
          "output_type": "stream",
          "name": "stdout",
          "text": [
            "2\n"
          ]
        }
      ]
    },
    {
      "cell_type": "markdown",
      "source": [
        "**Question 5:**"
      ],
      "metadata": {
        "id": "hk0-qmqMAuj5"
      }
    },
    {
      "cell_type": "code",
      "source": [
        "def MinProductSum(nums1, nums2):\n",
        "    nums1.sort()\n",
        "    nums2.sort(reverse=True)\n",
        "\n",
        "    min_sum = sum(nums1[i] * nums2[i] for i in range(len(nums1)))\n",
        "\n",
        "    return min_sum\n",
        "nums1 = [5, 3, 4, 2]\n",
        "nums2 = [4, 2, 2, 5]\n",
        "\n",
        "min_sum = MinProductSum(nums1, nums2)\n",
        "print(min_sum)"
      ],
      "metadata": {
        "colab": {
          "base_uri": "https://localhost:8080/"
        },
        "id": "YvcoRC8tB-0u",
        "outputId": "1046f771-a272-4f55-de84-6373e7f65e0f"
      },
      "execution_count": null,
      "outputs": [
        {
          "output_type": "stream",
          "name": "stdout",
          "text": [
            "40\n"
          ]
        }
      ]
    },
    {
      "cell_type": "markdown",
      "source": [
        "**Question 6:**"
      ],
      "metadata": {
        "id": "RNKsHy3OCWr-"
      }
    },
    {
      "cell_type": "code",
      "source": [
        "def findOriginal(arr):\n",
        " \n",
        "   \n",
        "    numFrequent = {}\n",
        " \n",
        "    \n",
        "    for i in range(0, len(arr)):\n",
        "        if (arr[i] in numFrequent):\n",
        "            numFrequent[arr[i]] += 1\n",
        "        else:\n",
        "            numFrequent[arr[i]] = 1\n",
        " \n",
        "    arr.sort()\n",
        " \n",
        "    result = []\n",
        " \n",
        "    for i in range(0, len(arr)):\n",
        "       \n",
        "        frequent = numFrequent[arr[i]]\n",
        "        if (frequent > 0):\n",
        "           \n",
        "            result.append(arr[i])\n",
        "            numFrequent[arr[i]] -= 1\n",
        "            twice = 2 * arr[i]\n",
        "            numFrequent[twice] -= 1\n",
        "    return result\n",
        " \n",
        "arr = [1, 3, 4, 2, 6, 8]\n",
        "result = findOriginal(arr)\n",
        " \n",
        "for i in range(0, len(result)):\n",
        "    print(result[i], end=\" \")\n"
      ],
      "metadata": {
        "colab": {
          "base_uri": "https://localhost:8080/"
        },
        "id": "hWM5PDR9gLi7",
        "outputId": "5cd7cb9d-9e1e-4933-fd85-04661ea09e22"
      },
      "execution_count": 12,
      "outputs": [
        {
          "output_type": "stream",
          "name": "stdout",
          "text": [
            "1 3 4 "
          ]
        }
      ]
    },
    {
      "cell_type": "markdown",
      "source": [
        "**Question 7:**"
      ],
      "metadata": {
        "id": "p2roCBJec0gn"
      }
    },
    {
      "cell_type": "code",
      "source": [
        "def GenerateSpiralMatrix(n):\n",
        "    matrix = [[0] * n for _ in range(n)] \n",
        "    num = 1 \n",
        "    row_start, row_end = 0, n - 1\n",
        "    col_start, col_end = 0, n - 1\n",
        "\n",
        "    while num <= n * n:\n",
        "        # Traverse right\n",
        "        for j in range(col_start, col_end + 1):\n",
        "            matrix[row_start][j] = num\n",
        "            num += 1\n",
        "        row_start += 1\n",
        "\n",
        "        # Traverse down\n",
        "        for i in range(row_start, row_end + 1):\n",
        "            matrix[i][col_end] = num\n",
        "            num += 1\n",
        "        col_end -= 1\n",
        "\n",
        "        for j in range(col_end, col_start - 1, -1):\n",
        "            matrix[row_end][j] = num\n",
        "            num += 1\n",
        "        row_end -= 1\n",
        "\n",
        "        # Traverse up\n",
        "        for i in range(row_end, row_start - 1, -1):\n",
        "            matrix[i][col_start] = num\n",
        "            num += 1\n",
        "        col_start += 1\n",
        "\n",
        "    return matrix\n",
        "\n",
        "n = int(input(\"Enter a positive integer: \"))\n",
        "spiral_mat = GenerateSpiralMatrix(n)\n",
        "\n",
        "for row in spiral_mat:\n",
        "    for num in row:\n",
        "        print(num, end='\\t')\n",
        "    print()\n"
      ],
      "metadata": {
        "colab": {
          "base_uri": "https://localhost:8080/"
        },
        "id": "QcTW6MdMc3oB",
        "outputId": "06c19bd4-7358-4937-e07e-10cad38d5b05"
      },
      "execution_count": 2,
      "outputs": [
        {
          "output_type": "stream",
          "name": "stdout",
          "text": [
            "Enter a positive integer: 3\n",
            "1\t2\t3\t\n",
            "8\t9\t4\t\n",
            "7\t6\t5\t\n"
          ]
        }
      ]
    },
    {
      "cell_type": "markdown",
      "source": [
        "**Question 8:**"
      ],
      "metadata": {
        "id": "sAAF0-q-dW6Y"
      }
    },
    {
      "cell_type": "code",
      "source": [
        "def MultiplySparseMatrices(mat1, mat2):\n",
        "    m = len(mat1)\n",
        "    k = len(mat1[0])\n",
        "    n = len(mat2[0])\n",
        "\n",
        "    result = [[0] * n for _ in range(m)]\n",
        "\n",
        "    for i in range(m):\n",
        "        for j in range(n):\n",
        "            for p in range(k):\n",
        "                result[i][j] += mat1[i][p] * mat2[p][j]\n",
        "\n",
        "    return result\n",
        "\n",
        "mat1 = [[1, 0, 0],\n",
        "        [-1, 0, 3]]\n",
        "\n",
        "mat2 = [[7, 0, 0],\n",
        "        [0, 0, 0],\n",
        "        [0, 0, 1]]\n",
        "\n",
        "result = MultiplySparseMatrices(mat1, mat2)\n",
        "\n",
        "# Print the result\n",
        "for row in result:\n",
        "    for num in row:\n",
        "        print(num, end='\\t')\n",
        "    print()\n"
      ],
      "metadata": {
        "colab": {
          "base_uri": "https://localhost:8080/"
        },
        "id": "raMlGHX9dabd",
        "outputId": "7d45aad7-12bf-40f2-d1e1-b6ab78cb561f"
      },
      "execution_count": 6,
      "outputs": [
        {
          "output_type": "stream",
          "name": "stdout",
          "text": [
            "7\t0\t0\t\n",
            "-7\t0\t3\t\n"
          ]
        }
      ]
    }
  ]
}