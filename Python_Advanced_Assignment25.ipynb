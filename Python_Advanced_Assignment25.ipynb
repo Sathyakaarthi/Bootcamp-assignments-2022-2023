{
  "nbformat": 4,
  "nbformat_minor": 0,
  "metadata": {
    "colab": {
      "provenance": [],
      "authorship_tag": "ABX9TyP8FVZJ0u94ezKGQUyYh1by",
      "include_colab_link": true
    },
    "kernelspec": {
      "name": "python3",
      "display_name": "Python 3"
    },
    "language_info": {
      "name": "python"
    }
  },
  "cells": [
    {
      "cell_type": "markdown",
      "metadata": {
        "id": "view-in-github",
        "colab_type": "text"
      },
      "source": [
        "<a href=\"https://colab.research.google.com/github/Sathyakaarthi/Bootcamp-assignments-2022-2023/blob/main/Python_Advanced_Assignment25.ipynb\" target=\"_parent\"><img src=\"https://colab.research.google.com/assets/colab-badge.svg\" alt=\"Open In Colab\"/></a>"
      ]
    },
    {
      "cell_type": "markdown",
      "source": [
        "**1. What is the distinction between a numpy array and a pandas data frame? Is there a way to convert between the two if there is?**\n",
        "\n",
        "*Ans:*\n",
        "\n",
        "Numpy Ndarray provides a lot of convenient and optimized methods for performing several mathematical operations on vectors.\n",
        "\n",
        "Pandas Dataframe is an in-memory 2-dimensional tabular representation of data. In simpler words, it can be seen as a spreadsheet having rows and columns.\n",
        "\n",
        "Conversion : **Dataframe=pandas.DataFrame(array)**"
      ],
      "metadata": {
        "id": "I8vpsiPz9zN5"
      }
    },
    {
      "cell_type": "markdown",
      "source": [
        "**2.  Identify some of the plotting techniques that are used to produce a stock-market chart?**\n",
        "\n",
        "*Ans:*\n",
        "\n",
        "Bar chart, Line Chart, Candlestick chart (using mplfinance module) are used for plotting stock market chart."
      ],
      "metadata": {
        "id": "OGiZQrko-D8v"
      }
    },
    {
      "cell_type": "markdown",
      "source": [
        "**3. Why is it essential to print a legend on a stock market chart?**\n",
        "\n",
        "*Ans:*\n",
        "\n",
        "* Legend will help us in comparing different stocks in a stock market chart.\n",
        "* Each plot of a Stock chart has a legend, its items representing the series on the plot.\n",
        "* In addition, the legend displays information about the points that are currently hovered over or, if none are hovered over, about the last points shown on the plot.\n"
      ],
      "metadata": {
        "id": "IRauhPmu-N0_"
      }
    },
    {
      "cell_type": "markdown",
      "source": [
        "**4. What is the best way to limit the length of a pandas data frame to less than a year?**\n",
        "\n",
        "*Ans:*\n",
        "\n",
        "We can use **start** and **end** parameters for that. In start, we write the date from where we are starting and at the end, we write the end date. SO within this span we can restrict the duration. Also, we can use the parameters like periods i.e for how much times we need the duration and we can also use the frequency parameter for that."
      ],
      "metadata": {
        "id": "I3WIfXXp-iRC"
      }
    },
    {
      "cell_type": "markdown",
      "source": [
        "**5. What is the definition of a 180-day moving average?**\n",
        "\n",
        "*Ans:*\n",
        "\n",
        "The 180-day moving average is represented as a line on charts and represents the average price over the past 180 days. The moving average can give traders a sense regarding whether the trend is up or down, while also identifying potential support or resistance areas."
      ],
      "metadata": {
        "id": "xthsad2X-y-7"
      }
    },
    {
      "cell_type": "code",
      "execution_count": null,
      "metadata": {
        "id": "Tv8Irofl9x7k"
      },
      "outputs": [],
      "source": []
    }
  ]
}